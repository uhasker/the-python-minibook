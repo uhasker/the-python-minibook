{
 "cells": [
  {
   "cell_type": "markdown",
   "id": "9f1ec7fe",
   "metadata": {},
   "source": [
    "# Chapter 2. Variables, data types and operators"
   ]
  },
  {
   "cell_type": "markdown",
   "id": "41aa7a4d",
   "metadata": {},
   "source": [
    "## Variables"
   ]
  },
  {
   "cell_type": "markdown",
   "id": "083548de",
   "metadata": {},
   "source": [
    "We already managed to successfully print `Hello, World!` to the console in a daring feat. But of course just printing `Hello, World!` isn't very useful and in most real-world programs we will usually work with more complex data, that we need to *manipulate*. This requires us to *store* this data somewhere for later use.\n",
    "\n",
    "Variables allow us to do exactly that. Put simply, a **variable** is a value paired with a symbolic name *that can be used to access that value*.\n",
    "\n",
    "For example, we could store the value `42` somewhere in our memory and pair it with a symbolic name like `the_answer_to_everything`:\n",
    "\n",
    "![](./images/variable.png)\n",
    "\n",
    "Now we can access the value we just stored using the symbolic name `the_answer_to_everything`. We say that the variable `the_answer_to_everything` *has the value* `42`.\n",
    "\n",
    "The big advantage of having this symbolic name, is that even if its value changes, the symbolic name stays the same. For example let's say that the answer to everything becomes 43 instead of 42 and the variable `the_answer_to_everything` now has the value `43`:\n",
    "\n",
    "![](./images/variable43.png)\n",
    "\n",
    "Now if we access the variable somewhere from our program, we automatically get the new value. Therefore variables allow us to store and change data in a meaningful way. This is something we will do *all the time* so let's create and change some variables!\n",
    "\n",
    "We create a variable in Python and assign a value to it using the **assignment operator** `=`:"
   ]
  },
  {
   "cell_type": "code",
   "execution_count": 1,
   "id": "ba6a197e",
   "metadata": {},
   "outputs": [],
   "source": [
    "the_answer_to_everything = 42"
   ]
  },
  {
   "cell_type": "markdown",
   "id": "7c0c9d2a",
   "metadata": {},
   "source": [
    "This creates a value `the_answer_to_everything` which has the value `42`. Do note that unlike in mathematics the statement `the_answer_to_everything = 42` doesn't mean that `my_variable` *should be equal* to `42`. Instead `=` tells the Python interpreter to take the value on the right side and *assign* it to the variable on the left side. The assignment operator `=` has nothing to do with the `=` operator that you know from mathematics.\n",
    "\n",
    "For example a statement like `x + 2 = 4` which is totally sensible when doing math, has no meaning when writing code since `x + 2` is not a valid variable name. In fact this is what will happen if you try to do that:"
   ]
  },
  {
   "cell_type": "code",
   "execution_count": 2,
   "id": "c009c8e0",
   "metadata": {},
   "outputs": [
    {
     "ename": "SyntaxError",
     "evalue": "cannot assign to expression here. Maybe you meant '==' instead of '='? (1790866860.py, line 1)",
     "output_type": "error",
     "traceback": [
      "\u001b[0;36m  Cell \u001b[0;32mIn[2], line 1\u001b[0;36m\u001b[0m\n\u001b[0;31m    x + 2 = 4\u001b[0m\n\u001b[0m    ^\u001b[0m\n\u001b[0;31mSyntaxError\u001b[0m\u001b[0;31m:\u001b[0m cannot assign to expression here. Maybe you meant '==' instead of '='?\n"
     ]
    }
   ],
   "source": [
    "x + 2 = 4"
   ]
  },
  {
   "cell_type": "markdown",
   "id": "5dfc92ce",
   "metadata": {},
   "source": [
    "A `SyntaxError` means that we supplied Python with an expression it doesn't understand. Quite helpfully it tells us, which operator (`==`) we probably meant to use - we will come back to this in a few minutes.\n",
    "\n",
    "Just like we executed `print(\"Hello, World!\")`, we can print a variable in a human-readable way using `print`:"
   ]
  },
  {
   "cell_type": "code",
   "execution_count": 16,
   "id": "6e6bb9f3",
   "metadata": {},
   "outputs": [
    {
     "name": "stdout",
     "output_type": "stream",
     "text": [
      "42\n"
     ]
    }
   ],
   "source": [
    "print(the_answer_to_everything)"
   ]
  },
  {
   "cell_type": "markdown",
   "id": "a6c81684",
   "metadata": {},
   "source": [
    "As you can see, `print` outputs the *value* of the variable (which is `42` in this case), not its name.\n",
    "\n",
    "Alternatively, we can get the representation of the variable in a REPL by just providing the variable name to the REPL. This is quite similar to how got the representation of `\"Hello, World!\"` in the last chapter:"
   ]
  },
  {
   "cell_type": "code",
   "execution_count": 17,
   "id": "26709e86",
   "metadata": {},
   "outputs": [
    {
     "data": {
      "text/plain": [
       "42"
      ]
     },
     "execution_count": 17,
     "metadata": {},
     "output_type": "execute_result"
    }
   ],
   "source": [
    "the_answer_to_everything"
   ]
  },
  {
   "cell_type": "markdown",
   "id": "4d18c40a",
   "metadata": {},
   "source": [
    "Once a variable is declared, you can assign a new value to it later:"
   ]
  },
  {
   "cell_type": "code",
   "execution_count": 18,
   "id": "159a13e8",
   "metadata": {},
   "outputs": [],
   "source": [
    "the_answer_to_everything = 42  # declare the variable\n",
    "the_answer_to_everything = 43  # assign a new value to the variable"
   ]
  },
  {
   "cell_type": "markdown",
   "id": "1113e834",
   "metadata": {},
   "source": [
    "Now `the_answer_to_everything` has the value `43` instead of `42`. However the symbolic name didn't change, only the value of the variable did. This means that we can still access the value using `the_answer_to_everything`. It's just a different value now:"
   ]
  },
  {
   "cell_type": "code",
   "execution_count": 19,
   "id": "ec62b176",
   "metadata": {},
   "outputs": [
    {
     "data": {
      "text/plain": [
       "43"
      ]
     },
     "execution_count": 19,
     "metadata": {},
     "output_type": "execute_result"
    }
   ],
   "source": [
    "the_answer_to_everything"
   ]
  },
  {
   "cell_type": "markdown",
   "id": "57bf4faf",
   "metadata": {},
   "source": [
    "## Data types"
   ]
  },
  {
   "cell_type": "markdown",
   "id": "afed117d",
   "metadata": {},
   "source": [
    "The **data type** of a variable describes the possible values and allowed operations on a variable. For example if a variable is an integer, it can take integers and you can perform operations like addition, subtraction, multiplication, division etc.\n",
    "\n",
    "Python has four built-in data types that are of particular importance to us right now - namely the **integer** data type (`int` for short), the **floating point** data type (`float` for short), the **boolean** data type (`bool` for short) and the **string** data type (`str` for short). Let's have a look at these data types one by one.\n",
    "\n",
    "The integer data type is capable of representing - well - integers (*completely unexpected*). For example, the following variables all have the integer data type:"
   ]
  },
  {
   "cell_type": "code",
   "execution_count": 20,
   "id": "56a5e359",
   "metadata": {},
   "outputs": [],
   "source": [
    "drinking_age = 18\n",
    "winter_temperature_celsius = -30\n",
    "game_score = 120"
   ]
  },
  {
   "cell_type": "markdown",
   "id": "7744d827",
   "metadata": {},
   "source": [
    "Let us verify that these variables all have the integer data type using `type` which shows the data type of a variable:"
   ]
  },
  {
   "cell_type": "code",
   "execution_count": 21,
   "id": "ebea7a37",
   "metadata": {},
   "outputs": [
    {
     "data": {
      "text/plain": [
       "int"
      ]
     },
     "execution_count": 21,
     "metadata": {},
     "output_type": "execute_result"
    }
   ],
   "source": [
    "type(drinking_age)"
   ]
  },
  {
   "cell_type": "code",
   "execution_count": 23,
   "id": "98fa1ebe",
   "metadata": {},
   "outputs": [
    {
     "data": {
      "text/plain": [
       "int"
      ]
     },
     "execution_count": 23,
     "metadata": {},
     "output_type": "execute_result"
    }
   ],
   "source": [
    "type(winter_temperature_celsius)"
   ]
  },
  {
   "cell_type": "code",
   "execution_count": 22,
   "id": "b14976fe",
   "metadata": {},
   "outputs": [
    {
     "data": {
      "text/plain": [
       "int"
      ]
     },
     "execution_count": 22,
     "metadata": {},
     "output_type": "execute_result"
    }
   ],
   "source": [
    "type(game_score)"
   ]
  },
  {
   "cell_type": "markdown",
   "id": "d7a46fd8",
   "metadata": {},
   "source": [
    "All three lines output `int` which means that the respective values indeed all have the data type integer.\n",
    "\n",
    "The floating point data type is capable of representing - well - floating point numbers (this book is just *full of surprises*). Floating point numbers are essentially approximations of real numbers. The reason they are *only approximations* is not because of Python, but because of the limitations of something all mathematicians really hate - *reality*.\n",
    "\n",
    "Real numbers can have arbitrary precision after all - some real numbers have an infinite amount of digits after the decimal point. But of course such numbers cannot be represented accurately by our hardware. After all, we do not have an infinite amount of memory space. In fact the amount of memory available to a single floating point number is usually *very finite*.\n",
    "\n",
    "Here is an example of a floating point variable:"
   ]
  },
  {
   "cell_type": "code",
   "execution_count": 24,
   "id": "7426efaf",
   "metadata": {},
   "outputs": [],
   "source": [
    "fastest_sprint = 9.58"
   ]
  },
  {
   "cell_type": "markdown",
   "id": "fa74fbc9",
   "metadata": {},
   "source": [
    "We can again verify that `fastest_sprint` is a floating point variable using `type`:"
   ]
  },
  {
   "cell_type": "code",
   "execution_count": 25,
   "id": "29bae5e4",
   "metadata": {},
   "outputs": [
    {
     "data": {
      "text/plain": [
       "float"
      ]
     },
     "execution_count": 25,
     "metadata": {},
     "output_type": "execute_result"
    }
   ],
   "source": [
    "type(fastest_sprint)"
   ]
  },
  {
   "cell_type": "markdown",
   "id": "3e34f76b",
   "metadata": {},
   "source": [
    "The fact that floating point numbers are only approximations of real numbers has important consequences in the real world. For example if we try to add `0.1` and `0.2` we get a surprising result:"
   ]
  },
  {
   "cell_type": "code",
   "execution_count": 26,
   "id": "3201ea20",
   "metadata": {},
   "outputs": [
    {
     "data": {
      "text/plain": [
       "0.30000000000000004"
      ]
     },
     "execution_count": 26,
     "metadata": {},
     "output_type": "execute_result"
    }
   ],
   "source": [
    "0.1 + 0.2"
   ]
  },
  {
   "cell_type": "markdown",
   "id": "91dacdf6",
   "metadata": {},
   "source": [
    "We will not concern ourselves with the gritty details of floating point representation in this chapter. Just remember that working with floating point numbers can (and *will*) be inaccurate. This is also the reason why programmers strongly prefer representing values as integers and only fallback to floating point numbers if they have absolutely no other choice. For instance, if you need to store the amount of money in a bank account you should store it in cents (e.g. `15673` cents) instead of in dollars (e.g. `156.73` dollars).\n",
    "\n",
    "Another important data type is the `bool` data type. A boolean variable can store the two values `True` and `False`:"
   ]
  },
  {
   "cell_type": "code",
   "execution_count": 27,
   "id": "9b1cb500",
   "metadata": {},
   "outputs": [],
   "source": [
    "this_is_a_great_book = True\n",
    "german_weather_is_generally_sunny = False"
   ]
  },
  {
   "cell_type": "markdown",
   "id": "b71c4fb6",
   "metadata": {},
   "source": [
    "Boolean values are not particularly useful on their own. However they will become extremely important when writing conditional tests and generally performing things depending on the outcome of certain logical operations.\n",
    "\n",
    "The final data type we will look at in this chapter is the string data type. A **string** is just a sequence of characters. When writing strings, they go between double quotes or between single quotes:"
   ]
  },
  {
   "cell_type": "code",
   "execution_count": 28,
   "id": "dac373fa",
   "metadata": {},
   "outputs": [
    {
     "data": {
      "text/plain": [
       "'Max Mustermann'"
      ]
     },
     "execution_count": 28,
     "metadata": {},
     "output_type": "execute_result"
    }
   ],
   "source": [
    "my_name = \"Max Mustermann\"\n",
    "my_name"
   ]
  },
  {
   "cell_type": "code",
   "execution_count": 29,
   "id": "00782d27",
   "metadata": {},
   "outputs": [
    {
     "data": {
      "text/plain": [
       "'Germany'"
      ]
     },
     "execution_count": 29,
     "metadata": {},
     "output_type": "execute_result"
    }
   ],
   "source": [
    "my_country = 'Germany'\n",
    "my_country"
   ]
  },
  {
   "cell_type": "markdown",
   "id": "25b4a17b",
   "metadata": {},
   "source": [
    "There is no strong convention on Python regarding the use of single or double quotes. The general advice is to pick one and stick to that in your codebase. Within this particular book we will use double quotes.\n",
    "\n",
    "Something you should try from time to time is to see what happens if you make a specific mistake on purpose. That way when you see that mistake later in a more complicated codebase you will already know what to do. For example, what happens if we forget the quotes in a string?"
   ]
  },
  {
   "cell_type": "code",
   "execution_count": 30,
   "id": "1078861d",
   "metadata": {
    "scrolled": true
   },
   "outputs": [
    {
     "ename": "NameError",
     "evalue": "name 'Germany' is not defined",
     "output_type": "error",
     "traceback": [
      "\u001b[0;31m---------------------------------------------------------------------------\u001b[0m",
      "\u001b[0;31mNameError\u001b[0m                                 Traceback (most recent call last)",
      "Cell \u001b[0;32mIn[30], line 1\u001b[0m\n\u001b[0;32m----> 1\u001b[0m my_country \u001b[38;5;241m=\u001b[39m \u001b[43mGermany\u001b[49m\n",
      "\u001b[0;31mNameError\u001b[0m: name 'Germany' is not defined"
     ]
    }
   ],
   "source": [
    "my_country = Germany"
   ]
  },
  {
   "cell_type": "markdown",
   "id": "9a9a756a",
   "metadata": {},
   "source": [
    "We get a `NameError: name 'Germany' is not defined`. This is because in this example the interpreter thinks that `Germany` is supposed to be the symbolic name of a variable (as the quotes are missing). Since we did not declare a variable `Germany`, Python raises a `NameError` telling us that there is no variable with the name `Germany`.\n",
    "\n",
    "This is very important to keep in mind - if you write a sequence of characters *without quotes*, the Python interpreter will think that the sequence of characters represents a variable name:"
   ]
  },
  {
   "cell_type": "code",
   "execution_count": 31,
   "id": "957aa003",
   "metadata": {},
   "outputs": [
    {
     "data": {
      "text/plain": [
       "42"
      ]
     },
     "execution_count": 31,
     "metadata": {},
     "output_type": "execute_result"
    }
   ],
   "source": [
    "the_answer_to_everything = 42\n",
    "\n",
    "# Python assumes that this sequence of characters represents the variable the_answer_to_everything.\n",
    "# Accordingly outputting or accessing the variable will output or access its value\n",
    "# which in this case is 42.\n",
    "# vvvvvvvvvvvvvvvvvvvvvvvvvvvvvvvvvvvvvvvvvvvvvvvvvvvvvvvvvvvvvvvvvvvvvvvvvvvvvvvvvvvvvvvvvvvvvvvvvvv\n",
    "\n",
    "the_answer_to_everything"
   ]
  },
  {
   "cell_type": "markdown",
   "id": "ce6e4992",
   "metadata": {},
   "source": [
    "However if you write a sequence of characters *with quotes*, the Python interpreter will think that the sequence of characters represents a string value:"
   ]
  },
  {
   "cell_type": "code",
   "execution_count": 32,
   "id": "f6d45ecb",
   "metadata": {},
   "outputs": [
    {
     "data": {
      "text/plain": [
       "'the_answer_to_everything'"
      ]
     },
     "execution_count": 32,
     "metadata": {},
     "output_type": "execute_result"
    }
   ],
   "source": [
    "# Python assumes that this sequence of characters represents the string with the value \"the_answer_to_everything\".\n",
    "# Accordingly outputting or accessing the variable will output or access its value\n",
    "# which in this case is \"the_answer_to_everything\".\n",
    "# vvvvvvvvvvvvvvvvvvvvvvvvvvvvvvvvvvvvvvvvvvvvvvvvvvvvvvvvvvvvvvvvvvvvvvvvvvvvvvvvvvvvvvvvvvvvvvvvvvvvvvvvvvvvvvv\n",
    "\n",
    "\"the_answer_to_everything\""
   ]
  },
  {
   "cell_type": "markdown",
   "id": "d2db3abd",
   "metadata": {},
   "source": [
    "Sometimes you want to include the value of variables in strings. You can do this using a so called **format string**. In order to construct a format string, you prefix the string with `f` and put the variables inside square brackets `{}`:"
   ]
  },
  {
   "cell_type": "code",
   "execution_count": 33,
   "id": "10afc128",
   "metadata": {},
   "outputs": [],
   "source": [
    "the_answer_to_everything = 42\n",
    "quote = f\"The answer to the universe and everything is {the_answer_to_everything}\""
   ]
  },
  {
   "cell_type": "code",
   "execution_count": 34,
   "id": "4b7f5fe7",
   "metadata": {},
   "outputs": [
    {
     "data": {
      "text/plain": [
       "'The answer to the universe and everything is 42'"
      ]
     },
     "execution_count": 34,
     "metadata": {},
     "output_type": "execute_result"
    }
   ],
   "source": [
    "quote"
   ]
  },
  {
   "cell_type": "markdown",
   "id": "95bb7db2",
   "metadata": {},
   "source": [
    "## Operators"
   ]
  },
  {
   "cell_type": "markdown",
   "id": "42ab0435",
   "metadata": {},
   "source": [
    "### Equality operators"
   ]
  },
  {
   "cell_type": "markdown",
   "id": "a3f9d3ca",
   "metadata": {},
   "source": [
    "Every data type has associated **operators**. An operator takes one or more values and produces a result.\n",
    "\n",
    "Two important operators we can perform on variable of essentially every data type are `==` (equals) and `!=` (not equals). Consider the following variables:"
   ]
  },
  {
   "cell_type": "code",
   "execution_count": 35,
   "id": "77a0a2c4",
   "metadata": {},
   "outputs": [],
   "source": [
    "x = 2\n",
    "y = 4\n",
    "z = 2"
   ]
  },
  {
   "cell_type": "markdown",
   "id": "6173c6b0",
   "metadata": {},
   "source": [
    "The variables `x` and `z` have the same values, while the variable `x` and `y` have different values. Therefore the equality operator produces the following results:"
   ]
  },
  {
   "cell_type": "code",
   "execution_count": 36,
   "id": "93984975",
   "metadata": {},
   "outputs": [
    {
     "data": {
      "text/plain": [
       "False"
      ]
     },
     "execution_count": 36,
     "metadata": {},
     "output_type": "execute_result"
    }
   ],
   "source": [
    "x == y"
   ]
  },
  {
   "cell_type": "code",
   "execution_count": 37,
   "id": "0d630d86",
   "metadata": {},
   "outputs": [
    {
     "data": {
      "text/plain": [
       "True"
      ]
     },
     "execution_count": 37,
     "metadata": {},
     "output_type": "execute_result"
    }
   ],
   "source": [
    "x == z"
   ]
  },
  {
   "cell_type": "code",
   "execution_count": 38,
   "id": "222c507d",
   "metadata": {},
   "outputs": [
    {
     "data": {
      "text/plain": [
       "False"
      ]
     },
     "execution_count": 38,
     "metadata": {},
     "output_type": "execute_result"
    }
   ],
   "source": [
    "y == z"
   ]
  },
  {
   "cell_type": "markdown",
   "id": "e4efd48e",
   "metadata": {},
   "source": [
    "The \"not equals\" operator produces the opposite results:"
   ]
  },
  {
   "cell_type": "code",
   "execution_count": 39,
   "id": "b1a0a48c",
   "metadata": {},
   "outputs": [
    {
     "data": {
      "text/plain": [
       "True"
      ]
     },
     "execution_count": 39,
     "metadata": {},
     "output_type": "execute_result"
    }
   ],
   "source": [
    "x != y"
   ]
  },
  {
   "cell_type": "code",
   "execution_count": 40,
   "id": "011515f1",
   "metadata": {},
   "outputs": [
    {
     "data": {
      "text/plain": [
       "False"
      ]
     },
     "execution_count": 40,
     "metadata": {},
     "output_type": "execute_result"
    }
   ],
   "source": [
    "x != z"
   ]
  },
  {
   "cell_type": "code",
   "execution_count": 41,
   "id": "0fa77f1e",
   "metadata": {},
   "outputs": [
    {
     "data": {
      "text/plain": [
       "True"
      ]
     },
     "execution_count": 41,
     "metadata": {},
     "output_type": "execute_result"
    }
   ],
   "source": [
    "y != z"
   ]
  },
  {
   "cell_type": "markdown",
   "id": "40d2fe42",
   "metadata": {},
   "source": [
    "So far, so obvious. But what about this? "
   ]
  },
  {
   "cell_type": "code",
   "execution_count": 42,
   "id": "fa0a8e75",
   "metadata": {},
   "outputs": [
    {
     "data": {
      "text/plain": [
       "False"
      ]
     },
     "execution_count": 42,
     "metadata": {},
     "output_type": "execute_result"
    }
   ],
   "source": [
    "42 == \"42\""
   ]
  },
  {
   "cell_type": "markdown",
   "id": "89e479d8",
   "metadata": {},
   "source": [
    "The reason `==` outputs `False` here is because `42` is the integer `42`, while `\"42\"` is a string with the content `42`. These are two completely different things! In general in Python a string will never be equal to an integer. *Generally speaking, if two values have a different data type, they will rarely be equal.*\n",
    "\n",
    "The most prominent exception to that rule is that floating point numbers are equal to integers if they have the same value:"
   ]
  },
  {
   "cell_type": "code",
   "execution_count": 43,
   "id": "5dcc36a7",
   "metadata": {},
   "outputs": [
    {
     "data": {
      "text/plain": [
       "True"
      ]
     },
     "execution_count": 43,
     "metadata": {},
     "output_type": "execute_result"
    }
   ],
   "source": [
    "42 == 42.0"
   ]
  },
  {
   "cell_type": "markdown",
   "id": "ec9f72f9",
   "metadata": {},
   "source": [
    "### Arithmetic operators"
   ]
  },
  {
   "cell_type": "markdown",
   "id": "c534845d",
   "metadata": {},
   "source": [
    "You can also use the usual arithmetic operators `+`, `-`, `*` and `/` on integers and floats. Unless you slept through school, you probably already know what they do, so here are some examples:"
   ]
  },
  {
   "cell_type": "code",
   "execution_count": 44,
   "id": "738ae6e8",
   "metadata": {},
   "outputs": [
    {
     "data": {
      "text/plain": [
       "85"
      ]
     },
     "execution_count": 44,
     "metadata": {},
     "output_type": "execute_result"
    }
   ],
   "source": [
    "42 + 43"
   ]
  },
  {
   "cell_type": "code",
   "execution_count": 45,
   "id": "472200b8",
   "metadata": {},
   "outputs": [
    {
     "data": {
      "text/plain": [
       "-1"
      ]
     },
     "execution_count": 45,
     "metadata": {},
     "output_type": "execute_result"
    }
   ],
   "source": [
    "42 - 43"
   ]
  },
  {
   "cell_type": "code",
   "execution_count": 46,
   "id": "f2b16af8",
   "metadata": {},
   "outputs": [
    {
     "data": {
      "text/plain": [
       "1806"
      ]
     },
     "execution_count": 46,
     "metadata": {},
     "output_type": "execute_result"
    }
   ],
   "source": [
    "42 * 43"
   ]
  },
  {
   "cell_type": "code",
   "execution_count": 47,
   "id": "9a02595e",
   "metadata": {},
   "outputs": [
    {
     "data": {
      "text/plain": [
       "0.9767441860465116"
      ]
     },
     "execution_count": 47,
     "metadata": {},
     "output_type": "execute_result"
    }
   ],
   "source": [
    "42 / 43"
   ]
  },
  {
   "cell_type": "markdown",
   "id": "94507bb0",
   "metadata": {},
   "source": [
    "Note that `+`, `-` and `*` will always return an integer, but `/` will always return a float (even if there would be no remainder)."
   ]
  },
  {
   "cell_type": "code",
   "execution_count": 48,
   "id": "588890d5",
   "metadata": {},
   "outputs": [
    {
     "data": {
      "text/plain": [
       "42.0"
      ]
     },
     "execution_count": 48,
     "metadata": {},
     "output_type": "execute_result"
    }
   ],
   "source": [
    "42 / 1"
   ]
  },
  {
   "cell_type": "code",
   "execution_count": 49,
   "id": "b557c675",
   "metadata": {},
   "outputs": [
    {
     "data": {
      "text/plain": [
       "float"
      ]
     },
     "execution_count": 49,
     "metadata": {},
     "output_type": "execute_result"
    }
   ],
   "source": [
    "type(42 / 1)"
   ]
  },
  {
   "cell_type": "markdown",
   "id": "3e973d9f",
   "metadata": {},
   "source": [
    "Do note that if we apply one of these operations on two floating point numbers, we get another floating point number. This holds true, even if the result could be represented as an integer:"
   ]
  },
  {
   "cell_type": "code",
   "execution_count": 50,
   "id": "dd9f95c8",
   "metadata": {},
   "outputs": [
    {
     "data": {
      "text/plain": [
       "float"
      ]
     },
     "execution_count": 50,
     "metadata": {},
     "output_type": "execute_result"
    }
   ],
   "source": [
    "type(42.0 + 43.0)"
   ]
  },
  {
   "cell_type": "markdown",
   "id": "32aaf66f",
   "metadata": {},
   "source": [
    "So far, so (relatively) obvious. But what happens if we try to add a `float` and an `int`? Python supports **mixed arithmetic**. If we perform an arithmetic operation with `float` and an `int` the result will be a `float`:"
   ]
  },
  {
   "cell_type": "code",
   "execution_count": 51,
   "id": "86669166",
   "metadata": {},
   "outputs": [],
   "source": [
    "x = 42\n",
    "y = 43.5"
   ]
  },
  {
   "cell_type": "code",
   "execution_count": 52,
   "id": "d86f5fb7",
   "metadata": {},
   "outputs": [
    {
     "data": {
      "text/plain": [
       "42"
      ]
     },
     "execution_count": 52,
     "metadata": {},
     "output_type": "execute_result"
    }
   ],
   "source": [
    "x"
   ]
  },
  {
   "cell_type": "code",
   "execution_count": 53,
   "id": "dd7dbb77",
   "metadata": {},
   "outputs": [
    {
     "data": {
      "text/plain": [
       "43.5"
      ]
     },
     "execution_count": 53,
     "metadata": {},
     "output_type": "execute_result"
    }
   ],
   "source": [
    "y"
   ]
  },
  {
   "cell_type": "code",
   "execution_count": 54,
   "id": "0c883f73",
   "metadata": {},
   "outputs": [
    {
     "data": {
      "text/plain": [
       "int"
      ]
     },
     "execution_count": 54,
     "metadata": {},
     "output_type": "execute_result"
    }
   ],
   "source": [
    "type(x)"
   ]
  },
  {
   "cell_type": "code",
   "execution_count": 55,
   "id": "9b1aa5fb",
   "metadata": {},
   "outputs": [
    {
     "data": {
      "text/plain": [
       "float"
      ]
     },
     "execution_count": 55,
     "metadata": {},
     "output_type": "execute_result"
    }
   ],
   "source": [
    "type(y)"
   ]
  },
  {
   "cell_type": "code",
   "execution_count": 56,
   "id": "886c8669",
   "metadata": {},
   "outputs": [
    {
     "data": {
      "text/plain": [
       "85.5"
      ]
     },
     "execution_count": 56,
     "metadata": {},
     "output_type": "execute_result"
    }
   ],
   "source": [
    "x + y"
   ]
  },
  {
   "cell_type": "code",
   "execution_count": 57,
   "id": "c42504f3",
   "metadata": {},
   "outputs": [
    {
     "data": {
      "text/plain": [
       "float"
      ]
     },
     "execution_count": 57,
     "metadata": {},
     "output_type": "execute_result"
    }
   ],
   "source": [
    "type(x + y)"
   ]
  },
  {
   "cell_type": "markdown",
   "id": "ae3bd1de",
   "metadata": {},
   "source": [
    "Finally we should mention that if you attempt to divide by `0`, Python will get *very mad* at you:"
   ]
  },
  {
   "cell_type": "code",
   "execution_count": 58,
   "id": "e6ee4635",
   "metadata": {},
   "outputs": [
    {
     "ename": "ZeroDivisionError",
     "evalue": "division by zero",
     "output_type": "error",
     "traceback": [
      "\u001b[0;31m---------------------------------------------------------------------------\u001b[0m",
      "\u001b[0;31mZeroDivisionError\u001b[0m                         Traceback (most recent call last)",
      "Cell \u001b[0;32mIn[58], line 1\u001b[0m\n\u001b[0;32m----> 1\u001b[0m \u001b[38;5;241;43m42\u001b[39;49m\u001b[43m \u001b[49m\u001b[38;5;241;43m/\u001b[39;49m\u001b[43m \u001b[49m\u001b[38;5;241;43m0\u001b[39;49m\n",
      "\u001b[0;31mZeroDivisionError\u001b[0m: division by zero"
     ]
    }
   ],
   "source": [
    "42 / 0"
   ]
  },
  {
   "cell_type": "markdown",
   "id": "c6dd230d",
   "metadata": {},
   "source": [
    "We will later learn how we can handle errors like that. For now just don't divide by `0`.\n",
    "\n",
    "Two other important operators are the `%` (modulo) and `//` (floor division) operator. These return the integer quotient and remainder of a division respectively. For example `63 / 42` is `1` with remainder `21`. Therefore:"
   ]
  },
  {
   "cell_type": "code",
   "execution_count": 59,
   "id": "ef0998ad",
   "metadata": {},
   "outputs": [
    {
     "data": {
      "text/plain": [
       "1"
      ]
     },
     "execution_count": 59,
     "metadata": {},
     "output_type": "execute_result"
    }
   ],
   "source": [
    "63 // 42"
   ]
  },
  {
   "cell_type": "code",
   "execution_count": 60,
   "id": "d406da46",
   "metadata": {},
   "outputs": [
    {
     "data": {
      "text/plain": [
       "21"
      ]
     },
     "execution_count": 60,
     "metadata": {},
     "output_type": "execute_result"
    }
   ],
   "source": [
    "63 % 42"
   ]
  },
  {
   "cell_type": "markdown",
   "id": "50b3cb73",
   "metadata": {},
   "source": [
    "Finally, Python also has the **exponentiation** operator `**`:"
   ]
  },
  {
   "cell_type": "code",
   "execution_count": 61,
   "id": "16b84d5c",
   "metadata": {},
   "outputs": [
    {
     "data": {
      "text/plain": [
       "8"
      ]
     },
     "execution_count": 61,
     "metadata": {},
     "output_type": "execute_result"
    }
   ],
   "source": [
    "2 ** 3"
   ]
  },
  {
   "cell_type": "markdown",
   "id": "4b7fb5f2",
   "metadata": {},
   "source": [
    "All the operators we just introduced have so-called **in-place** equivalents which perform the operation and an assignment. For example instead of writing `x = x + y` you can write `x += y`.\n",
    "\n",
    "Here are a few examples:"
   ]
  },
  {
   "cell_type": "code",
   "execution_count": 75,
   "id": "cdde9e40",
   "metadata": {},
   "outputs": [],
   "source": [
    "x = 42\n",
    "y = 43\n",
    "x += y"
   ]
  },
  {
   "cell_type": "code",
   "execution_count": 76,
   "id": "864f21a9",
   "metadata": {},
   "outputs": [
    {
     "data": {
      "text/plain": [
       "85"
      ]
     },
     "execution_count": 76,
     "metadata": {},
     "output_type": "execute_result"
    }
   ],
   "source": [
    "x"
   ]
  },
  {
   "cell_type": "code",
   "execution_count": 78,
   "id": "7e276e88",
   "metadata": {},
   "outputs": [],
   "source": [
    "x = 42\n",
    "y = 43\n",
    "x *= y"
   ]
  },
  {
   "cell_type": "code",
   "execution_count": 80,
   "id": "fa4240fd",
   "metadata": {},
   "outputs": [
    {
     "data": {
      "text/plain": [
       "1806"
      ]
     },
     "execution_count": 80,
     "metadata": {},
     "output_type": "execute_result"
    }
   ],
   "source": [
    "x"
   ]
  },
  {
   "cell_type": "code",
   "execution_count": 82,
   "id": "3b8bdcb1",
   "metadata": {},
   "outputs": [],
   "source": [
    "x = 2\n",
    "y = 3\n",
    "x **= y"
   ]
  },
  {
   "cell_type": "code",
   "execution_count": 83,
   "id": "cd10c0ab",
   "metadata": {},
   "outputs": [
    {
     "data": {
      "text/plain": [
       "8"
      ]
     },
     "execution_count": 83,
     "metadata": {},
     "output_type": "execute_result"
    }
   ],
   "source": [
    "x"
   ]
  },
  {
   "cell_type": "markdown",
   "id": "2199a09b",
   "metadata": {},
   "source": [
    "### Comparison operators"
   ]
  },
  {
   "cell_type": "markdown",
   "id": "a5d64cf8",
   "metadata": {},
   "source": [
    "Python also has comparison operators `<`, `<=`, `>`, `>=`, which work pretty much the way you would expect:"
   ]
  },
  {
   "cell_type": "code",
   "execution_count": 62,
   "id": "20524eeb",
   "metadata": {},
   "outputs": [],
   "source": [
    "x = 42\n",
    "y = 43"
   ]
  },
  {
   "cell_type": "code",
   "execution_count": 63,
   "id": "8a334912",
   "metadata": {},
   "outputs": [
    {
     "data": {
      "text/plain": [
       "True"
      ]
     },
     "execution_count": 63,
     "metadata": {},
     "output_type": "execute_result"
    }
   ],
   "source": [
    "x < y"
   ]
  },
  {
   "cell_type": "code",
   "execution_count": 64,
   "id": "0ff9b943",
   "metadata": {},
   "outputs": [
    {
     "data": {
      "text/plain": [
       "True"
      ]
     },
     "execution_count": 64,
     "metadata": {},
     "output_type": "execute_result"
    }
   ],
   "source": [
    "x <= y"
   ]
  },
  {
   "cell_type": "code",
   "execution_count": 65,
   "id": "47d85dbb",
   "metadata": {},
   "outputs": [
    {
     "data": {
      "text/plain": [
       "False"
      ]
     },
     "execution_count": 65,
     "metadata": {},
     "output_type": "execute_result"
    }
   ],
   "source": [
    "x > y"
   ]
  },
  {
   "cell_type": "code",
   "execution_count": 66,
   "id": "7c1dbbbc",
   "metadata": {},
   "outputs": [
    {
     "data": {
      "text/plain": [
       "False"
      ]
     },
     "execution_count": 66,
     "metadata": {},
     "output_type": "execute_result"
    }
   ],
   "source": [
    "x >= y"
   ]
  },
  {
   "cell_type": "markdown",
   "id": "dc173055",
   "metadata": {},
   "source": [
    "### Using the operators on strings"
   ]
  },
  {
   "cell_type": "markdown",
   "id": "481dc300",
   "metadata": {},
   "source": [
    "Something that might be surprising to learn is that we can use all of these operators with strings. However in this context the operators take different meanings. The `+` operator becomes **string concatenation**:"
   ]
  },
  {
   "cell_type": "code",
   "execution_count": 67,
   "id": "b779fa16",
   "metadata": {},
   "outputs": [],
   "source": [
    "my_str = \"Hello, \"\n",
    "other_str = \" World!\""
   ]
  },
  {
   "cell_type": "code",
   "execution_count": 68,
   "id": "1d2fe2c1",
   "metadata": {},
   "outputs": [
    {
     "data": {
      "text/plain": [
       "'Hello,  World!'"
      ]
     },
     "execution_count": 68,
     "metadata": {},
     "output_type": "execute_result"
    }
   ],
   "source": [
    "my_str + other_str"
   ]
  },
  {
   "cell_type": "markdown",
   "id": "ee649cbc",
   "metadata": {},
   "source": [
    "The `*` operator becomes **string repetition**:"
   ]
  },
  {
   "cell_type": "code",
   "execution_count": 69,
   "id": "ff5c42ef",
   "metadata": {},
   "outputs": [
    {
     "data": {
      "text/plain": [
       "'Hello Hello Hello '"
      ]
     },
     "execution_count": 69,
     "metadata": {},
     "output_type": "execute_result"
    }
   ],
   "source": [
    "my_str = \"Hello \"\n",
    "my_str * 3"
   ]
  },
  {
   "cell_type": "markdown",
   "id": "5856ba92",
   "metadata": {},
   "source": [
    "We can use the `==` and `!=` operators on strings:"
   ]
  },
  {
   "cell_type": "code",
   "execution_count": 70,
   "id": "e4b8cd2a",
   "metadata": {},
   "outputs": [
    {
     "data": {
      "text/plain": [
       "True"
      ]
     },
     "execution_count": 70,
     "metadata": {},
     "output_type": "execute_result"
    }
   ],
   "source": [
    "\"Hello\" == \"Hello\""
   ]
  },
  {
   "cell_type": "markdown",
   "id": "4544eff4",
   "metadata": {},
   "source": [
    "Note that two strings only compare equal, if *all* characters are equal (including whitespace characters). For example the string `\"Hello\"` will *not be equal* to the string `\"Hello \"` (with a whitespace at the end)."
   ]
  },
  {
   "cell_type": "code",
   "execution_count": 71,
   "id": "51fe8393",
   "metadata": {},
   "outputs": [
    {
     "data": {
      "text/plain": [
       "False"
      ]
     },
     "execution_count": 71,
     "metadata": {},
     "output_type": "execute_result"
    }
   ],
   "source": [
    "\"Hello\" == \"Hello \""
   ]
  },
  {
   "cell_type": "markdown",
   "id": "42bbddfe",
   "metadata": {},
   "source": [
    "Interestingly enough we can even use the comparison operators, which compares the strings **lexicographically**. Every character of string is compared alphabetically until we find two characters that aren't equal:"
   ]
  },
  {
   "cell_type": "code",
   "execution_count": 72,
   "id": "f4c52548",
   "metadata": {},
   "outputs": [
    {
     "data": {
      "text/plain": [
       "True"
      ]
     },
     "execution_count": 72,
     "metadata": {},
     "output_type": "execute_result"
    }
   ],
   "source": [
    "\"a\" < \"b\""
   ]
  },
  {
   "cell_type": "code",
   "execution_count": 73,
   "id": "a3e2914d",
   "metadata": {},
   "outputs": [
    {
     "data": {
      "text/plain": [
       "True"
      ]
     },
     "execution_count": 73,
     "metadata": {},
     "output_type": "execute_result"
    }
   ],
   "source": [
    "\"aa\" < \"ab\""
   ]
  },
  {
   "cell_type": "markdown",
   "id": "78ff3fed",
   "metadata": {},
   "source": [
    "Don't spend too much time worrying about this - you will rarely use `<`, `<=`, `>` and `>=` to compare strings. We mostly mention this for the sake of completeness."
   ]
  },
  {
   "cell_type": "markdown",
   "id": "384dbfb0",
   "metadata": {},
   "source": [
    "### Logical operators"
   ]
  },
  {
   "cell_type": "markdown",
   "id": "c6a88103",
   "metadata": {},
   "source": [
    "Finally, we need to mention the **logical operators** `and`, `or` and `not` which take boolean values.\n",
    "\n",
    "The `and` operator takes two boolean values and returns `True` if and only if they are *both* `True`:"
   ]
  },
  {
   "cell_type": "code",
   "execution_count": 84,
   "id": "c3a192a9",
   "metadata": {},
   "outputs": [
    {
     "data": {
      "text/plain": [
       "False"
      ]
     },
     "execution_count": 84,
     "metadata": {},
     "output_type": "execute_result"
    }
   ],
   "source": [
    "False and False"
   ]
  },
  {
   "cell_type": "code",
   "execution_count": 86,
   "id": "c216aaab",
   "metadata": {},
   "outputs": [
    {
     "data": {
      "text/plain": [
       "False"
      ]
     },
     "execution_count": 86,
     "metadata": {},
     "output_type": "execute_result"
    }
   ],
   "source": [
    "False and True"
   ]
  },
  {
   "cell_type": "code",
   "execution_count": 88,
   "id": "a30c8ec7",
   "metadata": {},
   "outputs": [
    {
     "data": {
      "text/plain": [
       "False"
      ]
     },
     "execution_count": 88,
     "metadata": {},
     "output_type": "execute_result"
    }
   ],
   "source": [
    "True and False"
   ]
  },
  {
   "cell_type": "code",
   "execution_count": 89,
   "id": "625d4aa8",
   "metadata": {},
   "outputs": [
    {
     "data": {
      "text/plain": [
       "True"
      ]
     },
     "execution_count": 89,
     "metadata": {},
     "output_type": "execute_result"
    }
   ],
   "source": [
    "True and True"
   ]
  },
  {
   "cell_type": "markdown",
   "id": "e39bba36",
   "metadata": {},
   "source": [
    "The `or` operator takes two boolean values and returns `True` if *at least one* of the two values is `True`:"
   ]
  },
  {
   "cell_type": "code",
   "execution_count": 90,
   "id": "6ab5fddc",
   "metadata": {},
   "outputs": [
    {
     "data": {
      "text/plain": [
       "False"
      ]
     },
     "execution_count": 90,
     "metadata": {},
     "output_type": "execute_result"
    }
   ],
   "source": [
    "False or False"
   ]
  },
  {
   "cell_type": "code",
   "execution_count": 91,
   "id": "d27fbcb4",
   "metadata": {},
   "outputs": [
    {
     "data": {
      "text/plain": [
       "True"
      ]
     },
     "execution_count": 91,
     "metadata": {},
     "output_type": "execute_result"
    }
   ],
   "source": [
    "False or True"
   ]
  },
  {
   "cell_type": "code",
   "execution_count": 92,
   "id": "11ac4481",
   "metadata": {},
   "outputs": [
    {
     "data": {
      "text/plain": [
       "True"
      ]
     },
     "execution_count": 92,
     "metadata": {},
     "output_type": "execute_result"
    }
   ],
   "source": [
    "True or False"
   ]
  },
  {
   "cell_type": "code",
   "execution_count": 93,
   "id": "29d65cb1",
   "metadata": {},
   "outputs": [
    {
     "data": {
      "text/plain": [
       "True"
      ]
     },
     "execution_count": 93,
     "metadata": {},
     "output_type": "execute_result"
    }
   ],
   "source": [
    "True or True"
   ]
  },
  {
   "cell_type": "markdown",
   "id": "fcbddfa1",
   "metadata": {},
   "source": [
    "The `not` operator takes a single boolean value and returns the *negation*:"
   ]
  },
  {
   "cell_type": "code",
   "execution_count": 94,
   "id": "6e132aac",
   "metadata": {},
   "outputs": [
    {
     "data": {
      "text/plain": [
       "True"
      ]
     },
     "execution_count": 94,
     "metadata": {},
     "output_type": "execute_result"
    }
   ],
   "source": [
    "not False"
   ]
  },
  {
   "cell_type": "code",
   "execution_count": 95,
   "id": "288009f2",
   "metadata": {},
   "outputs": [
    {
     "data": {
      "text/plain": [
       "False"
      ]
     },
     "execution_count": 95,
     "metadata": {},
     "output_type": "execute_result"
    }
   ],
   "source": [
    "not True"
   ]
  },
  {
   "cell_type": "code",
   "execution_count": null,
   "id": "b4884aee",
   "metadata": {},
   "outputs": [],
   "source": []
  }
 ],
 "metadata": {
  "kernelspec": {
   "display_name": "Python 3 (ipykernel)",
   "language": "python",
   "name": "python3"
  },
  "language_info": {
   "codemirror_mode": {
    "name": "ipython",
    "version": 3
   },
   "file_extension": ".py",
   "mimetype": "text/x-python",
   "name": "python",
   "nbconvert_exporter": "python",
   "pygments_lexer": "ipython3",
   "version": "3.10.6"
  }
 },
 "nbformat": 4,
 "nbformat_minor": 5
}
