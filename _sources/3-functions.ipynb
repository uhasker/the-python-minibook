{
 "cells": [
  {
   "cell_type": "markdown",
   "id": "d78bb502",
   "metadata": {},
   "source": [
    "# Chapter 3. Functions"
   ]
  },
  {
   "cell_type": "markdown",
   "id": "25ea0d91",
   "metadata": {},
   "source": [
    "## Why functions?"
   ]
  },
  {
   "cell_type": "markdown",
   "id": "deb0f59d",
   "metadata": {},
   "source": [
    "The most important concept in Python and arguably in all of programming is that of a **function**. A function essentially allows us to encapsulate a repetitive task.\n",
    "\n",
    "Consider the following example. We are writing an application for handling tournaments and want to compute ratings of the players using the ELO algorithm. This algorithm works by calculating the probabilities of the players winning and then obtaining a new rating from those probabilities and the old ratings.\n",
    "\n",
    "For example let's say that the first player has the rating `1000` and the second player has the rating `1500`:"
   ]
  },
  {
   "cell_type": "code",
   "execution_count": 2,
   "id": "006671bf",
   "metadata": {},
   "outputs": [],
   "source": [
    "rating1 = 1000\n",
    "rating2 = 1500"
   ]
  },
  {
   "cell_type": "markdown",
   "id": "f8ef302c",
   "metadata": {},
   "source": [
    "We can calculate the expected score of the first player as following:"
   ]
  },
  {
   "cell_type": "code",
   "execution_count": 5,
   "id": "1e3599a4",
   "metadata": {},
   "outputs": [],
   "source": [
    "expected1 = 1 / (1 + 10 ** ((rating2 - rating1) / 400))"
   ]
  },
  {
   "cell_type": "code",
   "execution_count": 6,
   "id": "2c1f2509",
   "metadata": {},
   "outputs": [
    {
     "data": {
      "text/plain": [
       "0.05324021520202244"
      ]
     },
     "execution_count": 6,
     "metadata": {},
     "output_type": "execute_result"
    }
   ],
   "source": [
    "expected1"
   ]
  },
  {
   "cell_type": "markdown",
   "id": "bd2ca6f0",
   "metadata": {},
   "source": [
    "We see that the expected score is very small, which makes sense since the first player is very unlikely to win. The expected score of the second player can be calculated in a similar manner:"
   ]
  },
  {
   "cell_type": "code",
   "execution_count": 4,
   "id": "3bb28aa5",
   "metadata": {},
   "outputs": [],
   "source": [
    "expected2 = 1 / (1 + 10 ** ((rating1 - rating2) / 400))"
   ]
  },
  {
   "cell_type": "code",
   "execution_count": 7,
   "id": "f6d5d3d3",
   "metadata": {},
   "outputs": [
    {
     "data": {
      "text/plain": [
       "0.9467597847979775"
      ]
     },
     "execution_count": 7,
     "metadata": {},
     "output_type": "execute_result"
    }
   ],
   "source": [
    "expected2"
   ]
  },
  {
   "cell_type": "markdown",
   "id": "fa85b8cc",
   "metadata": {},
   "source": [
    "The rating update can be performed like this:"
   ]
  },
  {
   "cell_type": "code",
   "execution_count": 8,
   "id": "f4d38154",
   "metadata": {},
   "outputs": [],
   "source": [
    "new_rating1 = rating1 + 32 * (1 - expected1)\n",
    "new_rating2 = rating2 + 32 * (0 - expected2)"
   ]
  },
  {
   "cell_type": "code",
   "execution_count": 9,
   "id": "b530f25f",
   "metadata": {},
   "outputs": [
    {
     "data": {
      "text/plain": [
       "1030.2963131135352"
      ]
     },
     "execution_count": 9,
     "metadata": {},
     "output_type": "execute_result"
    }
   ],
   "source": [
    "new_rating1"
   ]
  },
  {
   "cell_type": "code",
   "execution_count": 10,
   "id": "bead075c",
   "metadata": {},
   "outputs": [
    {
     "data": {
      "text/plain": [
       "1469.7036868864648"
      ]
     },
     "execution_count": 10,
     "metadata": {},
     "output_type": "execute_result"
    }
   ],
   "source": [
    "new_rating2"
   ]
  },
  {
   "cell_type": "markdown",
   "id": "8aa169c9",
   "metadata": {},
   "source": [
    "We can see that the rating of the first player has increased since he won against a stronger player. Meanwhile the rating of the second player has decreased since he lost against a weaker player. So far, so good.\n",
    "\n",
    "However in our tournament application we would need to do this calculation very often, which would result in a lot of tedious repetition of lines.\n",
    "\n",
    "This has several drawbacks. First of all, we would have to repeat the exact same code over and over again, which costs time and with each repetition we become more likely to introduce a mistake somewhere. Second, if we want to change the rating calculation at some point, we would need to adjust it in every place the calculation happens. This, again, costs time and we might forget to do it somewhere resulting in a bug.\n",
    "\n",
    "Instead of going through all this tedium, let us write a function that calculates the rating for us."
   ]
  },
  {
   "cell_type": "markdown",
   "id": "cea77b70",
   "metadata": {},
   "source": [
    "## Defining and calling functions"
   ]
  },
  {
   "cell_type": "markdown",
   "id": "b868a24b",
   "metadata": {},
   "source": [
    "We **define** a function using the `def` keyword followed by the function name and brackets `()`. After that a **function body** follows which contains the function implementation (i.e. the code that will be executed if the function is called).\n",
    "\n",
    "For example here is a function that prints a greeting:"
   ]
  },
  {
   "cell_type": "code",
   "execution_count": 11,
   "id": "bb5e30a3",
   "metadata": {},
   "outputs": [],
   "source": [
    "# Function definition below\n",
    "\n",
    "def print_greeting():\n",
    "    # Function body\n",
    "    print(\"Hello, user\")"
   ]
  },
  {
   "cell_type": "markdown",
   "id": "b3c8d79e",
   "metadata": {},
   "source": [
    "We can execute the contents of the functions with a **function call** like this:"
   ]
  },
  {
   "cell_type": "code",
   "execution_count": 12,
   "id": "b89c1eb3",
   "metadata": {},
   "outputs": [
    {
     "name": "stdout",
     "output_type": "stream",
     "text": [
      "Hello, user\n"
     ]
    }
   ],
   "source": [
    "# Function call\n",
    "\n",
    "print_greeting()"
   ]
  },
  {
   "cell_type": "markdown",
   "id": "ee6fabe4",
   "metadata": {},
   "source": [
    "Hooray! We just wrote our first function!\n",
    "\n",
    "However to make our functions useful, we should give them some parameters that can customize their behaviour."
   ]
  },
  {
   "cell_type": "markdown",
   "id": "9e5a1d49",
   "metadata": {},
   "source": [
    "## Function parameters and arguments"
   ]
  },
  {
   "cell_type": "markdown",
   "id": "d3bd940b",
   "metadata": {},
   "source": [
    "Functions can take **parameters** between the brackets. These parameters can then be used inside the function body just like regular variables.\n",
    "\n",
    "Consider a function that should print a greeting given a name. We would write it like this:"
   ]
  },
  {
   "cell_type": "code",
   "execution_count": 14,
   "id": "22924916",
   "metadata": {},
   "outputs": [],
   "source": [
    "def print_greeting(name):\n",
    "    print(f\"Hello {name}\")"
   ]
  },
  {
   "cell_type": "markdown",
   "id": "5c299f56",
   "metadata": {},
   "source": [
    "When calling a function, we can now pass **arguments** to the function which are then assigned to the parameters:"
   ]
  },
  {
   "cell_type": "code",
   "execution_count": 15,
   "id": "635d8575",
   "metadata": {},
   "outputs": [
    {
     "name": "stdout",
     "output_type": "stream",
     "text": [
      "Hello, John\n"
     ]
    }
   ],
   "source": [
    "print_greeting(\"John\")"
   ]
  },
  {
   "cell_type": "markdown",
   "id": "bb8662df",
   "metadata": {},
   "source": [
    "We could also write it like this:"
   ]
  },
  {
   "cell_type": "code",
   "execution_count": 16,
   "id": "88975ccc",
   "metadata": {},
   "outputs": [
    {
     "name": "stdout",
     "output_type": "stream",
     "text": [
      "Hello, John\n"
     ]
    }
   ],
   "source": [
    "print_greeting(name=\"John\")"
   ]
  },
  {
   "cell_type": "markdown",
   "id": "e0529552",
   "metadata": {},
   "source": [
    "A function can take multiple parameters, in which case they are separated by a comma:"
   ]
  },
  {
   "cell_type": "code",
   "execution_count": 18,
   "id": "b9bfb4a6",
   "metadata": {},
   "outputs": [],
   "source": [
    "def print_complex_greeting(first_name, last_name):\n",
    "    print(f\"Hello {first_name} {last_name}\")"
   ]
  },
  {
   "cell_type": "markdown",
   "id": "837b1f9b",
   "metadata": {},
   "source": [
    "If a function takes multiple parameters, the arguments to that function are also separated by commas:"
   ]
  },
  {
   "cell_type": "code",
   "execution_count": 19,
   "id": "d1a048ee",
   "metadata": {},
   "outputs": [
    {
     "name": "stdout",
     "output_type": "stream",
     "text": [
      "Hello John Doe\n"
     ]
    }
   ],
   "source": [
    "print_complex_greeting(\"John\", \"Doe\")"
   ]
  },
  {
   "cell_type": "markdown",
   "id": "dfead7df",
   "metadata": {},
   "source": [
    "Alternatively we could write it like this:"
   ]
  },
  {
   "cell_type": "code",
   "execution_count": 20,
   "id": "af1d1547",
   "metadata": {},
   "outputs": [
    {
     "name": "stdout",
     "output_type": "stream",
     "text": [
      "Hello John Doe\n"
     ]
    }
   ],
   "source": [
    "print_complex_greeting(\"John\", last_name=\"Doe\")"
   ]
  },
  {
   "cell_type": "markdown",
   "id": "54722cc9",
   "metadata": {},
   "source": [
    "Or even like this:"
   ]
  },
  {
   "cell_type": "code",
   "execution_count": 21,
   "id": "ddb8b89b",
   "metadata": {},
   "outputs": [
    {
     "name": "stdout",
     "output_type": "stream",
     "text": [
      "Hello John Doe\n"
     ]
    }
   ],
   "source": [
    "print_complex_greeting(first_name=\"John\", last_name=\"Doe\")"
   ]
  },
  {
   "cell_type": "markdown",
   "id": "803414d6",
   "metadata": {},
   "source": [
    "## The return keyword"
   ]
  },
  {
   "cell_type": "markdown",
   "id": "87da2ee8",
   "metadata": {},
   "source": [
    "Right now we are printing values. But usually we would like the function to compute a value and hand it to us. We can do this using the `return` keyword.\n",
    "\n",
    "Let's rewrite the `print_greeting` function to a `get_greeting` function that *returns* the greeting instead of *printing* it."
   ]
  },
  {
   "cell_type": "code",
   "execution_count": 22,
   "id": "9b7f2f2a",
   "metadata": {},
   "outputs": [],
   "source": [
    "def get_greeting(name):\n",
    "    return \"Hello, \" + name"
   ]
  },
  {
   "cell_type": "code",
   "execution_count": 23,
   "id": "2f5b65fb",
   "metadata": {},
   "outputs": [],
   "source": [
    "greeting = get_greeting(\"John\")"
   ]
  },
  {
   "cell_type": "code",
   "execution_count": 24,
   "id": "5c1b99fb",
   "metadata": {},
   "outputs": [
    {
     "data": {
      "text/plain": [
       "'Hello, John'"
      ]
     },
     "execution_count": 24,
     "metadata": {},
     "output_type": "execute_result"
    }
   ],
   "source": [
    "greeting"
   ]
  },
  {
   "cell_type": "markdown",
   "id": "3ea6f2f7",
   "metadata": {},
   "source": [
    "Something that commonly trips up novices is that they confuse `print` and `return`. However these are *two completely different and unrelated things*. The first one - `print` - is a *function which prints a value*. The second one - `return` - is a *keyword which allows a function to return a value to its caller*.\n",
    "\n",
    "Therefore `print_greeting` and `get_greeting` are two completely different functions. The function `print_greeting` prints the greeting and doesn't return anything. For example if we try to assign a value to the result of `print_greeting`, this happens:"
   ]
  },
  {
   "cell_type": "code",
   "execution_count": 21,
   "id": "e2520e02",
   "metadata": {},
   "outputs": [
    {
     "name": "stdout",
     "output_type": "stream",
     "text": [
      "Hello, John\n"
     ]
    }
   ],
   "source": [
    "another_greeting = print_greeting(\"John\")"
   ]
  },
  {
   "cell_type": "markdown",
   "id": "e170ac5d",
   "metadata": {},
   "source": [
    "The `print_greeting` function prints `\"Hello, John\"`. Now let's inspect `another_greeting`:"
   ]
  },
  {
   "cell_type": "code",
   "execution_count": 22,
   "id": "41098f7a",
   "metadata": {},
   "outputs": [
    {
     "name": "stdout",
     "output_type": "stream",
     "text": [
      "None\n"
     ]
    }
   ],
   "source": [
    "print(another_greeting)"
   ]
  },
  {
   "cell_type": "markdown",
   "id": "7ce4f9f6",
   "metadata": {},
   "source": [
    "We see that `another_greeting` has the special value `None` which essentially means \"nothing\" in Python. This is because the `print_greeting` function didn't have the `return` keyword.\n",
    "\n",
    "This is also the point at which we note that returning a value from a function is *far more common* than printing it. This is because if we print a value, we can no longer do anything useful with it. Where as if we return a value, we can assign it to a variable and manipulate it further. Here is a pattern you will see quite often:"
   ]
  },
  {
   "cell_type": "code",
   "execution_count": 26,
   "id": "c991066d",
   "metadata": {},
   "outputs": [],
   "source": [
    "def get_full_name(first_name, last_name):\n",
    "    full_name = first_name + \" \" + last_name\n",
    "    return full_name\n",
    "\n",
    "def get_greeting(full_name):\n",
    "    return f\"Hello, {full_name}\"\n",
    "\n",
    "\n",
    "first_name = \"John\"\n",
    "last_name = \"Doe\"\n",
    "\n",
    "# Get the full name and store it in a variable full_name\n",
    "full_name = get_full_name(first_name, last_name)\n",
    "\n",
    "# Use the variable full_name to obtain a greeting \n",
    "greeting = get_greeting(full_name)"
   ]
  },
  {
   "cell_type": "code",
   "execution_count": 27,
   "id": "81089bf7",
   "metadata": {},
   "outputs": [
    {
     "data": {
      "text/plain": [
       "'Hello, John Doe'"
      ]
     },
     "execution_count": 27,
     "metadata": {},
     "output_type": "execute_result"
    }
   ],
   "source": [
    "greeting"
   ]
  },
  {
   "cell_type": "markdown",
   "id": "159de4c4",
   "metadata": {},
   "source": [
    "However if we would have printed `full_name` instead of returning it we couldn't pass it to `get_greeting`."
   ]
  },
  {
   "cell_type": "markdown",
   "id": "1cd99e40",
   "metadata": {},
   "source": [
    "## Writing a complex function"
   ]
  },
  {
   "cell_type": "markdown",
   "id": "063a11ce",
   "metadata": {},
   "source": [
    "Armed with our knowledge, we can return to the example that motivated this chapter.\n",
    "\n",
    "Here is how we would write a function that computes the expected scores for two players given their rankings."
   ]
  },
  {
   "cell_type": "code",
   "execution_count": 31,
   "id": "e7613970",
   "metadata": {},
   "outputs": [],
   "source": [
    "def get_expected_scores(ranking1, ranking2):\n",
    "    expected1 = 1 / (1 + 10 ** ((rating2 - rating1) / 400))\n",
    "    expected2 = 1 / (1 + 10 ** ((rating1 - rating2) / 400))\n",
    "\n",
    "    return expected1, expected2"
   ]
  },
  {
   "cell_type": "markdown",
   "id": "1287e3a2",
   "metadata": {},
   "source": [
    "Note that we can return multiple values from a function by separating them with commas. Now we can use the `get_expected_scores` function to obtain the new ratings of the players:"
   ]
  },
  {
   "cell_type": "code",
   "execution_count": 29,
   "id": "598a78bd",
   "metadata": {},
   "outputs": [],
   "source": [
    "def get_new_ratings(ranking_winner, ranking_loser):\n",
    "    expected1, expected2 = get_expected_scores(ranking_winner, ranking_loser)\n",
    "    new_rating1 = rating1 + 32 * (1 - expected1)\n",
    "    new_rating2 = rating2 + 32 * (0 - expected2)\n",
    "    return new_rating1, new_rating2"
   ]
  },
  {
   "cell_type": "markdown",
   "id": "9cfeb3dd",
   "metadata": {},
   "source": [
    "Pay attention to how `get_new_ratings` calls `get_expected_scores` which improves readability. Generally it's a good idea to create functions that are as small as possible and split subtasks into helper function.\n",
    "\n",
    "Let's check if our new functions work the way they should:"
   ]
  },
  {
   "cell_type": "code",
   "execution_count": 32,
   "id": "809b8558",
   "metadata": {},
   "outputs": [],
   "source": [
    "new_winner_rating, new_loser_rating = get_new_ratings(1500, 1000)"
   ]
  },
  {
   "cell_type": "code",
   "execution_count": 34,
   "id": "06586630",
   "metadata": {},
   "outputs": [
    {
     "data": {
      "text/plain": [
       "1030.2963131135352"
      ]
     },
     "execution_count": 34,
     "metadata": {},
     "output_type": "execute_result"
    }
   ],
   "source": [
    "new_winner_rating"
   ]
  },
  {
   "cell_type": "code",
   "execution_count": 35,
   "id": "c544090a",
   "metadata": {},
   "outputs": [
    {
     "data": {
      "text/plain": [
       "1469.7036868864648"
      ]
     },
     "execution_count": 35,
     "metadata": {},
     "output_type": "execute_result"
    }
   ],
   "source": [
    "new_loser_rating"
   ]
  },
  {
   "cell_type": "markdown",
   "id": "3283f803",
   "metadata": {},
   "source": [
    "Note that our functions, parameters and variables have sensible names like `get_new_ratings` or `new_rating2`. This makes them *readable*. Generally you avoid writing functions that look like this:"
   ]
  },
  {
   "cell_type": "code",
   "execution_count": 36,
   "id": "85cc15f3",
   "metadata": {},
   "outputs": [],
   "source": [
    "def flunkify(flunky1, flunky2):\n",
    "    flunkified_flunky1 = 1 / (1 + 10 ** ((flunky2 - flunky1) / 400))\n",
    "    flunkified_flunky2 = 1 / (1 + 10 ** ((flunky1 - flunky2) / 400))\n",
    "\n",
    "    return flunkified_flunky1, flunkified_flunky2"
   ]
  },
  {
   "cell_type": "markdown",
   "id": "c1b688d0",
   "metadata": {},
   "source": [
    "While the `flunkify` function does the same thing as the `get_expected_scores` function it is not readable at all. Code that is not readable will generally lead for headaches for your fellow developers which will quickly lead to headaches for *you*.\n",
    "\n",
    "So use sensible names."
   ]
  },
  {
   "cell_type": "markdown",
   "id": "d4d57c64",
   "metadata": {},
   "source": [
    "## Useful built-in functions"
   ]
  },
  {
   "cell_type": "markdown",
   "id": "8ee376c3",
   "metadata": {},
   "source": [
    "There a number of useful built-in functions.\n",
    "\n",
    "In fact you already encountered two of them - namely `print` and `type`:"
   ]
  },
  {
   "cell_type": "code",
   "execution_count": 44,
   "id": "3107e9cb",
   "metadata": {},
   "outputs": [
    {
     "name": "stdout",
     "output_type": "stream",
     "text": [
      "42\n"
     ]
    }
   ],
   "source": [
    "print(42)"
   ]
  },
  {
   "cell_type": "code",
   "execution_count": 45,
   "id": "95e55da4",
   "metadata": {},
   "outputs": [
    {
     "data": {
      "text/plain": [
       "int"
      ]
     },
     "execution_count": 45,
     "metadata": {},
     "output_type": "execute_result"
    }
   ],
   "source": [
    "type(42)"
   ]
  },
  {
   "cell_type": "markdown",
   "id": "cb23797d",
   "metadata": {},
   "source": [
    "However `print` and `type` are not the only useful built-in functions.\n",
    "\n",
    "For example you can use the `int` function (not to be confused with the `int` data type) to convert a value to an integer:"
   ]
  },
  {
   "cell_type": "code",
   "execution_count": 38,
   "id": "cfa80a8d",
   "metadata": {},
   "outputs": [
    {
     "data": {
      "text/plain": [
       "42"
      ]
     },
     "execution_count": 38,
     "metadata": {},
     "output_type": "execute_result"
    }
   ],
   "source": [
    "int(42.2)"
   ]
  },
  {
   "cell_type": "code",
   "execution_count": 39,
   "id": "034a5818",
   "metadata": {},
   "outputs": [
    {
     "data": {
      "text/plain": [
       "42"
      ]
     },
     "execution_count": 39,
     "metadata": {},
     "output_type": "execute_result"
    }
   ],
   "source": [
    "int(\"42\")"
   ]
  },
  {
   "cell_type": "markdown",
   "id": "e1a41f8e",
   "metadata": {},
   "source": [
    "You can also use the `float` function (not to be confused with the `float` data type) to convert a value to a floating point number:"
   ]
  },
  {
   "cell_type": "code",
   "execution_count": 41,
   "id": "0b709319",
   "metadata": {},
   "outputs": [
    {
     "data": {
      "text/plain": [
       "42.2"
      ]
     },
     "execution_count": 41,
     "metadata": {},
     "output_type": "execute_result"
    }
   ],
   "source": [
    "float(\"42.2\")"
   ]
  },
  {
   "cell_type": "markdown",
   "id": "c132e688",
   "metadata": {},
   "source": [
    "You can use `min` and `max` to get the minimum or maximum of a some values, respectively:"
   ]
  },
  {
   "cell_type": "code",
   "execution_count": 42,
   "id": "c4b83078",
   "metadata": {},
   "outputs": [
    {
     "data": {
      "text/plain": [
       "42"
      ]
     },
     "execution_count": 42,
     "metadata": {},
     "output_type": "execute_result"
    }
   ],
   "source": [
    "min(42, 43, 44)"
   ]
  },
  {
   "cell_type": "code",
   "execution_count": 47,
   "id": "dab12bbb",
   "metadata": {},
   "outputs": [
    {
     "data": {
      "text/plain": [
       "44"
      ]
     },
     "execution_count": 47,
     "metadata": {},
     "output_type": "execute_result"
    }
   ],
   "source": [
    "max(42, 43, 44)"
   ]
  },
  {
   "cell_type": "markdown",
   "id": "b4e47380",
   "metadata": {},
   "source": [
    "## Exercises"
   ]
  },
  {
   "cell_type": "markdown",
   "id": "53ef2582",
   "metadata": {},
   "source": [
    "1. Write a function `avg` that returns the average of two numbers. For example `avg(3.5, 4)` should return `3.75`.\n",
    "\n",
    "2. Write a function `get_score_message` that takes the name of a player and a score and returns the message \"\\<player\\> has a score of \\<score\\>\". For example `get_score_message(\"John Doe\", 10)` should return \"John Doe has a score of 10\"."
   ]
  }
 ],
 "metadata": {
  "kernelspec": {
   "display_name": "Python 3 (ipykernel)",
   "language": "python",
   "name": "python3"
  },
  "language_info": {
   "codemirror_mode": {
    "name": "ipython",
    "version": 3
   },
   "file_extension": ".py",
   "mimetype": "text/x-python",
   "name": "python",
   "nbconvert_exporter": "python",
   "pygments_lexer": "ipython3",
   "version": "3.10.6"
  }
 },
 "nbformat": 4,
 "nbformat_minor": 5
}
