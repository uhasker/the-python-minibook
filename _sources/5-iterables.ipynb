{
 "cells": [
  {
   "cell_type": "markdown",
   "id": "d2eb28d6",
   "metadata": {},
   "source": [
    "# Chapter 5. Iterables"
   ]
  },
  {
   "cell_type": "markdown",
   "id": "88025885",
   "metadata": {},
   "source": [
    "An **iterable** is a data structure that allows you *store multiple items in a single variable*. Put more formally, an iterable object is capable of returning its members one after each other.\n",
    "\n",
    "There are many iterables in Python - in this chapter we will only concern ourselves with the most important ones - lists, ranges, tuples and dictionaries. The first three (i.e. lists, ranges and tuples) are special iterables called **sequences** . Sequences are iterables which support access by a numerical index (we will see what this means in a second)."
   ]
  },
  {
   "cell_type": "markdown",
   "id": "0193260f",
   "metadata": {},
   "source": [
    "## Lists"
   ]
  },
  {
   "cell_type": "markdown",
   "id": "3e8be85c",
   "metadata": {},
   "source": [
    "Probably the most important iterable in Python is the **list**. Lists are **mutable** sequences, i.e. their contents can be changed. You can create a list using square brackets `[]` and separating items with commas:"
   ]
  },
  {
   "cell_type": "code",
   "execution_count": 2,
   "id": "c2914602",
   "metadata": {},
   "outputs": [],
   "source": [
    "squares = [0, 1, 4, 9, 16]"
   ]
  },
  {
   "cell_type": "code",
   "execution_count": 3,
   "id": "44c05e41",
   "metadata": {},
   "outputs": [
    {
     "data": {
      "text/plain": [
       "[0, 1, 4, 9, 16]"
      ]
     },
     "execution_count": 3,
     "metadata": {},
     "output_type": "execute_result"
    }
   ],
   "source": [
    "squares"
   ]
  },
  {
   "cell_type": "code",
   "execution_count": 29,
   "id": "51bbcf1c",
   "metadata": {},
   "outputs": [
    {
     "data": {
      "text/plain": [
       "list"
      ]
     },
     "execution_count": 29,
     "metadata": {},
     "output_type": "execute_result"
    }
   ],
   "source": [
    "type(squares)"
   ]
  },
  {
   "cell_type": "markdown",
   "id": "cf24d627",
   "metadata": {},
   "source": [
    "Every item in a list can be accessed by its index:\n",
    "\n",
    "![](images/list.png)\n",
    "\n",
    "Note that indices start with `0`, not with `1`. Therefore if you want to access the first item of a list, you need to access the item with index `0`. This means that in the case of the `squares` list the item with index `1` is `1`, the item with index `2` is `4`, the item with index `3` is `9` etc.\n",
    "\n",
    "You can access an item of a list by its index using the square bracket notation. For example this how you would access the item of `squares` at index `2`:"
   ]
  },
  {
   "cell_type": "code",
   "execution_count": 17,
   "id": "be80b4a0",
   "metadata": {},
   "outputs": [
    {
     "data": {
      "text/plain": [
       "4"
      ]
     },
     "execution_count": 17,
     "metadata": {},
     "output_type": "execute_result"
    }
   ],
   "source": [
    "squares[2]"
   ]
  },
  {
   "cell_type": "markdown",
   "id": "06ce08f4",
   "metadata": {},
   "source": [
    "Let's access every item in the `squares` list using its index:"
   ]
  },
  {
   "cell_type": "code",
   "execution_count": 4,
   "id": "faf90aa3",
   "metadata": {},
   "outputs": [
    {
     "data": {
      "text/plain": [
       "0"
      ]
     },
     "execution_count": 4,
     "metadata": {},
     "output_type": "execute_result"
    }
   ],
   "source": [
    "squares[0]"
   ]
  },
  {
   "cell_type": "code",
   "execution_count": 7,
   "id": "0d97d43b",
   "metadata": {},
   "outputs": [
    {
     "data": {
      "text/plain": [
       "1"
      ]
     },
     "execution_count": 7,
     "metadata": {},
     "output_type": "execute_result"
    }
   ],
   "source": [
    "squares[1]"
   ]
  },
  {
   "cell_type": "code",
   "execution_count": 8,
   "id": "a4dedd30",
   "metadata": {},
   "outputs": [
    {
     "data": {
      "text/plain": [
       "4"
      ]
     },
     "execution_count": 8,
     "metadata": {},
     "output_type": "execute_result"
    }
   ],
   "source": [
    "squares[2]"
   ]
  },
  {
   "cell_type": "code",
   "execution_count": 9,
   "id": "06bbd032",
   "metadata": {},
   "outputs": [
    {
     "data": {
      "text/plain": [
       "9"
      ]
     },
     "execution_count": 9,
     "metadata": {},
     "output_type": "execute_result"
    }
   ],
   "source": [
    "squares[3]"
   ]
  },
  {
   "cell_type": "code",
   "execution_count": 10,
   "id": "096b94aa",
   "metadata": {},
   "outputs": [
    {
     "data": {
      "text/plain": [
       "16"
      ]
     },
     "execution_count": 10,
     "metadata": {},
     "output_type": "execute_result"
    }
   ],
   "source": [
    "squares[4]"
   ]
  },
  {
   "cell_type": "markdown",
   "id": "c3a4337a",
   "metadata": {},
   "source": [
    "What happens if we try to access the item by and index that doesn't exist? We get an `IndexError`:"
   ]
  },
  {
   "cell_type": "code",
   "execution_count": 11,
   "id": "76e86429",
   "metadata": {
    "scrolled": true
   },
   "outputs": [
    {
     "ename": "IndexError",
     "evalue": "list index out of range",
     "output_type": "error",
     "traceback": [
      "\u001b[0;31m---------------------------------------------------------------------------\u001b[0m",
      "\u001b[0;31mIndexError\u001b[0m                                Traceback (most recent call last)",
      "Cell \u001b[0;32mIn[11], line 1\u001b[0m\n\u001b[0;32m----> 1\u001b[0m \u001b[43msquares\u001b[49m\u001b[43m[\u001b[49m\u001b[38;5;241;43m5\u001b[39;49m\u001b[43m]\u001b[49m\n",
      "\u001b[0;31mIndexError\u001b[0m: list index out of range"
     ]
    }
   ],
   "source": [
    "squares[5]"
   ]
  },
  {
   "cell_type": "markdown",
   "id": "3f9a1361",
   "metadata": {},
   "source": [
    "Generally speaking, the indices of the list go from `0` to the length of the list. We can get the length of the list using the `len` function:"
   ]
  },
  {
   "cell_type": "code",
   "execution_count": 25,
   "id": "5aa7b1b1",
   "metadata": {},
   "outputs": [
    {
     "data": {
      "text/plain": [
       "6"
      ]
     },
     "execution_count": 25,
     "metadata": {},
     "output_type": "execute_result"
    }
   ],
   "source": [
    "len(squares)"
   ]
  },
  {
   "cell_type": "markdown",
   "id": "748acecd",
   "metadata": {},
   "source": [
    "You can also get multiple items of a list using the so-called slice notation. Instead of specifying a single index, you can specify a start and stop index separated by `:`. This returns the items from index `start` to `stop - 1` (i.e. the `stop` index is excluded).\n",
    "\n",
    "For example if we want to get a list containing the items of the `squares` list at the indices `2`, `3` and `4` we would specify a slice with `start` being `2` and `stop` being `5`."
   ]
  },
  {
   "cell_type": "code",
   "execution_count": 12,
   "id": "d665c296",
   "metadata": {},
   "outputs": [
    {
     "data": {
      "text/plain": [
       "[4, 9, 16]"
      ]
     },
     "execution_count": 12,
     "metadata": {},
     "output_type": "execute_result"
    }
   ],
   "source": [
    "squares[2:5]"
   ]
  },
  {
   "cell_type": "markdown",
   "id": "9332e10b",
   "metadata": {},
   "source": [
    "The reason `stop` is excluded is because the length of the returned list should be equal to `stop - start`:"
   ]
  },
  {
   "cell_type": "code",
   "execution_count": 13,
   "id": "b63f5d72",
   "metadata": {},
   "outputs": [
    {
     "data": {
      "text/plain": [
       "True"
      ]
     },
     "execution_count": 13,
     "metadata": {},
     "output_type": "execute_result"
    }
   ],
   "source": [
    "start = 2\n",
    "stop = 5\n",
    "len(squares[start:stop]) == stop - start"
   ]
  },
  {
   "cell_type": "markdown",
   "id": "513587a8",
   "metadata": {},
   "source": [
    "Remember how we said that lists are mutable? Using the square bracket notation we can not just *access* the item of a list, but also *change* it.\n",
    "\n",
    "For example this is how we could change the item at index `2` to `5`:"
   ]
  },
  {
   "cell_type": "code",
   "execution_count": 14,
   "id": "248d99a5",
   "metadata": {},
   "outputs": [],
   "source": [
    "squares[2] = 5"
   ]
  },
  {
   "cell_type": "markdown",
   "id": "af275341",
   "metadata": {},
   "source": [
    "This is how the new list looks like:"
   ]
  },
  {
   "cell_type": "code",
   "execution_count": 15,
   "id": "b61b6456",
   "metadata": {
    "scrolled": true
   },
   "outputs": [
    {
     "data": {
      "text/plain": [
       "[0, 1, 5, 9, 16]"
      ]
     },
     "execution_count": 15,
     "metadata": {},
     "output_type": "execute_result"
    }
   ],
   "source": [
    "squares"
   ]
  },
  {
   "cell_type": "markdown",
   "id": "08819af9",
   "metadata": {},
   "source": [
    "Since the square of `2` is `4` and not `5` let us quickly change it back before anyone notices:"
   ]
  },
  {
   "cell_type": "code",
   "execution_count": 16,
   "id": "ca3c19b5",
   "metadata": {},
   "outputs": [],
   "source": [
    "squares[2] = 4"
   ]
  },
  {
   "cell_type": "code",
   "execution_count": 17,
   "id": "0a8a49bf",
   "metadata": {},
   "outputs": [
    {
     "data": {
      "text/plain": [
       "[0, 1, 4, 9, 16]"
      ]
     },
     "execution_count": 17,
     "metadata": {},
     "output_type": "execute_result"
    }
   ],
   "source": [
    "squares"
   ]
  },
  {
   "cell_type": "markdown",
   "id": "8d072ec4",
   "metadata": {},
   "source": [
    "Lists are objects and therefore have a whole bunch of useful methods. For example we can *add* a value to the end of a list using the `append` method:"
   ]
  },
  {
   "cell_type": "code",
   "execution_count": 18,
   "id": "3d105473",
   "metadata": {},
   "outputs": [],
   "source": [
    "squares.append(25)"
   ]
  },
  {
   "cell_type": "code",
   "execution_count": 19,
   "id": "5db51b50",
   "metadata": {},
   "outputs": [
    {
     "data": {
      "text/plain": [
       "[0, 1, 4, 9, 16, 25]"
      ]
     },
     "execution_count": 19,
     "metadata": {},
     "output_type": "execute_result"
    }
   ],
   "source": [
    "squares"
   ]
  },
  {
   "cell_type": "markdown",
   "id": "7be6ddd0",
   "metadata": {},
   "source": [
    "We can *insert* a value in any place in the list using the `insert` method. This method takes the *index to insert the value at* and *the value to be inserted*:"
   ]
  },
  {
   "cell_type": "code",
   "execution_count": 20,
   "id": "76a66d2f",
   "metadata": {},
   "outputs": [],
   "source": [
    "# Insert the value 7 at index 3\n",
    "\n",
    "squares.insert(3, 7)"
   ]
  },
  {
   "cell_type": "code",
   "execution_count": 21,
   "id": "3537f294",
   "metadata": {},
   "outputs": [
    {
     "data": {
      "text/plain": [
       "[0, 1, 4, 7, 9, 16, 25]"
      ]
     },
     "execution_count": 21,
     "metadata": {},
     "output_type": "execute_result"
    }
   ],
   "source": [
    "squares"
   ]
  },
  {
   "cell_type": "markdown",
   "id": "7b71d12e",
   "metadata": {},
   "source": [
    "Finally you can delete an index using the `pop` method. This method also returns the deleted item:"
   ]
  },
  {
   "cell_type": "code",
   "execution_count": 22,
   "id": "74f1c433",
   "metadata": {},
   "outputs": [],
   "source": [
    "value = squares.pop(3)"
   ]
  },
  {
   "cell_type": "code",
   "execution_count": 23,
   "id": "7fa27716",
   "metadata": {},
   "outputs": [
    {
     "data": {
      "text/plain": [
       "[0, 1, 4, 9, 16, 25]"
      ]
     },
     "execution_count": 23,
     "metadata": {},
     "output_type": "execute_result"
    }
   ],
   "source": [
    "squares"
   ]
  },
  {
   "cell_type": "code",
   "execution_count": 24,
   "id": "4b162e60",
   "metadata": {},
   "outputs": [
    {
     "data": {
      "text/plain": [
       "7"
      ]
     },
     "execution_count": 24,
     "metadata": {},
     "output_type": "execute_result"
    }
   ],
   "source": [
    "value"
   ]
  },
  {
   "cell_type": "markdown",
   "id": "cbb8ca9d",
   "metadata": {},
   "source": [
    "These methods allow us to *create* lists, *update* items in lists, *insert* items in lists and *remove* items from lists."
   ]
  },
  {
   "cell_type": "markdown",
   "id": "be719e62",
   "metadata": {},
   "source": [
    "## Ranges"
   ]
  },
  {
   "cell_type": "markdown",
   "id": "69abfd91",
   "metadata": {},
   "source": [
    "A range represents an **immutable** (i.e. unchangeable) *sequence of numbers*. You can construct a range using the built-in `range` function. This takes a `start` argument and an `stop` argument which indicate the boundaries of the range:"
   ]
  },
  {
   "cell_type": "code",
   "execution_count": 27,
   "id": "d0bf12ac",
   "metadata": {},
   "outputs": [],
   "source": [
    "my_range = range(0, 4)"
   ]
  },
  {
   "cell_type": "code",
   "execution_count": 28,
   "id": "6da2f5de",
   "metadata": {},
   "outputs": [
    {
     "data": {
      "text/plain": [
       "range"
      ]
     },
     "execution_count": 28,
     "metadata": {},
     "output_type": "execute_result"
    }
   ],
   "source": [
    "type(my_range)"
   ]
  },
  {
   "cell_type": "code",
   "execution_count": 9,
   "id": "c5226e50",
   "metadata": {},
   "outputs": [
    {
     "data": {
      "text/plain": [
       "range(0, 4)"
      ]
     },
     "execution_count": 9,
     "metadata": {},
     "output_type": "execute_result"
    }
   ],
   "source": [
    "my_range"
   ]
  },
  {
   "cell_type": "code",
   "execution_count": 12,
   "id": "879e3d34",
   "metadata": {},
   "outputs": [
    {
     "data": {
      "text/plain": [
       "0"
      ]
     },
     "execution_count": 12,
     "metadata": {},
     "output_type": "execute_result"
    }
   ],
   "source": [
    "my_range.start"
   ]
  },
  {
   "cell_type": "code",
   "execution_count": 13,
   "id": "26eff219",
   "metadata": {},
   "outputs": [
    {
     "data": {
      "text/plain": [
       "4"
      ]
     },
     "execution_count": 13,
     "metadata": {},
     "output_type": "execute_result"
    }
   ],
   "source": [
    "my_range.stop"
   ]
  },
  {
   "cell_type": "markdown",
   "id": "83a02ed2",
   "metadata": {},
   "source": [
    "We can convert a range to a list using the built-in list function:"
   ]
  },
  {
   "cell_type": "code",
   "execution_count": 5,
   "id": "d2ea8c70",
   "metadata": {},
   "outputs": [
    {
     "data": {
      "text/plain": [
       "[0, 1, 2, 3]"
      ]
     },
     "execution_count": 5,
     "metadata": {},
     "output_type": "execute_result"
    }
   ],
   "source": [
    "list(range(0, 4))"
   ]
  },
  {
   "cell_type": "markdown",
   "id": "53f446f9",
   "metadata": {},
   "source": [
    "Note that the range goes from `start` to `stop - 1` (this is similar to slices). Therefore in this case the number `4` is not part of the list. The reason for this is the same as with slices. We want `my_range.stop - my_range.start` to be equal to the length of `my_range`:"
   ]
  },
  {
   "cell_type": "code",
   "execution_count": 14,
   "id": "7a3bbf4f",
   "metadata": {},
   "outputs": [
    {
     "data": {
      "text/plain": [
       "True"
      ]
     },
     "execution_count": 14,
     "metadata": {},
     "output_type": "execute_result"
    }
   ],
   "source": [
    "len(my_range) == my_range.stop - my_range.start"
   ]
  },
  {
   "cell_type": "markdown",
   "id": "6c75be6b",
   "metadata": {},
   "source": [
    "## Tuples"
   ]
  },
  {
   "cell_type": "markdown",
   "id": "73006831",
   "metadata": {},
   "source": [
    "Tuples are **immutable** sequences. You can construct tuples in a similar way as lists, however instead of square brackets `[]` we use regular brackets `()`:"
   ]
  },
  {
   "cell_type": "code",
   "execution_count": 31,
   "id": "b3ae1565",
   "metadata": {},
   "outputs": [],
   "source": [
    "color = (0, 127, 0)"
   ]
  },
  {
   "cell_type": "code",
   "execution_count": 32,
   "id": "7f1f2f72",
   "metadata": {},
   "outputs": [
    {
     "data": {
      "text/plain": [
       "tuple"
      ]
     },
     "execution_count": 32,
     "metadata": {},
     "output_type": "execute_result"
    }
   ],
   "source": [
    "type(color)"
   ]
  },
  {
   "cell_type": "markdown",
   "id": "c0038528",
   "metadata": {},
   "source": [
    "Unlike ranges, tuples don't need to consist of numbers and generally don't need to hold values of the same data type:"
   ]
  },
  {
   "cell_type": "code",
   "execution_count": 34,
   "id": "0824824c",
   "metadata": {},
   "outputs": [],
   "source": [
    "my_tuple = (42, \"flunky\")"
   ]
  },
  {
   "cell_type": "code",
   "execution_count": 35,
   "id": "ada4917e",
   "metadata": {},
   "outputs": [
    {
     "data": {
      "text/plain": [
       "(42, 'flunky')"
      ]
     },
     "execution_count": 35,
     "metadata": {},
     "output_type": "execute_result"
    }
   ],
   "source": [
    "my_tuple"
   ]
  },
  {
   "cell_type": "markdown",
   "id": "816b7c97",
   "metadata": {},
   "source": [
    "We should point out that tuples don't need the regular brackets `()`:"
   ]
  },
  {
   "cell_type": "code",
   "execution_count": 36,
   "id": "36111a1c",
   "metadata": {},
   "outputs": [],
   "source": [
    "my_tuple = 42, \"flunky\""
   ]
  },
  {
   "cell_type": "code",
   "execution_count": 37,
   "id": "f989a876",
   "metadata": {},
   "outputs": [
    {
     "data": {
      "text/plain": [
       "(42, 'flunky')"
      ]
     },
     "execution_count": 37,
     "metadata": {},
     "output_type": "execute_result"
    }
   ],
   "source": [
    "my_tuple"
   ]
  },
  {
   "cell_type": "markdown",
   "id": "edad2142",
   "metadata": {},
   "source": [
    "Note that technically lists can also hold values of the same data type, however this is *not recommended*.\n",
    "\n",
    "Just like with lists, we can access tuple elements by index:"
   ]
  },
  {
   "cell_type": "code",
   "execution_count": 38,
   "id": "89f8c242",
   "metadata": {},
   "outputs": [
    {
     "data": {
      "text/plain": [
       "127"
      ]
     },
     "execution_count": 38,
     "metadata": {},
     "output_type": "execute_result"
    }
   ],
   "source": [
    "color[1]"
   ]
  },
  {
   "cell_type": "markdown",
   "id": "4d7515bf",
   "metadata": {},
   "source": [
    "We can also get the length of tuples using the `len` function:"
   ]
  },
  {
   "cell_type": "code",
   "execution_count": 39,
   "id": "8bb58be3",
   "metadata": {},
   "outputs": [
    {
     "data": {
      "text/plain": [
       "3"
      ]
     },
     "execution_count": 39,
     "metadata": {},
     "output_type": "execute_result"
    }
   ],
   "source": [
    "len(color)"
   ]
  },
  {
   "cell_type": "markdown",
   "id": "12dbcf9d",
   "metadata": {},
   "source": [
    "However because tuples are immutable, you can't change their values:"
   ]
  },
  {
   "cell_type": "code",
   "execution_count": 40,
   "id": "97349b96",
   "metadata": {},
   "outputs": [
    {
     "ename": "TypeError",
     "evalue": "'tuple' object does not support item assignment",
     "output_type": "error",
     "traceback": [
      "\u001b[0;31m---------------------------------------------------------------------------\u001b[0m",
      "\u001b[0;31mTypeError\u001b[0m                                 Traceback (most recent call last)",
      "Cell \u001b[0;32mIn[40], line 1\u001b[0m\n\u001b[0;32m----> 1\u001b[0m \u001b[43mcolor\u001b[49m\u001b[43m[\u001b[49m\u001b[38;5;241;43m1\u001b[39;49m\u001b[43m]\u001b[49m \u001b[38;5;241m=\u001b[39m \u001b[38;5;241m100\u001b[39m\n",
      "\u001b[0;31mTypeError\u001b[0m: 'tuple' object does not support item assignment"
     ]
    }
   ],
   "source": [
    "color[1] = 100"
   ]
  },
  {
   "cell_type": "markdown",
   "id": "f13a3a42",
   "metadata": {},
   "source": [
    "While tuples are useful, they are often *overused*. A very tempting thing to do is to store data in tuples instead of objects. For example, you could do this:"
   ]
  },
  {
   "cell_type": "code",
   "execution_count": 41,
   "id": "cf7ab152",
   "metadata": {},
   "outputs": [],
   "source": [
    "ball = 320, 240, -2, 2"
   ]
  },
  {
   "cell_type": "markdown",
   "id": "76879cd8",
   "metadata": {},
   "source": [
    "Here the first element of the tuple (`ball[0]`) represents the x coordinate of the ball. The second element of the tuple (`ball[1]`) represents the y coordinate of the ball. The third and fourth elements of the tuple represent the speed:"
   ]
  },
  {
   "cell_type": "code",
   "execution_count": 42,
   "id": "a04d7ff1",
   "metadata": {},
   "outputs": [
    {
     "data": {
      "text/plain": [
       "320"
      ]
     },
     "execution_count": 42,
     "metadata": {},
     "output_type": "execute_result"
    }
   ],
   "source": [
    "# Get the x coordinate\n",
    "ball[0]"
   ]
  },
  {
   "cell_type": "code",
   "execution_count": 43,
   "id": "dbfacfbf",
   "metadata": {},
   "outputs": [
    {
     "data": {
      "text/plain": [
       "240"
      ]
     },
     "execution_count": 43,
     "metadata": {},
     "output_type": "execute_result"
    }
   ],
   "source": [
    "# Get the y coordinate\n",
    "ball[1]"
   ]
  },
  {
   "cell_type": "code",
   "execution_count": 44,
   "id": "54ee0b20",
   "metadata": {},
   "outputs": [
    {
     "data": {
      "text/plain": [
       "-2"
      ]
     },
     "execution_count": 44,
     "metadata": {},
     "output_type": "execute_result"
    }
   ],
   "source": [
    "# Get the speed (dx)\n",
    "ball[2]"
   ]
  },
  {
   "cell_type": "code",
   "execution_count": 45,
   "id": "fb92d458",
   "metadata": {},
   "outputs": [],
   "source": [
    "# Get the speed (dy)"
   ]
  },
  {
   "cell_type": "code",
   "execution_count": 46,
   "id": "2b99f155",
   "metadata": {},
   "outputs": [
    {
     "data": {
      "text/plain": [
       "2"
      ]
     },
     "execution_count": 46,
     "metadata": {},
     "output_type": "execute_result"
    }
   ],
   "source": [
    "ball[3]"
   ]
  },
  {
   "cell_type": "markdown",
   "id": "22da38ad",
   "metadata": {},
   "source": [
    "This is a *bad* idea. The reason is quite simple - representing complex data in tuples makes code less readable. It is totally unclear what `ball[0]` is supposed to be if we just look at the respective line and don't know the structure of the tuple. However the meaning of `ball.x` is totally clear even if we have no idea what else a ball can do - `ball.x` gives us the x coordinate of the ball.\n",
    "\n",
    "Generally speaking you should only use tuples for *very simple* data which contains values that should essentially always move together. Classic examples for valid tuple uses are things like RGB colors, video resolutions and positions:"
   ]
  },
  {
   "cell_type": "code",
   "execution_count": 48,
   "id": "aa0b46b0",
   "metadata": {},
   "outputs": [],
   "source": [
    "rgb_color = 0, 127, 0  # the color green\n",
    "screen_dimension = 1280, 720  # the 720p video resolution\n",
    "position = 24, 25  # a position"
   ]
  },
  {
   "cell_type": "markdown",
   "id": "6aa187ef",
   "metadata": {},
   "source": [
    "A particularly important use case of tuples is that they allow you to return *multiple values* from a function at the same time:"
   ]
  },
  {
   "cell_type": "code",
   "execution_count": 50,
   "id": "db181a6a",
   "metadata": {},
   "outputs": [],
   "source": [
    "def get_color():\n",
    "    return 0, 127, 0\n",
    "\n",
    "my_color = get_color()"
   ]
  },
  {
   "cell_type": "code",
   "execution_count": 51,
   "id": "4cc39cbf",
   "metadata": {},
   "outputs": [
    {
     "data": {
      "text/plain": [
       "(0, 127, 0)"
      ]
     },
     "execution_count": 51,
     "metadata": {},
     "output_type": "execute_result"
    }
   ],
   "source": [
    "my_color"
   ]
  },
  {
   "cell_type": "markdown",
   "id": "8981dc18",
   "metadata": {},
   "source": [
    "## Dictionaries"
   ]
  },
  {
   "cell_type": "markdown",
   "id": "3c493a9e",
   "metadata": {},
   "source": [
    "**Dictionaries** are data structures that *map (hashable) keys to values*.\n",
    "\n",
    "We can define a dictionary using the `{}` bracket notation and separating key-value pairs with commas. For example here is how we could define a dictionary which maps countries to their capitals:"
   ]
  },
  {
   "cell_type": "code",
   "execution_count": 53,
   "id": "7ee3f3ed",
   "metadata": {},
   "outputs": [],
   "source": [
    "capitals = {\"Germany\": \"Berlin\", \"France\": \"Paris\", \"Spain\": \"Madrid\"}"
   ]
  },
  {
   "cell_type": "code",
   "execution_count": 54,
   "id": "f32ae539",
   "metadata": {},
   "outputs": [
    {
     "data": {
      "text/plain": [
       "{'Germany': 'Berlin', 'France': 'Paris', 'Spain': 'Madrid'}"
      ]
     },
     "execution_count": 54,
     "metadata": {},
     "output_type": "execute_result"
    }
   ],
   "source": [
    "capitals"
   ]
  },
  {
   "cell_type": "markdown",
   "id": "8e3a7d2f",
   "metadata": {},
   "source": [
    "Another example is a dictionary which maps players to their ratings:"
   ]
  },
  {
   "cell_type": "code",
   "execution_count": 55,
   "id": "e8894052",
   "metadata": {},
   "outputs": [],
   "source": [
    "ratings = {\"Alex\": 1500, \"Michael\": 1400, \"John\": 1000, \"Max\": 1200}"
   ]
  },
  {
   "cell_type": "markdown",
   "id": "02a83f54",
   "metadata": {},
   "source": [
    "Unlike with lists, we don't access dictionary values by indexes. Instead we access the values by their *keys*. For example if we want to access the capital of Germany, we provide the key `\"Germany\"` to our dictionary:"
   ]
  },
  {
   "cell_type": "code",
   "execution_count": 58,
   "id": "a56f65d5",
   "metadata": {},
   "outputs": [
    {
     "data": {
      "text/plain": [
       "'Berlin'"
      ]
     },
     "execution_count": 58,
     "metadata": {},
     "output_type": "execute_result"
    }
   ],
   "source": [
    "capitals[\"Germany\"]"
   ]
  },
  {
   "cell_type": "markdown",
   "id": "8945ff43",
   "metadata": {},
   "source": [
    "We could access the rating of `\"John\"` in a similar manner:"
   ]
  },
  {
   "cell_type": "code",
   "execution_count": 60,
   "id": "bf81604a",
   "metadata": {},
   "outputs": [
    {
     "data": {
      "text/plain": [
       "1000"
      ]
     },
     "execution_count": 60,
     "metadata": {},
     "output_type": "execute_result"
    }
   ],
   "source": [
    "ratings[\"John\"]"
   ]
  },
  {
   "cell_type": "markdown",
   "id": "9d09b0bf",
   "metadata": {},
   "source": [
    "Just like with lists, we can add values to a dictionary. To do that, we need to specify both the key and the value:"
   ]
  },
  {
   "cell_type": "code",
   "execution_count": 66,
   "id": "944ee15f",
   "metadata": {},
   "outputs": [],
   "source": [
    "capitals[\"Italy\"] = \"Rome\""
   ]
  },
  {
   "cell_type": "code",
   "execution_count": 67,
   "id": "83dd64df",
   "metadata": {},
   "outputs": [
    {
     "data": {
      "text/plain": [
       "{'Germany': 'Berlin', 'France': 'Paris', 'Spain': 'Madrid', 'Italy': 'Rome'}"
      ]
     },
     "execution_count": 67,
     "metadata": {},
     "output_type": "execute_result"
    }
   ],
   "source": [
    "capitals"
   ]
  },
  {
   "cell_type": "markdown",
   "id": "e338a648",
   "metadata": {},
   "source": [
    "We can change the value of an *existing key* using the same notation:"
   ]
  },
  {
   "cell_type": "code",
   "execution_count": 48,
   "id": "40402b82",
   "metadata": {},
   "outputs": [],
   "source": [
    "capitals[\"Germany\"] = \"Munich\""
   ]
  },
  {
   "cell_type": "markdown",
   "id": "13dae232",
   "metadata": {},
   "source": [
    "Let's quickly change it back before Berlin gets mad:"
   ]
  },
  {
   "cell_type": "code",
   "execution_count": 50,
   "id": "c1cf3a8f",
   "metadata": {},
   "outputs": [],
   "source": [
    "capitals[\"Germany\"] = \"Berlin\""
   ]
  },
  {
   "cell_type": "markdown",
   "id": "e4917084",
   "metadata": {},
   "source": [
    "We can *delete* a value by its key using the `pop` method:"
   ]
  },
  {
   "cell_type": "code",
   "execution_count": 68,
   "id": "a0b24671",
   "metadata": {},
   "outputs": [],
   "source": [
    "value = capitals.pop(\"Italy\")"
   ]
  },
  {
   "cell_type": "code",
   "execution_count": 70,
   "id": "e0dcd410",
   "metadata": {},
   "outputs": [
    {
     "data": {
      "text/plain": [
       "{'Germany': 'Berlin', 'France': 'Paris', 'Spain': 'Madrid'}"
      ]
     },
     "execution_count": 70,
     "metadata": {},
     "output_type": "execute_result"
    }
   ],
   "source": [
    "capitals"
   ]
  },
  {
   "cell_type": "code",
   "execution_count": 71,
   "id": "f3ca58b1",
   "metadata": {},
   "outputs": [
    {
     "data": {
      "text/plain": [
       "'Rome'"
      ]
     },
     "execution_count": 71,
     "metadata": {},
     "output_type": "execute_result"
    }
   ],
   "source": [
    "value"
   ]
  },
  {
   "cell_type": "markdown",
   "id": "aa8c7e1f",
   "metadata": {},
   "source": [
    "Dictionaries are useful for when you need to store values and access them using other values. Examples are ratings of players, capitals of countries, ages of people etc."
   ]
  }
 ],
 "metadata": {
  "kernelspec": {
   "display_name": "Python 3 (ipykernel)",
   "language": "python",
   "name": "python3"
  },
  "language_info": {
   "codemirror_mode": {
    "name": "ipython",
    "version": 3
   },
   "file_extension": ".py",
   "mimetype": "text/x-python",
   "name": "python",
   "nbconvert_exporter": "python",
   "pygments_lexer": "ipython3",
   "version": "3.10.6"
  }
 },
 "nbformat": 4,
 "nbformat_minor": 5
}
