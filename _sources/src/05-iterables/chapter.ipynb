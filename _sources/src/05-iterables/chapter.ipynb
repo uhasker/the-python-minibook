{
 "cells": [
  {
   "cell_type": "markdown",
   "id": "d2eb28d6",
   "metadata": {},
   "source": [
    "# Chapter 5. Iterables"
   ]
  },
  {
   "cell_type": "markdown",
   "id": "88025885",
   "metadata": {},
   "source": [
    "An **iterable** is a data structure that allows you to *store multiple items in a single variable*. Put more formally, an iterable object is capable of returning its members one after another.\n",
    "\n",
    "You already saw an important iterable - the string. There are many more iterables in Python - but in this chapter we will only concern ourselves with the most important ones - lists, ranges, tuples and dictionaries. The first three (i.e. lists, ranges and tuples) are special iterables called **sequences**. Sequences are iterables which support access using a numerical index (we will see what this means in a second)."
   ]
  },
  {
   "cell_type": "markdown",
   "id": "0193260f",
   "metadata": {},
   "source": [
    "## Lists"
   ]
  },
  {
   "cell_type": "markdown",
   "id": "3e8be85c",
   "metadata": {},
   "source": [
    "Probably the most important iterable in Python is the **list**. Lists are **mutable** sequences, i.e. sequences whose contents can be changed. You can create a list using square brackets `[]`. Individual list items have to be separated with commas:"
   ]
  },
  {
   "cell_type": "code",
   "execution_count": null,
   "id": "c2914602",
   "metadata": {},
   "outputs": [],
   "source": [
    "squares = [0, 1, 4, 9, 16]"
   ]
  },
  {
   "cell_type": "code",
   "execution_count": null,
   "id": "44c05e41",
   "metadata": {},
   "outputs": [],
   "source": [
    "squares"
   ]
  },
  {
   "cell_type": "code",
   "execution_count": null,
   "id": "51bbcf1c",
   "metadata": {},
   "outputs": [],
   "source": [
    "type(squares)"
   ]
  },
  {
   "cell_type": "markdown",
   "id": "cf24d627",
   "metadata": {},
   "source": [
    "Every item in a list can be accessed by its index:\n",
    "\n",
    "![](images/list.png)\n",
    "\n",
    "Note that indices start with `0` and *not* with `1`. Therefore, if you want to access the first item of a list, you need to access the item with index `0`. This means that in the case of the `squares` list the item with index `1` is `1`, the item with index `2` is `4`, the item with index `3` is `9` etc.\n",
    "\n",
    "You can access an item of a list by its index using the square bracket notation. For example, this how you would access the item of the `squares` list at index `2`:"
   ]
  },
  {
   "cell_type": "code",
   "execution_count": null,
   "id": "be80b4a0",
   "metadata": {},
   "outputs": [],
   "source": [
    "squares[2]"
   ]
  },
  {
   "cell_type": "markdown",
   "id": "06ce08f4",
   "metadata": {},
   "source": [
    "Let's access every item in the `squares` list using its index:"
   ]
  },
  {
   "cell_type": "code",
   "execution_count": null,
   "id": "faf90aa3",
   "metadata": {},
   "outputs": [],
   "source": [
    "squares[0]"
   ]
  },
  {
   "cell_type": "code",
   "execution_count": null,
   "id": "0d97d43b",
   "metadata": {},
   "outputs": [],
   "source": [
    "squares[1]"
   ]
  },
  {
   "cell_type": "code",
   "execution_count": null,
   "id": "a4dedd30",
   "metadata": {},
   "outputs": [],
   "source": [
    "squares[2]"
   ]
  },
  {
   "cell_type": "code",
   "execution_count": null,
   "id": "06bbd032",
   "metadata": {},
   "outputs": [],
   "source": [
    "squares[3]"
   ]
  },
  {
   "cell_type": "code",
   "execution_count": null,
   "id": "096b94aa",
   "metadata": {},
   "outputs": [],
   "source": [
    "squares[4]"
   ]
  },
  {
   "cell_type": "markdown",
   "id": "c3a4337a",
   "metadata": {},
   "source": [
    "What happens if we try to access the item by an index that doesn't exist? We get an `IndexError`:"
   ]
  },
  {
   "cell_type": "code",
   "execution_count": null,
   "id": "78a53dc9",
   "metadata": {},
   "outputs": [],
   "source": [
    "squares[5]"
   ]
  },
  {
   "cell_type": "markdown",
   "id": "3f9a1361",
   "metadata": {},
   "source": [
    "Generally speaking, the indices of the list range from `0` until the length of the list *minus 1*.\n",
    "\n",
    "Speaking of the length of the list - we can get it using the `len` function:"
   ]
  },
  {
   "cell_type": "code",
   "execution_count": null,
   "id": "5aa7b1b1",
   "metadata": {},
   "outputs": [],
   "source": [
    "len(squares)"
   ]
  },
  {
   "cell_type": "markdown",
   "id": "748acecd",
   "metadata": {},
   "source": [
    "We can also obtain multiple items of a list using the so-called slice notation. Instead of specifying a single index, you can specify a start and stop index separated by the colon symbol `:`. This returns all the items from index `start` to the index `stop - 1` (i.e. the `stop` index is excluded).\n",
    "\n",
    "For example, if we want to get a list containing the items of the `squares` list at the indices `2`, `3` and `4` we would specify a slice with `start` being `2` and `stop` being `5`."
   ]
  },
  {
   "cell_type": "code",
   "execution_count": null,
   "id": "d665c296",
   "metadata": {},
   "outputs": [],
   "source": [
    "squares[2:5]"
   ]
  },
  {
   "cell_type": "markdown",
   "id": "9332e10b",
   "metadata": {},
   "source": [
    "The reason `stop` is excluded is because the length of the returned list should be equal to `stop - start`:"
   ]
  },
  {
   "cell_type": "code",
   "execution_count": null,
   "id": "b63f5d72",
   "metadata": {},
   "outputs": [],
   "source": [
    "start = 2\n",
    "stop = 5\n",
    "len(squares[start:stop]) == stop - start"
   ]
  },
  {
   "cell_type": "markdown",
   "id": "b60edd01",
   "metadata": {},
   "source": [
    "If we specify a `stop` index that is outside the list, slicing still works. All indices beyond the `stop` index are simply ignored:"
   ]
  },
  {
   "cell_type": "code",
   "execution_count": null,
   "id": "467c3686",
   "metadata": {},
   "outputs": [],
   "source": [
    "squares[2:27]"
   ]
  },
  {
   "cell_type": "markdown",
   "id": "7b3a9e90",
   "metadata": {},
   "source": [
    "We can omit the `start` index if we want to start at the beginning of the list:"
   ]
  },
  {
   "cell_type": "code",
   "execution_count": null,
   "id": "c86a38c5",
   "metadata": {},
   "outputs": [],
   "source": [
    "squares[:3]"
   ]
  },
  {
   "cell_type": "markdown",
   "id": "b0a29ab4",
   "metadata": {},
   "source": [
    "We can omit the `stop` index as well if we want to get all elements until the end of the list:"
   ]
  },
  {
   "cell_type": "code",
   "execution_count": null,
   "id": "1c0c7128",
   "metadata": {},
   "outputs": [],
   "source": [
    "squares[3:]"
   ]
  },
  {
   "cell_type": "markdown",
   "id": "513587a8",
   "metadata": {},
   "source": [
    "Remember how we said that lists are mutable? Using the square bracket notation we can not just *access* the item of a list, but also *change* it.\n",
    "\n",
    "For example this is how we could change the item at index `2` to have a value of `5`:"
   ]
  },
  {
   "cell_type": "code",
   "execution_count": null,
   "id": "248d99a5",
   "metadata": {},
   "outputs": [],
   "source": [
    "squares[2] = 5"
   ]
  },
  {
   "cell_type": "markdown",
   "id": "af275341",
   "metadata": {},
   "source": [
    "This is how the new list looks like:"
   ]
  },
  {
   "cell_type": "code",
   "execution_count": null,
   "id": "b61b6456",
   "metadata": {},
   "outputs": [],
   "source": [
    "squares"
   ]
  },
  {
   "cell_type": "markdown",
   "id": "08819af9",
   "metadata": {},
   "source": [
    "Since the square of `2` is `4` and not `5` let us quickly change it back before anyone notices:"
   ]
  },
  {
   "cell_type": "code",
   "execution_count": null,
   "id": "ca3c19b5",
   "metadata": {},
   "outputs": [],
   "source": [
    "squares[2] = 4"
   ]
  },
  {
   "cell_type": "code",
   "execution_count": null,
   "id": "0a8a49bf",
   "metadata": {},
   "outputs": [],
   "source": [
    "squares"
   ]
  },
  {
   "cell_type": "markdown",
   "id": "8d072ec4",
   "metadata": {},
   "source": [
    "Lists are objects and therefore have a whole bunch of useful methods. For example we can *append* a value to the end of a list using the appropriately named `append` method:"
   ]
  },
  {
   "cell_type": "code",
   "execution_count": null,
   "id": "3d105473",
   "metadata": {},
   "outputs": [],
   "source": [
    "squares.append(25)"
   ]
  },
  {
   "cell_type": "code",
   "execution_count": null,
   "id": "5db51b50",
   "metadata": {},
   "outputs": [],
   "source": [
    "squares"
   ]
  },
  {
   "cell_type": "markdown",
   "id": "7be6ddd0",
   "metadata": {},
   "source": [
    "We can *insert* a value at any place in the list using the `insert` method. This method takes the *index to insert the value at* and *the value to be inserted*.\n",
    "\n",
    "Here is how we would insert the the value `7` at index `3` of the `squares` list:"
   ]
  },
  {
   "cell_type": "code",
   "execution_count": null,
   "id": "76a66d2f",
   "metadata": {},
   "outputs": [],
   "source": [
    "squares.insert(3, 7)"
   ]
  },
  {
   "cell_type": "code",
   "execution_count": null,
   "id": "3537f294",
   "metadata": {},
   "outputs": [],
   "source": [
    "squares"
   ]
  },
  {
   "cell_type": "markdown",
   "id": "7b71d12e",
   "metadata": {},
   "source": [
    "Finally, you can delete an index using the `pop` method. This method also returns the deleted item:"
   ]
  },
  {
   "cell_type": "code",
   "execution_count": null,
   "id": "74f1c433",
   "metadata": {},
   "outputs": [],
   "source": [
    "value = squares.pop(3)"
   ]
  },
  {
   "cell_type": "code",
   "execution_count": null,
   "id": "7fa27716",
   "metadata": {},
   "outputs": [],
   "source": [
    "squares"
   ]
  },
  {
   "cell_type": "code",
   "execution_count": null,
   "id": "4b162e60",
   "metadata": {},
   "outputs": [],
   "source": [
    "value"
   ]
  },
  {
   "cell_type": "markdown",
   "id": "cbb8ca9d",
   "metadata": {},
   "source": [
    "These methods allow us to *create* lists, *update* items in lists, *insert* items in lists and *remove* items from lists.\n",
    "\n",
    "Additionally, we can *concatenate* lists using the `+` operator:"
   ]
  },
  {
   "cell_type": "code",
   "execution_count": null,
   "id": "e8167636",
   "metadata": {},
   "outputs": [],
   "source": [
    "[1, 2, 3] + [4, 5, 6]"
   ]
  },
  {
   "cell_type": "markdown",
   "id": "18fd4883",
   "metadata": {},
   "source": [
    "We can also *extend* lists in place using the `+=` operator or the `extend` method:"
   ]
  },
  {
   "cell_type": "code",
   "execution_count": null,
   "id": "a51db35a",
   "metadata": {},
   "outputs": [],
   "source": [
    "list1 = [1, 2, 3]\n",
    "list1 += [4, 5, 6]"
   ]
  },
  {
   "cell_type": "code",
   "execution_count": null,
   "id": "ad2232be",
   "metadata": {},
   "outputs": [],
   "source": [
    "list1"
   ]
  },
  {
   "cell_type": "code",
   "execution_count": null,
   "id": "ab527e37",
   "metadata": {},
   "outputs": [],
   "source": [
    "list2 = [1, 2, 3]\n",
    "list2.extend([4, 5, 6])"
   ]
  },
  {
   "cell_type": "code",
   "execution_count": null,
   "id": "4a64f93a",
   "metadata": {},
   "outputs": [],
   "source": [
    "list2"
   ]
  },
  {
   "cell_type": "markdown",
   "id": "be719e62",
   "metadata": {},
   "source": [
    "## Ranges"
   ]
  },
  {
   "cell_type": "markdown",
   "id": "69abfd91",
   "metadata": {},
   "source": [
    "A range represents an **immutable** (i.e. unchangeable) *sequence of numbers*. You can construct a range using the built-in `range` function. This takes a `start` argument and an `stop` argument which indicate the boundaries of the range:"
   ]
  },
  {
   "cell_type": "code",
   "execution_count": null,
   "id": "d0bf12ac",
   "metadata": {},
   "outputs": [],
   "source": [
    "my_range = range(0, 4)"
   ]
  },
  {
   "cell_type": "code",
   "execution_count": null,
   "id": "6da2f5de",
   "metadata": {},
   "outputs": [],
   "source": [
    "type(my_range)"
   ]
  },
  {
   "cell_type": "code",
   "execution_count": null,
   "id": "c5226e50",
   "metadata": {},
   "outputs": [],
   "source": [
    "my_range"
   ]
  },
  {
   "cell_type": "code",
   "execution_count": null,
   "id": "879e3d34",
   "metadata": {},
   "outputs": [],
   "source": [
    "my_range.start"
   ]
  },
  {
   "cell_type": "code",
   "execution_count": null,
   "id": "26eff219",
   "metadata": {},
   "outputs": [],
   "source": [
    "my_range.stop"
   ]
  },
  {
   "cell_type": "markdown",
   "id": "83a02ed2",
   "metadata": {},
   "source": [
    "We can convert a range to a list using the built-in list function:"
   ]
  },
  {
   "cell_type": "code",
   "execution_count": null,
   "id": "d2ea8c70",
   "metadata": {},
   "outputs": [],
   "source": [
    "list(range(0, 4))"
   ]
  },
  {
   "cell_type": "markdown",
   "id": "53f446f9",
   "metadata": {},
   "source": [
    "Note that the range goes from `start` to `stop - 1` (this is similar to slices). Therefore in this case the number `4` is not part of the resulting list.\n",
    "\n",
    "The reasoning behind this is exactly the same as with slices. We want `my_range.stop - my_range.start` to be equal to the length of `my_range`:"
   ]
  },
  {
   "cell_type": "code",
   "execution_count": null,
   "id": "7a3bbf4f",
   "metadata": {},
   "outputs": [],
   "source": [
    "len(my_range) == my_range.stop - my_range.start"
   ]
  },
  {
   "cell_type": "markdown",
   "id": "eeae06ca-f7a9-42de-9838-9a056d345851",
   "metadata": {},
   "source": [
    "It is also possible to call `range` with a single value, in which case that value is interpreted as the `stop` value and the `start` value is set to 0:"
   ]
  },
  {
   "cell_type": "code",
   "execution_count": null,
   "id": "61aec950-d3cf-4249-b5c0-4c2d6c9aa28b",
   "metadata": {},
   "outputs": [],
   "source": [
    "range(5)"
   ]
  },
  {
   "cell_type": "code",
   "execution_count": null,
   "id": "a420c58e-c841-4eac-a2e8-cbcec2caa503",
   "metadata": {},
   "outputs": [],
   "source": [
    "list(range(5))"
   ]
  },
  {
   "cell_type": "markdown",
   "id": "6c75be6b",
   "metadata": {},
   "source": [
    "## Tuples"
   ]
  },
  {
   "cell_type": "markdown",
   "id": "73006831",
   "metadata": {},
   "source": [
    "Tuples are **immutable** sequences. We can construct tuples in a similar way as lists, just without the square brackets `[]`:"
   ]
  },
  {
   "cell_type": "code",
   "execution_count": null,
   "id": "b3ae1565",
   "metadata": {},
   "outputs": [],
   "source": [
    "color = 0, 127, 0"
   ]
  },
  {
   "cell_type": "code",
   "execution_count": null,
   "id": "7f1f2f72",
   "metadata": {},
   "outputs": [],
   "source": [
    "type(color)"
   ]
  },
  {
   "cell_type": "markdown",
   "id": "c0038528",
   "metadata": {},
   "source": [
    "Unlike ranges, tuples don't need to consist of numbers and generally don't need to hold values of the same data type:"
   ]
  },
  {
   "cell_type": "code",
   "execution_count": null,
   "id": "0824824c",
   "metadata": {},
   "outputs": [],
   "source": [
    "my_tuple = 42, \"flunky\""
   ]
  },
  {
   "cell_type": "code",
   "execution_count": null,
   "id": "ada4917e",
   "metadata": {},
   "outputs": [],
   "source": [
    "my_tuple"
   ]
  },
  {
   "cell_type": "markdown",
   "id": "edad2142",
   "metadata": {},
   "source": [
    "Note that technically lists can also hold values of different data types, however usually lists are used to *hold values of the same data type*.\n",
    "\n",
    "We should point out that we can add parentheses `()` around the tuple items for better readability:"
   ]
  },
  {
   "cell_type": "code",
   "execution_count": null,
   "id": "d18e9f3f",
   "metadata": {},
   "outputs": [],
   "source": [
    "my_tuple = (42, \"flunky\")"
   ]
  },
  {
   "cell_type": "code",
   "execution_count": null,
   "id": "3388de6b",
   "metadata": {},
   "outputs": [],
   "source": [
    "my_tuple"
   ]
  },
  {
   "cell_type": "markdown",
   "id": "5d51d121",
   "metadata": {},
   "source": [
    "Sometimes the parentheses are necessary, for example when we try to create an empty tuple:"
   ]
  },
  {
   "cell_type": "code",
   "execution_count": null,
   "id": "5ede7188",
   "metadata": {},
   "outputs": [],
   "source": [
    "empty_tuple = ()"
   ]
  },
  {
   "cell_type": "code",
   "execution_count": null,
   "id": "16efc5c3",
   "metadata": {},
   "outputs": [],
   "source": [
    "type(empty_tuple)"
   ]
  },
  {
   "cell_type": "code",
   "execution_count": null,
   "id": "efaff8a0",
   "metadata": {},
   "outputs": [],
   "source": [
    "empty_tuple"
   ]
  },
  {
   "cell_type": "markdown",
   "id": "13d94287",
   "metadata": {},
   "source": [
    "The parentheses are also necessary if we want to pass a tuple as an argument to a function:"
   ]
  },
  {
   "cell_type": "code",
   "execution_count": null,
   "id": "43167176",
   "metadata": {},
   "outputs": [],
   "source": [
    "def print_tuple(my_tuple):\n",
    "    print(my_tuple)"
   ]
  },
  {
   "cell_type": "code",
   "execution_count": null,
   "id": "2088f9ed",
   "metadata": {},
   "outputs": [],
   "source": [
    "print_tuple((3, 2))"
   ]
  },
  {
   "cell_type": "markdown",
   "id": "49a8e8db",
   "metadata": {},
   "source": [
    "If we try to leave the parentheses out, Python will think that we are passing two arguments to the function and yell at us:"
   ]
  },
  {
   "cell_type": "code",
   "execution_count": null,
   "id": "2059e375",
   "metadata": {},
   "outputs": [],
   "source": [
    "print_tuple(3, 2)"
   ]
  },
  {
   "cell_type": "markdown",
   "id": "999fd8bc",
   "metadata": {},
   "source": [
    "Just like with lists, we can access tuple elements by index:"
   ]
  },
  {
   "cell_type": "code",
   "execution_count": null,
   "id": "89f8c242",
   "metadata": {},
   "outputs": [],
   "source": [
    "color[1]"
   ]
  },
  {
   "cell_type": "markdown",
   "id": "4d7515bf",
   "metadata": {},
   "source": [
    "We can also get the length of a tuple using the `len` function:"
   ]
  },
  {
   "cell_type": "code",
   "execution_count": null,
   "id": "8bb58be3",
   "metadata": {},
   "outputs": [],
   "source": [
    "len(color)"
   ]
  },
  {
   "cell_type": "markdown",
   "id": "12dbcf9d",
   "metadata": {},
   "source": [
    "However because tuples are immutable, we cannot change their values:"
   ]
  },
  {
   "cell_type": "code",
   "execution_count": null,
   "id": "511fdf60",
   "metadata": {},
   "outputs": [],
   "source": [
    "color[1] = 100"
   ]
  },
  {
   "cell_type": "markdown",
   "id": "f13a3a42",
   "metadata": {},
   "source": [
    "While tuples are useful, they are often *overused*. A very tempting thing to do is to store data in tuples instead of objects. For example, you could do this:"
   ]
  },
  {
   "cell_type": "code",
   "execution_count": null,
   "id": "cf7ab152",
   "metadata": {},
   "outputs": [],
   "source": [
    "ball = 10, 8"
   ]
  },
  {
   "cell_type": "markdown",
   "id": "76879cd8",
   "metadata": {},
   "source": [
    "Here the first element of the tuple (`ball[0]`) represents the position of the ball. The second element of the tuple (`ball[1]`) represents the speed of the ball:"
   ]
  },
  {
   "cell_type": "code",
   "execution_count": null,
   "id": "a04d7ff1",
   "metadata": {},
   "outputs": [],
   "source": [
    "# Get the position of the ball\n",
    "ball[0]"
   ]
  },
  {
   "cell_type": "code",
   "execution_count": null,
   "id": "dbfacfbf",
   "metadata": {},
   "outputs": [],
   "source": [
    "# Get the speed of the ball\n",
    "ball[1]"
   ]
  },
  {
   "cell_type": "markdown",
   "id": "22da38ad",
   "metadata": {},
   "source": [
    "This is a *bad* idea. The reason for that is quite simple - representing complex data structures with tuples makes our code less readable. It is totally unclear what `ball[0]` is supposed to be if we just look at the respective line and don't know the structure of the tuple. However the meaning of `ball.pos` is totally clear even if we have no idea what else a ball can do - `ball.pos` gives us the position of the ball.\n",
    "\n",
    "Generally speaking you should only use tuples for *very simple* data which contains values that always belong together. Standard examples for valid tuple uses are things like RGB colors, video resolutions and positions:"
   ]
  },
  {
   "cell_type": "code",
   "execution_count": null,
   "id": "aa0b46b0",
   "metadata": {},
   "outputs": [],
   "source": [
    "rgb_color = 0, 127, 0  # the color green\n",
    "video_resolution = 1280, 720  # the 720p video resolution\n",
    "position = 24, 25  # a position in 2D"
   ]
  },
  {
   "cell_type": "markdown",
   "id": "6aa187ef",
   "metadata": {},
   "source": [
    "Remember how we returned multiple values from functions in chapter 3? Well, that *was a lie*. In reality we returned a single value that happened to be a tuple:"
   ]
  },
  {
   "cell_type": "code",
   "execution_count": null,
   "id": "db181a6a",
   "metadata": {},
   "outputs": [],
   "source": [
    "def get_color():\n",
    "    return 0, 127, 0\n",
    "\n",
    "my_color = get_color()"
   ]
  },
  {
   "cell_type": "code",
   "execution_count": null,
   "id": "4cc39cbf",
   "metadata": {},
   "outputs": [],
   "source": [
    "my_color"
   ]
  },
  {
   "cell_type": "code",
   "execution_count": null,
   "id": "b24847a0",
   "metadata": {},
   "outputs": [],
   "source": [
    "type(my_color)"
   ]
  },
  {
   "cell_type": "markdown",
   "id": "ff61e793",
   "metadata": {},
   "source": [
    "However because we can **unpack** tuples, we were able to pretend that we returned multiple values from a function:"
   ]
  },
  {
   "cell_type": "code",
   "execution_count": null,
   "id": "d3bc6493",
   "metadata": {},
   "outputs": [],
   "source": [
    "r, g, b = my_color"
   ]
  },
  {
   "cell_type": "code",
   "execution_count": null,
   "id": "0c343d27",
   "metadata": {},
   "outputs": [],
   "source": [
    "r"
   ]
  },
  {
   "cell_type": "code",
   "execution_count": null,
   "id": "379e7770",
   "metadata": {},
   "outputs": [],
   "source": [
    "g"
   ]
  },
  {
   "cell_type": "code",
   "execution_count": null,
   "id": "c11f7774",
   "metadata": {},
   "outputs": [],
   "source": [
    "b"
   ]
  },
  {
   "cell_type": "markdown",
   "id": "a523c664",
   "metadata": {},
   "source": [
    "This is what allowed us to write things like:"
   ]
  },
  {
   "cell_type": "code",
   "execution_count": null,
   "id": "57a44650",
   "metadata": {},
   "outputs": [],
   "source": [
    "r, g, b = get_color()"
   ]
  },
  {
   "cell_type": "markdown",
   "id": "8981dc18",
   "metadata": {},
   "source": [
    "## Dictionaries"
   ]
  },
  {
   "cell_type": "markdown",
   "id": "3c493a9e",
   "metadata": {},
   "source": [
    "**Dictionaries** are data structures that *map (immutable) keys to values*.\n",
    "\n",
    "We can define a dictionary using the `{}` bracket notation. The key-value pairs must be separated with commas. For example, here is how we could define a dictionary which maps countries to their capitals:"
   ]
  },
  {
   "cell_type": "code",
   "execution_count": null,
   "id": "7ee3f3ed",
   "metadata": {},
   "outputs": [],
   "source": [
    "capitals = {\"Germany\": \"Berlin\", \"France\": \"Paris\", \"Spain\": \"Madrid\"}"
   ]
  },
  {
   "cell_type": "code",
   "execution_count": null,
   "id": "f32ae539",
   "metadata": {},
   "outputs": [],
   "source": [
    "capitals"
   ]
  },
  {
   "cell_type": "markdown",
   "id": "8e3a7d2f",
   "metadata": {},
   "source": [
    "Another example is a dictionary which maps players to their ratings:"
   ]
  },
  {
   "cell_type": "code",
   "execution_count": null,
   "id": "e8894052",
   "metadata": {},
   "outputs": [],
   "source": [
    "ratings = {\"Alex\": 1500, \"Michael\": 1400, \"John\": 1000, \"Max\": 1200}"
   ]
  },
  {
   "cell_type": "markdown",
   "id": "02a83f54",
   "metadata": {},
   "source": [
    "Unlike with lists, we don't access dictionary values by indexes. Instead we access the values by their *keys*.\n",
    "\n",
    "For example if we want to access the capital of Germany, we provide the key `\"Germany\"` to our dictionary:"
   ]
  },
  {
   "cell_type": "code",
   "execution_count": null,
   "id": "a56f65d5",
   "metadata": {},
   "outputs": [],
   "source": [
    "capitals[\"Germany\"]"
   ]
  },
  {
   "cell_type": "markdown",
   "id": "8945ff43",
   "metadata": {},
   "source": [
    "We could access the rating of `\"John\"` in a similar manner:"
   ]
  },
  {
   "cell_type": "code",
   "execution_count": null,
   "id": "bf81604a",
   "metadata": {},
   "outputs": [],
   "source": [
    "ratings[\"John\"]"
   ]
  },
  {
   "cell_type": "markdown",
   "id": "9d09b0bf",
   "metadata": {},
   "source": [
    "Just like with lists, we can add values to a dictionary. To do that, we need to specify both the key and the value of the new key-value pair:"
   ]
  },
  {
   "cell_type": "code",
   "execution_count": null,
   "id": "944ee15f",
   "metadata": {},
   "outputs": [],
   "source": [
    "capitals[\"Italy\"] = \"Rome\""
   ]
  },
  {
   "cell_type": "code",
   "execution_count": null,
   "id": "83dd64df",
   "metadata": {},
   "outputs": [],
   "source": [
    "capitals"
   ]
  },
  {
   "cell_type": "markdown",
   "id": "e338a648",
   "metadata": {},
   "source": [
    "We can change the value of an *existing key* using the same notation. This will *overwrite* the current value for that key:"
   ]
  },
  {
   "cell_type": "code",
   "execution_count": null,
   "id": "40402b82",
   "metadata": {},
   "outputs": [],
   "source": [
    "capitals[\"Germany\"] = \"Munich\""
   ]
  },
  {
   "cell_type": "code",
   "execution_count": null,
   "id": "ae5fb347",
   "metadata": {},
   "outputs": [],
   "source": [
    "capitals[\"Germany\"]"
   ]
  },
  {
   "cell_type": "markdown",
   "id": "13dae232",
   "metadata": {},
   "source": [
    "Let's quickly change it back before Berlin gets mad:"
   ]
  },
  {
   "cell_type": "code",
   "execution_count": null,
   "id": "c1cf3a8f",
   "metadata": {},
   "outputs": [],
   "source": [
    "capitals[\"Germany\"] = \"Berlin\""
   ]
  },
  {
   "cell_type": "markdown",
   "id": "e4917084",
   "metadata": {},
   "source": [
    "We can *delete* a value by its key using the `pop` method. This method will also return the deleted value:"
   ]
  },
  {
   "cell_type": "code",
   "execution_count": null,
   "id": "a0b24671",
   "metadata": {},
   "outputs": [],
   "source": [
    "value = capitals.pop(\"Italy\")"
   ]
  },
  {
   "cell_type": "code",
   "execution_count": null,
   "id": "e0dcd410",
   "metadata": {},
   "outputs": [],
   "source": [
    "capitals"
   ]
  },
  {
   "cell_type": "code",
   "execution_count": null,
   "id": "f3ca58b1",
   "metadata": {},
   "outputs": [],
   "source": [
    "value"
   ]
  },
  {
   "cell_type": "markdown",
   "id": "aa8c7e1f",
   "metadata": {},
   "source": [
    "Dictionaries are useful if we need to store values and access them using other values. Examples of good uses of dictionaries include ratings of players, capitals of countries, ages of people etc."
   ]
  }
 ],
 "metadata": {
  "kernelspec": {
   "display_name": "Python 3 (ipykernel)",
   "language": "python",
   "name": "python3"
  },
  "language_info": {
   "codemirror_mode": {
    "name": "ipython",
    "version": 3
   },
   "file_extension": ".py",
   "mimetype": "text/x-python",
   "name": "python",
   "nbconvert_exporter": "python",
   "pygments_lexer": "ipython3",
   "version": "3.9.14"
  }
 },
 "nbformat": 4,
 "nbformat_minor": 5
}
