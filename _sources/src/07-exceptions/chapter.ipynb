{
 "cells": [
  {
   "cell_type": "markdown",
   "id": "dfe717c3-e9eb-4123-ab8a-c26f755e66f2",
   "metadata": {},
   "source": [
    "# Chapter 7. Exceptions"
   ]
  },
  {
   "cell_type": "markdown",
   "id": "51cfc684-34df-484d-929c-262d751844f9",
   "metadata": {},
   "source": [
    "## Basic Exception Handling"
   ]
  },
  {
   "cell_type": "markdown",
   "id": "4478a09f-7f5d-4400-a96c-119069e6ad3b",
   "metadata": {},
   "source": [
    "When we execute a program, some statements may cause **exceptions** (basically unhandled errors). One of the most obvious examples is division by zero. Consider this example:"
   ]
  },
  {
   "cell_type": "code",
   "execution_count": null,
   "id": "0952ca38-e818-4db6-9310-2ca0f254ab66",
   "metadata": {},
   "outputs": [],
   "source": [
    "x = 2\n",
    "y = 0\n",
    "x / y"
   ]
  },
  {
   "cell_type": "markdown",
   "id": "e34753d1-3a89-499a-a86b-5b9ac5256fd2",
   "metadata": {},
   "source": [
    "If this happens during the execution of a script, the execution is stopped and the exception is shown to the user. But this doesn't always seem ideal.\n",
    "\n",
    "Consider writing calculator software. It would probably be bad, if the software just crashed every time we accidentally try to divide by zero. Instead we should probably show a meaningful error message to the user that explains what went wrong and ask him to try again. Let's fix our example:"
   ]
  },
  {
   "cell_type": "code",
   "execution_count": null,
   "id": "5f9ae13a-0504-42f6-b8eb-a592cc1256bc",
   "metadata": {},
   "outputs": [],
   "source": [
    "x = 2\n",
    "y = 0\n",
    "\n",
    "try:\n",
    "    print(x / y)\n",
    "except ZeroDivisionError:\n",
    "    print(\"Uh-oh, you tried to divide by zero.\")\n",
    "    print(\"Luckily, we caught the exception and prevented you from destroying the universe!\")"
   ]
  },
  {
   "cell_type": "markdown",
   "id": "5788b88f-4ef8-4086-9ede-1beb07876399",
   "metadata": {},
   "source": [
    "Much better! We caught the error and our script may proceed, e.g. by asking the user to provide us with another number."
   ]
  },
  {
   "cell_type": "markdown",
   "id": "9d336f82-931d-4d0f-b421-20a9936f7be7",
   "metadata": {},
   "source": [
    "## The `try` Statement and the `except` Clause"
   ]
  },
  {
   "cell_type": "markdown",
   "id": "5939ecbb-42a0-4ef3-99f2-83720e9dbdc7",
   "metadata": {},
   "source": [
    "The cornerstones of exception handling are the `try` statement and the `except` clause.\n",
    "\n",
    "The general form of the `try ... except ...` construct looks as follows:\n",
    "\n",
    "```python\n",
    "try:\n",
    "    # Some statements\n",
    "except MyException:\n",
    "    # Some other statements\n",
    "```\n",
    "\n",
    "Here is how the `try ... except ...` construct works in detail:\n",
    "\n",
    "First, the `try` clause (i.e. all the statements in the `try` block) are executed.\n",
    "\n",
    "If _no exception_ happens during the execution of the `try` clause, the `except` clause is completely ignored and the code continues as usual:"
   ]
  },
  {
   "cell_type": "code",
   "execution_count": null,
   "id": "2d91282b-28d1-4905-9d50-52014a16ef59",
   "metadata": {},
   "outputs": [],
   "source": [
    "try:\n",
    "    print(\"Code in the try clause\")\n",
    "    print(3 / 2)\n",
    "    print(\"More code in the try clause\")\n",
    "except ZeroDivisionError:\n",
    "    print(\"An exception happened\")\n",
    "\n",
    "print(\"Continue execution\")"
   ]
  },
  {
   "cell_type": "markdown",
   "id": "e0e87196-4df1-4050-a141-249305562658",
   "metadata": {},
   "source": [
    "Note that the string `\"An exception happened\"` is never printed, because the `try` clause does not raise an exception and so the `except` clause is ignored.\n",
    "\n",
    "If _an exception_ does happen during the execution of the `try` clause, the rest of the `try` clause is skipped and the interpreter checks if the raised exception matches the exception after the `except` keyword. If that is the case, the `except` clause (i.e. the statements in the `except` block) is executed. Afterwards the code continues as usual:"
   ]
  },
  {
   "cell_type": "code",
   "execution_count": null,
   "id": "6de3a918-7709-471c-9e2e-e3a13ff988a2",
   "metadata": {},
   "outputs": [],
   "source": [
    "try:\n",
    "    print(\"Code in the try clause\")\n",
    "    print(3 / 0)\n",
    "    print(\"More code in the try clause\")\n",
    "except ZeroDivisionError:\n",
    "    print(\"An exception happened\")\n",
    "\n",
    "print(\"Continue execution\")"
   ]
  },
  {
   "cell_type": "markdown",
   "id": "35c9d784-f740-4a82-b32d-49d544e4523b",
   "metadata": {},
   "source": [
    "Note that the string `\"More code in the try clause\"` is never printed, because there an exception happens at the line `print(3 / 0)` and so the rest of the `try` clause after that line is skipped. Also note that because we _caught_ the exception, the rest of the code continue as usual and so the line `\"Continue execution\"` is still printed.\n",
    "\n",
    "If the raised exception does not match the exception after the `except` keyword, the except clause is ignored and the exception is still raised:"
   ]
  },
  {
   "cell_type": "code",
   "execution_count": null,
   "id": "cb843fec-7c6d-44e2-ad40-85db6ca24555",
   "metadata": {},
   "outputs": [],
   "source": [
    "try:\n",
    "    print(\"Code in the try clause\")\n",
    "    print(3 / 0)\n",
    "    print(\"More code in the try clause\")\n",
    "except ValueError:\n",
    "    print(\"An exception happened\")\n",
    "\n",
    "print(\"Continue execution\")"
   ]
  },
  {
   "cell_type": "markdown",
   "id": "10158867-a0c3-4e1b-8f71-f336446a8d77",
   "metadata": {},
   "source": [
    "Note that the program crashes, so neither `\"\"More code in the try clause\"` nor `\"Continue execution\"` are printed."
   ]
  },
  {
   "cell_type": "markdown",
   "id": "4723bd1d-3365-497a-b16b-5b9b13ae1dcf",
   "metadata": {},
   "source": [
    "## Handling Multiple Exceptions"
   ]
  },
  {
   "cell_type": "markdown",
   "id": "ba0f0a10-97ee-4870-a540-744a8b822680",
   "metadata": {},
   "source": [
    "Consider this snippet:"
   ]
  },
  {
   "cell_type": "code",
   "execution_count": null,
   "id": "4aea687c-5a49-4b51-b075-a8b21bc431b3",
   "metadata": {},
   "outputs": [],
   "source": [
    "user_value = \"2\"\n",
    "user_value_int = int(user_value)\n",
    "print(5 / user_value_int)"
   ]
  },
  {
   "cell_type": "markdown",
   "id": "677e86e1-d885-4f8c-8502-6026b288894d",
   "metadata": {},
   "source": [
    "This may raise two exceptions - a `ValueError` in case `user_value` does not represent a valid integer and a `ZeroDivisionError` in case the user value is `0`. We can handle both exceptions separately by writing multiple `except` clauses:"
   ]
  },
  {
   "cell_type": "code",
   "execution_count": null,
   "id": "148e3128-f52c-467b-8cb7-68ce6f4d529b",
   "metadata": {},
   "outputs": [],
   "source": [
    "user_value = \"2\"\n",
    "\n",
    "try:\n",
    "    user_value_int = int(user_value)\n",
    "    print(5 / user_value_int)\n",
    "except ValueError:\n",
    "    print(f\"The user supplied a value of {user_value}, but the value must be an integer\")\n",
    "except ZeroDivisionError:\n",
    "    print(\"The user supplied a value of 0\")"
   ]
  },
  {
   "cell_type": "markdown",
   "id": "d2dac0d1-d8f9-4ec7-844b-07b418b9b7d9",
   "metadata": {},
   "source": [
    "Let's try this out:"
   ]
  },
  {
   "cell_type": "code",
   "execution_count": null,
   "id": "bacf2335-5ad4-49ca-8e57-34b5275b19e1",
   "metadata": {},
   "outputs": [],
   "source": [
    "user_value = \"2a\"\n",
    "\n",
    "try:\n",
    "    user_value_int = int(user_value)\n",
    "    print(5 / user_value_int)\n",
    "except ValueError:\n",
    "    print(f\"The user supplied a value of {user_value}, but the value must be an integer\")\n",
    "except ZeroDivisionError:\n",
    "    print(\"The user supplied a value of 0\")"
   ]
  },
  {
   "cell_type": "code",
   "execution_count": null,
   "id": "e2b73dd3-c78d-45f8-a688-453e6bf30dbc",
   "metadata": {},
   "outputs": [],
   "source": [
    "user_value = \"0\"\n",
    "\n",
    "try:\n",
    "    user_value_int = int(user_value)\n",
    "    print(5 / user_value_int)\n",
    "except ValueError:\n",
    "    print(f\"The user supplied a value of {user_value}, but the value must be an integer\")\n",
    "except ZeroDivisionError:\n",
    "    print(\"The user supplied a value of 0\")"
   ]
  },
  {
   "cell_type": "markdown",
   "id": "aefb25cd-e724-4ece-bbfb-c2c1a1c13efd",
   "metadata": {},
   "source": [
    "We can also handle multiple exceptions at the same time by specifying a tuple of exceptions after the `except` keyword:"
   ]
  },
  {
   "cell_type": "code",
   "execution_count": null,
   "id": "441e549d-b0f0-4124-9db1-1710b877c061",
   "metadata": {},
   "outputs": [],
   "source": [
    "user_value = \"2a\"\n",
    "\n",
    "try:\n",
    "    user_value_int = int(user_value)\n",
    "    print(5 / user_value_int)\n",
    "except (ValueError, ZeroDivisionError):\n",
    "    print(f\"The user supplied a value of {user_value}, which is invalid\")"
   ]
  },
  {
   "cell_type": "markdown",
   "id": "c7f9011b-9104-4025-b460-76ea9c583718",
   "metadata": {},
   "source": [
    "## Working with Exception Objects"
   ]
  },
  {
   "cell_type": "markdown",
   "id": "d2e762c3-608e-4dc5-ac80-382e0ca63401",
   "metadata": {},
   "source": [
    "It is often useful to bind the exception to a variable by specifying a variable after the exception name:"
   ]
  },
  {
   "cell_type": "code",
   "execution_count": null,
   "id": "678b65de-9b9c-4636-b9bf-56df6f5680c6",
   "metadata": {},
   "outputs": [],
   "source": [
    "try:\n",
    "    print(1 / 0)\n",
    "except ZeroDivisionError as e:\n",
    "    print(type(e))"
   ]
  },
  {
   "cell_type": "markdown",
   "id": "72c3f395-e9a3-451b-8b10-77b199d7f93d",
   "metadata": {},
   "source": [
    "As you can see, the exception `e` is just a regular Python object of instance `ZeroDivisionError`! This is not just theoretically interesting - it means that we can work with properties of that object. For example we can convert the exception to a string and print it:"
   ]
  },
  {
   "cell_type": "code",
   "execution_count": null,
   "id": "8371a640-059d-4c88-8ce1-22fa3a0cd5f4",
   "metadata": {},
   "outputs": [],
   "source": [
    "try:\n",
    "    print(1 / 0)\n",
    "except ZeroDivisionError as e:\n",
    "    print(str(e))"
   ]
  },
  {
   "cell_type": "markdown",
   "id": "98159bb4-ad4a-4895-aa78-e1c64c0ffb55",
   "metadata": {},
   "source": [
    "This is very useful if we want to see what originally caused an error. It is in fact common practice to print the exception object when encountering an exception - especially during debugging."
   ]
  },
  {
   "cell_type": "markdown",
   "id": "ee891a4e-1ed8-4d65-97c4-5c22a46c53fa",
   "metadata": {},
   "source": [
    "## Raising Exceptions"
   ]
  },
  {
   "cell_type": "markdown",
   "id": "daa7dc9b-0a94-4a76-8508-587169bf5049",
   "metadata": {},
   "source": [
    "You can also raising exceptions yourself by utilizing the `raise` statement:"
   ]
  },
  {
   "cell_type": "code",
   "execution_count": null,
   "id": "79c85d60-7b45-467c-98b1-d1acd8d01daa",
   "metadata": {},
   "outputs": [],
   "source": [
    "raise ValueError(\"Bad value\")"
   ]
  },
  {
   "cell_type": "markdown",
   "id": "9ad2f82d-40b4-445e-be45-6ab4150f1862",
   "metadata": {},
   "source": [
    "This is useful if you want to indicate that a certain operation results in an error, which calling code may choose to handle."
   ]
  }
 ],
 "metadata": {
  "kernelspec": {
   "display_name": "Python 3 (ipykernel)",
   "language": "python",
   "name": "python3"
  },
  "language_info": {
   "codemirror_mode": {
    "name": "ipython",
    "version": 3
   },
   "file_extension": ".py",
   "mimetype": "text/x-python",
   "name": "python",
   "nbconvert_exporter": "python",
   "pygments_lexer": "ipython3",
   "version": "3.9.14"
  }
 },
 "nbformat": 4,
 "nbformat_minor": 5
}
