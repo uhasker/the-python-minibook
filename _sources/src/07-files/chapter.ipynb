{
 "cells": [
  {
   "cell_type": "markdown",
   "id": "d9693062",
   "metadata": {},
   "source": [
    "# Chapter 7. Input and Output"
   ]
  },
  {
   "cell_type": "markdown",
   "id": "718dfd0b",
   "metadata": {},
   "source": [
    "In this chapter we will cover how to read input from a user or a file and how to write output to a file.\n",
    "\n",
    "We will also cover a topic that is rarely discussed in introductory programming books, but should be understood by every working programmer - *encodings*."
   ]
  },
  {
   "cell_type": "markdown",
   "id": "b9889205",
   "metadata": {},
   "source": [
    "## More on strings"
   ]
  },
  {
   "cell_type": "markdown",
   "id": "b677f96f",
   "metadata": {},
   "source": [
    "When working with input and output, you will be usually need to perform operations on strings. While we introduced the string data type in chapter 1, we haven't actually done too much with strings so far. Let us fix that and talk about strings in more detail."
   ]
  },
  {
   "cell_type": "markdown",
   "id": "c65dc8bd",
   "metadata": {},
   "source": [
    "### Important string methods"
   ]
  },
  {
   "cell_type": "markdown",
   "id": "245f8e18",
   "metadata": {},
   "source": [
    "Just like lists, strings have a bunch of operators and methods that you will use quite often. We already discussed the concatenation operator `+` and repetition operator `*`. Another important operator is the index access operator, which allows us to take the character at some position of a string. This operator works the same way it works for lists - you think of a string as a *list of characters* in this context:"
   ]
  },
  {
   "cell_type": "code",
   "execution_count": 23,
   "id": "ca4af4bc",
   "metadata": {},
   "outputs": [],
   "source": [
    "my_str = \"Monty Python's Flying Circus\""
   ]
  },
  {
   "cell_type": "code",
   "execution_count": 25,
   "id": "8f7ad430",
   "metadata": {},
   "outputs": [
    {
     "data": {
      "text/plain": [
       "'y'"
      ]
     },
     "execution_count": 25,
     "metadata": {},
     "output_type": "execute_result"
    }
   ],
   "source": [
    "my_str[4]"
   ]
  },
  {
   "cell_type": "code",
   "execution_count": 27,
   "id": "ac78f94b",
   "metadata": {},
   "outputs": [
    {
     "data": {
      "text/plain": [
       "'u'"
      ]
     },
     "execution_count": 27,
     "metadata": {},
     "output_type": "execute_result"
    }
   ],
   "source": [
    "my_str[-2]"
   ]
  },
  {
   "cell_type": "markdown",
   "id": "f1c8cb5d",
   "metadata": {},
   "source": [
    "However there is an important difference between strings and lists - unlike lists, strings are immutable:"
   ]
  },
  {
   "cell_type": "code",
   "execution_count": 29,
   "id": "26339d35",
   "metadata": {},
   "outputs": [
    {
     "ename": "TypeError",
     "evalue": "'str' object does not support item assignment",
     "output_type": "error",
     "traceback": [
      "\u001b[0;31m---------------------------------------------------------------------------\u001b[0m",
      "\u001b[0;31mTypeError\u001b[0m                                 Traceback (most recent call last)",
      "Cell \u001b[0;32mIn[29], line 1\u001b[0m\n\u001b[0;32m----> 1\u001b[0m \u001b[43mmy_str\u001b[49m\u001b[43m[\u001b[49m\u001b[38;5;241;43m1\u001b[39;49m\u001b[43m]\u001b[49m \u001b[38;5;241m=\u001b[39m \u001b[38;5;124m\"\u001b[39m\u001b[38;5;124mu\u001b[39m\u001b[38;5;124m\"\u001b[39m\n",
      "\u001b[0;31mTypeError\u001b[0m: 'str' object does not support item assignment"
     ]
    }
   ],
   "source": [
    "my_str[1] = \"u\""
   ]
  },
  {
   "cell_type": "markdown",
   "id": "15f97709",
   "metadata": {},
   "source": [
    "Just like with lists, you can slice strings. This is how you get the **substring** of a string in Python:"
   ]
  },
  {
   "cell_type": "code",
   "execution_count": 32,
   "id": "428f772b",
   "metadata": {},
   "outputs": [
    {
     "data": {
      "text/plain": [
       "'Python'"
      ]
     },
     "execution_count": 32,
     "metadata": {},
     "output_type": "execute_result"
    }
   ],
   "source": [
    "my_str[6:12]"
   ]
  },
  {
   "cell_type": "markdown",
   "id": "51c469e3",
   "metadata": {},
   "source": [
    "Strings also ship with a lot of methods. It's useful to know the most important ones, since you will be using them quite regulary.\n",
    "\n",
    "For example you can lowercase strings using the `lower()` method and uppercase them using the `upper()` method:"
   ]
  },
  {
   "cell_type": "code",
   "execution_count": 33,
   "id": "3f56fe6f",
   "metadata": {},
   "outputs": [
    {
     "data": {
      "text/plain": [
       "\"monty python's flying circus\""
      ]
     },
     "execution_count": 33,
     "metadata": {},
     "output_type": "execute_result"
    }
   ],
   "source": [
    "\"Monty Python's Flying Circus\".lower()"
   ]
  },
  {
   "cell_type": "code",
   "execution_count": 35,
   "id": "ca02724f",
   "metadata": {},
   "outputs": [
    {
     "data": {
      "text/plain": [
       "\"MONTY PYTHON'S FLYING CIRCUS\""
      ]
     },
     "execution_count": 35,
     "metadata": {},
     "output_type": "execute_result"
    }
   ],
   "source": [
    "\"Monty Python's Flying Circus\".upper()"
   ]
  },
  {
   "cell_type": "markdown",
   "id": "db48a7c1",
   "metadata": {},
   "source": [
    "You can split a string into \"words\" using the `split()` method:"
   ]
  },
  {
   "cell_type": "code",
   "execution_count": 37,
   "id": "128ab86f",
   "metadata": {},
   "outputs": [
    {
     "data": {
      "text/plain": [
       "['Monty', \"Python's\", 'Flying', 'Circus']"
      ]
     },
     "execution_count": 37,
     "metadata": {},
     "output_type": "execute_result"
    }
   ],
   "source": [
    "\"Monty Python's Flying Circus\".split()"
   ]
  },
  {
   "cell_type": "markdown",
   "id": "f2a4c3e8",
   "metadata": {},
   "source": [
    "If you want to split on custom delimiter, you can do that as well:"
   ]
  },
  {
   "cell_type": "code",
   "execution_count": 38,
   "id": "2e1f90c5",
   "metadata": {},
   "outputs": [
    {
     "data": {
      "text/plain": [
       "['Monty Python', 's Flying Circus']"
      ]
     },
     "execution_count": 38,
     "metadata": {},
     "output_type": "execute_result"
    }
   ],
   "source": [
    "\"Monty Python's Flying Circus\".split(\"'\")"
   ]
  },
  {
   "cell_type": "markdown",
   "id": "b25ab441",
   "metadata": {},
   "source": [
    "The opposite of the `split()` method is the `join()` method. This method is a bit confusing because it's not called on the lists of strings it joins, but on the delimiter (and takes the strings it joins as a parameter):"
   ]
  },
  {
   "cell_type": "code",
   "execution_count": 40,
   "id": "1dc3ebed",
   "metadata": {},
   "outputs": [
    {
     "data": {
      "text/plain": [
       "\"Monty Python's Flying Circus\""
      ]
     },
     "execution_count": 40,
     "metadata": {},
     "output_type": "execute_result"
    }
   ],
   "source": [
    "\" \".join([\"Monty\", \"Python's\", \"Flying\", \"Circus\"])"
   ]
  },
  {
   "cell_type": "markdown",
   "id": "1dfdd4c2",
   "metadata": {},
   "source": [
    "We can also check whether a string *starts with* a certain prefix or *ends with* a certain suffix:"
   ]
  },
  {
   "cell_type": "code",
   "execution_count": 41,
   "id": "e511f8c0",
   "metadata": {},
   "outputs": [
    {
     "data": {
      "text/plain": [
       "True"
      ]
     },
     "execution_count": 41,
     "metadata": {},
     "output_type": "execute_result"
    }
   ],
   "source": [
    "\"Monty Python's Flying Circus\".startswith(\"Monty Py\")"
   ]
  },
  {
   "cell_type": "code",
   "execution_count": 43,
   "id": "ee08cb77",
   "metadata": {},
   "outputs": [
    {
     "data": {
      "text/plain": [
       "True"
      ]
     },
     "execution_count": 43,
     "metadata": {},
     "output_type": "execute_result"
    }
   ],
   "source": [
    "\"Monty Python's Flying Circus\".endswith(\"us\")"
   ]
  },
  {
   "cell_type": "markdown",
   "id": "b27a39dd",
   "metadata": {},
   "source": [
    "### Escape characters"
   ]
  },
  {
   "cell_type": "markdown",
   "id": "7649c308",
   "metadata": {},
   "source": [
    "Some characters don't denote letters, digits or special characters like `.`, `,` or `;` and need special treatment. The most important example of this is the **newline character**.\n",
    "\n",
    "The newline character is a **non-printable character**, because it's - well - not really printed to the screen. Instead it describes an *action to take* (namely to go to the next line). Python represents newline characters using `\\n`: "
   ]
  },
  {
   "cell_type": "code",
   "execution_count": 45,
   "id": "2b8e2569",
   "metadata": {},
   "outputs": [],
   "source": [
    "my_str = \"This a line.\\nThis is another line.\""
   ]
  },
  {
   "cell_type": "markdown",
   "id": "d18e35c7",
   "metadata": {},
   "source": [
    "If we print `my_str`, we will see the newline:"
   ]
  },
  {
   "cell_type": "code",
   "execution_count": 47,
   "id": "4b0e4417",
   "metadata": {},
   "outputs": [
    {
     "name": "stdout",
     "output_type": "stream",
     "text": [
      "This a line.\n",
      "This is another line.\n"
     ]
    }
   ],
   "source": [
    "print(my_str)"
   ]
  },
  {
   "cell_type": "markdown",
   "id": "f5cd1db0",
   "metadata": {},
   "source": [
    "However if we get the *unambiguous representation* of `my_str`, we will see the `\\n` representation of the newline:"
   ]
  },
  {
   "cell_type": "code",
   "execution_count": 49,
   "id": "3a1ec41d",
   "metadata": {},
   "outputs": [
    {
     "data": {
      "text/plain": [
       "'This a line.\\nThis is another line.'"
      ]
     },
     "execution_count": 49,
     "metadata": {},
     "output_type": "execute_result"
    }
   ],
   "source": [
    "my_str"
   ]
  },
  {
   "cell_type": "markdown",
   "id": "a6b3e73c",
   "metadata": {},
   "source": [
    "This is actually more important than you might think at first. The reason is that both `\\n` and the sequence `\\r\\n` represent a newline (which has to do with Windows quirks). Consider the following two strings:"
   ]
  },
  {
   "cell_type": "code",
   "execution_count": 55,
   "id": "1d715e15",
   "metadata": {},
   "outputs": [],
   "source": [
    "my_str1 = \"This a line.\\nThis is another line.\"\n",
    "my_str2 = \"This a line.\\r\\nThis is another line.\""
   ]
  },
  {
   "cell_type": "markdown",
   "id": "33c7c520",
   "metadata": {},
   "source": [
    "These two strings *look* equal, if we `print` them:"
   ]
  },
  {
   "cell_type": "code",
   "execution_count": 53,
   "id": "925be501",
   "metadata": {},
   "outputs": [
    {
     "name": "stdout",
     "output_type": "stream",
     "text": [
      "This a line.\n",
      "This is another line.\n"
     ]
    }
   ],
   "source": [
    "print(my_str1)"
   ]
  },
  {
   "cell_type": "code",
   "execution_count": 56,
   "id": "76003d75",
   "metadata": {},
   "outputs": [
    {
     "name": "stdout",
     "output_type": "stream",
     "text": [
      "This a line.\r\n",
      "This is another line.\n"
     ]
    }
   ],
   "source": [
    "print(my_str2)"
   ]
  },
  {
   "cell_type": "markdown",
   "id": "863d1e48",
   "metadata": {},
   "source": [
    "However they are two different strings, which the equality operator confirms:"
   ]
  },
  {
   "cell_type": "code",
   "execution_count": 58,
   "id": "2a9dd4d8",
   "metadata": {},
   "outputs": [
    {
     "data": {
      "text/plain": [
       "False"
      ]
     },
     "execution_count": 58,
     "metadata": {},
     "output_type": "execute_result"
    }
   ],
   "source": [
    "my_str1 == my_str2"
   ]
  },
  {
   "cell_type": "markdown",
   "id": "5a2e18d0",
   "metadata": {},
   "source": [
    "This can be extremely confusing, if you look at the output of `print`. However the *unambiguous representation* of the strings immediately clears up the confusion:"
   ]
  },
  {
   "cell_type": "code",
   "execution_count": 60,
   "id": "f77188c2",
   "metadata": {},
   "outputs": [
    {
     "data": {
      "text/plain": [
       "'This a line.\\nThis is another line.'"
      ]
     },
     "execution_count": 60,
     "metadata": {},
     "output_type": "execute_result"
    }
   ],
   "source": [
    "my_str1"
   ]
  },
  {
   "cell_type": "code",
   "execution_count": 61,
   "id": "641b6689",
   "metadata": {},
   "outputs": [
    {
     "data": {
      "text/plain": [
       "'This a line.\\r\\nThis is another line.'"
      ]
     },
     "execution_count": 61,
     "metadata": {},
     "output_type": "execute_result"
    }
   ],
   "source": [
    "my_str2"
   ]
  },
  {
   "cell_type": "markdown",
   "id": "11b0d90a",
   "metadata": {},
   "source": [
    "Remember that if you are not inside a REPL, you will need to call the `repr` function manually to get the *unambiguous representation* of the strings."
   ]
  },
  {
   "cell_type": "markdown",
   "id": "01a77555",
   "metadata": {},
   "source": [
    "Another important character that gets special treatment is the **tab character** which is represented using `\\t`:"
   ]
  },
  {
   "cell_type": "code",
   "execution_count": null,
   "id": "708778e1",
   "metadata": {},
   "outputs": [],
   "source": [
    "print(\"\\tfirst column\\tsecond column\")"
   ]
  },
  {
   "cell_type": "markdown",
   "id": "4eda1d4e",
   "metadata": {},
   "source": [
    "The characters `\\t` and `\\n` are also called **escape characters** because a backslash is used for *escaping* characters.\n",
    "\n",
    "Because backslashes have this special meaning inside string, this means that if you want to display backslashes in your strings, you might need to escape them as well resulting in `\\\\`:"
   ]
  },
  {
   "cell_type": "code",
   "execution_count": 62,
   "id": "a5be305b",
   "metadata": {},
   "outputs": [
    {
     "name": "stdout",
     "output_type": "stream",
     "text": [
      "\\t means tab\n"
     ]
    }
   ],
   "source": [
    "print(\"\\\\t means tab\")"
   ]
  },
  {
   "cell_type": "markdown",
   "id": "97242f15",
   "metadata": {},
   "source": [
    "Escape characters also allow you to use quotes inside a string:"
   ]
  },
  {
   "cell_type": "code",
   "execution_count": null,
   "id": "8a6bdec9",
   "metadata": {},
   "outputs": [],
   "source": [
    "print(\"\"this will not work\"\")"
   ]
  },
  {
   "cell_type": "code",
   "execution_count": null,
   "id": "0c5395cd",
   "metadata": {},
   "outputs": [],
   "source": [
    "print(\"\\\"this will work\\\"\")"
   ]
  },
  {
   "cell_type": "markdown",
   "id": "07a8d09e",
   "metadata": {},
   "source": [
    "## The input() function"
   ]
  },
  {
   "cell_type": "markdown",
   "id": "d89ab1dd",
   "metadata": {},
   "source": [
    "We can read a string from the command line using the `input()` function:\n",
    "\n",
    "```python\n",
    "user_value = input()\n",
    "```\n",
    "\n",
    "This will read the input of the user into the variable `user_value`.\n",
    "\n",
    "It's usually a good idea to supply the `prompt` argument to the `input()` function which will display a prompt telling the user what to do:\n",
    "\n",
    "```python\n",
    "user_value = input(\"Supply a value:\")\n",
    "```"
   ]
  },
  {
   "cell_type": "markdown",
   "id": "da625ffb",
   "metadata": {},
   "source": [
    "## Working with text files"
   ]
  },
  {
   "cell_type": "markdown",
   "id": "063ea0b8",
   "metadata": {},
   "source": [
    "### Reading text files"
   ]
  },
  {
   "cell_type": "markdown",
   "id": "3b92e5c4",
   "metadata": {},
   "source": [
    "Let's create a text file `example.txt` with the following content:\n",
    "\n",
    "```\n",
    "Roses are red.\n",
    "Violets aren't blue.\n",
    "It's literally in the name.\n",
    "They're called violets.\n",
    "```"
   ]
  },
  {
   "cell_type": "markdown",
   "id": "f8c80eab",
   "metadata": {},
   "source": [
    "We can read the file using the `open` function. This function returns a **file object** which allows access to the underlying file:"
   ]
  },
  {
   "cell_type": "code",
   "execution_count": 63,
   "id": "2714dae7",
   "metadata": {},
   "outputs": [],
   "source": [
    "file = open(\"example.txt\")"
   ]
  },
  {
   "cell_type": "code",
   "execution_count": 64,
   "id": "538c937e",
   "metadata": {},
   "outputs": [
    {
     "data": {
      "text/plain": [
       "<_io.TextIOWrapper name='example.txt' mode='r' encoding='UTF-8'>"
      ]
     },
     "execution_count": 64,
     "metadata": {},
     "output_type": "execute_result"
    }
   ],
   "source": [
    "file"
   ]
  },
  {
   "cell_type": "markdown",
   "id": "182a3d2f",
   "metadata": {},
   "source": [
    "We can read the content of the file using the `read` method of the `file` object. The `read` method returns the entire content of the file as a regular string:"
   ]
  },
  {
   "cell_type": "code",
   "execution_count": null,
   "id": "8b3beea0",
   "metadata": {},
   "outputs": [],
   "source": [
    "content = file.read()"
   ]
  },
  {
   "cell_type": "code",
   "execution_count": null,
   "id": "32638a8c",
   "metadata": {},
   "outputs": [],
   "source": [
    "print(content)"
   ]
  },
  {
   "cell_type": "code",
   "execution_count": null,
   "id": "2a77950c",
   "metadata": {},
   "outputs": [],
   "source": [
    "type(content)"
   ]
  },
  {
   "cell_type": "markdown",
   "id": "4f5d18e5",
   "metadata": {},
   "source": [
    "We also need to *close* the file to free up the resouces consumed by the file object:"
   ]
  },
  {
   "cell_type": "code",
   "execution_count": null,
   "id": "94a879cf",
   "metadata": {},
   "outputs": [],
   "source": [
    "file.close()"
   ]
  },
  {
   "cell_type": "markdown",
   "id": "1193b15a",
   "metadata": {},
   "source": [
    "Let's check that the file is really closed by inspecting the `closed` attribute:"
   ]
  },
  {
   "cell_type": "code",
   "execution_count": null,
   "id": "b4ee0bd6",
   "metadata": {},
   "outputs": [],
   "source": [
    "file.closed"
   ]
  },
  {
   "cell_type": "markdown",
   "id": "3d6f0437",
   "metadata": {},
   "source": [
    "Trying to call `read` on a closed file object will result in an error:"
   ]
  },
  {
   "cell_type": "code",
   "execution_count": null,
   "id": "a50e49ce",
   "metadata": {},
   "outputs": [],
   "source": [
    "file.read()"
   ]
  },
  {
   "cell_type": "markdown",
   "id": "67ede7dd",
   "metadata": {},
   "source": [
    "To summarize, we first need to *open* a file resulting in a *file object*. We are then able to perform operation on that *file object* like reading the content of the file. Finally we need to *close* the file object."
   ]
  },
  {
   "cell_type": "markdown",
   "id": "aa4e9f21",
   "metadata": {},
   "source": [
    "### The with statement"
   ]
  },
  {
   "cell_type": "markdown",
   "id": "15c5c1e6",
   "metadata": {},
   "source": [
    "To simplify working with files, we can use the `with` statement which will automatically close the file:"
   ]
  },
  {
   "cell_type": "code",
   "execution_count": 65,
   "id": "5c550bfd",
   "metadata": {},
   "outputs": [
    {
     "data": {
      "text/plain": [
       "True"
      ]
     },
     "execution_count": 65,
     "metadata": {},
     "output_type": "execute_result"
    }
   ],
   "source": [
    "with open(\"example.txt\") as file:\n",
    "    content = file.read()\n",
    "    \n",
    "    # The file is automatically closed, i.e. there is no need to call file.close()\n",
    "\n",
    "file.closed"
   ]
  },
  {
   "cell_type": "code",
   "execution_count": 69,
   "id": "a2cea637",
   "metadata": {},
   "outputs": [
    {
     "name": "stdout",
     "output_type": "stream",
     "text": [
      "Roses are red.\n",
      "Violets aren't blue.\n",
      "It's literally in the name.\n",
      "They're called violets.\n",
      "\n"
     ]
    }
   ],
   "source": [
    "print(content)"
   ]
  },
  {
   "cell_type": "markdown",
   "id": "3e8de8a4",
   "metadata": {},
   "source": [
    "### The mode argument"
   ]
  },
  {
   "cell_type": "markdown",
   "id": "7932aa3f",
   "metadata": {},
   "source": [
    "Writing to a file works similarly to reading from a file. We can write to a file by passing the `\"w\"` (\"write\") mode as the second argument to `open` and calling the `write` method on the file object:"
   ]
  },
  {
   "cell_type": "code",
   "execution_count": 67,
   "id": "4a6363f1",
   "metadata": {},
   "outputs": [],
   "source": [
    "with open(\"somefile.txt\", \"w\") as file:\n",
    "    file.write(\"Some content\")"
   ]
  },
  {
   "cell_type": "markdown",
   "id": "287caae1",
   "metadata": {},
   "source": [
    "This will create a file `somefile.txt` with the content `\"Some content\"`. Note that if that file *already exists, it's content will be completely overwritten by the new content*. If we want to avoid that and instead *append* the new content to the existing content we need to use the `\"a\"` (append) mode:"
   ]
  },
  {
   "cell_type": "code",
   "execution_count": 70,
   "id": "80df744f",
   "metadata": {},
   "outputs": [],
   "source": [
    "with open(\"somefile.txt\", \"a\") as file:\n",
    "    file.write(\"Some content\")"
   ]
  },
  {
   "cell_type": "markdown",
   "id": "61be4760",
   "metadata": {},
   "source": [
    "If you omit the mode, the mode will be set to `\"r\"` (read) by default."
   ]
  },
  {
   "cell_type": "markdown",
   "id": "32fd9bcb",
   "metadata": {},
   "source": [
    "## Encodings"
   ]
  },
  {
   "cell_type": "markdown",
   "id": "cab6b9ca",
   "metadata": {},
   "source": [
    "Now that we have the basics out of the way, we need to have a look at how the content of a file is actually stored on disk. To accomplish that we will pass yet another mode argument to `open`, namely `rb`. The `rb` mode means \"read the file as a binary file\" (`r` = read and `b` = binary):"
   ]
  },
  {
   "cell_type": "code",
   "execution_count": 71,
   "id": "8e663619",
   "metadata": {},
   "outputs": [],
   "source": [
    "with open(\"example.txt\", \"rb\") as file:\n",
    "    content = file.read()"
   ]
  },
  {
   "cell_type": "markdown",
   "id": "2abadecf",
   "metadata": {},
   "source": [
    "First of all we note that the content is no longer a string, but a `bytes` object:"
   ]
  },
  {
   "cell_type": "code",
   "execution_count": 72,
   "id": "0966413c",
   "metadata": {},
   "outputs": [
    {
     "data": {
      "text/plain": [
       "b\"Roses are red.\\nViolets aren't blue.\\nIt's literally in the name.\\nThey're called violets.\\n\""
      ]
     },
     "execution_count": 72,
     "metadata": {},
     "output_type": "execute_result"
    }
   ],
   "source": [
    "content"
   ]
  },
  {
   "cell_type": "code",
   "execution_count": 73,
   "id": "9587715a",
   "metadata": {},
   "outputs": [
    {
     "data": {
      "text/plain": [
       "bytes"
      ]
     },
     "execution_count": 73,
     "metadata": {},
     "output_type": "execute_result"
    }
   ],
   "source": [
    "type(content)"
   ]
  },
  {
   "cell_type": "markdown",
   "id": "6fef218e",
   "metadata": {},
   "source": [
    "This object contains the actual *bytes* of the file. A **byte** is simply the smallest unit of storage on a computer and can (usually) hold values from 0 to 255.\n",
    "\n",
    "For example we access the *first byte* of the file like this:"
   ]
  },
  {
   "cell_type": "code",
   "execution_count": 74,
   "id": "d943e2d2",
   "metadata": {},
   "outputs": [
    {
     "data": {
      "text/plain": [
       "82"
      ]
     },
     "execution_count": 74,
     "metadata": {},
     "output_type": "execute_result"
    }
   ],
   "source": [
    "content[0]"
   ]
  },
  {
   "cell_type": "markdown",
   "id": "1e692b65",
   "metadata": {},
   "source": [
    "Wait, why do we suddenly have numbers when we know that a file contains *characters*? The answer to this question is that the computer *deceptively lies to us*. \n",
    "\n",
    "You see, computers can't really store characters. They can *only store bytes* which represent numbers. This means that the file *actually contains a sequence of numbers*.\n",
    "\n",
    "However computers maintain mappings from those numbers to characters, so that they can *interpret those numbers as characters*. The simplest such mapping is the **ASCII table**. Here is an excerpt from that table:"
   ]
  },
  {
   "cell_type": "markdown",
   "id": "06c67905",
   "metadata": {},
   "source": [
    "```\n",
    "| Byte value | Character        |\n",
    "| __________ | _________________|\n",
    "| ...        | ...              |\n",
    "| __________ | _________________|\n",
    "| 80         | P                |\n",
    "| __________ | _________________|\n",
    "| 81         | Q                |\n",
    "| __________ | _________________|\n",
    "| 82         | R                |\n",
    "| __________ | _________________|\n",
    "| 83         | S                |\n",
    "| __________ | _________________|\n",
    "| 84         | T                |\n",
    "| __________ | _________________|\n",
    "| 85         | U                |\n",
    "| __________ | _________________|\n",
    "| 86         | V                |\n",
    "| __________ | _________________|\n",
    "| 87         | W                |\n",
    "| __________ | _________________|\n",
    "| 88         | X                |\n",
    "| __________ | _________________|\n",
    "| 89         | Y                |\n",
    "| __________ | _________________|\n",
    "| 90         | Z                |\n",
    "| __________ | _________________|\n",
    "| ...        | ...              |\n",
    "| __________ | _________________|\n",
    "| 97         | a                |\n",
    "| __________ | _________________|\n",
    "| 98         | b                |\n",
    "| __________ | _________________|\n",
    "| 99         | c                |\n",
    "| __________ | _________________|\n",
    "| 100        | d                |\n",
    "| __________ | _________________|\n",
    "| 101        | e                |\n",
    "| __________ | _________________|\n",
    "| ...        | ...              |\n",
    "| __________ | _________________|\n",
    "| 110        | n                |\n",
    "| __________ | _________________|\n",
    "| 111        | o                |\n",
    "| __________ | _________________|\n",
    "| 112        | p                |\n",
    "| __________ | _________________|\n",
    "| 113        | q                |\n",
    "| __________ | _________________|\n",
    "| 114        | r                |\n",
    "| __________ | _________________|\n",
    "| 115        | s                |\n",
    "| __________ | _________________|\n",
    "| ...        | ...              |\n",
    "| __________ | _________________|\n",
    "```"
   ]
  },
  {
   "cell_type": "markdown",
   "id": "79fba272",
   "metadata": {},
   "source": [
    "Now we can make some sense of the values in the `content` variable:"
   ]
  },
  {
   "cell_type": "code",
   "execution_count": 75,
   "id": "a02dfd92",
   "metadata": {},
   "outputs": [
    {
     "data": {
      "text/plain": [
       "82"
      ]
     },
     "execution_count": 75,
     "metadata": {},
     "output_type": "execute_result"
    }
   ],
   "source": [
    "content[0]"
   ]
  },
  {
   "cell_type": "markdown",
   "id": "d6e58c05",
   "metadata": {},
   "source": [
    "If we look at the ASCII table, we can see that the number `82` corresponds to the character `R`. Therefore the first byte of the file contains the number `82` which represents the character `R`. The next few characters should be be `o`, `s`, `e` and `s`, i.e. the following bytes should be `111`, `115`, `101` and `115`:"
   ]
  },
  {
   "cell_type": "code",
   "execution_count": null,
   "id": "539b340c",
   "metadata": {},
   "outputs": [],
   "source": [
    "content[1]"
   ]
  },
  {
   "cell_type": "code",
   "execution_count": null,
   "id": "ad298a0b",
   "metadata": {},
   "outputs": [],
   "source": [
    "content[2]"
   ]
  },
  {
   "cell_type": "code",
   "execution_count": null,
   "id": "b5ff71fe",
   "metadata": {},
   "outputs": [],
   "source": [
    "content[3]"
   ]
  },
  {
   "cell_type": "code",
   "execution_count": null,
   "id": "179a2f49",
   "metadata": {},
   "outputs": [],
   "source": [
    "content[4]"
   ]
  },
  {
   "cell_type": "markdown",
   "id": "4d5d58f8",
   "metadata": {},
   "source": [
    "Characters like space, newline etc are also simply stored as bytes. For example the number corresponding to the space characters is `32`:"
   ]
  },
  {
   "cell_type": "code",
   "execution_count": null,
   "id": "6ee7367d",
   "metadata": {},
   "outputs": [],
   "source": [
    "content[5]"
   ]
  },
  {
   "cell_type": "markdown",
   "id": "2f4dc73f",
   "metadata": {},
   "source": [
    "The ASCII table worked fine for a while until programmers suddenly noticed that there are languages that are *not* English. This was a truly *shocking* discovery that fundamentally changed the way programmers thought about the world. The **Unicode** standard was born.\n",
    "\n",
    "> This is really oversimplified history of the Unicode standard. The reality was much more complicated.\n",
    "\n",
    "The most important concept of the Unicode standard was the code point. A **code point** is a numerical value for a specific character. This is very similar to the ASCII table, except that Unicode is *much, much bigger* and contains such characters as:\n",
    "\n",
    "* the German umlaut `ä` which has the code point 228\n",
    "* the checkmark `✅` which has the code point 9989\n",
    "* the emoji `😀` which has the code point 128512\n",
    "\n",
    "You can think of Unicode as a *giant* extension of the ASCII table.\n",
    "\n",
    "The fact that Unicode is so large means we can no longer store every character in a single byte. In order to fit every Unicode character, we would need at least *four bytes*. However this would be extremely wasteful for e.g. english texts, since we would rarely *actually* need all four bytes in this case.\n",
    "\n",
    "Therefore there are multiple **encodings** which govern how code points are **encoded** (i.e. converted) to bytes. For example an encoding can decide to represent some characters as a single byte, some characters as two bytes etc. We will not dive into the gritty details of encodings in this chapter since this is not essential to understand (at least not for know). But it *is essential* to realize that the *same code point* can be *converted to a different sequence of bytes depending on the encoding*.\n",
    "\n",
    "Consider the German umlaut `ä` for example. The code point of `ä` is (always) 228, because that is the code point that was assigned to `ä`. However *different encodings* will represent this code point using *different byte sequences*.\n",
    "\n",
    "For example the encoding `UTF-8` (which is the most popular encoding on the internet) will represent that code point using the following sequence of bytes."
   ]
  },
  {
   "cell_type": "code",
   "execution_count": 76,
   "id": "d9caa6c2",
   "metadata": {},
   "outputs": [],
   "source": [
    "utf8_umlaut = \"ä\".encode(\"utf-8\")"
   ]
  },
  {
   "cell_type": "code",
   "execution_count": 77,
   "id": "89ae2cae",
   "metadata": {},
   "outputs": [
    {
     "data": {
      "text/plain": [
       "2"
      ]
     },
     "execution_count": 77,
     "metadata": {},
     "output_type": "execute_result"
    }
   ],
   "source": [
    "len(utf8_umlaut)"
   ]
  },
  {
   "cell_type": "code",
   "execution_count": 78,
   "id": "91184e81",
   "metadata": {},
   "outputs": [
    {
     "data": {
      "text/plain": [
       "195"
      ]
     },
     "execution_count": 78,
     "metadata": {},
     "output_type": "execute_result"
    }
   ],
   "source": [
    "utf8_umlaut[0]"
   ]
  },
  {
   "cell_type": "code",
   "execution_count": 79,
   "id": "2cc21a38",
   "metadata": {},
   "outputs": [
    {
     "data": {
      "text/plain": [
       "164"
      ]
     },
     "execution_count": 79,
     "metadata": {},
     "output_type": "execute_result"
    }
   ],
   "source": [
    "utf8_umlaut[1]"
   ]
  },
  {
   "cell_type": "markdown",
   "id": "98fd140f",
   "metadata": {},
   "source": [
    "However the `Windows-1252` encoding (called `cp1252` for short) which is commonly used on Windows systems represents the same code point completely differently:"
   ]
  },
  {
   "cell_type": "code",
   "execution_count": 80,
   "id": "cdb05c6a",
   "metadata": {},
   "outputs": [],
   "source": [
    "cp1252_umlaut = \"ä\".encode(\"cp1252\")"
   ]
  },
  {
   "cell_type": "code",
   "execution_count": 81,
   "id": "f2b611b4",
   "metadata": {},
   "outputs": [
    {
     "data": {
      "text/plain": [
       "1"
      ]
     },
     "execution_count": 81,
     "metadata": {},
     "output_type": "execute_result"
    }
   ],
   "source": [
    "len(cp1252_umlaut)"
   ]
  },
  {
   "cell_type": "code",
   "execution_count": 82,
   "id": "da8f460a",
   "metadata": {},
   "outputs": [
    {
     "data": {
      "text/plain": [
       "228"
      ]
     },
     "execution_count": 82,
     "metadata": {},
     "output_type": "execute_result"
    }
   ],
   "source": [
    "cp1252_umlaut[0]"
   ]
  },
  {
   "cell_type": "markdown",
   "id": "b20259b3",
   "metadata": {},
   "source": [
    "All of this has an extremely important practical consequence:\n",
    "\n",
    "**If you want to know what string a sequence of bytes represents, you need to know the encoding of that sequence. The sequence of bytes by itself is (generally speaking) useless without the encoding.**\n",
    "\n",
    "Consider the following sequence of bytes: "
   ]
  },
  {
   "cell_type": "code",
   "execution_count": 83,
   "id": "aa5fc73c",
   "metadata": {},
   "outputs": [],
   "source": [
    "b = bytes([195, 164])"
   ]
  },
  {
   "cell_type": "markdown",
   "id": "f992b013",
   "metadata": {},
   "source": [
    "If that sequence of bytes has the encoding `utf-8` it represents the German umlaut `ä`:"
   ]
  },
  {
   "cell_type": "code",
   "execution_count": 86,
   "id": "a0b86b2b",
   "metadata": {},
   "outputs": [
    {
     "data": {
      "text/plain": [
       "'ä'"
      ]
     },
     "execution_count": 86,
     "metadata": {},
     "output_type": "execute_result"
    }
   ],
   "source": [
    "b.decode(\"utf-8\")"
   ]
  },
  {
   "cell_type": "markdown",
   "id": "c96b329c",
   "metadata": {},
   "source": [
    "However if that sequence of bytes has the encoding `cp-1252` it suddenly represents a *completely different* string:"
   ]
  },
  {
   "cell_type": "code",
   "execution_count": 87,
   "id": "227dfaa8",
   "metadata": {},
   "outputs": [
    {
     "data": {
      "text/plain": [
       "'Ã¤'"
      ]
     },
     "execution_count": 87,
     "metadata": {},
     "output_type": "execute_result"
    }
   ],
   "source": [
    "b.decode(\"cp1252\")"
   ]
  },
  {
   "cell_type": "markdown",
   "id": "c4abe036",
   "metadata": {},
   "source": [
    "> It should be noted that if you don't know the encoding of a string there are certain statistical methods that can be used to guess that encoding using common patterns. In addition there are some encodings that are much more common than the rest (like UTF-8 or Windows-1252). However this is all guessing and therefore not always accurate. This means that it is usually a bad idea to rely on such guesses when writing production code."
   ]
  },
  {
   "cell_type": "markdown",
   "id": "e7b6c588",
   "metadata": {},
   "source": [
    "This also means that if you write a file using one encoding and then try to read it using a different encoding, you will either get scrambled content or maybe even fail to read the file completely. This is actually a fairly common occurence if a file was created on an operating system that uses one encoding by default and then read on another operating system that uses another encoding by default.\n",
    "\n",
    "Let's see this in action. Create a text file `german.txt` with the following content:\n",
    "\n",
    "```\n",
    "A file with umlauts: ÄÖÜäöü\n",
    "```\n",
    "\n",
    "The encoding of the file should be `UTF-8`:"
   ]
  },
  {
   "cell_type": "code",
   "execution_count": 88,
   "id": "5658fb1b",
   "metadata": {},
   "outputs": [],
   "source": [
    "with open(\"german.txt\", \"w\", encoding=\"utf-8\") as german_file:\n",
    "    german_file.write(\"A file with umlauts: ÄÖÜäöü\")"
   ]
  },
  {
   "cell_type": "markdown",
   "id": "0b2ec011",
   "metadata": {},
   "source": [
    "Let's try to read the same file using a different encoding:"
   ]
  },
  {
   "cell_type": "code",
   "execution_count": 89,
   "id": "d22812e6",
   "metadata": {},
   "outputs": [],
   "source": [
    "with open(\"german.txt\", \"r\", encoding=\"cp1252\") as german_file:\n",
    "    content = german_file.read()"
   ]
  },
  {
   "cell_type": "code",
   "execution_count": 90,
   "id": "68d2bcab",
   "metadata": {},
   "outputs": [
    {
     "data": {
      "text/plain": [
       "'A file with umlauts: Ã„Ã–ÃœÃ¤Ã¶Ã¼'"
      ]
     },
     "execution_count": 90,
     "metadata": {},
     "output_type": "execute_result"
    }
   ],
   "source": [
    "content"
   ]
  },
  {
   "cell_type": "markdown",
   "id": "858ddd8c",
   "metadata": {},
   "source": [
    "Uh-oh! The content of this file is completely scrambled! This is because we tried to read it in an encoding that is different from the original encoding it was written in.\n",
    "\n",
    "Depending on the encoding, the read may even fail *completely*:"
   ]
  },
  {
   "cell_type": "code",
   "execution_count": 91,
   "id": "509fcc1f",
   "metadata": {},
   "outputs": [
    {
     "ename": "UnicodeDecodeError",
     "evalue": "'utf-16-le' codec can't decode byte 0xbc in position 32: truncated data",
     "output_type": "error",
     "traceback": [
      "\u001b[0;31m---------------------------------------------------------------------------\u001b[0m",
      "\u001b[0;31mUnicodeDecodeError\u001b[0m                        Traceback (most recent call last)",
      "Cell \u001b[0;32mIn[91], line 2\u001b[0m\n\u001b[1;32m      1\u001b[0m \u001b[38;5;28;01mwith\u001b[39;00m \u001b[38;5;28mopen\u001b[39m(\u001b[38;5;124m\"\u001b[39m\u001b[38;5;124mgerman.txt\u001b[39m\u001b[38;5;124m\"\u001b[39m, \u001b[38;5;124m\"\u001b[39m\u001b[38;5;124mr\u001b[39m\u001b[38;5;124m\"\u001b[39m, encoding\u001b[38;5;241m=\u001b[39m\u001b[38;5;124m\"\u001b[39m\u001b[38;5;124mutf-16\u001b[39m\u001b[38;5;124m\"\u001b[39m) \u001b[38;5;28;01mas\u001b[39;00m german_file:\n\u001b[0;32m----> 2\u001b[0m     content \u001b[38;5;241m=\u001b[39m \u001b[43mgerman_file\u001b[49m\u001b[38;5;241;43m.\u001b[39;49m\u001b[43mread\u001b[49m\u001b[43m(\u001b[49m\u001b[43m)\u001b[49m\n",
      "File \u001b[0;32m~/.pyenv/versions/3.10.6/lib/python3.10/codecs.py:322\u001b[0m, in \u001b[0;36mBufferedIncrementalDecoder.decode\u001b[0;34m(self, input, final)\u001b[0m\n\u001b[1;32m    319\u001b[0m \u001b[38;5;28;01mdef\u001b[39;00m \u001b[38;5;21mdecode\u001b[39m(\u001b[38;5;28mself\u001b[39m, \u001b[38;5;28minput\u001b[39m, final\u001b[38;5;241m=\u001b[39m\u001b[38;5;28;01mFalse\u001b[39;00m):\n\u001b[1;32m    320\u001b[0m     \u001b[38;5;66;03m# decode input (taking the buffer into account)\u001b[39;00m\n\u001b[1;32m    321\u001b[0m     data \u001b[38;5;241m=\u001b[39m \u001b[38;5;28mself\u001b[39m\u001b[38;5;241m.\u001b[39mbuffer \u001b[38;5;241m+\u001b[39m \u001b[38;5;28minput\u001b[39m\n\u001b[0;32m--> 322\u001b[0m     (result, consumed) \u001b[38;5;241m=\u001b[39m \u001b[38;5;28;43mself\u001b[39;49m\u001b[38;5;241;43m.\u001b[39;49m\u001b[43m_buffer_decode\u001b[49m\u001b[43m(\u001b[49m\u001b[43mdata\u001b[49m\u001b[43m,\u001b[49m\u001b[43m \u001b[49m\u001b[38;5;28;43mself\u001b[39;49m\u001b[38;5;241;43m.\u001b[39;49m\u001b[43merrors\u001b[49m\u001b[43m,\u001b[49m\u001b[43m \u001b[49m\u001b[43mfinal\u001b[49m\u001b[43m)\u001b[49m\n\u001b[1;32m    323\u001b[0m     \u001b[38;5;66;03m# keep undecoded input until the next call\u001b[39;00m\n\u001b[1;32m    324\u001b[0m     \u001b[38;5;28mself\u001b[39m\u001b[38;5;241m.\u001b[39mbuffer \u001b[38;5;241m=\u001b[39m data[consumed:]\n",
      "File \u001b[0;32m~/.pyenv/versions/3.10.6/lib/python3.10/encodings/utf_16.py:61\u001b[0m, in \u001b[0;36mIncrementalDecoder._buffer_decode\u001b[0;34m(self, input, errors, final)\u001b[0m\n\u001b[1;32m     58\u001b[0m \u001b[38;5;28;01mdef\u001b[39;00m \u001b[38;5;21m_buffer_decode\u001b[39m(\u001b[38;5;28mself\u001b[39m, \u001b[38;5;28minput\u001b[39m, errors, final):\n\u001b[1;32m     59\u001b[0m     \u001b[38;5;28;01mif\u001b[39;00m \u001b[38;5;28mself\u001b[39m\u001b[38;5;241m.\u001b[39mdecoder \u001b[38;5;129;01mis\u001b[39;00m \u001b[38;5;28;01mNone\u001b[39;00m:\n\u001b[1;32m     60\u001b[0m         (output, consumed, byteorder) \u001b[38;5;241m=\u001b[39m \\\n\u001b[0;32m---> 61\u001b[0m             \u001b[43mcodecs\u001b[49m\u001b[38;5;241;43m.\u001b[39;49m\u001b[43mutf_16_ex_decode\u001b[49m\u001b[43m(\u001b[49m\u001b[38;5;28;43minput\u001b[39;49m\u001b[43m,\u001b[49m\u001b[43m \u001b[49m\u001b[43merrors\u001b[49m\u001b[43m,\u001b[49m\u001b[43m \u001b[49m\u001b[38;5;241;43m0\u001b[39;49m\u001b[43m,\u001b[49m\u001b[43m \u001b[49m\u001b[43mfinal\u001b[49m\u001b[43m)\u001b[49m\n\u001b[1;32m     62\u001b[0m         \u001b[38;5;28;01mif\u001b[39;00m byteorder \u001b[38;5;241m==\u001b[39m \u001b[38;5;241m-\u001b[39m\u001b[38;5;241m1\u001b[39m:\n\u001b[1;32m     63\u001b[0m             \u001b[38;5;28mself\u001b[39m\u001b[38;5;241m.\u001b[39mdecoder \u001b[38;5;241m=\u001b[39m codecs\u001b[38;5;241m.\u001b[39mutf_16_le_decode\n",
      "\u001b[0;31mUnicodeDecodeError\u001b[0m: 'utf-16-le' codec can't decode byte 0xbc in position 32: truncated data"
     ]
    }
   ],
   "source": [
    "with open(\"german.txt\", \"r\", encoding=\"utf-16\") as german_file:\n",
    "    content = german_file.read()"
   ]
  },
  {
   "cell_type": "markdown",
   "id": "16aa2ede",
   "metadata": {},
   "source": [
    "This is actually better than scrambled content because of the following general programming principle:\n",
    "\n",
    "**It's better to crash than to proceed with invalid data**.\n",
    "\n",
    "The reason for this is simple: If you crash, then at least you know you have an error. If you proceed with invalid data, then you may never know that you have an error until something really bad happens much later.\n",
    "\n",
    "Consider a file that contains bank transactions. If you fail to read this file, then you know that your software has an error and you may try to fix it. But if you proceed with scrambled content, you may process completely wrong transactions resulting in *a lot* of headaches for *a lot* of people (including *you*)."
   ]
  }
 ],
 "metadata": {
  "kernelspec": {
   "display_name": "Python 3 (ipykernel)",
   "language": "python",
   "name": "python3"
  },
  "language_info": {
   "codemirror_mode": {
    "name": "ipython",
    "version": 3
   },
   "file_extension": ".py",
   "mimetype": "text/x-python",
   "name": "python",
   "nbconvert_exporter": "python",
   "pygments_lexer": "ipython3",
   "version": "3.10.6"
  }
 },
 "nbformat": 4,
 "nbformat_minor": 5
}
