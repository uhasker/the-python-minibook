{
 "cells": [
  {
   "cell_type": "markdown",
   "id": "bb8d14b7",
   "metadata": {},
   "source": [
    "# Chapter 1. Installation"
   ]
  },
  {
   "cell_type": "markdown",
   "id": "2d1210ce",
   "metadata": {},
   "source": [
    "## Install Python (Windows)"
   ]
  },
  {
   "cell_type": "markdown",
   "id": "615b39f5",
   "metadata": {},
   "source": [
    "Go to https://www.python.org/downloads/:\n",
    "\n",
    "![](images/installation.png)"
   ]
  },
  {
   "cell_type": "markdown",
   "id": "d751b60b",
   "metadata": {},
   "source": [
    "Click the \"Download\" button (note that by the time you are reading this book the displayed Python version might be different). This will download an `exe` file. Start the `exe` file which will show a screen:\n",
    "\n",
    "![](images/installation2.png)\n",
    "\n",
    "Note that its important that the \"Add python.exe to PATH\" is checked. If it is not, you need to check it yourself. This is needed so that Python will be found on your system later on when we execute commands.\n",
    "\n",
    "After the installation is done, you should see the following:\n",
    "\n",
    "![](images/installation3.png)"
   ]
  },
  {
   "cell_type": "markdown",
   "id": "2afb3d55",
   "metadata": {},
   "source": [
    "## Start a command line (Windows)"
   ]
  },
  {
   "cell_type": "markdown",
   "id": "5f3bc0a1",
   "metadata": {},
   "source": [
    "Next we open a **command line** on our computer to execute the Python **interpreter** which will allow us to write and execute Python programs.\n",
    "\n",
    "On Windows, you can open the command line by opening the \"Run\" window using Win + R, typing `cmd` and pressing the \"Ok\" button:\n",
    "\n",
    "![](images/run-window.png)\n",
    "\n",
    "Alternatively you can type \"cmd\" into the search field. An app called \"command prompt\" should show up. Simply click the app and a CLI should open:\n",
    "\n",
    "![](images/search-field.png)\n",
    "\n",
    "Next we type `python` in the command line to open a Python **REPL** (short for Read, Eval, Print, Loop) which allows you to interact with the Python interpreter."
   ]
  },
  {
   "cell_type": "markdown",
   "id": "42a754f6",
   "metadata": {},
   "source": [
    "Now type the following and hit `Return` (`Enter`):"
   ]
  },
  {
   "cell_type": "code",
   "execution_count": null,
   "id": "138de1a2",
   "metadata": {},
   "outputs": [],
   "source": [
    "print(\"Hello, World!\")\n",
    "\n",
    "# You should see the output below\n",
    "# vvvvvvvvvvvvvvvvvvvvvvvvvvvvvvv"
   ]
  },
  {
   "cell_type": "markdown",
   "id": "6f88c00e",
   "metadata": {},
   "source": [
    "The `\"Hello, World!\"` is a **literal**, which is a way to represent fixed value in code.\n",
    "\n",
    "Congratulations! You just executed your first Python **statement** from the REPL. Whenever you wish to execute a statement in the REPL you need to type the statement and then hit `Return` (`Enter`).\n",
    "\n",
    "Alternatively we could write this:"
   ]
  },
  {
   "cell_type": "code",
   "execution_count": null,
   "id": "f7743c0e",
   "metadata": {},
   "outputs": [],
   "source": [
    "\"Hello, World!\""
   ]
  },
  {
   "cell_type": "markdown",
   "id": "708a090d",
   "metadata": {},
   "source": [
    "Note that there is a subtle difference between outputting something with `print` versus just writing it down. The `print` outputs the a user-readable value. However if we just write the value in the REPL, we get a representation of that value. You can already see that difference. If you look closely `print(\"Hello, World!\")` outputs `Hello, World!`, whereas just writing `'Hello, World!'` outputs `'Hello, World!'` (note the single quotes).\n",
    "\n",
    "We can also write **scripts**, which are files that contain code. Create a file named `hello.py` and write `print(\"Hello, World!\")` into it. Then do the following from a command line:\n",
    "\n",
    "```\n",
    "python hello.py\n",
    "```\n",
    "\n",
    "This should again print `Hello, World!`.\n",
    "\n",
    "If you are executing code from a script and you want to print values, you will always need to `print` them. Just writing the values down won't work."
   ]
  },
  {
   "cell_type": "markdown",
   "id": "63ada0f2",
   "metadata": {},
   "source": [
    "## Comments"
   ]
  },
  {
   "cell_type": "markdown",
   "id": "58aef035",
   "metadata": {},
   "source": [
    "Python has special statements called **comments**. These start with `#` and are ignored by the interpreter:"
   ]
  },
  {
   "cell_type": "code",
   "execution_count": null,
   "id": "1160448e",
   "metadata": {},
   "outputs": [],
   "source": [
    "# I am a comment!"
   ]
  },
  {
   "cell_type": "markdown",
   "id": "2d47cc50",
   "metadata": {},
   "source": [
    "Comments are generally used to document what a piece of code is doing."
   ]
  }
 ],
 "metadata": {
  "kernelspec": {
   "display_name": "Python 3 (ipykernel)",
   "language": "python",
   "name": "python3"
  },
  "language_info": {
   "codemirror_mode": {
    "name": "ipython",
    "version": 3
   },
   "file_extension": ".py",
   "mimetype": "text/x-python",
   "name": "python",
   "nbconvert_exporter": "python",
   "pygments_lexer": "ipython3",
   "version": "3.10.6"
  }
 },
 "nbformat": 4,
 "nbformat_minor": 5
}
