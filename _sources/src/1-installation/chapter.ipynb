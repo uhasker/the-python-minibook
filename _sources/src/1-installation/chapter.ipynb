{
 "cells": [
  {
   "cell_type": "markdown",
   "id": "bb8d14b7",
   "metadata": {},
   "source": [
    "# Chapter 1. Fundamentals"
   ]
  },
  {
   "cell_type": "markdown",
   "id": "3fcc7bd2",
   "metadata": {},
   "source": [
    "## Programming languages"
   ]
  },
  {
   "cell_type": "markdown",
   "id": "1f2382b0",
   "metadata": {},
   "source": [
    "A **program** is a sequence of instructions for a computer to execute. For example [Adobe Photoshop](https://en.wikipedia.org/wiki/Adobe_Photoshop) is a program, as is [Microsoft Paint](https://en.wikipedia.org/wiki/Microsoft_Paint). Even though these two programs are of different quality, they are both contain sequences of instructions like \"add these two numbers\", \"draw line\", \"recognize this face\" that are then executed by your computer.\n",
    "\n",
    "A program is generally written in a **programming language**. A programming language is usually very different from a natural language like English. If I say something like \"Python is awesome programming language\", then despite the fact that there is a grammar error (did you notice the missing article?) you are still able to understand me.\n",
    "\n",
    "With computer the picture is very different. We need to be very formal and precise when \"speaking in\" a programming language. A missing character can make the difference between a perfectly working program and a total disaster.\n",
    "\n",
    "One of the most popular and beginner-friendly languages is **Python**. This book will introduce you to the most important concepts of Python and teach you to create working software. Note that the goal isn't to introduce you *to every single Python feature* (which is impossible in a single book). Most of these features will not be terribly important at the beginning of your software developer career anyway. Instead the goal is to teach you the most important practical concepts that you need to write code that *won't* make the eyes of your fellow developers bleed.\n",
    "\n",
    "However this is not a book that just teaches you if statements, for loops and functions and leaves it at that. We will dive into certain topics that are often left out of beginner books, but are *extremely important* in the real world like the *dreaded* encodings or how to work with third-party packages."
   ]
  },
  {
   "cell_type": "markdown",
   "id": "2d1210ce",
   "metadata": {},
   "source": [
    "## Installing a Python runtime"
   ]
  },
  {
   "cell_type": "markdown",
   "id": "615b39f5",
   "metadata": {},
   "source": [
    "Python is a great programming language. But even the best programming language is useless, without a **runtime environment** (or just runtime for short) to execute it. Some languages can use a runtime that is already present on your operating system. However Python requires a special runtime which we will download now.\n",
    "\n",
    "There are multiple runtimes for Python, the most popular one is **CPython**. Go to https://www.python.org/downloads/ to download it:\n",
    "\n",
    "![](images/installation.png)"
   ]
  },
  {
   "cell_type": "markdown",
   "id": "d751b60b",
   "metadata": {},
   "source": [
    "Click the \"Download\" button to download the runtime installer.\n",
    "\n",
    "Note that by the time you are reading this book the displayed Python version might be different. The precise version doesn't really matter for the purposes of this book. The only caveat is that you *should only use Python 3 and never Python 2*. Python 2 is no longer maintained and should therefore never be used for new projects. In this case we download Python 3.11.0 which is fine.\n",
    "\n",
    "Depending on your operating system the \"Download\" button will download a different executable. Proceed with the instructions depending on whether you are on Windows or macOS."
   ]
  },
  {
   "cell_type": "markdown",
   "id": "99b81593",
   "metadata": {},
   "source": [
    "### Installing a Python runtime on Windows"
   ]
  },
  {
   "cell_type": "markdown",
   "id": "c4994a98",
   "metadata": {},
   "source": [
    "This will download an `exe` file. Start the `exe` file which will show a screen:\n",
    "\n",
    "![](images/installation2.png)\n",
    "\n",
    "Note that its important that the \"Add python.exe to PATH\" is checked. If it is not, you need to check it yourself. This is needed so that Python will be found on your system later on when we execute commands.\n",
    "\n",
    "After the installation is done, you should see the following:\n",
    "\n",
    "![](images/installation3.png)\n",
    "\n",
    "Next we open a **command line** on our computer to execute the Python **interpreter** which will allow us to write and execute Python programs.\n",
    "\n",
    "On Windows, you can open the command line by opening the \"Run\" window using Win + R, typing `cmd` and pressing the \"Ok\" button:\n",
    "\n",
    "![](images/run-window.png)\n",
    "\n",
    "Alternatively you can type \"cmd\" into the search field. An app called \"command prompt\" should show up. Simply click the app and a CLI should open:\n",
    "\n",
    "![](images/search-field.png)\n",
    "\n",
    "Next we type `python` in the command line to open a Python **REPL** (short for Read, Eval, Print, Loop) which allows you to interact with the Python interpreter.\n",
    "\n",
    "Now move on to the next subsection."
   ]
  },
  {
   "cell_type": "markdown",
   "id": "a49137b6",
   "metadata": {},
   "source": [
    "### Installing a Python runtime on macOS"
   ]
  },
  {
   "cell_type": "markdown",
   "id": "26dfa206",
   "metadata": {},
   "source": [
    "TODO"
   ]
  },
  {
   "cell_type": "markdown",
   "id": "665189ef",
   "metadata": {},
   "source": [
    "## Inside the Python runtime"
   ]
  },
  {
   "cell_type": "markdown",
   "id": "42a754f6",
   "metadata": {},
   "source": [
    "The two most important programming constructs are **statements** and **expressions**. A statement tells the runtime to execute an action. An expression is something that can be evaluated to a value.\n",
    "\n",
    "Let us type the following statement in the REPL we just opened and hit `Return` (`Enter`):"
   ]
  },
  {
   "cell_type": "code",
   "execution_count": null,
   "id": "138de1a2",
   "metadata": {},
   "outputs": [],
   "source": [
    "print(\"Hello, World!\")"
   ]
  },
  {
   "cell_type": "markdown",
   "id": "6f88c00e",
   "metadata": {},
   "source": [
    "As you can see this statement tells the runtime to display `\"Hello, World!\"`.\n",
    "\n",
    "Note that `\"Hello, World!\"` is a special expression called a **literal**, which is a way to represent a fixed value in your code.\n",
    "\n",
    "Congratulations! You just executed your first Python statement from the REPL! Whenever you wish to execute a statement in the REPL you need to type the statement and then hit `Return` (`Enter`).\n",
    "\n",
    "We should note that we could also just write an expression in the REPL. Try simply typing `\"Hello, World!\"`:"
   ]
  },
  {
   "cell_type": "code",
   "execution_count": null,
   "id": "f7743c0e",
   "metadata": {},
   "outputs": [],
   "source": [
    "\"Hello, World!\""
   ]
  },
  {
   "cell_type": "markdown",
   "id": "708a090d",
   "metadata": {},
   "source": [
    "Note that there is a subtle difference between outputting a value with `print` versus just writing the value in the REPL. The `print` outputs the a user-readable value. However if we just write the value in the REPL, we get an *unambiguous representation* of that value. We can actually already see the difference. If you look closely `print(\"Hello, World!\")` outputs `Hello, World!`, whereas just writing `'Hello, World!'` outputs `'Hello, World!'` (note the single quotes)."
   ]
  },
  {
   "cell_type": "markdown",
   "id": "5cdd8474",
   "metadata": {},
   "source": [
    "## Scripts"
   ]
  },
  {
   "cell_type": "markdown",
   "id": "1c243cea",
   "metadata": {},
   "source": [
    "Executing statements from the REPL is all fine and dandy for learning. However we can't instruct our users to write statements in the REPL to execute our programs.\n",
    "\n",
    "Therefore Python allows us to write **scripts**, which are files that contain Python code. These files can the be executed, which will execute all statements in the file.\n",
    "\n",
    "Let us a file named `hello.py` and write `print(\"Hello, World!\")` to that file. The content of your file should therefore look like this:\n",
    "\n",
    "```python\n",
    "print(\"Hello, World!\")\n",
    "```\n",
    "\n",
    "Then we execute the following from a command line:\n",
    "\n",
    "```\n",
    "python hello.py\n",
    "```\n",
    "\n",
    "This should again print `Hello, World!`.\n",
    "\n",
    "If you are executing code from a script and you want to print values, you will always need to `print` them. Just writing the values down won't work. For example, try creating a file `hello2.py` with the following content:\n",
    "\n",
    "```python\n",
    "\"Hello, World!\"\n",
    "```\n",
    "\n",
    "Now execute the file using the command line:\n",
    "\n",
    "```\n",
    "python hello2.py\n",
    "```\n",
    "\n",
    "As you can see, nothing happens.\n",
    "\n",
    "This is important to remember - if you wish to show output when executing a file, you will need to use `print`, you *can't just write down an expression*. But inside a REPL you can just write down an expression and the REPL will show the resulting value."
   ]
  },
  {
   "cell_type": "markdown",
   "id": "63ada0f2",
   "metadata": {},
   "source": [
    "## Comments"
   ]
  },
  {
   "cell_type": "markdown",
   "id": "58aef035",
   "metadata": {},
   "source": [
    "Python has special statements called **comments**. These start with `#` and are ignored by the interpreter:"
   ]
  },
  {
   "cell_type": "code",
   "execution_count": null,
   "id": "1160448e",
   "metadata": {},
   "outputs": [],
   "source": [
    "# I am a comment!"
   ]
  },
  {
   "cell_type": "markdown",
   "id": "2d47cc50",
   "metadata": {},
   "source": [
    "Comments are generally used to document what a piece of code is doing."
   ]
  },
  {
   "cell_type": "markdown",
   "id": "8fc67be2",
   "metadata": {},
   "source": [
    "## Style guide"
   ]
  },
  {
   "cell_type": "markdown",
   "id": "365c8a44",
   "metadata": {},
   "source": [
    "As long as the code you write is syntactically valid, you can *technically* write Python code however you wish. For example this is another way to output `\"Hello, World!\"`:"
   ]
  },
  {
   "cell_type": "code",
   "execution_count": null,
   "id": "3093b48e",
   "metadata": {},
   "outputs": [],
   "source": [
    "print ( \"Hello, World!\"  )"
   ]
  },
  {
   "cell_type": "markdown",
   "id": "a0efa8ef",
   "metadata": {},
   "source": [
    "However this statement looks ugly. Writing software means that you will be reading *a lot* of code. If that code isn't properly formatted it's harder to understand, harder to maintain and just straight up annoying. Luckily for us, Python has a style guide outlined in [Python Enhancement Proposal #8](https://peps.python.org/pep-0008/) (PEP8 for short). Python programmers are *strongly encouraged* to follow this style guide.\n",
    "\n",
    "> By strongly encouraged we mean that if you don't follow PEP8 a horde of Python programmers will hunt you down and force you to write COBOL. You don't want to write COBOL.\n",
    "\n",
    "Because we want you to follow best practices (and not be hunted down by a horde of Python programmers), we will occasionally add a note that looks like this:\n",
    "\n",
    "> PEP8 note: The flunkie should be formatted in such a way, that the flunkifier is flunkified.\n",
    "\n",
    "We will keep this to a minimum, since we will introduce a tool in the later chapter, that will help us automate the formatting process. Nevertheless you should know that PEP8 exists, that you should adhere to it and keep a few very basic PEP8 rules in mind."
   ]
  }
 ],
 "metadata": {
  "kernelspec": {
   "display_name": "Python 3 (ipykernel)",
   "language": "python",
   "name": "python3"
  },
  "language_info": {
   "codemirror_mode": {
    "name": "ipython",
    "version": 3
   },
   "file_extension": ".py",
   "mimetype": "text/x-python",
   "name": "python",
   "nbconvert_exporter": "python",
   "pygments_lexer": "ipython3",
   "version": "3.8.11"
  }
 },
 "nbformat": 4,
 "nbformat_minor": 5
}
