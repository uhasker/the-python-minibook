{
 "cells": [
  {
   "cell_type": "markdown",
   "id": "d78bb502",
   "metadata": {},
   "source": [
    "# Chapter 3. Functions"
   ]
  },
  {
   "cell_type": "markdown",
   "id": "25ea0d91",
   "metadata": {},
   "source": [
    "## Why functions?"
   ]
  },
  {
   "cell_type": "markdown",
   "id": "deb0f59d",
   "metadata": {},
   "source": [
    "The most important concept in Python and arguably in all of programming is that of a **function**. Functions are *reusable blocks of code*.\n",
    "\n",
    "Consider the following example. We are writing an application for handling tournaments and want to compute player ratings using the [ELO rating system](https://en.wikipedia.org/wiki/Elo_rating_system). This system works by calculating the probabilities of the players winning (i.e. the expected scores) and then obtaining a new rating from those probabilities and the old ratings.\n",
    "\n",
    "For example let's say that the first player has the rating `1000` and the second player has the rating `1500`:"
   ]
  },
  {
   "cell_type": "code",
   "execution_count": null,
   "id": "006671bf",
   "metadata": {},
   "outputs": [],
   "source": [
    "rating1 = 1000\n",
    "rating2 = 1500"
   ]
  },
  {
   "cell_type": "markdown",
   "id": "f8ef302c",
   "metadata": {},
   "source": [
    "We can calculate the expected score of the first player as following:"
   ]
  },
  {
   "cell_type": "code",
   "execution_count": null,
   "id": "1e3599a4",
   "metadata": {},
   "outputs": [],
   "source": [
    "expected1 = 1 / (1 + 10 ** ((rating2 - rating1) / 400))"
   ]
  },
  {
   "cell_type": "code",
   "execution_count": null,
   "id": "2c1f2509",
   "metadata": {},
   "outputs": [],
   "source": [
    "expected1"
   ]
  },
  {
   "cell_type": "markdown",
   "id": "bd2ca6f0",
   "metadata": {},
   "source": [
    "Don't spend too much time worrying about the details of this formula. Basically, the higher the difference between `rating2` and `rating1` the lower the expected score of the first player becomes. This makes sense, since if the first player has a substantially lower rating than the second player, we don't expect him to achieve a high score. Additionally, the score is normalized to be between `0` and `1`. An expected score of `0` means that the first player has no chance of winning. An expected score of `1` means that the first player will definitely win.\n",
    "\n",
    "In this particular case we see that the expected score of the first player is very small, which makes sense since the first player is very unlikely to win this game. The expected score of the second player can be calculated in a similar manner:"
   ]
  },
  {
   "cell_type": "code",
   "execution_count": null,
   "id": "3bb28aa5",
   "metadata": {},
   "outputs": [],
   "source": [
    "expected2 = 1 / (1 + 10 ** ((rating1 - rating2) / 400))"
   ]
  },
  {
   "cell_type": "code",
   "execution_count": null,
   "id": "f6d5d3d3",
   "metadata": {},
   "outputs": [],
   "source": [
    "expected2"
   ]
  },
  {
   "cell_type": "markdown",
   "id": "fa85b8cc",
   "metadata": {},
   "source": [
    "Let's say that the first player won the game. In that case the rating update can be performed like this:"
   ]
  },
  {
   "cell_type": "code",
   "execution_count": null,
   "id": "f4d38154",
   "metadata": {},
   "outputs": [],
   "source": [
    "new_rating1 = rating1 + 32 * (1 - expected1)\n",
    "new_rating2 = rating2 + 32 * (0 - expected2)"
   ]
  },
  {
   "cell_type": "code",
   "execution_count": null,
   "id": "b530f25f",
   "metadata": {},
   "outputs": [],
   "source": [
    "new_rating1"
   ]
  },
  {
   "cell_type": "code",
   "execution_count": null,
   "id": "bead075c",
   "metadata": {},
   "outputs": [],
   "source": [
    "new_rating2"
   ]
  },
  {
   "cell_type": "markdown",
   "id": "8aa169c9",
   "metadata": {},
   "source": [
    "We can see that the rating of the first player has increased since he won against a stronger player. Meanwhile the rating of the second player has decreased since he lost against a weaker player.\n",
    "\n",
    "Let's find out what happens, if the first player loses the game:"
   ]
  },
  {
   "cell_type": "code",
   "execution_count": null,
   "id": "742f190a",
   "metadata": {},
   "outputs": [],
   "source": [
    "rating1 = 1000\n",
    "rating2 = 1500\n",
    "\n",
    "new_rating1 = rating1 + 32 * (0 - expected1)\n",
    "new_rating2 = rating2 + 32 * (1 - expected2)"
   ]
  },
  {
   "cell_type": "code",
   "execution_count": null,
   "id": "c488d72c",
   "metadata": {},
   "outputs": [],
   "source": [
    "new_rating1"
   ]
  },
  {
   "cell_type": "code",
   "execution_count": null,
   "id": "c18c3d26",
   "metadata": {},
   "outputs": [],
   "source": [
    "new_rating2"
   ]
  },
  {
   "cell_type": "markdown",
   "id": "9a98962c",
   "metadata": {},
   "source": [
    "This makes sense, too. The rating of the second player increased because he won. However the increase was very small, because the second player is much stronger than the first player according to the ratings.\n",
    "\n",
    "We can already see how *duplicate code* is creeping into out application. After all, this calculation would have to be done quite often, which would result in a lot of tedious repetition of code.\n",
    "\n",
    "This has several drawbacks. \n",
    "\n",
    "First of all, *we would have to repeat the exact same code over and over again, which costs time and with each repetition we become more likely to introduce a mistake somewhere*.\n",
    "\n",
    "Second, if we want to change the rating calculation at some point, *we would need to adjust it in every place the calculation happens*. This, again, costs time and if we forget to do it somewhere, then some of the code will still be using old calculation, which will result in bugs.\n",
    "\n",
    "Instead of going through all this tedium, let us define the calculation in *a single place* by using a function. If we do that, we can use simply use that function every time we need to do the calculation."
   ]
  },
  {
   "cell_type": "markdown",
   "id": "cea77b70",
   "metadata": {},
   "source": [
    "## Defining and calling functions"
   ]
  },
  {
   "cell_type": "markdown",
   "id": "b868a24b",
   "metadata": {},
   "source": [
    "We **define** a function using the `def` keyword followed by the function name and parentheses `()`. After that a **function body** follows which contains the function implementation (i.e. the code that we want to store inside the function).\n",
    "\n",
    "For example here is a function that prints a greeting. This function is super useful, but it will serve to illustrate a few important concepts:"
   ]
  },
  {
   "cell_type": "code",
   "execution_count": null,
   "id": "bb5e30a3",
   "metadata": {},
   "outputs": [],
   "source": [
    "# Function definition below\n",
    "# vvvvvvvvvvvvvvvvvvvvvvvvv\n",
    "\n",
    "def print_greeting():\n",
    "    # Function body\n",
    "    print(\"Hello, user\")"
   ]
  },
  {
   "cell_type": "markdown",
   "id": "0b13407b",
   "metadata": {},
   "source": [
    "Here is how this function would look like in a real codebase (i.e. without the distracting comments):"
   ]
  },
  {
   "cell_type": "code",
   "execution_count": null,
   "id": "4772a95c",
   "metadata": {},
   "outputs": [],
   "source": [
    "def print_greeting():\n",
    "    print(\"Hello, user\")"
   ]
  },
  {
   "cell_type": "markdown",
   "id": "b3c8d79e",
   "metadata": {},
   "source": [
    "Do note that the `print` statement must be *indented using either 4 spaces or a single tab*. If you don't indent it this way, you will get an error:"
   ]
  },
  {
   "cell_type": "code",
   "execution_count": null,
   "id": "56a176be",
   "metadata": {},
   "outputs": [],
   "source": [
    "def print_greeting():\n",
    "print(\"Hello, user\")"
   ]
  },
  {
   "cell_type": "markdown",
   "id": "28a2b127",
   "metadata": {},
   "source": [
    "The Python style guide outlined in [PEP8](https://peps.python.org/pep-0008/) specifies that you should indent the code using *4 spaces*. However when working in a REPL it's common practice to indent code using tabs, because you need to type less characters that way.\n",
    "\n",
    "If the function body has multiple statements, you must *indent them all*:"
   ]
  },
  {
   "cell_type": "code",
   "execution_count": null,
   "id": "abe437fa",
   "metadata": {},
   "outputs": [],
   "source": [
    "def print_greetings():\n",
    "    print(\"Hello, user\")\n",
    "    print(\"Hello, other user\")"
   ]
  },
  {
   "cell_type": "markdown",
   "id": "01f34b84",
   "metadata": {},
   "source": [
    "You *can't mix spaces and tabs* when indenting multiple statements. For example, in this function definition we indent the first line using 4 spaces and the second line using a tab:"
   ]
  },
  {
   "cell_type": "code",
   "execution_count": null,
   "id": "ba7f1653",
   "metadata": {},
   "outputs": [],
   "source": [
    "def print_greetings():\n",
    "    print(\"Hello, user\")\n",
    "\tprint(\"Hello, other user\")"
   ]
  },
  {
   "cell_type": "markdown",
   "id": "6bf4ed9f",
   "metadata": {},
   "source": [
    "We can execute the function body with a **function call**. To call a function we write the function name followed by parentheses `()`. No `def` keyword is present in a function call:"
   ]
  },
  {
   "cell_type": "code",
   "execution_count": null,
   "id": "b89c1eb3",
   "metadata": {},
   "outputs": [],
   "source": [
    "print_greeting()"
   ]
  },
  {
   "cell_type": "code",
   "execution_count": null,
   "id": "4d5c78d3",
   "metadata": {},
   "outputs": [],
   "source": [
    "print_greetings()"
   ]
  },
  {
   "cell_type": "markdown",
   "id": "ee6fabe4",
   "metadata": {},
   "source": [
    "Hooray! We just wrote our very first function! Go tell all your friends about it!\n",
    "\n",
    "However to make our functions useful, we should give them parameters that we can use to *customize their behaviour*."
   ]
  },
  {
   "cell_type": "markdown",
   "id": "9e5a1d49",
   "metadata": {},
   "source": [
    "## Function parameters and arguments"
   ]
  },
  {
   "cell_type": "markdown",
   "id": "d3bd940b",
   "metadata": {},
   "source": [
    "Functions can take **parameters** between the parentheses which allow us to pass additional values to the function in function call. These parameters may then be used inside the function body just like regular variables.\n",
    "\n",
    "Consider a function that should print a greeting given a name. We would write it like this:"
   ]
  },
  {
   "cell_type": "code",
   "execution_count": null,
   "id": "22924916",
   "metadata": {},
   "outputs": [],
   "source": [
    "def print_greeting(name):\n",
    "    print(f\"Hello {name}\")"
   ]
  },
  {
   "cell_type": "markdown",
   "id": "5c299f56",
   "metadata": {},
   "source": [
    "Here `name` is a parameter.\n",
    "\n",
    "When calling a function with parameters, we must pass **arguments** to the function which are then assigned to the parameters:"
   ]
  },
  {
   "cell_type": "code",
   "execution_count": null,
   "id": "635d8575",
   "metadata": {},
   "outputs": [],
   "source": [
    "print_greeting(\"John\")"
   ]
  },
  {
   "cell_type": "markdown",
   "id": "bb8662df",
   "metadata": {},
   "source": [
    "The string `\"John\"` is an argument which will be assigned to the parameter `name`.\n",
    "\n",
    "We could also write the function call like this:"
   ]
  },
  {
   "cell_type": "code",
   "execution_count": null,
   "id": "88975ccc",
   "metadata": {},
   "outputs": [],
   "source": [
    "print_greeting(name=\"John\")"
   ]
  },
  {
   "cell_type": "markdown",
   "id": "e0529552",
   "metadata": {},
   "source": [
    "A function can take multiple parameters, in which case they are separated by a comma:"
   ]
  },
  {
   "cell_type": "code",
   "execution_count": null,
   "id": "b9bfb4a6",
   "metadata": {},
   "outputs": [],
   "source": [
    "def print_complex_greeting(first_name, last_name):\n",
    "    print(f\"Hello {first_name} {last_name}\")"
   ]
  },
  {
   "cell_type": "markdown",
   "id": "837b1f9b",
   "metadata": {},
   "source": [
    "If a function takes multiple parameters, the arguments to that function are also separated by commas:"
   ]
  },
  {
   "cell_type": "code",
   "execution_count": null,
   "id": "d1a048ee",
   "metadata": {},
   "outputs": [],
   "source": [
    "print_complex_greeting(\"John\", \"Doe\")"
   ]
  },
  {
   "cell_type": "markdown",
   "id": "dfead7df",
   "metadata": {},
   "source": [
    "These arguments are called a **positional argument** because the parameters they will be assigned to are determined from their position. Since `\"John\"` appears as the first argument in the call, it will be assigned to the first parameter (`first_name`). `\"Doe\"` appears as the second argument in the call and will therefore be assigned to the second parameter (`last_name`).\n",
    "\n",
    "Alternatively we could write the above function call like this:"
   ]
  },
  {
   "cell_type": "code",
   "execution_count": null,
   "id": "af1d1547",
   "metadata": {},
   "outputs": [],
   "source": [
    "print_complex_greeting(first_name=\"John\", last_name=\"Doe\")"
   ]
  },
  {
   "cell_type": "markdown",
   "id": "54722cc9",
   "metadata": {},
   "source": [
    "Now these arguments are **keyword arguments** because the parameters they will be assigned to are determined from the parameter names. This means that `\"John\"` will be assigned to `first_name` and `\"Doe\"` will be assigned to `last_name`.\n",
    "\n",
    "If we use keyword arguments, the order of the arguments plays no role. For example this function call is also equivalent to the two preceding function calls: "
   ]
  },
  {
   "cell_type": "code",
   "execution_count": null,
   "id": "de3e2a33",
   "metadata": {},
   "outputs": [],
   "source": [
    "print_complex_greeting(last_name=\"Doe\", first_name=\"John\")"
   ]
  },
  {
   "cell_type": "markdown",
   "id": "418000a3",
   "metadata": {},
   "source": [
    "However if we use positional arguments, the order of arguments *does play a role*. For example this function call is *not* equivalent to the previous function calls:"
   ]
  },
  {
   "cell_type": "code",
   "execution_count": null,
   "id": "45a5f8d1",
   "metadata": {},
   "outputs": [],
   "source": [
    "print_complex_greeting(\"Doe\", \"John\")"
   ]
  },
  {
   "cell_type": "markdown",
   "id": "b05cfa2e",
   "metadata": {},
   "source": [
    "Note that positional argument and keyword arguments can be mixed:"
   ]
  },
  {
   "cell_type": "code",
   "execution_count": null,
   "id": "0218f249",
   "metadata": {},
   "outputs": [],
   "source": [
    "print_complex_greeting(\"John\", last_name=\"Doe\")"
   ]
  },
  {
   "cell_type": "markdown",
   "id": "006cbecf",
   "metadata": {},
   "source": [
    "You must be careful when mixing positional and keyword arguments. For example, the following function call is not valid:"
   ]
  },
  {
   "cell_type": "code",
   "execution_count": null,
   "id": "95c0a865",
   "metadata": {},
   "outputs": [],
   "source": [
    "print_complex_greeting(\"Doe\", first_name=\"John\")"
   ]
  },
  {
   "cell_type": "markdown",
   "id": "00e958c2",
   "metadata": {},
   "source": [
    "This is because `\"Doe\"` will be assigned to `first_name` since it's the first positional argument and `\"John\"` will also be assigned to `first_name`, because we it's a keyword argument with the `first_name` keyword.\n",
    "\n",
    "The following is also invalid, because Python does not allow positional arguments *after* keyword arguments (as that wouldn't make a whole lot of sense):"
   ]
  },
  {
   "cell_type": "code",
   "execution_count": null,
   "id": "4b922e0e",
   "metadata": {},
   "outputs": [],
   "source": [
    "print_complex_greeting(first_name=\"John\", \"Doe\")"
   ]
  },
  {
   "cell_type": "markdown",
   "id": "803414d6",
   "metadata": {},
   "source": [
    "## The return keyword"
   ]
  },
  {
   "cell_type": "markdown",
   "id": "87da2ee8",
   "metadata": {},
   "source": [
    "At the moment we are *printing* values inside our functions. But usually we would like the function to *compute* a value and hand it to us. We can do this using the `return` keyword.\n",
    "\n",
    "Let's rewrite the `print_greeting` function to a `get_greeting` function that *returns* the greeting instead of *printing* it."
   ]
  },
  {
   "cell_type": "code",
   "execution_count": null,
   "id": "9b7f2f2a",
   "metadata": {},
   "outputs": [],
   "source": [
    "def get_greeting(name):\n",
    "    return f\"Hello {name}\""
   ]
  },
  {
   "cell_type": "code",
   "execution_count": null,
   "id": "2f5b65fb",
   "metadata": {},
   "outputs": [],
   "source": [
    "greeting = get_greeting(\"John\")"
   ]
  },
  {
   "cell_type": "code",
   "execution_count": null,
   "id": "5c1b99fb",
   "metadata": {},
   "outputs": [],
   "source": [
    "greeting"
   ]
  },
  {
   "cell_type": "markdown",
   "id": "3ea6f2f7",
   "metadata": {},
   "source": [
    "Something that often trips up beginners is that they confuse `print` and `return`. However these are *two completely different and unrelated things*. The first one - `print` - is a *function which prints a value*. The second one - `return` - is a *keyword which allows a function to return a value to its caller*.\n",
    "\n",
    "Therefore `print_greeting` and `get_greeting` are two completely different functions. The function `print_greeting` prints the greeting and doesn't return anything. For example if we try to assign a value to the result of `print_greeting`, this happens:"
   ]
  },
  {
   "cell_type": "code",
   "execution_count": null,
   "id": "e2520e02",
   "metadata": {},
   "outputs": [],
   "source": [
    "another_greeting = print_greeting(\"John\")"
   ]
  },
  {
   "cell_type": "markdown",
   "id": "e170ac5d",
   "metadata": {},
   "source": [
    "The `print_greeting` function prints `\"Hello, John\"`. Now let's inspect `another_greeting`:"
   ]
  },
  {
   "cell_type": "code",
   "execution_count": null,
   "id": "41098f7a",
   "metadata": {},
   "outputs": [],
   "source": [
    "print(another_greeting)"
   ]
  },
  {
   "cell_type": "markdown",
   "id": "7ce4f9f6",
   "metadata": {},
   "source": [
    "We see that `another_greeting` has the special value `None` which essentially means \"nothing\" in Python. This is because the `print_greeting` function didn't have the `return` keyword.\n",
    "\n",
    "Contrast this with the behaviour of the `get_greeting` function which doesn't print anything when we call it:"
   ]
  },
  {
   "cell_type": "code",
   "execution_count": null,
   "id": "068d74db",
   "metadata": {},
   "outputs": [],
   "source": [
    "greeting = get_greeting(\"John\")"
   ]
  },
  {
   "cell_type": "markdown",
   "id": "5191b4cf",
   "metadata": {},
   "source": [
    "However unlike `another_greeting`, the variable `greeting` does have a value:"
   ]
  },
  {
   "cell_type": "code",
   "execution_count": null,
   "id": "d16e9d58",
   "metadata": {},
   "outputs": [],
   "source": [
    "greeting"
   ]
  },
  {
   "cell_type": "markdown",
   "id": "a761d665",
   "metadata": {},
   "source": [
    "This is also the point at which we note that returning a value from a function is *far more common* than printing something. After all, if we *print* a value, we can't do anything useful with the output later on. However, if we *return* a value, we can assign that value to a variable and manipulate it further. Here is a pattern you will see quite often:"
   ]
  },
  {
   "cell_type": "code",
   "execution_count": null,
   "id": "c991066d",
   "metadata": {},
   "outputs": [],
   "source": [
    "def get_full_name(first_name, last_name):\n",
    "    full_name = first_name + \" \" + last_name\n",
    "    return full_name\n",
    "\n",
    "def get_greeting(full_name):\n",
    "    return f\"Hello, {full_name}\"\n",
    "\n",
    "\n",
    "first_name = \"John\"\n",
    "last_name = \"Doe\"\n",
    "\n",
    "# Get the full name and store it in a variable full_name\n",
    "full_name = get_full_name(first_name, last_name)\n",
    "\n",
    "# Use the variable full_name to obtain a greeting \n",
    "greeting = get_greeting(full_name)"
   ]
  },
  {
   "cell_type": "code",
   "execution_count": null,
   "id": "81089bf7",
   "metadata": {},
   "outputs": [],
   "source": [
    "greeting"
   ]
  },
  {
   "cell_type": "markdown",
   "id": "159de4c4",
   "metadata": {},
   "source": [
    "However if we would have printed `full_name` instead of returning it we couldn't pass it to `get_greeting`."
   ]
  },
  {
   "cell_type": "markdown",
   "id": "1cd99e40",
   "metadata": {},
   "source": [
    "## Writing a complex function"
   ]
  },
  {
   "cell_type": "markdown",
   "id": "063a11ce",
   "metadata": {},
   "source": [
    "Armed with our knowledge, we can return to the example that motivated this chapter.\n",
    "\n",
    "Here is how we would write a function that computes the expected scores for two players given their ratings."
   ]
  },
  {
   "cell_type": "code",
   "execution_count": null,
   "id": "e7613970",
   "metadata": {},
   "outputs": [],
   "source": [
    "def get_expected_scores(rating1, rating2):\n",
    "    expected1 = 1 / (1 + 10 ** ((rating2 - rating1) / 400))\n",
    "    expected2 = 1 / (1 + 10 ** ((rating1 - rating2) / 400))\n",
    "\n",
    "    return expected1, expected2"
   ]
  },
  {
   "cell_type": "markdown",
   "id": "1287e3a2",
   "metadata": {},
   "source": [
    "Note that we can return multiple values from a function by separating them with commas. Now we can use the `get_expected_scores` function to obtain the new ratings of the players:"
   ]
  },
  {
   "cell_type": "code",
   "execution_count": null,
   "id": "598a78bd",
   "metadata": {},
   "outputs": [],
   "source": [
    "def get_new_ratings(rating_winner, rating_loser):\n",
    "    expected_winner, expected_loser = get_expected_scores(rating_winner, rating_loser)\n",
    "    new_rating1 = rating_winner + 32 * (1 - expected_winner)\n",
    "    new_rating2 = rating_loser + 32 * (0 - expected_loser)\n",
    "    return new_rating1, new_rating2"
   ]
  },
  {
   "cell_type": "markdown",
   "id": "9cfeb3dd",
   "metadata": {},
   "source": [
    "Pay attention to how `get_new_ratings` calls `get_expected_scores` which improves readability. Generally it's a good idea to create functions that are as small as possible and split subtasks into helper functions.\n",
    "\n",
    "Let's check if our new functions work the way they should. Because `get_new_ratings` returns multiple values, we to use multiple values when calling it:"
   ]
  },
  {
   "cell_type": "code",
   "execution_count": null,
   "id": "809b8558",
   "metadata": {},
   "outputs": [],
   "source": [
    "new_winner_rating, new_loser_rating = get_new_ratings(1000, 1500)"
   ]
  },
  {
   "cell_type": "code",
   "execution_count": null,
   "id": "06586630",
   "metadata": {},
   "outputs": [],
   "source": [
    "new_winner_rating"
   ]
  },
  {
   "cell_type": "code",
   "execution_count": null,
   "id": "c544090a",
   "metadata": {},
   "outputs": [],
   "source": [
    "new_loser_rating"
   ]
  },
  {
   "cell_type": "markdown",
   "id": "3283f803",
   "metadata": {},
   "source": [
    "Let's take a moment to point out that our functions, parameters and variables have *sensible* names like `get_new_ratings` or `new_rating2`. This makes them *readable*. Generally you should avoid writing functions that look like this:"
   ]
  },
  {
   "cell_type": "code",
   "execution_count": null,
   "id": "85cc15f3",
   "metadata": {},
   "outputs": [],
   "source": [
    "def flunkify(flunky1, flunky2):\n",
    "    flunkified_flunky1 = 1 / (1 + 10 ** ((flunky2 - flunky1) / 400))\n",
    "    flunkified_flunky2 = 1 / (1 + 10 ** ((flunky1 - flunky2) / 400))\n",
    "\n",
    "    return flunkified_flunky1, flunkified_flunky2"
   ]
  },
  {
   "cell_type": "markdown",
   "id": "c1b688d0",
   "metadata": {},
   "source": [
    "While the `flunkify` function technically does the same thing as the `get_expected_scores` function it's much worse, because it is *not readable*. Code that is not readable will generally lead for headaches for your fellow developers which will quickly lead to headaches for *you personally*.\n",
    "\n",
    "**Therefore you should always use sensible names for your variables, parameters and functions.**"
   ]
  },
  {
   "cell_type": "markdown",
   "id": "d4d57c64",
   "metadata": {},
   "source": [
    "## Useful built-in functions"
   ]
  },
  {
   "cell_type": "markdown",
   "id": "8ee376c3",
   "metadata": {},
   "source": [
    "There is a number of useful built-in functions.\n",
    "\n",
    "In fact you already encountered two of them - namely `print` and `type`:"
   ]
  },
  {
   "cell_type": "code",
   "execution_count": null,
   "id": "3107e9cb",
   "metadata": {},
   "outputs": [],
   "source": [
    "print(42)"
   ]
  },
  {
   "cell_type": "code",
   "execution_count": null,
   "id": "95e55da4",
   "metadata": {},
   "outputs": [],
   "source": [
    "type(42)"
   ]
  },
  {
   "cell_type": "markdown",
   "id": "cb23797d",
   "metadata": {},
   "source": [
    "However `print` and `type` are not the only useful built-in functions.\n",
    "\n",
    "For example you can use the `int` function (not to be confused with the `int` data type) to convert a value to an integer:"
   ]
  },
  {
   "cell_type": "code",
   "execution_count": null,
   "id": "cfa80a8d",
   "metadata": {},
   "outputs": [],
   "source": [
    "int(42.2)"
   ]
  },
  {
   "cell_type": "code",
   "execution_count": null,
   "id": "034a5818",
   "metadata": {},
   "outputs": [],
   "source": [
    "int(\"42\")"
   ]
  },
  {
   "cell_type": "markdown",
   "id": "e1a41f8e",
   "metadata": {},
   "source": [
    "You can also use the `float` function (not to be confused with the `float` data type) to convert a value to a floating point number:"
   ]
  },
  {
   "cell_type": "code",
   "execution_count": null,
   "id": "0b709319",
   "metadata": {},
   "outputs": [],
   "source": [
    "float(\"42.2\")"
   ]
  },
  {
   "cell_type": "markdown",
   "id": "c132e688",
   "metadata": {},
   "source": [
    "You can use `min` and `max` to get the minimum or maximum of some values, respectively:"
   ]
  },
  {
   "cell_type": "code",
   "execution_count": null,
   "id": "c4b83078",
   "metadata": {},
   "outputs": [],
   "source": [
    "min(42, 43, 44)"
   ]
  },
  {
   "cell_type": "code",
   "execution_count": null,
   "id": "dab12bbb",
   "metadata": {},
   "outputs": [],
   "source": [
    "max(42, 43, 44)"
   ]
  },
  {
   "cell_type": "markdown",
   "id": "b4e47380",
   "metadata": {},
   "source": [
    "## Exercises"
   ]
  },
  {
   "cell_type": "markdown",
   "id": "53ef2582",
   "metadata": {},
   "source": [
    "1. Write a function `is_even` that returns whether a number is even. For example `is_even(4)` should return `True` and `is_even(3)` should return `False`.\n",
    "\n",
    "2. Write a function `avg` that returns the average of two numbers. For example `avg(3.5, 4)` should return `3.75`.\n",
    "\n",
    "3. Write a function `get_score_message` that takes the name of a player and a score and returns the message \"\\<player\\> has a score of \\<score\\>\". For example `get_score_message(\"John Doe\", 10)` should return \"John Doe has a score of 10\"."
   ]
  }
 ],
 "metadata": {
  "kernelspec": {
   "display_name": "Python 3 (ipykernel)",
   "language": "python",
   "name": "python3"
  },
  "language_info": {
   "codemirror_mode": {
    "name": "ipython",
    "version": 3
   },
   "file_extension": ".py",
   "mimetype": "text/x-python",
   "name": "python",
   "nbconvert_exporter": "python",
   "pygments_lexer": "ipython3",
   "version": "3.10.6"
  }
 },
 "nbformat": 4,
 "nbformat_minor": 5
}
