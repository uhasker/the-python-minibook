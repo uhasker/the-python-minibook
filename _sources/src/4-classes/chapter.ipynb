{
 "cells": [
  {
   "cell_type": "markdown",
   "id": "275328b0",
   "metadata": {},
   "source": [
    "# Chapter 4. Classes"
   ]
  },
  {
   "cell_type": "markdown",
   "id": "700e2b7e",
   "metadata": {},
   "source": [
    "## Objects and classes"
   ]
  },
  {
   "cell_type": "markdown",
   "id": "ce4e802d",
   "metadata": {},
   "source": [
    "An **object** is a data structure that contains *state* and *behaviour*.\n",
    "\n",
    "Before we can create objects, we (usually) need to define a **class** which is essentially a template for creating objects.\n",
    "\n",
    "Consider an example. We have a ball which has a position and a speed. The position and the speed are therefore the *state* of the ball. The ball can also move, i.e. update its position based on the speed. This is *behaviour*.\n",
    "\n",
    "We can define a class `Ball` (which will be the template for creating `Ball` objects in the future) like this:"
   ]
  },
  {
   "cell_type": "code",
   "execution_count": null,
   "id": "f497ad82",
   "metadata": {},
   "outputs": [],
   "source": [
    "class Ball:\n",
    "    def __init__(self, pos, speed):\n",
    "        self.pos = pos\n",
    "        self.speed = speed"
   ]
  },
  {
   "cell_type": "markdown",
   "id": "3d6e5e3e",
   "metadata": {},
   "source": [
    "Here the state consists of the values `pos` and `speed`. Generally speaking, values that are associated with objects (and represent its state) are called **attributes**.\n",
    "\n",
    "The `__init__` function is a special function which **initializes** an object with some *initial state*.\n",
    "\n",
    "For example if we want to create a ball at position `10` and with speed `8`, we write:"
   ]
  },
  {
   "cell_type": "code",
   "execution_count": null,
   "id": "cef44f85",
   "metadata": {},
   "outputs": [],
   "source": [
    "my_ball = Ball(10, 8)"
   ]
  },
  {
   "cell_type": "markdown",
   "id": "163b507a",
   "metadata": {},
   "source": [
    "Let us inspect the attributes of the `ball` object:"
   ]
  },
  {
   "cell_type": "code",
   "execution_count": null,
   "id": "9aca4ac0",
   "metadata": {},
   "outputs": [],
   "source": [
    "f\"pos = {my_ball.pos}, speed = {my_ball.speed}\""
   ]
  },
  {
   "cell_type": "markdown",
   "id": "3a1da5f1",
   "metadata": {},
   "source": [
    "We can also get the class of the object using the `type` function:"
   ]
  },
  {
   "cell_type": "code",
   "execution_count": null,
   "id": "26b71d04",
   "metadata": {},
   "outputs": [],
   "source": [
    "type(my_ball)"
   ]
  },
  {
   "cell_type": "markdown",
   "id": "77ee3e01",
   "metadata": {},
   "source": [
    "We can also confirm that `ball` is an instance of the `Ball` class using the `isinstance` function. This will come in handy later:"
   ]
  },
  {
   "cell_type": "code",
   "execution_count": null,
   "id": "c2875024",
   "metadata": {},
   "outputs": [],
   "source": [
    "isinstance(my_ball, Ball)"
   ]
  },
  {
   "cell_type": "markdown",
   "id": "d7666489",
   "metadata": {},
   "source": [
    "We could now change the state of the ball directly. For example this is how we could move the ball:"
   ]
  },
  {
   "cell_type": "code",
   "execution_count": null,
   "id": "f539faad",
   "metadata": {},
   "outputs": [],
   "source": [
    "my_ball.pos += my_ball.speed"
   ]
  },
  {
   "cell_type": "code",
   "execution_count": null,
   "id": "164696fc",
   "metadata": {},
   "outputs": [],
   "source": [
    "f\"pos = {my_ball.pos}, speed = {my_ball.speed}\""
   ]
  },
  {
   "cell_type": "markdown",
   "id": "79c58595",
   "metadata": {},
   "source": [
    "But this isn't really the way to go. What if we wanted to change the speed calculation later (for example taking friction into account)? Then we would need to adjust the calculation in every single place we use it, which is a lot of work and could introduce bugs if we forget the calculation adjustment somewhere.\n",
    "\n",
    "If you paid attention in the previous chapter, this is the same problem we had when introducing functions. We stored the repetitive calculations in the function body and then simply called the function. Luckily, objects provide a similar mechanism.\n",
    "\n",
    "We can define functions on objects - these functions are called **methods** and define the *behaviour* of the object. Note that the first parameter of all methods is the object itself. By convention this parameter is called `self`. For example here is how we could implement the `Ball` class with a `move` method:"
   ]
  },
  {
   "cell_type": "code",
   "execution_count": null,
   "id": "6c03c644",
   "metadata": {},
   "outputs": [],
   "source": [
    "class Ball:\n",
    "    def __init__(self, pos, speed):\n",
    "        self.pos = pos\n",
    "        self.speed = speed\n",
    "        \n",
    "    def move(self, t):\n",
    "        self.pos += self.speed * t"
   ]
  },
  {
   "cell_type": "markdown",
   "id": "a21552e9",
   "metadata": {},
   "source": [
    "Note that after creating the new class need to *redefine* the `my_ball` object, otherwise we will still be using the old class!"
   ]
  },
  {
   "cell_type": "code",
   "execution_count": null,
   "id": "1b3302c7",
   "metadata": {},
   "outputs": [],
   "source": [
    "ball = Ball(10, 8)\n",
    "ball.move(2)"
   ]
  },
  {
   "cell_type": "code",
   "execution_count": null,
   "id": "a89dda90",
   "metadata": {},
   "outputs": [],
   "source": [
    "f\"pos = {ball.pos}, speed = {ball.speed}\""
   ]
  },
  {
   "cell_type": "markdown",
   "id": "791b8b87",
   "metadata": {},
   "source": [
    "If you see the error message `AttributeError: 'Ball' object has no attribute 'move'` this means that you are still using the *old* ball class and you need to redefine the class.\n",
    "\n",
    "Note how the behaviour *changed* the object state. This is what objects are all about. They are initialized with some state and then we can use their behaviour to update the state.\n",
    "\n",
    "We should also point out that apart from having to write classes yourself, you will *use* them *all the time*. In fact, we will introduce many extremely important classes in the *next chapter*."
   ]
  },
  {
   "cell_type": "markdown",
   "id": "0ce938a4",
   "metadata": {},
   "source": [
    "## The \\_\\_str\\_\\_ and \\_\\_repr\\_\\_ methods"
   ]
  },
  {
   "cell_type": "markdown",
   "id": "06bc86fd",
   "metadata": {},
   "source": [
    "Quite often, we want to output the object (e.g. using the `print` function) to see its current state. However, if we just try to output the object, we get a string that is pretty useless:"
   ]
  },
  {
   "cell_type": "code",
   "execution_count": null,
   "id": "70b7e44e",
   "metadata": {},
   "outputs": [],
   "source": [
    "ball"
   ]
  },
  {
   "cell_type": "code",
   "execution_count": null,
   "id": "5d91a90a",
   "metadata": {},
   "outputs": [],
   "source": [
    "print(ball)"
   ]
  },
  {
   "cell_type": "markdown",
   "id": "692f8c9e",
   "metadata": {},
   "source": [
    "Luckily, Python allows us to change this behaviour. There are two special methods called `__str__` and `__repr__`.\n",
    "\n",
    "The `__str__` method produces a human-readable string for consumption by the end user. The `__repr__` method produces an *exact representation* of the object. This is reflected by when these methods are called. For example if you just output an object in the REPL, you will see the output of `__repr__`. If you `print` and object, you will see the result of `__str__`.\n",
    "\n",
    "These two methods often have the same implementation (since the end user usually wants to see the exact representation), but this doesn't have to be the case. For example, we could argue, that the end user doesn't care about the speed of the ball and only cares about its current position. Then the `__str__` method would return a string that doesn't contain `dx` and `dy`. However the `__repr__` method should still return all attributes:"
   ]
  },
  {
   "cell_type": "code",
   "execution_count": null,
   "id": "f9fe40b8",
   "metadata": {},
   "outputs": [],
   "source": [
    "class Ball:\n",
    "    def __init__(self, x, y, dx, dy):\n",
    "        self.x = x\n",
    "        self.y = y\n",
    "        self.dx = dx\n",
    "        self.dy = dy\n",
    "        \n",
    "    def move(self):\n",
    "        self.x += self.dx\n",
    "        self.y += self.dy\n",
    "        \n",
    "    def __str__(self):\n",
    "        return f\"Ball(x={self.x}, y={self.y})\"\n",
    "    \n",
    "    def __repr__(self):\n",
    "        return f\"Ball(x={self.x}, y={self.y}, dx={self.dx}, dy={self.dy})\""
   ]
  },
  {
   "cell_type": "code",
   "execution_count": null,
   "id": "454afbbd",
   "metadata": {},
   "outputs": [],
   "source": [
    "ball = Ball(x=320, y=240, dx=-2, dy=2)"
   ]
  },
  {
   "cell_type": "code",
   "execution_count": null,
   "id": "4cc3d9e1",
   "metadata": {},
   "outputs": [],
   "source": [
    "# Note how printing the ball results in the output of __str__\n",
    "\n",
    "print(ball)"
   ]
  },
  {
   "cell_type": "code",
   "execution_count": null,
   "id": "b813c61b",
   "metadata": {},
   "outputs": [],
   "source": [
    "# However just outputting the ball results in the output of __repr__\n",
    "\n",
    "ball"
   ]
  },
  {
   "cell_type": "markdown",
   "id": "efbaa72d",
   "metadata": {},
   "source": [
    "We can also call `__str__` and `__repr__` manually by calling the `str` and `repr` functions:"
   ]
  },
  {
   "cell_type": "code",
   "execution_count": null,
   "id": "4c511c23",
   "metadata": {},
   "outputs": [],
   "source": [
    "str(ball)"
   ]
  },
  {
   "cell_type": "code",
   "execution_count": null,
   "id": "4f55e5e4",
   "metadata": {},
   "outputs": [],
   "source": [
    "repr(ball)"
   ]
  },
  {
   "cell_type": "markdown",
   "id": "29c995ea",
   "metadata": {},
   "source": [
    "Since `__str__` and `__repr__` are often the same, it's enough to just define `__repr__`. If no `__str__` is defined and you try to call it, Python will fallback to calling `__repr__`:"
   ]
  },
  {
   "cell_type": "code",
   "execution_count": null,
   "id": "5c5dc8a8",
   "metadata": {},
   "outputs": [],
   "source": [
    "class Ball:\n",
    "    def __init__(self, x, y, dx, dy):\n",
    "        self.x = x\n",
    "        self.y = y\n",
    "        self.dx = dx\n",
    "        self.dy = dy\n",
    "        \n",
    "    def move(self):\n",
    "        self.x += self.dx\n",
    "        self.y += self.dy\n",
    "    \n",
    "    def __repr__(self):\n",
    "        return f\"Ball(x={self.x}, y={self.y}, dx={self.dx}, dy={self.dy})\""
   ]
  },
  {
   "cell_type": "code",
   "execution_count": null,
   "id": "1d4452bc",
   "metadata": {},
   "outputs": [],
   "source": [
    "ball"
   ]
  },
  {
   "cell_type": "code",
   "execution_count": null,
   "id": "2845bfe1",
   "metadata": {},
   "outputs": [],
   "source": [
    "print(ball)"
   ]
  },
  {
   "cell_type": "markdown",
   "id": "c571b125",
   "metadata": {},
   "source": [
    "You should write `__repr__` for practically all your classes as a second nature. Being able to see the state of an object when outputting it is extremely valuable."
   ]
  },
  {
   "cell_type": "markdown",
   "id": "ffdc0e96",
   "metadata": {},
   "source": [
    "## Object identity"
   ]
  },
  {
   "cell_type": "markdown",
   "id": "969dfaca",
   "metadata": {},
   "source": [
    "Let's create two objects of class `Ball` whose attributes have the same values:"
   ]
  },
  {
   "cell_type": "code",
   "execution_count": null,
   "id": "badb7d56",
   "metadata": {},
   "outputs": [],
   "source": [
    "ball1 = Ball(320, 240, -2, 2)\n",
    "ball2 = Ball(320, 240, -2, 2)"
   ]
  },
  {
   "cell_type": "code",
   "execution_count": null,
   "id": "a555f874",
   "metadata": {},
   "outputs": [],
   "source": [
    "ball1"
   ]
  },
  {
   "cell_type": "code",
   "execution_count": null,
   "id": "eb4c6e00",
   "metadata": {},
   "outputs": [],
   "source": [
    "ball2"
   ]
  },
  {
   "cell_type": "markdown",
   "id": "83d4c718",
   "metadata": {},
   "source": [
    "Note that all the attributes of these two objects have the same values, but they are *totally different* objects:\n",
    "\n",
    "![](images/different-objects.png)\n",
    "\n",
    "This means that if we change the values of `ball1`, then `ball2` will be *completely unaffected*:"
   ]
  },
  {
   "cell_type": "code",
   "execution_count": null,
   "id": "5ac84166",
   "metadata": {},
   "outputs": [],
   "source": [
    "ball1.x += ball1.dx"
   ]
  },
  {
   "cell_type": "code",
   "execution_count": null,
   "id": "73b7dacf",
   "metadata": {},
   "outputs": [],
   "source": [
    "# The value of ball1.x has changed\n",
    "\n",
    "ball1"
   ]
  },
  {
   "cell_type": "code",
   "execution_count": null,
   "id": "e4b9ed84",
   "metadata": {},
   "outputs": [],
   "source": [
    "# However the value of ball2.x is exactly the same as before\n",
    "\n",
    "ball2"
   ]
  },
  {
   "cell_type": "markdown",
   "id": "f30e1fe9",
   "metadata": {},
   "source": [
    "But what happens if we write this?"
   ]
  },
  {
   "cell_type": "code",
   "execution_count": null,
   "id": "12251e1b",
   "metadata": {},
   "outputs": [],
   "source": [
    "ball1 = Ball(320, 240, -2, 2)\n",
    "ball2 = ball1"
   ]
  },
  {
   "cell_type": "markdown",
   "id": "b723c87d",
   "metadata": {},
   "source": [
    "Now we have a completely different situation. The symbolic names `ball1` and `ball2` are still two different names, but they *refer to the exact same object*:\n",
    "\n",
    "![](images/same-object.png)"
   ]
  },
  {
   "cell_type": "markdown",
   "id": "bda77c96",
   "metadata": {},
   "source": [
    "This means that whenever we make a change using the name `ball1`, that change will be visible in the name `ball2` as well:"
   ]
  },
  {
   "cell_type": "code",
   "execution_count": null,
   "id": "e59196bd",
   "metadata": {},
   "outputs": [],
   "source": [
    "ball1.x += ball1.dx"
   ]
  },
  {
   "cell_type": "code",
   "execution_count": null,
   "id": "c67cbbfb",
   "metadata": {},
   "outputs": [],
   "source": [
    "# Outputting ball1 obviously shows the new value of x\n",
    "ball1"
   ]
  },
  {
   "cell_type": "code",
   "execution_count": null,
   "id": "e26e6046",
   "metadata": {},
   "outputs": [],
   "source": [
    "# However, outputting ball2 also outputs the new value of x!\n",
    "ball2"
   ]
  },
  {
   "cell_type": "markdown",
   "id": "655e68ca",
   "metadata": {},
   "source": [
    "We say that `ball1` *is* `ball2` (i.e. they are the same object). In fact the `is` operator can be used to check if two names represent the same object:"
   ]
  },
  {
   "cell_type": "code",
   "execution_count": null,
   "id": "352bc374",
   "metadata": {},
   "outputs": [],
   "source": [
    "ball1 is ball2"
   ]
  },
  {
   "cell_type": "markdown",
   "id": "3a7af49f",
   "metadata": {},
   "source": [
    "We can also see that `ball1` and `ball2` are the same object using the `id` function. Generally speaking, this function hands us a number that is unique for each object (as long as that object exists). In the Python interpreter we downloaded in chapter 1 (which is the CPython interpreter) this is achieved by returning the **memory address** of the object.\n",
    "\n",
    "In this case `ball1` and `ball2` point to the same object, so their memory address is the same:"
   ]
  },
  {
   "cell_type": "code",
   "execution_count": null,
   "id": "1ced10ec",
   "metadata": {},
   "outputs": [],
   "source": [
    "id(ball1)"
   ]
  },
  {
   "cell_type": "code",
   "execution_count": null,
   "id": "24cd852f",
   "metadata": {},
   "outputs": [],
   "source": [
    "id(ball2)"
   ]
  },
  {
   "cell_type": "code",
   "execution_count": null,
   "id": "40485c48",
   "metadata": {},
   "outputs": [],
   "source": [
    "id(ball1) == id(ball2)"
   ]
  },
  {
   "cell_type": "markdown",
   "id": "01a27019",
   "metadata": {},
   "source": [
    "However if we have two names that refer to different objects, then their memory address will not be the same and the `is` operator will return `False`:"
   ]
  },
  {
   "cell_type": "code",
   "execution_count": null,
   "id": "0637a12e",
   "metadata": {},
   "outputs": [],
   "source": [
    "ball1 = Ball(320, 240, -2, 2)\n",
    "ball2 = Ball(320, 240, -2, 2)"
   ]
  },
  {
   "cell_type": "code",
   "execution_count": null,
   "id": "6c562fbf",
   "metadata": {},
   "outputs": [],
   "source": [
    "id(ball1)"
   ]
  },
  {
   "cell_type": "code",
   "execution_count": null,
   "id": "e7895c10",
   "metadata": {},
   "outputs": [],
   "source": [
    "id(ball2)"
   ]
  },
  {
   "cell_type": "code",
   "execution_count": null,
   "id": "60f588ad",
   "metadata": {},
   "outputs": [],
   "source": [
    "id(ball1) == id(ball2)"
   ]
  },
  {
   "cell_type": "code",
   "execution_count": null,
   "id": "cb60dd6f",
   "metadata": {},
   "outputs": [],
   "source": [
    "ball1 is ball2"
   ]
  },
  {
   "cell_type": "markdown",
   "id": "03898a65",
   "metadata": {},
   "source": [
    "## Object equality"
   ]
  },
  {
   "cell_type": "markdown",
   "id": "d036e57d",
   "metadata": {},
   "source": [
    "An interesting question is what happens if we use the equality operator `==` on objects. By default, the equality operator is equivalent to the `is` operator:"
   ]
  },
  {
   "cell_type": "code",
   "execution_count": null,
   "id": "c9fe0145",
   "metadata": {},
   "outputs": [],
   "source": [
    "ball1 = Ball(320, 240, -2, 2)\n",
    "ball2 = Ball(320, 240, -2, 2)\n",
    "\n",
    "ball1 == ball2"
   ]
  },
  {
   "cell_type": "code",
   "execution_count": null,
   "id": "ddd54d38",
   "metadata": {},
   "outputs": [],
   "source": [
    "ball1 = Ball(320, 240, -2, 2)\n",
    "ball2 = ball1\n",
    "\n",
    "ball1 == ball2"
   ]
  },
  {
   "cell_type": "markdown",
   "id": "acb922bc",
   "metadata": {},
   "source": [
    "This is not particularly useful. After all, if two balls have the exact same position and the exact same speed, we would probably want them to be equal (even though the `is` operator returns `False`).\n",
    "\n",
    "Luckily, Python gives us a way to achieve this by **overriding** (i.e. providing a custom implementation) for the equality operator. In order to do this, we need to write a custom `__eq__` method which takes `self` and the other object we want to compare this object to:"
   ]
  },
  {
   "cell_type": "code",
   "execution_count": null,
   "id": "4f5627da",
   "metadata": {},
   "outputs": [],
   "source": [
    "class Ball:\n",
    "    def __init__(self, x, y, dx, dy):\n",
    "        self.x = x\n",
    "        self.y = y\n",
    "        self.dx = dx\n",
    "        self.dy = dy\n",
    "        \n",
    "    # some methods\n",
    "    \n",
    "    def __eq__(self, other):\n",
    "        return isinstance(other, Ball) and self.x == other.x and self.y == other.y and self.dx == other.dx and self.dy == other.dy\n",
    "    \n",
    "    def __repr__(self):\n",
    "        return f\"Ball(x={self.x}, y={self.y}, dx={self.dx}, dy={self.dy})\""
   ]
  },
  {
   "cell_type": "markdown",
   "id": "23683eaa",
   "metadata": {},
   "source": [
    "The `__eq__` method checks for two things. The first thing it checks for is if the other object is an instance of `Ball`. If it's not, then the whole logical chain becomes `False`. This makes sense - after all, a `Ball` object should never be equal to a non-`Ball` object.\n",
    "\n",
    "However, if the other object is a `Ball` as well, we check whether all attributes of `self` and `other` are equal. If they are, we return `True`, otherwise we return `False`.\n",
    "\n",
    "Now the `==` operator works as we would like it to:"
   ]
  },
  {
   "cell_type": "code",
   "execution_count": null,
   "id": "e811d4ac",
   "metadata": {},
   "outputs": [],
   "source": [
    "ball1 = Ball(320, 240, -2, 2)\n",
    "ball2 = Ball(320, 240, -2, 2)\n",
    "\n",
    "ball1 == ball2"
   ]
  },
  {
   "cell_type": "markdown",
   "id": "8d60dd36",
   "metadata": {},
   "source": [
    "Note that how and if you want to override `==` depends on your needs. For example it might actually be the case, that two balls shouldn't compare equal, even *if* their attributes have the same values.\n",
    "\n",
    "But generally speaking, *if* you override the equality operator, you should override it by checking that the two objects have the same class and their attributes have the same values."
   ]
  }
 ],
 "metadata": {
  "kernelspec": {
   "display_name": "Python 3 (ipykernel)",
   "language": "python",
   "name": "python3"
  },
  "language_info": {
   "codemirror_mode": {
    "name": "ipython",
    "version": 3
   },
   "file_extension": ".py",
   "mimetype": "text/x-python",
   "name": "python",
   "nbconvert_exporter": "python",
   "pygments_lexer": "ipython3",
   "version": "3.10.6"
  }
 },
 "nbformat": 4,
 "nbformat_minor": 5
}
