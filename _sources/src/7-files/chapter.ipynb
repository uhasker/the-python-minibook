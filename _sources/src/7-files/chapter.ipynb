{
 "cells": [
  {
   "cell_type": "markdown",
   "id": "d9693062",
   "metadata": {},
   "source": [
    "# Chapter 7. Files"
   ]
  },
  {
   "cell_type": "markdown",
   "id": "718dfd0b",
   "metadata": {},
   "source": [
    "In this chapter we will cover how to read and write files. We will also cover a topic that is rarely discussed in introductory programming books, but is should be understood by every working programmer - *encodings*."
   ]
  },
  {
   "cell_type": "markdown",
   "id": "da625ffb",
   "metadata": {},
   "source": [
    "## Read a text file"
   ]
  },
  {
   "cell_type": "markdown",
   "id": "3b92e5c4",
   "metadata": {},
   "source": [
    "Let's create a text file `example.txt` with the following content:\n",
    "\n",
    "```\n",
    "Roses are red.\n",
    "Violets aren't blue.\n",
    "It's literally in the name.\n",
    "They're called violets.\n",
    "```"
   ]
  },
  {
   "cell_type": "markdown",
   "id": "f8c80eab",
   "metadata": {},
   "source": [
    "We can read the file using the `open` function. This function returns a **file object** which allows access to the underlying file:"
   ]
  },
  {
   "cell_type": "code",
   "execution_count": null,
   "id": "2714dae7",
   "metadata": {},
   "outputs": [],
   "source": [
    "file = open(\"example.txt\")"
   ]
  },
  {
   "cell_type": "code",
   "execution_count": null,
   "id": "538c937e",
   "metadata": {},
   "outputs": [],
   "source": [
    "file"
   ]
  },
  {
   "cell_type": "markdown",
   "id": "182a3d2f",
   "metadata": {},
   "source": [
    "We can read the content of the file using the `read` method of the `file` object. The `read` method returns the entire content of the file as a regular string:"
   ]
  },
  {
   "cell_type": "code",
   "execution_count": null,
   "id": "8b3beea0",
   "metadata": {},
   "outputs": [],
   "source": [
    "content = file.read()"
   ]
  },
  {
   "cell_type": "code",
   "execution_count": null,
   "id": "32638a8c",
   "metadata": {},
   "outputs": [],
   "source": [
    "print(content)"
   ]
  },
  {
   "cell_type": "code",
   "execution_count": null,
   "id": "2a77950c",
   "metadata": {},
   "outputs": [],
   "source": [
    "type(content)"
   ]
  },
  {
   "cell_type": "markdown",
   "id": "4f5d18e5",
   "metadata": {},
   "source": [
    "We also need to *close* the file to free up the resouces consumed by the file object:"
   ]
  },
  {
   "cell_type": "code",
   "execution_count": null,
   "id": "94a879cf",
   "metadata": {},
   "outputs": [],
   "source": [
    "file.close()"
   ]
  },
  {
   "cell_type": "markdown",
   "id": "1193b15a",
   "metadata": {},
   "source": [
    "Let's check that the file is really closed by inspecting the `closed` attribute:"
   ]
  },
  {
   "cell_type": "code",
   "execution_count": null,
   "id": "b4ee0bd6",
   "metadata": {},
   "outputs": [],
   "source": [
    "file.closed"
   ]
  },
  {
   "cell_type": "markdown",
   "id": "3d6f0437",
   "metadata": {},
   "source": [
    "Trying to call `read` on a closed file object will result in an error:"
   ]
  },
  {
   "cell_type": "code",
   "execution_count": null,
   "id": "a50e49ce",
   "metadata": {},
   "outputs": [],
   "source": [
    "file.read()"
   ]
  },
  {
   "cell_type": "markdown",
   "id": "67ede7dd",
   "metadata": {},
   "source": [
    "We will now look at this wokflow in more detail."
   ]
  },
  {
   "cell_type": "markdown",
   "id": "376db4f4",
   "metadata": {},
   "source": [
    "## The \"with\" statement"
   ]
  },
  {
   "cell_type": "markdown",
   "id": "15c5c1e6",
   "metadata": {},
   "source": [
    "When working with files, we can use the `with` statement which will automatically close the file:"
   ]
  },
  {
   "cell_type": "code",
   "execution_count": null,
   "id": "5c550bfd",
   "metadata": {},
   "outputs": [],
   "source": [
    "with open(\"example.txt\", \"r\") as file:\n",
    "    content = file.read()\n",
    "    \n",
    "    # The file is automatically closed, i.e. there is no need to call file.close()"
   ]
  },
  {
   "cell_type": "code",
   "execution_count": null,
   "id": "a2cea637",
   "metadata": {},
   "outputs": [],
   "source": [
    "print(content)"
   ]
  },
  {
   "cell_type": "markdown",
   "id": "17cdd180",
   "metadata": {},
   "source": [
    "## Writing to a file"
   ]
  },
  {
   "cell_type": "markdown",
   "id": "7932aa3f",
   "metadata": {},
   "source": [
    "Writing a file is very similar to reading a file. You can write to a file by passing the `\"w\"` mode to open (which stands for \"write\") and calling the `write` method on the file object:"
   ]
  },
  {
   "cell_type": "code",
   "execution_count": null,
   "id": "4a6363f1",
   "metadata": {},
   "outputs": [],
   "source": [
    "with open(\"somefile.txt\", \"w\") as file:\n",
    "    file.write(\"Some content\")"
   ]
  },
  {
   "cell_type": "markdown",
   "id": "287caae1",
   "metadata": {},
   "source": [
    "This will create a file `somefile.txt` with the content `\"Some content\"`. Note that if that file *already exists, it's content will be completely overwritten by the new content*. If you wish to avoid that and instead *append* the new content to the existing content you need to use the `\"a\"` (append) mode."
   ]
  },
  {
   "cell_type": "markdown",
   "id": "acd6e5a1",
   "metadata": {},
   "source": [
    "## Escape characters"
   ]
  },
  {
   "cell_type": "markdown",
   "id": "553b4afe",
   "metadata": {},
   "source": [
    "Some characters are **non-printable**, i.e. they aren't used for displaying content, but instead perform auxiliary functions. The most important example of this is the **newline character**.\n",
    "\n",
    "Let's get the *representation* of `content`:"
   ]
  },
  {
   "cell_type": "code",
   "execution_count": null,
   "id": "97c54abe",
   "metadata": {},
   "outputs": [],
   "source": [
    "content"
   ]
  },
  {
   "cell_type": "markdown",
   "id": "58461a65",
   "metadata": {},
   "source": [
    "As you can see newline characters are represented using `\\n`:"
   ]
  },
  {
   "cell_type": "code",
   "execution_count": null,
   "id": "51ceb08c",
   "metadata": {},
   "outputs": [],
   "source": [
    "print(\"This a line.\\nThis is another line.\")"
   ]
  },
  {
   "cell_type": "markdown",
   "id": "8e263947",
   "metadata": {},
   "source": [
    "Another important non-printable character is the **tab character** which is represented using `\\t`:"
   ]
  },
  {
   "cell_type": "code",
   "execution_count": null,
   "id": "48353aca",
   "metadata": {},
   "outputs": [],
   "source": [
    "print(\"\\tfirst column\\tsecond column\")"
   ]
  },
  {
   "cell_type": "markdown",
   "id": "8c4e283d",
   "metadata": {},
   "source": [
    "Note that `\\t` and `\\n` are also called **escape characters**. Because a backslash is used for *escaping* characters, if you want to display backslashes in your strings, you might need to escape them as well resulting in `\\\\`:"
   ]
  },
  {
   "cell_type": "code",
   "execution_count": null,
   "id": "36550a54",
   "metadata": {},
   "outputs": [],
   "source": [
    "print(\"\\\\t means tab\")"
   ]
  },
  {
   "cell_type": "markdown",
   "id": "5da1bf55",
   "metadata": {},
   "source": [
    "Escape characters also allow you to use quotes inside a string:"
   ]
  },
  {
   "cell_type": "code",
   "execution_count": null,
   "id": "3ffd14bc",
   "metadata": {},
   "outputs": [],
   "source": [
    "print(\"\"this will not work\"\")"
   ]
  },
  {
   "cell_type": "code",
   "execution_count": null,
   "id": "e6d5791d",
   "metadata": {},
   "outputs": [],
   "source": [
    "print(\"\\\"this will work\\\"\")"
   ]
  },
  {
   "cell_type": "markdown",
   "id": "32fd9bcb",
   "metadata": {},
   "source": [
    "## Encodings"
   ]
  },
  {
   "cell_type": "markdown",
   "id": "cab6b9ca",
   "metadata": {},
   "source": [
    "Now that we have the basics out of the way, we need to have a look at how the content of file is actually stored. To accomplish that we will pass a second argument to `open` which describes the mode the file should be opened in. Here we will pass `rb` which means \"read the file as a binary file\" (`r` = read and `b` = binary):"
   ]
  },
  {
   "cell_type": "code",
   "execution_count": null,
   "id": "8e663619",
   "metadata": {},
   "outputs": [],
   "source": [
    "with open(\"example.txt\", \"rb\") as file:\n",
    "    content = file.read()"
   ]
  },
  {
   "cell_type": "markdown",
   "id": "2abadecf",
   "metadata": {},
   "source": [
    "First of all we note that the content is no longer a string, but a `bytes` object:"
   ]
  },
  {
   "cell_type": "code",
   "execution_count": null,
   "id": "0966413c",
   "metadata": {},
   "outputs": [],
   "source": [
    "content"
   ]
  },
  {
   "cell_type": "code",
   "execution_count": null,
   "id": "9587715a",
   "metadata": {},
   "outputs": [],
   "source": [
    "type(content)"
   ]
  },
  {
   "cell_type": "markdown",
   "id": "6fef218e",
   "metadata": {},
   "source": [
    "This object contains the actual *bytes* of the file. A **byte** is simply the smallest unit of storage on a computer and can (usually) hold values from 0 to 255.\n",
    "\n",
    "For example we access the first byte of the file like this:"
   ]
  },
  {
   "cell_type": "code",
   "execution_count": null,
   "id": "d943e2d2",
   "metadata": {},
   "outputs": [],
   "source": [
    "content[0]"
   ]
  },
  {
   "cell_type": "markdown",
   "id": "1e692b65",
   "metadata": {},
   "source": [
    "Wait, why do we suddenly have numbers when a file contains *characters*? The answer to this question is that the computer *deceptively lies to you*. Computers don't *really* store characters. They can *only* store bytes which are numbers from 0 to 255. This means that the file *actually contains a sequence of numbers*.\n",
    "\n",
    "However computers maintain mappings from those numbers to characters, so that they can *interpret those numbers as characters*. The simplest such mapping is the **ASCII table**. Here is an excerpt from that table:"
   ]
  },
  {
   "cell_type": "markdown",
   "id": "06c67905",
   "metadata": {},
   "source": [
    "```\n",
    "| Byte value | Character        |\n",
    "| __________ | _________________|\n",
    "| ...        | ...              |\n",
    "| __________ | _________________|\n",
    "| 80         | P                |\n",
    "| __________ | _________________|\n",
    "| 81         | Q                |\n",
    "| __________ | _________________|\n",
    "| 82         | R                |\n",
    "| __________ | _________________|\n",
    "| 83         | S                |\n",
    "| __________ | _________________|\n",
    "| 84         | T                |\n",
    "| __________ | _________________|\n",
    "| 85         | U                |\n",
    "| __________ | _________________|\n",
    "| 86         | V                |\n",
    "| __________ | _________________|\n",
    "| 87         | W                |\n",
    "| __________ | _________________|\n",
    "| 88         | X                |\n",
    "| __________ | _________________|\n",
    "| 89         | Y                |\n",
    "| __________ | _________________|\n",
    "| 90         | Z                |\n",
    "| __________ | _________________|\n",
    "| ...        | ...              |\n",
    "| __________ | _________________|\n",
    "| 97         | a                |\n",
    "| __________ | _________________|\n",
    "| 98         | b                |\n",
    "| __________ | _________________|\n",
    "| 99         | c                |\n",
    "| __________ | _________________|\n",
    "| 100        | d                |\n",
    "| __________ | _________________|\n",
    "| 101        | e                |\n",
    "| __________ | _________________|\n",
    "| ...        | ...              |\n",
    "| __________ | _________________|\n",
    "| 110        | n                |\n",
    "| __________ | _________________|\n",
    "| 111        | o                |\n",
    "| __________ | _________________|\n",
    "| 112        | p                |\n",
    "| __________ | _________________|\n",
    "| 113        | q                |\n",
    "| __________ | _________________|\n",
    "| 114        | r                |\n",
    "| __________ | _________________|\n",
    "| 115        | s                |\n",
    "| __________ | _________________|\n",
    "| ...        | ...              |\n",
    "| __________ | _________________|\n",
    "```"
   ]
  },
  {
   "cell_type": "markdown",
   "id": "79fba272",
   "metadata": {},
   "source": [
    "Now we can make some sense of the `content` variable:"
   ]
  },
  {
   "cell_type": "code",
   "execution_count": null,
   "id": "a02dfd92",
   "metadata": {},
   "outputs": [],
   "source": [
    "content[0]"
   ]
  },
  {
   "cell_type": "markdown",
   "id": "d6e58c05",
   "metadata": {},
   "source": [
    "If we look at the ASCII table, we can see that the number `82` corresponds to the character `R`. Therefore the first byte of the file contains the number `82` which represents the character `R`. The next few characters should be be `o`, `s`, `e` and `s`, i.e. the following bytes should be `111`, `115`, `101` and `115`:"
   ]
  },
  {
   "cell_type": "code",
   "execution_count": null,
   "id": "539b340c",
   "metadata": {},
   "outputs": [],
   "source": [
    "content[1]"
   ]
  },
  {
   "cell_type": "code",
   "execution_count": null,
   "id": "ad298a0b",
   "metadata": {},
   "outputs": [],
   "source": [
    "content[2]"
   ]
  },
  {
   "cell_type": "code",
   "execution_count": null,
   "id": "b5ff71fe",
   "metadata": {},
   "outputs": [],
   "source": [
    "content[3]"
   ]
  },
  {
   "cell_type": "code",
   "execution_count": null,
   "id": "179a2f49",
   "metadata": {},
   "outputs": [],
   "source": [
    "content[4]"
   ]
  },
  {
   "cell_type": "markdown",
   "id": "4d5d58f8",
   "metadata": {},
   "source": [
    "Note that space, newline etc are also simply stored as bytes:"
   ]
  },
  {
   "cell_type": "code",
   "execution_count": null,
   "id": "6ee7367d",
   "metadata": {},
   "outputs": [],
   "source": [
    "content[5]"
   ]
  },
  {
   "attachments": {},
   "cell_type": "markdown",
   "id": "2f4dc73f",
   "metadata": {},
   "source": [
    "The ASCII table worked fine for a while until programmers suddenly noticed that are languages in the world other than English. This was a truly *shocking* discovery that fundamentally changed the way programmers thought about the world. The **Unicode** standard was born.\n",
    "\n",
    "> Note that this is really oversimplified history of the Unicode standard. The reality was much more complicated.\n",
    "\n",
    "The most important concept of the Unicode standard was the code point. A **code point** is a numerical value that maps to a specific character. This is very similar to the ASCII table, except that Unicode is extremely large and contains such characters as:\n",
    "\n",
    "* the German umlaut `ä` which has the code point 228\n",
    "* the checkmark `✅` which has the code point 9989\n",
    "* the emoji `😀` which has the code point 128512\n",
    "\n",
    "You can think of Unicode as a giant extension of the ASCII table.\n",
    "\n",
    "However we can no longer store every character in a single byte. In order to fit every Unicode characters, we would need at least *four bytes*. However this would be extremely wasteful for e.g. english texts, since we would rarely *actually* need all four bytes. In this case.\n",
    "\n",
    "Therefore the are multiple **encodings** which govern how code points are converted to bytes. For example an encoding can decide to represent some characters as a single byte, some characters as two bytes etc. We will not dive into encodings in this chapter since this is not essential. However it *is essential* to realize that the *same code point* can be *converted to a different sequence of bytes depending on the encoding*.\n",
    "\n",
    "For example the encoding `UTF-8` (which is the most popular encoding on the internet) represents the German umlaut `ä` using the following sequence of bytes:"
   ]
  },
  {
   "cell_type": "code",
   "execution_count": null,
   "id": "d9caa6c2",
   "metadata": {},
   "outputs": [],
   "source": [
    "utf8_umlaut = \"ä\".encode(\"utf-8\")"
   ]
  },
  {
   "cell_type": "code",
   "execution_count": null,
   "id": "89ae2cae",
   "metadata": {},
   "outputs": [],
   "source": [
    "len(utf8_umlaut)"
   ]
  },
  {
   "cell_type": "code",
   "execution_count": null,
   "id": "91184e81",
   "metadata": {},
   "outputs": [],
   "source": [
    "utf8_umlaut[0]"
   ]
  },
  {
   "cell_type": "code",
   "execution_count": null,
   "id": "2cc21a38",
   "metadata": {},
   "outputs": [],
   "source": [
    "utf8_umlaut[1]"
   ]
  },
  {
   "cell_type": "markdown",
   "id": "98fd140f",
   "metadata": {},
   "source": [
    "However the `Windows-1252` encoding (called `cp1252` for short) which is commonly used on Windows systems represents the same character completely differently:"
   ]
  },
  {
   "cell_type": "code",
   "execution_count": null,
   "id": "cdb05c6a",
   "metadata": {},
   "outputs": [],
   "source": [
    "cp1252_umlaut = \"ä\".encode(\"cp1252\")"
   ]
  },
  {
   "cell_type": "code",
   "execution_count": null,
   "id": "f2b611b4",
   "metadata": {},
   "outputs": [],
   "source": [
    "len(cp1252_umlaut)"
   ]
  },
  {
   "cell_type": "code",
   "execution_count": null,
   "id": "da8f460a",
   "metadata": {},
   "outputs": [],
   "source": [
    "cp1252_umlaut[0]"
   ]
  },
  {
   "cell_type": "markdown",
   "id": "b20259b3",
   "metadata": {},
   "source": [
    "All of this has an extremely important practical consequence:\n",
    "\n",
    "**If you want to know what string a sequence of bytes represents, you need to know the encoding of the string.**\n",
    "\n",
    "Consider the following sequence of bytes: "
   ]
  },
  {
   "cell_type": "code",
   "execution_count": null,
   "id": "aa5fc73c",
   "metadata": {},
   "outputs": [],
   "source": [
    "b = bytes([195, 164])"
   ]
  },
  {
   "cell_type": "markdown",
   "id": "f992b013",
   "metadata": {},
   "source": [
    "If that sequence of bytes has the encoding `cp1252` it represents the following string:"
   ]
  },
  {
   "cell_type": "code",
   "execution_count": null,
   "id": "a0b86b2b",
   "metadata": {},
   "outputs": [],
   "source": [
    "b.decode(\"cp1252\")"
   ]
  },
  {
   "cell_type": "markdown",
   "id": "c96b329c",
   "metadata": {},
   "source": [
    "However if that sequence of bytes has the encoding `utf-8` it represents a completely different string:"
   ]
  },
  {
   "cell_type": "code",
   "execution_count": null,
   "id": "227dfaa8",
   "metadata": {},
   "outputs": [],
   "source": [
    "b.decode(\"utf-8\")"
   ]
  },
  {
   "cell_type": "markdown",
   "id": "c4abe036",
   "metadata": {},
   "source": [
    "> It should be noted that if you don't know the encoding of a string there are certain statistical methods that can be used to guess that encoding using common patterns. However this can get very hacky and is not always accurate. Therefore you should never rely on these methods when writing production code."
   ]
  },
  {
   "cell_type": "markdown",
   "id": "e7b6c588",
   "metadata": {},
   "source": [
    "This also means that if you write a file using one encoding and then try to read it using a different encoding, you will either get scrambled content or maybe even fail to read the file completely. This is actually a fairly common occurence if a file was created on an operating system that uses one encoding by default and then read on another operating system that uses another encoding by default.\n",
    "\n",
    "Let's see this in action. Create a text file `german.txt` with the following content:\n",
    "\n",
    "```\n",
    "A file with umlauts: ÄÖÜäöü\n",
    "```\n",
    "\n",
    "The encoding of the file should be `UTF-8`:"
   ]
  },
  {
   "cell_type": "code",
   "execution_count": null,
   "id": "5658fb1b",
   "metadata": {},
   "outputs": [],
   "source": [
    "with open(\"german.txt\", \"w\", encoding=\"utf-8\") as german_file:\n",
    "    german_file.write(\"A file with umlauts: ÄÖÜäöü\")"
   ]
  },
  {
   "cell_type": "markdown",
   "id": "0b2ec011",
   "metadata": {},
   "source": [
    "Let's know try to read the same file using a different encoding:"
   ]
  },
  {
   "cell_type": "code",
   "execution_count": null,
   "id": "d22812e6",
   "metadata": {},
   "outputs": [],
   "source": [
    "with open(\"german.txt\", \"r\", encoding=\"cp1252\") as german_file:\n",
    "    content = german_file.read()"
   ]
  },
  {
   "cell_type": "code",
   "execution_count": null,
   "id": "68d2bcab",
   "metadata": {},
   "outputs": [],
   "source": [
    "content"
   ]
  },
  {
   "cell_type": "markdown",
   "id": "858ddd8c",
   "metadata": {},
   "source": [
    "Uh-oh! The content of this file is completely scrambled! This is because we tried to read it in an encoding that is different from the original encoding is was written in.\n",
    "\n",
    "Depending on the encoding, the read may even fail *completely*:"
   ]
  },
  {
   "cell_type": "code",
   "execution_count": null,
   "id": "509fcc1f",
   "metadata": {},
   "outputs": [],
   "source": [
    "with open(\"german.txt\", \"r\", encoding=\"utf-16\") as german_file:\n",
    "    content = german_file.read()"
   ]
  },
  {
   "cell_type": "markdown",
   "id": "16aa2ede",
   "metadata": {},
   "source": [
    "This is actually better than scrambled content which represents a general principle in programming: *It's better to crash than to proceed with invalid data*. The reason for that is simple: If you crash, then at least you know you have an error. If you proceed with invalid data, then you may never know that you have an error until something really bad happens much later. Consider a file that contains bank transactions. If you fail to read this file, then you know that your software has an error and you may try to fix it. But if you proceed with scrambled content, you may process completely wrong transactions resulting in *a lot* of headaches."
   ]
  }
 ],
 "metadata": {
  "kernelspec": {
   "display_name": "Python 3",
   "language": "python",
   "name": "python3"
  },
  "language_info": {
   "codemirror_mode": {
    "name": "ipython",
    "version": 3
   },
   "file_extension": ".py",
   "mimetype": "text/x-python",
   "name": "python",
   "nbconvert_exporter": "python",
   "pygments_lexer": "ipython3",
   "version": "3.9.2"
  }
 },
 "nbformat": 4,
 "nbformat_minor": 5
}
