{
 "cells": [
  {
   "cell_type": "markdown",
   "id": "f0d3206a",
   "metadata": {},
   "source": [
    "# Chapter 8. Modules and packages"
   ]
  },
  {
   "cell_type": "markdown",
   "id": "58c9ff67",
   "metadata": {},
   "source": [
    "## Modules"
   ]
  },
  {
   "cell_type": "markdown",
   "id": "98dbab27",
   "metadata": {},
   "source": [
    "When writing large and complex software projects it's usually a terrible idea to put everything into a single file as that file will quickly become large and *unmaintainable*. Therefore different functionalities are often split into different files whose code is then made available to other files.\n",
    "\n",
    "Let's create a file `greeting.py` which contains two functions and a class."
   ]
  },
  {
   "cell_type": "code",
   "execution_count": null,
   "id": "7dc16c2f",
   "metadata": {},
   "outputs": [],
   "source": [
    "def get_full_name(first_name, last_name):\n",
    "    return f\"{first_name} {last_name}\"\n",
    "\n",
    "def get_greeting(greet_message, full_name):\n",
    "    return f\"{greet_message}, {full_name}\"\n",
    "\n",
    "class Greeter:\n",
    "    def __init__(self, greet_message):\n",
    "        self.greet_message = greet_message\n",
    "        \n",
    "    def get_greeting(self, full_name):\n",
    "        return get_greeting(self.greet_message, full_name)"
   ]
  },
  {
   "cell_type": "markdown",
   "id": "9f0ed5d8",
   "metadata": {},
   "source": [
    "We can use the `import` statement to make code from `greeting.py` available to the REPL or another file.\n",
    "\n",
    "For example if you open a REPL in the same directory as `greeting.py`, you can import `greeting` as following:"
   ]
  },
  {
   "cell_type": "code",
   "execution_count": null,
   "id": "e8182e2b",
   "metadata": {},
   "outputs": [],
   "source": [
    "import greeting"
   ]
  },
  {
   "cell_type": "code",
   "execution_count": null,
   "id": "e1828f17",
   "metadata": {},
   "outputs": [],
   "source": [
    "greeting"
   ]
  },
  {
   "cell_type": "markdown",
   "id": "b1c98e52",
   "metadata": {},
   "source": [
    "As you can see, `greeting` is a **module**. This module now allows us to access the functions and classes that we defined in `greeting.py`:"
   ]
  },
  {
   "cell_type": "code",
   "execution_count": null,
   "id": "1369cc9f",
   "metadata": {},
   "outputs": [],
   "source": [
    "full_name = greeting.get_full_name(\"John\", \"Doe\")"
   ]
  },
  {
   "cell_type": "code",
   "execution_count": null,
   "id": "c154b8cf",
   "metadata": {},
   "outputs": [],
   "source": [
    "full_name"
   ]
  },
  {
   "cell_type": "code",
   "execution_count": null,
   "id": "8fac971c",
   "metadata": {},
   "outputs": [],
   "source": [
    "my_greeting = greeting.get_greeting(\"Welcome\", full_name)"
   ]
  },
  {
   "cell_type": "code",
   "execution_count": null,
   "id": "9d597ac1",
   "metadata": {},
   "outputs": [],
   "source": [
    "my_greeting"
   ]
  },
  {
   "cell_type": "code",
   "execution_count": null,
   "id": "90a35f22",
   "metadata": {},
   "outputs": [],
   "source": [
    "greeter = greeting.Greeter(\"Welcome\")\n",
    "greeter.get_greeting(\"John Doe\")"
   ]
  },
  {
   "cell_type": "markdown",
   "id": "c671fdc7",
   "metadata": {},
   "source": [
    "Be careful not to **shadow** the module name:"
   ]
  },
  {
   "cell_type": "code",
   "execution_count": null,
   "id": "82ad00cf",
   "metadata": {},
   "outputs": [],
   "source": [
    "greeting = greeting.get_greeting(full_name)"
   ]
  },
  {
   "cell_type": "code",
   "execution_count": null,
   "id": "2fc113ff",
   "metadata": {},
   "outputs": [],
   "source": [
    "greeting"
   ]
  },
  {
   "cell_type": "code",
   "execution_count": null,
   "id": "a81c2f6e",
   "metadata": {},
   "outputs": [],
   "source": [
    "greeting.get_greeting(full_name)"
   ]
  },
  {
   "cell_type": "markdown",
   "id": "d0450560",
   "metadata": {},
   "source": [
    "Uh-oh! This happens because `greeting` is now a string containing the greeting instead of the module `greeting`:"
   ]
  },
  {
   "cell_type": "code",
   "execution_count": null,
   "id": "4112d889",
   "metadata": {},
   "outputs": [],
   "source": [
    "greeting"
   ]
  },
  {
   "cell_type": "markdown",
   "id": "b8b05850",
   "metadata": {},
   "source": [
    "You probably noticed that if we want to use a function from `greeting` we have to prefix the function with the module name. Sometimes this is desirable, but in certain cases we want to avoid to need for writing this prefix.\n",
    "\n",
    "We can do accomplish this by using the `from ... import ...` statement:"
   ]
  },
  {
   "cell_type": "code",
   "execution_count": null,
   "id": "7bec8cc0",
   "metadata": {},
   "outputs": [],
   "source": [
    "from greeting import get_greeting"
   ]
  },
  {
   "cell_type": "code",
   "execution_count": null,
   "id": "b443bf7a",
   "metadata": {},
   "outputs": [],
   "source": [
    "get_greeting(\"John Doe\")"
   ]
  },
  {
   "cell_type": "markdown",
   "id": "6ebbc04b",
   "metadata": {},
   "source": [
    "We can also assign an **alias** (i.e. a different name) to a module or a function using the `as` statement:"
   ]
  },
  {
   "cell_type": "code",
   "execution_count": null,
   "id": "ec7e20c8",
   "metadata": {},
   "outputs": [],
   "source": [
    "import greeting as g"
   ]
  },
  {
   "cell_type": "code",
   "execution_count": null,
   "id": "880b42d5",
   "metadata": {},
   "outputs": [],
   "source": [
    "g.get_greeting(\"Welcome\", \"John Doe\")"
   ]
  },
  {
   "cell_type": "code",
   "execution_count": null,
   "id": "58588515",
   "metadata": {},
   "outputs": [],
   "source": [
    "from greeting import get_greeting as gg"
   ]
  },
  {
   "cell_type": "code",
   "execution_count": null,
   "id": "e61d4f05",
   "metadata": {},
   "outputs": [],
   "source": [
    "gg(\"Welcome\", \"John Doe\")"
   ]
  },
  {
   "cell_type": "markdown",
   "id": "fb097923",
   "metadata": {},
   "source": [
    "## Built-in modules"
   ]
  },
  {
   "cell_type": "markdown",
   "id": "22936bf7",
   "metadata": {},
   "source": [
    "There is a number of important *built-in modules* that Python ships with. We will not go over them all (this would require multiple books much larger than this one). However we will quickly take a brief look at some of them.\n",
    "\n",
    "The `math` module provides various important mathematical functions. Here is a *very* small selection of them:"
   ]
  },
  {
   "cell_type": "code",
   "execution_count": null,
   "id": "2a277c1e",
   "metadata": {},
   "outputs": [],
   "source": [
    "import math"
   ]
  },
  {
   "cell_type": "code",
   "execution_count": null,
   "id": "d010ab15",
   "metadata": {},
   "outputs": [],
   "source": [
    "math.floor(3.4)"
   ]
  },
  {
   "cell_type": "code",
   "execution_count": null,
   "id": "b4a1d713",
   "metadata": {},
   "outputs": [],
   "source": [
    "math.ceil(3.4)"
   ]
  },
  {
   "cell_type": "code",
   "execution_count": null,
   "id": "cbd1000f",
   "metadata": {},
   "outputs": [],
   "source": [
    "math.log(42)"
   ]
  },
  {
   "cell_type": "code",
   "execution_count": null,
   "id": "9d2fff26",
   "metadata": {},
   "outputs": [],
   "source": [
    "math.sqrt(4)"
   ]
  },
  {
   "cell_type": "markdown",
   "id": "27893bde",
   "metadata": {},
   "source": [
    "The `math` module also contains important constants like `pi` and `e`:"
   ]
  },
  {
   "cell_type": "code",
   "execution_count": null,
   "id": "1af567bc",
   "metadata": {},
   "outputs": [],
   "source": [
    "math.pi"
   ]
  },
  {
   "cell_type": "code",
   "execution_count": null,
   "id": "0d0d2b24",
   "metadata": {},
   "outputs": [],
   "source": [
    "math.e"
   ]
  },
  {
   "cell_type": "markdown",
   "id": "fb37f01f",
   "metadata": {},
   "source": [
    "The `random` module provides facilities for randomness like generation of random numbers, selection of random elements etc:"
   ]
  },
  {
   "cell_type": "code",
   "execution_count": null,
   "id": "09438a86",
   "metadata": {},
   "outputs": [],
   "source": [
    "import random"
   ]
  },
  {
   "cell_type": "code",
   "execution_count": null,
   "id": "ae4c79f4",
   "metadata": {},
   "outputs": [],
   "source": [
    "random.random()"
   ]
  },
  {
   "cell_type": "code",
   "execution_count": null,
   "id": "4046cb82",
   "metadata": {},
   "outputs": [],
   "source": [
    "random.randint(2, 6)"
   ]
  },
  {
   "cell_type": "code",
   "execution_count": null,
   "id": "d95c7c2d",
   "metadata": {},
   "outputs": [],
   "source": [
    "random.choice([\"first element\", \"second element\", \"third element\"])"
   ]
  },
  {
   "cell_type": "markdown",
   "id": "582e0c41",
   "metadata": {},
   "source": [
    "The `datetime` module provides facilities regarding the use of date and time:"
   ]
  },
  {
   "cell_type": "code",
   "execution_count": null,
   "id": "f925d433",
   "metadata": {},
   "outputs": [],
   "source": [
    "import datetime"
   ]
  },
  {
   "cell_type": "code",
   "execution_count": null,
   "id": "de018d4d",
   "metadata": {},
   "outputs": [],
   "source": [
    "current_datetime = datetime.datetime.now()"
   ]
  },
  {
   "cell_type": "code",
   "execution_count": null,
   "id": "9268ee20",
   "metadata": {},
   "outputs": [],
   "source": [
    "current_datetime"
   ]
  },
  {
   "cell_type": "code",
   "execution_count": null,
   "id": "974b0b90",
   "metadata": {},
   "outputs": [],
   "source": [
    "current_datetime.second"
   ]
  },
  {
   "cell_type": "code",
   "execution_count": null,
   "id": "28c3df7c",
   "metadata": {},
   "outputs": [],
   "source": [
    "current_datetime.minute"
   ]
  },
  {
   "cell_type": "code",
   "execution_count": null,
   "id": "77592314",
   "metadata": {},
   "outputs": [],
   "source": [
    "current_datetime.hour"
   ]
  },
  {
   "cell_type": "code",
   "execution_count": null,
   "id": "aa4ac123",
   "metadata": {},
   "outputs": [],
   "source": [
    "current_datetime.day"
   ]
  },
  {
   "cell_type": "code",
   "execution_count": null,
   "id": "ce1f6ec6",
   "metadata": {},
   "outputs": [],
   "source": [
    "current_datetime.month"
   ]
  },
  {
   "cell_type": "code",
   "execution_count": null,
   "id": "117ca3eb",
   "metadata": {},
   "outputs": [],
   "source": [
    "current_datetime.year"
   ]
  },
  {
   "cell_type": "markdown",
   "id": "09fee675",
   "metadata": {},
   "source": [
    "There are *a lot* of modules in Python. Check out the [Python documentation](https://docs.python.org/3/library/index.html) for more information."
   ]
  },
  {
   "cell_type": "markdown",
   "id": "0b531045",
   "metadata": {},
   "source": [
    "## Third-party packages"
   ]
  },
  {
   "cell_type": "markdown",
   "id": "9f353111",
   "metadata": {},
   "source": [
    "We add third-party packages using the **package manager** `pip`. If you followed the installation instructions in chapter 1, `pip` should already be installed on your machine.\n",
    "\n",
    "This package manager lets us install packages using the `pip install` command. For example we can install the third-party package `numpy` for numerical computations using `pip install --user numpy`:\n",
    "\n",
    "![](images/pip.png)"
   ]
  },
  {
   "cell_type": "markdown",
   "id": "4acb2910",
   "metadata": {},
   "source": [
    "Now that we installed the package we can import modules from that package:"
   ]
  },
  {
   "cell_type": "code",
   "execution_count": null,
   "id": "349586d2",
   "metadata": {},
   "outputs": [],
   "source": [
    "import numpy as np"
   ]
  },
  {
   "cell_type": "code",
   "execution_count": null,
   "id": "c64c55b0",
   "metadata": {},
   "outputs": [],
   "source": [
    "arr = np.array([0.0, 0.5, 1.0, 1.5, 2.0])"
   ]
  },
  {
   "cell_type": "code",
   "execution_count": null,
   "id": "3b80f030",
   "metadata": {},
   "outputs": [],
   "source": [
    "arr"
   ]
  },
  {
   "cell_type": "markdown",
   "id": "0d4e9aae",
   "metadata": {},
   "source": [
    "There are many useful third-party packages. For example the `matplotlib` package provides facilities for plotting. Install the package with `pip install --user matplotlib`.\n",
    "\n",
    "Let's import `matplotlib.pyplot` and assign the `plt` alias to it:"
   ]
  },
  {
   "cell_type": "code",
   "execution_count": null,
   "id": "ae14946a",
   "metadata": {},
   "outputs": [],
   "source": [
    "import matplotlib.pyplot as plt"
   ]
  },
  {
   "cell_type": "code",
   "execution_count": null,
   "id": "bca26e20",
   "metadata": {},
   "outputs": [],
   "source": [
    "plt.plot([0, 1, 4, 9, 16])"
   ]
  },
  {
   "cell_type": "markdown",
   "id": "34a7a660",
   "metadata": {},
   "source": [
    "One particularly relevant package is `black` which is commonly used to automatically format Python code.\n",
    "\n",
    "Create a file `example.py` with the following content:\n",
    "\n",
    "```python\n",
    "print ( 'hello, world' )\n",
    "```\n",
    "\n",
    "Now install `black` with `pip install --user black` and run `black example.py` in the directory containing the Python file:\n",
    "\n",
    "![](images/black.png)\n",
    "\n",
    "If you open the file `example.py`, you can see that its content has been reformatted according to the Black style guide which is a style guide compatible with [PEP8](https://peps.python.org/pep-0008/):\n",
    "\n",
    "```python\n",
    "print(\"hello, world\")\n",
    "```\n",
    "\n",
    "It's common practice to format all Python scripts with `black` when working on large software projects. This is because formatting all files in the same style results in a higher *readability* of the code."
   ]
  }
 ],
 "metadata": {
  "kernelspec": {
   "display_name": "Python 3 (ipykernel)",
   "language": "python",
   "name": "python3"
  },
  "language_info": {
   "codemirror_mode": {
    "name": "ipython",
    "version": 3
   },
   "file_extension": ".py",
   "mimetype": "text/x-python",
   "name": "python",
   "nbconvert_exporter": "python",
   "pygments_lexer": "ipython3",
   "version": "3.10.6"
  }
 },
 "nbformat": 4,
 "nbformat_minor": 5
}
