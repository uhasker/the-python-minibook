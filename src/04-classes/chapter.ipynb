{
 "cells": [
  {
   "cell_type": "markdown",
   "id": "275328b0",
   "metadata": {},
   "source": [
    "# Chapter 4. Classes"
   ]
  },
  {
   "cell_type": "markdown",
   "id": "700e2b7e",
   "metadata": {},
   "source": [
    "## Objects and Classes"
   ]
  },
  {
   "cell_type": "markdown",
   "id": "ce4e802d",
   "metadata": {},
   "source": [
    "An **object** is a data structure that contains *state* and *behaviour*.\n",
    "\n",
    "Before we can create objects, we (usually) need to define a **class** which will be our *template for creating objects*. The objects which we create from that template are called **instances** of the class.\n",
    "\n",
    "Consider the following example:\n",
    "\n",
    "We have a ball which has a position and a speed. The position and the speed describe the *state* of the ball. The ball can also move, i.e. update its position based on the speed. This is the *behaviour* of the ball.\n",
    "\n",
    "We can define a class `Ball` (which will be the template for creating ball objects in the future) like this:"
   ]
  },
  {
   "cell_type": "code",
   "execution_count": null,
   "id": "f497ad82",
   "metadata": {},
   "outputs": [],
   "source": [
    "class Ball:\n",
    "    def __init__(self, pos, speed):\n",
    "        self.pos = pos\n",
    "        self.speed = speed"
   ]
  },
  {
   "cell_type": "markdown",
   "id": "3d6e5e3e",
   "metadata": {},
   "source": [
    "Here the state consists of the variables `pos` and `speed`. Generally speaking, variables that are associated with objects (and represent its state) are called **attributes**.\n",
    "\n",
    "> PEP8 note: Class names should normally use the CapWords convention, e.g. `Ball` or `MyAwesomeClass`.\n",
    "\n",
    "The `__init__` function (commonly referred to as **constructor**) is a special function which **initializes** an object with some *initial state*.\n",
    "\n",
    "For example if we want to create a ball with the position `10` and the speed `8`, we write:"
   ]
  },
  {
   "cell_type": "code",
   "execution_count": null,
   "id": "cef44f85",
   "metadata": {},
   "outputs": [],
   "source": [
    "my_ball = Ball(10, 8)"
   ]
  },
  {
   "cell_type": "markdown",
   "id": "cef76c50",
   "metadata": {},
   "source": [
    "Just like with functions, we can pass positional arguments and/or keyword arguments to the constructor:"
   ]
  },
  {
   "cell_type": "code",
   "execution_count": null,
   "id": "fdf9725d",
   "metadata": {},
   "outputs": [],
   "source": [
    "my_ball = Ball(pos=10, speed=8)"
   ]
  },
  {
   "cell_type": "markdown",
   "id": "163b507a",
   "metadata": {},
   "source": [
    "Let us inspect the attributes of the `ball` object:"
   ]
  },
  {
   "cell_type": "code",
   "execution_count": null,
   "id": "9aca4ac0",
   "metadata": {},
   "outputs": [],
   "source": [
    "f\"pos = {my_ball.pos}, speed = {my_ball.speed}\""
   ]
  },
  {
   "cell_type": "markdown",
   "id": "3a1da5f1",
   "metadata": {},
   "source": [
    "We can also get the class of the object using the `type` function:"
   ]
  },
  {
   "cell_type": "code",
   "execution_count": null,
   "id": "26b71d04",
   "metadata": {},
   "outputs": [],
   "source": [
    "type(my_ball)"
   ]
  },
  {
   "cell_type": "markdown",
   "id": "77ee3e01",
   "metadata": {},
   "source": [
    "We can also confirm that the `my_ball` object is an instance of the `Ball` class using the `isinstance` function. This will come in handy later:"
   ]
  },
  {
   "cell_type": "code",
   "execution_count": null,
   "id": "c2875024",
   "metadata": {},
   "outputs": [],
   "source": [
    "isinstance(my_ball, Ball)"
   ]
  },
  {
   "cell_type": "markdown",
   "id": "d7666489",
   "metadata": {},
   "source": [
    "We could now change the state of the ball directly. For example this is how we could move the ball:"
   ]
  },
  {
   "cell_type": "code",
   "execution_count": null,
   "id": "f539faad",
   "metadata": {},
   "outputs": [],
   "source": [
    "t = 2\n",
    "my_ball.pos += my_ball.speed * t"
   ]
  },
  {
   "cell_type": "code",
   "execution_count": null,
   "id": "164696fc",
   "metadata": {},
   "outputs": [],
   "source": [
    "f\"pos = {my_ball.pos}, speed = {my_ball.speed}\""
   ]
  },
  {
   "cell_type": "markdown",
   "id": "79c58595",
   "metadata": {},
   "source": [
    "But this isn't really the way to go. What if we wanted to change the speed calculation later (for example taking friction into account)? Then we would need to adjust the calculation in every single place we use it, which is a lot of work and could introduce bugs if we forget the calculation adjustment somewhere.\n",
    "\n",
    "If you paid attention in the previous chapter, you will quickly realize that we have the *exact same* problem that motivated the introduction of *functions*.\n",
    "\n",
    "After we introduced functions, we stored the repetitive calculations in the function body and then simply called the function when we needed those calculations. Luckily, classes and objects provide a similar mechanism.\n",
    "\n",
    "We can define functions on classes - these functions are called **methods** and define the *behaviour* of the objects of that class. The first parameter of every method is an instance of the current object. By convention this parameter is called `self`.\n",
    "\n",
    "For example, here is how we could implement a `move` method on the `Ball` class:"
   ]
  },
  {
   "cell_type": "code",
   "execution_count": null,
   "id": "6c03c644",
   "metadata": {},
   "outputs": [],
   "source": [
    "class Ball:\n",
    "    def __init__(self, pos, speed):\n",
    "        self.pos = pos\n",
    "        self.speed = speed\n",
    "        \n",
    "    def move(self, t):\n",
    "        self.pos += self.speed * t"
   ]
  },
  {
   "cell_type": "markdown",
   "id": "a21552e9",
   "metadata": {},
   "source": [
    "Here, `self` will be the ball object the method is invoked on. For example if we call `move` on the object `my_ball` then `self` will be `my_ball`. If we call `move` on the object `my_other_ball` then `self` will be `my_other_ball`.\n",
    "\n",
    "If you are working in the REPL, after creating the new class you need to *recreate* the `my_ball` object, otherwise you will still be using the old class!"
   ]
  },
  {
   "cell_type": "code",
   "execution_count": null,
   "id": "1b3302c7",
   "metadata": {},
   "outputs": [],
   "source": [
    "my_ball = Ball(10, 8)\n",
    "my_ball.move(2)"
   ]
  },
  {
   "cell_type": "code",
   "execution_count": null,
   "id": "a89dda90",
   "metadata": {},
   "outputs": [],
   "source": [
    "f\"pos = {my_ball.pos}, speed = {my_ball.speed}\""
   ]
  },
  {
   "cell_type": "markdown",
   "id": "791b8b87",
   "metadata": {},
   "source": [
    "If you see the error message `AttributeError: 'Ball' object has no attribute 'move'` this means that you are still using the *old* ball class and you need to recreate `my_ball`.\n",
    "\n",
    "Note how executing the methods that defined the behaviour *changed* the object state. This is what objects are all about. They are initialized with some state and then we can use their behaviour to update the state.\n",
    "\n",
    "We should also point out that apart from having to write classes yourself, you will *use* them *all the time*. In fact, we will introduce many extremely important classes in the *very next chapter*."
   ]
  },
  {
   "cell_type": "markdown",
   "id": "0ce938a4",
   "metadata": {},
   "source": [
    "## The `__str__` and `__repr__` Methods"
   ]
  },
  {
   "cell_type": "markdown",
   "id": "06bc86fd",
   "metadata": {},
   "source": [
    "Quite often, we want to obtain a string representation of an object (e.g. using the `print` function) that shows its current state. Unfortunately, at the moment, if we try to print or get the representation of an object, we will receive a string that's pretty useless."
   ]
  },
  {
   "cell_type": "code",
   "execution_count": null,
   "id": "70b7e44e",
   "metadata": {},
   "outputs": [],
   "source": [
    "my_ball"
   ]
  },
  {
   "cell_type": "code",
   "execution_count": null,
   "id": "5d91a90a",
   "metadata": {},
   "outputs": [],
   "source": [
    "print(my_ball)"
   ]
  },
  {
   "cell_type": "markdown",
   "id": "692f8c9e",
   "metadata": {},
   "source": [
    "> The weird string at the end of the output (yours will probably be different) is the memory address of the object represented as a hexadecimal number (because we use the CPython runtime).\n",
    "\n",
    "Luckily, Python allows us to change this behaviour. Classes may implement two special methods called `__str__` and `__repr__`.\n",
    "\n",
    "The `__str__` method produces a human-readable string for consumption by the end user. The `__repr__` method produces an *unambiguous representation* of the object. Basically `__str__` is intended to produce an \"informal\" representation of an object, while `__repr__` is intended to produce a *formal representation*  of an object.\n",
    "\n",
    "This is reflected in the circumstances under which these methods are called. For example if you just output an object in the REPL, you will see the output of a call to the `__repr__` method of that object. If you `print` an object, you will see the result of a call to the `__str__` method of that object.\n",
    "\n",
    "This makes sense - in the REPL we generally want to see an *unambiguous representation* of our objects. On the other hand, when we call `print` we usually want a human-readable string that displays the information we primarily care about.\n",
    "\n",
    "These two methods often have the same implementation (since the end user often wants to see the *unambiguous representation*), but this doesn't have to be the case. For example, we could argue, that the end user doesn't care about the speed of the ball and only cares about its current position. Then the `__str__` method would return a string that doesn't contain the `speed` attribute. However the `__repr__` method should still return all attributes:"
   ]
  },
  {
   "cell_type": "code",
   "execution_count": null,
   "id": "f9fe40b8",
   "metadata": {},
   "outputs": [],
   "source": [
    "class Ball:\n",
    "    def __init__(self, pos, speed):\n",
    "        self.pos = pos\n",
    "        self.speed = speed\n",
    "        \n",
    "    def move(self, t):\n",
    "        self.pos += self.speed * t\n",
    "        \n",
    "    def __str__(self):\n",
    "        return f\"Ball(pos={self.pos})\"\n",
    "    \n",
    "    def __repr__(self):\n",
    "        return f\"Ball(pos={self.pos}, speed={self.speed})\""
   ]
  },
  {
   "cell_type": "code",
   "execution_count": null,
   "id": "454afbbd",
   "metadata": {},
   "outputs": [],
   "source": [
    "ball = Ball(pos=10, speed=8)"
   ]
  },
  {
   "cell_type": "code",
   "execution_count": null,
   "id": "4cc3d9e1",
   "metadata": {},
   "outputs": [],
   "source": [
    "# Note how printing the ball gives us\n",
    "# the output of __str__\n",
    "\n",
    "print(ball)"
   ]
  },
  {
   "cell_type": "code",
   "execution_count": null,
   "id": "b813c61b",
   "metadata": {},
   "outputs": [],
   "source": [
    "# However just outputting the ball in a REPL\n",
    "# gives us the output of __repr__\n",
    "\n",
    "ball"
   ]
  },
  {
   "cell_type": "markdown",
   "id": "efbaa72d",
   "metadata": {},
   "source": [
    "We can also call `__str__` and `__repr__` manually by calling the `str` and `repr` functions:"
   ]
  },
  {
   "cell_type": "code",
   "execution_count": null,
   "id": "4c511c23",
   "metadata": {},
   "outputs": [],
   "source": [
    "str(ball)"
   ]
  },
  {
   "cell_type": "code",
   "execution_count": null,
   "id": "4f55e5e4",
   "metadata": {},
   "outputs": [],
   "source": [
    "repr(ball)"
   ]
  },
  {
   "cell_type": "markdown",
   "id": "29c995ea",
   "metadata": {},
   "source": [
    "If `__str__` and `__repr__` should return the same string, it's enough to just define `__repr__`. If no `__str__` is defined and you try to call it, Python will fallback to calling `__repr__`:"
   ]
  },
  {
   "cell_type": "code",
   "execution_count": null,
   "id": "5c5dc8a8",
   "metadata": {},
   "outputs": [],
   "source": [
    "class Ball:\n",
    "    def __init__(self, pos, speed):\n",
    "        self.pos = pos\n",
    "        self.speed = speed\n",
    "        \n",
    "    def move(self, t):\n",
    "        self.pos += self.speed * t\n",
    "    \n",
    "    def __repr__(self):\n",
    "        return f\"Ball(pos={self.pos}, speed={self.speed})\""
   ]
  },
  {
   "cell_type": "code",
   "execution_count": null,
   "id": "4da491bf",
   "metadata": {},
   "outputs": [],
   "source": [
    "ball = Ball(pos=10, speed=8)"
   ]
  },
  {
   "cell_type": "code",
   "execution_count": null,
   "id": "1d4452bc",
   "metadata": {},
   "outputs": [],
   "source": [
    "ball"
   ]
  },
  {
   "cell_type": "code",
   "execution_count": null,
   "id": "2845bfe1",
   "metadata": {},
   "outputs": [],
   "source": [
    "print(ball)"
   ]
  },
  {
   "cell_type": "markdown",
   "id": "c571b125",
   "metadata": {},
   "source": [
    "Writing `__repr__` for practically all your classes *should be second nature for you from now on*. Being able to see the state of an object when outputting it is *absolutely vital* when trying to spot bugs and attempting to understand what's going on in your application.\n",
    "\n",
    "Therefore whenever you define a class, add a `__repr__` method which outputs a string that *unambiguously represents the object it was called on*. The best way to go about this is to return a string whose value represents the instantiation of a new object.\n",
    "\n",
    "For instance, in the above example `__repr__` returned a string with the value `Ball(pos=10, speed=8)`. If we copy that value into our codebase, we would create a new `Ball` object with the exact same state as the object that produced this string: "
   ]
  },
  {
   "cell_type": "code",
   "execution_count": null,
   "id": "ba036a5f",
   "metadata": {},
   "outputs": [],
   "source": [
    "Ball(pos=10, speed=8)"
   ]
  },
  {
   "cell_type": "markdown",
   "id": "ffdc0e96",
   "metadata": {},
   "source": [
    "## Object Identity"
   ]
  },
  {
   "cell_type": "markdown",
   "id": "969dfaca",
   "metadata": {},
   "source": [
    "Let's create two instances of the class `Ball` whose attributes have the same values:"
   ]
  },
  {
   "cell_type": "code",
   "execution_count": null,
   "id": "badb7d56",
   "metadata": {},
   "outputs": [],
   "source": [
    "ball1 = Ball(10, 8)\n",
    "ball2 = Ball(10, 8)"
   ]
  },
  {
   "cell_type": "code",
   "execution_count": null,
   "id": "a555f874",
   "metadata": {},
   "outputs": [],
   "source": [
    "ball1"
   ]
  },
  {
   "cell_type": "code",
   "execution_count": null,
   "id": "eb4c6e00",
   "metadata": {},
   "outputs": [],
   "source": [
    "ball2"
   ]
  },
  {
   "cell_type": "markdown",
   "id": "83d4c718",
   "metadata": {},
   "source": [
    "Note that all the attributes of these two objects have the same values, but they are *totally different* objects:\n",
    "\n",
    "![](images/different-objects.png)\n",
    "\n",
    "This means that if we change the values of `ball1`, then `ball2` will be *completely unaffected*:"
   ]
  },
  {
   "cell_type": "code",
   "execution_count": null,
   "id": "5ac84166",
   "metadata": {},
   "outputs": [],
   "source": [
    "ball1.pos += ball1.speed * 2"
   ]
  },
  {
   "cell_type": "markdown",
   "id": "99ee2d8b",
   "metadata": {},
   "source": [
    "The value of `ball1.pos` has now changed:"
   ]
  },
  {
   "cell_type": "code",
   "execution_count": null,
   "id": "73b7dacf",
   "metadata": {},
   "outputs": [],
   "source": [
    "ball1"
   ]
  },
  {
   "cell_type": "markdown",
   "id": "8af10837",
   "metadata": {},
   "source": [
    "However the value of `ball2.pos` is exactly the same as before:"
   ]
  },
  {
   "cell_type": "code",
   "execution_count": null,
   "id": "e4b9ed84",
   "metadata": {},
   "outputs": [],
   "source": [
    "ball2"
   ]
  },
  {
   "cell_type": "markdown",
   "id": "f30e1fe9",
   "metadata": {},
   "source": [
    "But what happens if we write this?"
   ]
  },
  {
   "cell_type": "code",
   "execution_count": null,
   "id": "12251e1b",
   "metadata": {},
   "outputs": [],
   "source": [
    "ball1 = Ball(10, 8)\n",
    "ball2 = ball1"
   ]
  },
  {
   "cell_type": "markdown",
   "id": "b723c87d",
   "metadata": {},
   "source": [
    "Now we have a completely different situation. The symbolic names `ball1` and `ball2` are still two different names, but they *refer to the exact same object*:\n",
    "\n",
    "![](images/same-object.png)"
   ]
  },
  {
   "cell_type": "markdown",
   "id": "bda77c96",
   "metadata": {},
   "source": [
    "This means that whenever we make a change to that object using the name `ball1`, that change will be visible when we access the object using the name `ball2`. Consider this statement:"
   ]
  },
  {
   "cell_type": "code",
   "execution_count": null,
   "id": "e59196bd",
   "metadata": {},
   "outputs": [],
   "source": [
    "ball1.pos += ball1.speed"
   ]
  },
  {
   "cell_type": "markdown",
   "id": "d2eb2bfb",
   "metadata": {},
   "source": [
    "Outputting `ball1` obviously shows the new value of `pos`:"
   ]
  },
  {
   "cell_type": "code",
   "execution_count": null,
   "id": "c67cbbfb",
   "metadata": {},
   "outputs": [],
   "source": [
    "ball1"
   ]
  },
  {
   "cell_type": "markdown",
   "id": "1d110fcf",
   "metadata": {},
   "source": [
    "However, outputting `ball2` also shows the new value of `pos`!"
   ]
  },
  {
   "cell_type": "code",
   "execution_count": null,
   "id": "e26e6046",
   "metadata": {},
   "outputs": [],
   "source": [
    "ball2"
   ]
  },
  {
   "cell_type": "markdown",
   "id": "655e68ca",
   "metadata": {},
   "source": [
    "We say that `ball1` *is* `ball2`. These two names *refer to the exact same object*. Put differently, `ball1` and `ball2` have *the same identity*.\n",
    "\n",
    "The `is` operator can be used to check if two names represent the same object:"
   ]
  },
  {
   "cell_type": "code",
   "execution_count": null,
   "id": "352bc374",
   "metadata": {},
   "outputs": [],
   "source": [
    "ball1 is ball2"
   ]
  },
  {
   "cell_type": "markdown",
   "id": "3a7af49f",
   "metadata": {},
   "source": [
    "We can also see that `ball1` and `ball2` are the same object using the `id` function. Generally speaking, this function hands us a number that is unique for each object (for the lifetime of that object). In the Python interpreter we downloaded in chapter 1 (which is the CPython interpreter) this is achieved by returning the **memory address** of the object.\n",
    "\n",
    "In this case `ball1` and `ball2` point to the same object, so their memory addresses are the same:"
   ]
  },
  {
   "cell_type": "code",
   "execution_count": null,
   "id": "1ced10ec",
   "metadata": {},
   "outputs": [],
   "source": [
    "id(ball1)"
   ]
  },
  {
   "cell_type": "code",
   "execution_count": null,
   "id": "24cd852f",
   "metadata": {},
   "outputs": [],
   "source": [
    "id(ball2)"
   ]
  },
  {
   "cell_type": "code",
   "execution_count": null,
   "id": "40485c48",
   "metadata": {},
   "outputs": [],
   "source": [
    "id(ball1) == id(ball2)"
   ]
  },
  {
   "cell_type": "markdown",
   "id": "01a27019",
   "metadata": {},
   "source": [
    "However, if we have two names that refer to different objects, then their memory addresses will not be the same and the `is` operator will return `False` even *if the object attributes are all equal*:"
   ]
  },
  {
   "cell_type": "code",
   "execution_count": null,
   "id": "0637a12e",
   "metadata": {},
   "outputs": [],
   "source": [
    "ball1 = Ball(10, 8)\n",
    "ball2 = Ball(10, 8)"
   ]
  },
  {
   "cell_type": "code",
   "execution_count": null,
   "id": "6c562fbf",
   "metadata": {},
   "outputs": [],
   "source": [
    "id(ball1)"
   ]
  },
  {
   "cell_type": "code",
   "execution_count": null,
   "id": "e7895c10",
   "metadata": {},
   "outputs": [],
   "source": [
    "id(ball2)"
   ]
  },
  {
   "cell_type": "code",
   "execution_count": null,
   "id": "60f588ad",
   "metadata": {},
   "outputs": [],
   "source": [
    "id(ball1) == id(ball2)"
   ]
  },
  {
   "cell_type": "code",
   "execution_count": null,
   "id": "cb60dd6f",
   "metadata": {},
   "outputs": [],
   "source": [
    "ball1 is ball2"
   ]
  },
  {
   "cell_type": "markdown",
   "id": "03898a65",
   "metadata": {},
   "source": [
    "## Object Equality"
   ]
  },
  {
   "cell_type": "markdown",
   "id": "d036e57d",
   "metadata": {},
   "source": [
    "An interesting question is what happens if we use the equality operator `==` on objects. By default, the equality operator does the same thing as the `is` operator:"
   ]
  },
  {
   "cell_type": "code",
   "execution_count": null,
   "id": "c9fe0145",
   "metadata": {},
   "outputs": [],
   "source": [
    "ball1 = Ball(10, 8)\n",
    "ball2 = Ball(10, 8)\n",
    "\n",
    "ball1 == ball2"
   ]
  },
  {
   "cell_type": "code",
   "execution_count": null,
   "id": "ddd54d38",
   "metadata": {},
   "outputs": [],
   "source": [
    "ball1 = Ball(10, 8)\n",
    "ball2 = ball1\n",
    "\n",
    "ball1 == ball2"
   ]
  },
  {
   "cell_type": "markdown",
   "id": "acb922bc",
   "metadata": {},
   "source": [
    "This is not particularly useful. After all, if two balls have the exact same position and the exact same speed, we would probably want them to be equal (even though the `is` operator returns `False`).\n",
    "\n",
    "Luckily, Python gives us a way to achieve this by **overriding** (i.e. providing a custom implementation) for the equality operator. In order to do this, we need to write a custom `__eq__` method which takes `self` and the other object we want to compare this object to:"
   ]
  },
  {
   "cell_type": "code",
   "execution_count": null,
   "id": "4f5627da",
   "metadata": {},
   "outputs": [],
   "source": [
    "class Ball:\n",
    "    def __init__(self, pos, speed):\n",
    "        self.pos = pos\n",
    "        self.speed = speed\n",
    "\n",
    "    # some methods\n",
    "    \n",
    "    def __eq__(self, other):\n",
    "        return isinstance(other, Ball) and self.pos == other.pos and self.speed == other.speed\n",
    "\n",
    "    def __repr__(self):\n",
    "        return f\"Ball(pos={self.pos}, speed={self.speed})\""
   ]
  },
  {
   "cell_type": "markdown",
   "id": "23683eaa",
   "metadata": {},
   "source": [
    "Our `__eq__` method checks that the other object is an instance of `Ball` and whether all attributes of `self` and `other` are equal. If they are, we return `True`, otherwise we return `False`.\n",
    "\n",
    "Now the `==` operator works the way we would like it to:"
   ]
  },
  {
   "cell_type": "code",
   "execution_count": null,
   "id": "e811d4ac",
   "metadata": {},
   "outputs": [],
   "source": [
    "ball1 = Ball(10, 8)\n",
    "ball2 = Ball(10, 8)\n",
    "\n",
    "ball1 == ball2"
   ]
  },
  {
   "cell_type": "markdown",
   "id": "8d60dd36",
   "metadata": {},
   "source": [
    "Note that how and if you want to override `==` depends on your needs. For example it might actually be the case, that two balls shouldn't compare equal, even *if* their attributes have the same values.\n",
    "\n",
    "But generally speaking, *if* you override the equality operator, you should override it by checking that the two objects it compares are instances of the same class and their attributes have the same values."
   ]
  }
 ],
 "metadata": {
  "kernelspec": {
   "display_name": "Python 3 (ipykernel)",
   "language": "python",
   "name": "python3"
  },
  "language_info": {
   "codemirror_mode": {
    "name": "ipython",
    "version": 3
   },
   "file_extension": ".py",
   "mimetype": "text/x-python",
   "name": "python",
   "nbconvert_exporter": "python",
   "pygments_lexer": "ipython3",
   "version": "3.9.14"
  }
 },
 "nbformat": 4,
 "nbformat_minor": 5
}
