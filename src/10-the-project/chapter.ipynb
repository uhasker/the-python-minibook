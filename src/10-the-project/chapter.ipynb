{
 "cells": [
  {
   "cell_type": "markdown",
   "id": "c9b81e3f",
   "metadata": {},
   "source": [
    "# Chapter 10. The Project"
   ]
  },
  {
   "cell_type": "markdown",
   "id": "bea54e40",
   "metadata": {},
   "source": [
    "In this chapter we will apply the concepts we learned in the previous chapters and create a clone of the [Breakout](https://de.wikipedia.org/wiki/Breakout_(Computerspiel)) game. The goal of this game is to use a paddle to hit a ball and destroy bricks. You win, if all the bricks are destroyed and you lose if the ball touches the bottom wall:\n",
    "\n",
    "![](images/final_result.png)\n",
    "\n",
    "We will use the `pygame` package designed for writing games in Python. You can install it using `pip install --user pygame` (no surprises there if you followed the last chapter)."
   ]
  },
  {
   "cell_type": "markdown",
   "id": "806acf07",
   "metadata": {},
   "source": [
    "## The Game Loop"
   ]
  },
  {
   "cell_type": "markdown",
   "id": "f7daf258",
   "metadata": {},
   "source": [
    "We begin by writing the **game loop**. Here we create the `screen` object which we draw onto. We also create a `clock` that will allow us to control how often we want to render a frame (for this game we want to render `30` frames per second). We also define a `while` loop which repeatedly executes the following steps as long as the game is active:\n",
    "\n",
    "1. Process all currently existing user events. Right now we only process the `pygame.QUIT` event which happens if the user closes the window. If we see a `pygame.QUIT` event we set the `active` flag to `False` which will exit the game loop and therefore also exit the application (since there is no code following the game loop).\n",
    "2. Update the clock using the `tick` method.\n",
    "3. Repaint the screen using `screen.fill` and update it by calling `pygame.display.flip`. All game objects will be drawn between those two method calls.\n",
    "\n",
    "Here is how the corresponding code looks like:\n",
    "\n",
    "```python\n",
    "import pygame\n",
    "\n",
    "w, h = 640, 480\n",
    "\n",
    "pygame.init()\n",
    "screen = pygame.display.set_mode((w, h))\n",
    "pygame.display.set_caption(\"Breakout\")\n",
    "\n",
    "clock = pygame.time.Clock()\n",
    "\n",
    "active = True\n",
    "while active:\n",
    "    for event in pygame.event.get():\n",
    "        if event.type == pygame.QUIT:\n",
    "            active = False\n",
    "            \n",
    "        # more events will be processed here\n",
    "\n",
    "    clock.tick(30)\n",
    "\n",
    "    screen.fill((255, 255, 255))\n",
    "    \n",
    "    # game objects will be drawn here\n",
    "    \n",
    "    pygame.display.flip()\n",
    "```"
   ]
  },
  {
   "cell_type": "markdown",
   "id": "889eab58",
   "metadata": {},
   "source": [
    "## The Paddle"
   ]
  },
  {
   "cell_type": "markdown",
   "id": "5ed8722c",
   "metadata": {},
   "source": [
    "Next we need to create our game objects. First we create a paddle that we can move around using our mouse.\n",
    "\n",
    "The paddle needs to have the attributes `x`, `y`, `w` and `h` which denote its position and its dimensions. It also needs to have the usual `__repr__` and `__eq__` methods. Additionaly it should have (like all game objects) a `render` method which takes the `screen` object and renders the paddle onto the screen. Finally we need a `move` method which attempts to move the paddle to the respective mouse position.\n",
    "\n",
    "Here is a first stab at the `Paddle` class:"
   ]
  },
  {
   "cell_type": "code",
   "execution_count": null,
   "id": "e0690dd2",
   "metadata": {},
   "outputs": [],
   "source": [
    "class Paddle:\n",
    "    def __init__(self, x, y, w, h):\n",
    "        self.x = x\n",
    "        self.y = y\n",
    "        self.w = w\n",
    "        self.h = h\n",
    "\n",
    "    def move(self, mouse_pos):\n",
    "        mouse_x, _ = mouse_pos\n",
    "        self.x = int(mouse_x - self.w / 2)\n",
    "        \n",
    "    def render(self, screen):\n",
    "        pygame.draw.rect(screen, (0, 127, 0), pygame.Rect(self.x, self.y, self.w, self.h))\n",
    "        \n",
    "    def __eq__(self, other):\n",
    "        if not isinstance(other, Paddle):\n",
    "            return False\n",
    "\n",
    "        return self.x == other.x and self.y == other.y and self.w == other.w and self.h == other.h\n",
    "\n",
    "    \n",
    "    def __repr__(self):\n",
    "        return f\"Paddle(x={self.x}, y={self.y}, w={self.w}, h={self.h})\""
   ]
  },
  {
   "cell_type": "markdown",
   "id": "7dc13866",
   "metadata": {},
   "source": [
    "Most of this is pretty self-explanatory except for the `move` method. We can't move the paddle to the mouse position, because we want the paddle to always be anchored to the bottom of the screen. Therefore we ignore the y coordinate of the mouse position completely and only focus on the x coordinate. To make the movement feel right, we take the x coordinate of the mouse to be the *center of the paddle*.\n",
    "\n",
    "This means that after the move `mouse_x` must be equal to `self.x + self.w / 2` (since `self.x` indicates the left border of the paddle). Basic arithmetic therefore gives us the formula for the update: `self.x = mouse_x - self.w / 2`.\n",
    "\n",
    "Let's create a `paddle` object and play around with it:"
   ]
  },
  {
   "cell_type": "code",
   "execution_count": null,
   "id": "f0a849f9",
   "metadata": {},
   "outputs": [],
   "source": [
    "paddle = Paddle(x=280, y=460, w=80, h=20)"
   ]
  },
  {
   "cell_type": "code",
   "execution_count": null,
   "id": "5ec5fa3a",
   "metadata": {},
   "outputs": [],
   "source": [
    "paddle"
   ]
  },
  {
   "cell_type": "code",
   "execution_count": null,
   "id": "2deadb75",
   "metadata": {},
   "outputs": [],
   "source": [
    "paddle.move((240, 320))"
   ]
  },
  {
   "cell_type": "code",
   "execution_count": null,
   "id": "f1bf2860",
   "metadata": {},
   "outputs": [],
   "source": [
    "paddle"
   ]
  },
  {
   "cell_type": "markdown",
   "id": "6f1e5c9b",
   "metadata": {},
   "source": [
    "This looks quite good! Now we need to add the paddle to our game. In order to accomplish this, two things need to be done. First, we need to check for `pygame.MOUSEMOTION` events and update the paddle position if such an event occurs. Second, we need to render the paddle in the game loop.\n",
    "\n",
    "Here is the code we need to add:\n",
    "\n",
    "```python\n",
    "paddle = Paddle(x=280, y=460, w=80, h=20)\n",
    "\n",
    "...\n",
    "while active:\n",
    "    for event in pygame.event.get():\n",
    "        ...\n",
    "\n",
    "        if event.type == pygame.MOUSEMOTION:\n",
    "            paddle.move(event.pos)\n",
    "\n",
    "    ...\n",
    "\n",
    "    clock.tick(30)\n",
    "    \n",
    "    screen.fill((255, 255, 255))\n",
    "    paddle.draw(screen)\n",
    "    pygame.display.flip()\n",
    "\n",
    "    ...\n",
    "```"
   ]
  },
  {
   "cell_type": "markdown",
   "id": "3bd6868c",
   "metadata": {},
   "source": [
    "Our game now looks like this:\n",
    "\n",
    "![paddle](images/paddle.png)\n",
    "\n",
    "Try moving the paddle around with your mouse and verify that the paddle moves along."
   ]
  },
  {
   "cell_type": "markdown",
   "id": "9f7915c3",
   "metadata": {},
   "source": [
    "## The Ball"
   ]
  },
  {
   "cell_type": "markdown",
   "id": "8429d23c",
   "metadata": {},
   "source": [
    "Next we need to add the ball. The ball should have a position `x` and `y`, a direction `dx` and `dy` and a radius `r`. The ball is not controlled by the player. Instead it simply moves on every frame by the amount given by `dx` and `dy`.\n",
    "\n",
    "Here is how the `Ball` class looks like:"
   ]
  },
  {
   "cell_type": "code",
   "execution_count": null,
   "id": "925da366",
   "metadata": {},
   "outputs": [],
   "source": [
    "class Ball:\n",
    "    def __init__(self, x, y, dx, dy, r):\n",
    "        self.x = x\n",
    "        self.y = y\n",
    "        self.dx = dx\n",
    "        self.dy = dy\n",
    "        self.r = r\n",
    "\n",
    "    def move(self):\n",
    "        self.x += self.dx\n",
    "        self.y += self.dy\n",
    "\n",
    "    def render(self, screen):\n",
    "        pygame.draw.circle(screen, (0, 127, 0), (self.x, self.y), self.r)\n",
    "\n",
    "    def __eq__(self, other):\n",
    "        if not isinstance(other, Ball):\n",
    "            return False\n",
    "        return self.x == other.x and self.y == other.y and self.dx == other.dx and self.dy == other.dy and self.r == other.r\n",
    "\n",
    "    def __repr__(self):\n",
    "        return f\"Ball(x={self.x}, y={self.y}, dx={self.dx}, dy={self.dy}, r={self.r})\""
   ]
  },
  {
   "cell_type": "markdown",
   "id": "8b0d1aac",
   "metadata": {},
   "source": [
    "Again we have the special methods `__eq__` and `__repr__`. We also have the `render` method which renders the ball onto the screen. Finally, we have a `move` method which updates the position of the ball.\n",
    "\n",
    "Let's create a `ball` object and have a look at its functionality:"
   ]
  },
  {
   "cell_type": "code",
   "execution_count": null,
   "id": "53cd218e",
   "metadata": {},
   "outputs": [],
   "source": [
    "ball = Ball(x=320, y=240, dx=-2, dy=2, r=10)"
   ]
  },
  {
   "cell_type": "code",
   "execution_count": null,
   "id": "0861b9ab",
   "metadata": {},
   "outputs": [],
   "source": [
    "ball"
   ]
  },
  {
   "cell_type": "code",
   "execution_count": null,
   "id": "39b165b6",
   "metadata": {},
   "outputs": [],
   "source": [
    "ball.move()"
   ]
  },
  {
   "cell_type": "code",
   "execution_count": null,
   "id": "7c64b955",
   "metadata": {},
   "outputs": [],
   "source": [
    "ball"
   ]
  },
  {
   "cell_type": "markdown",
   "id": "c439e5a4",
   "metadata": {},
   "source": [
    "Nice work! Now we add a ball to the game loop. Since the ball doesn't need to respond to external events, this is even simpler than the paddle. We create a `ball` object that starts at the center of the screen, call the `move` method after every tick and render the ball:\n",
    "\n",
    "```python\n",
    "paddle = Paddle(x=280, y=460, w=80, h=20)\n",
    "ball = ball = Ball(x=w // 2, y=h // 2, dx=-8, dy=8, r=10)\n",
    "...\n",
    "\n",
    "while active:\n",
    "    ...\n",
    "    \n",
    "    clock.tick(30)\n",
    "    \n",
    "    ball.move()\n",
    "    \n",
    "    screen.fill((255, 255, 255))\n",
    "    paddle.draw(screen)\n",
    "    pygame.display.flip()\n",
    "```\n",
    "\n",
    "Our game now looks like this:\n",
    "\n",
    "![ball](images/ball.png)\n",
    "\n",
    "If you run the game now, you will see a tiny problem - the ball moves through the bottom wall and disappears. This is because we currently have no **collision detection**. Since `dy` is negative, the ball just keeps moving downwards until it's no longer inside the playing area.\n",
    "\n",
    "The algorithm for collision detection will be relatively straightforward. We check if the ball collides with a wall and if that's the case, we will simply reverse its direction. This leads to a problem. Finding out if the ball collides with one of the walls requires knowledge about the dimension of the screen.\n",
    "\n",
    "We could pass that information along to the ball object, but that doesn't seem right. Additionally, we will later need to coordinate multiple objects anyway (for example we will have to check for collisions between balls and bricks). In order to accomplish this, we create a `Game` class which will coordinate our game objects."
   ]
  },
  {
   "cell_type": "markdown",
   "id": "c32ffa9b",
   "metadata": {},
   "source": [
    "## The Game Class"
   ]
  },
  {
   "cell_type": "markdown",
   "id": "5400f4e5",
   "metadata": {},
   "source": [
    "Let's think about the way the `Game` class should work. It needs to expose two methods - an `update` method that will update the game and a `render` method that will render the game. Here is how that might look like in code:"
   ]
  },
  {
   "cell_type": "code",
   "execution_count": null,
   "id": "beb1c108",
   "metadata": {},
   "outputs": [],
   "source": [
    "class Game:\n",
    "    def __init__(self, w, h, paddle, ball):\n",
    "        self.w = w\n",
    "        self.h = h\n",
    "        self.paddle = paddle\n",
    "        self.ball = ball\n",
    "\n",
    "    def update(self):\n",
    "        self.ball.move()\n",
    "\n",
    "    def render(self, screen):\n",
    "        screen.fill((255, 255, 255))\n",
    "        self.paddle.render(screen)\n",
    "        self.ball.render(screen)\n",
    "        pygame.display.flip()\n",
    "        \n",
    "    def __repr__(self):\n",
    "        return f\"Game(w={self.w}, h={self.h}, ball={self.ball}, paddle={self.paddle})\""
   ]
  },
  {
   "cell_type": "markdown",
   "id": "fe5d0f90",
   "metadata": {},
   "source": [
    "Let's play around with the `Game` class:"
   ]
  },
  {
   "cell_type": "code",
   "execution_count": null,
   "id": "9ad47169",
   "metadata": {},
   "outputs": [],
   "source": [
    "w, h = 640, 480\n",
    "paddle = Paddle(x=280, y=460, w=80, h=20)\n",
    "ball = Ball(x=w // 2, y=h // 2, dx=-8, dy=8, r=10)\n",
    "game = Game(w, h, paddle, ball)"
   ]
  },
  {
   "cell_type": "code",
   "execution_count": null,
   "id": "4fd1bdce",
   "metadata": {},
   "outputs": [],
   "source": [
    "game"
   ]
  },
  {
   "cell_type": "code",
   "execution_count": null,
   "id": "8935a4ae",
   "metadata": {},
   "outputs": [],
   "source": [
    "game.update()"
   ]
  },
  {
   "cell_type": "code",
   "execution_count": null,
   "id": "8ab9f256",
   "metadata": {},
   "outputs": [],
   "source": [
    "game"
   ]
  },
  {
   "cell_type": "code",
   "execution_count": null,
   "id": "422cf46e",
   "metadata": {},
   "outputs": [],
   "source": [
    "game.paddle.move((240, 320))"
   ]
  },
  {
   "cell_type": "code",
   "execution_count": null,
   "id": "eb0a07d5",
   "metadata": {},
   "outputs": [],
   "source": [
    "game"
   ]
  },
  {
   "cell_type": "markdown",
   "id": "99b2270a",
   "metadata": {},
   "source": [
    "This looks good. Now we update the game loop. Instead of updating and rerendering all game objects separately, the `game` object will now take care of updates and renders:\n",
    "\n",
    "```python\n",
    "clock = pygame.time.Clock()\n",
    "\n",
    "paddle = Paddle(x=280, y=460, w=80, h=20)\n",
    "ball = Ball(x=w // 2, y=h // 2, dx=-8, dy=8, r=10)\n",
    "game = Game(w, h, paddle, ball, 8, 6)\n",
    "\n",
    "active = True\n",
    "while active:\n",
    "    for event in pygame.event.get():\n",
    "        if event.type == pygame.QUIT:\n",
    "            active = False\n",
    "\n",
    "        if event.type == pygame.MOUSEMOTION:\n",
    "            paddle.move(event.pos)\n",
    "\n",
    "    clock.tick(30)\n",
    "\n",
    "    game.update()\n",
    "    game.render(screen)\n",
    "```\n",
    "\n",
    "Much more readable. In addition, we will practically never have to change the game loop again. If we want to add new objects to game, all we need to do is to update the `Game` class.\n",
    "\n",
    "Note that no functionality has changed. We just **refactored** our code - we spent some time *cleaning up* and *improving the structure* in order to make it easier to make changes later on. Regular refactoring is an absolutely vital part of software development - otherwise you will soon find yourself with a mess of utterly unreadable *spaghetti code*.\n",
    "\n",
    "Let's refactor some more and split the different pieces into different modules."
   ]
  },
  {
   "cell_type": "markdown",
   "id": "924b8bb1",
   "metadata": {},
   "source": [
    "## Splitting the Project into Modules"
   ]
  },
  {
   "cell_type": "markdown",
   "id": "696a5593",
   "metadata": {},
   "source": [
    "Create a file `paddle.py` and move the `Paddle` class into that file. Here is how `paddle.py` should look like now:\n",
    "\n",
    "```python\n",
    "import pygame\n",
    "\n",
    "\n",
    "class Paddle:\n",
    "    def __init__(self, x, y, w, h):\n",
    "        self.x = x\n",
    "        self.y = y\n",
    "        self.w = w\n",
    "        self.h = h\n",
    "\n",
    "    def move(self, mouse_pos):\n",
    "        mouse_x, _ = mouse_pos\n",
    "        self.x = int(mouse_x - self.w / 2)\n",
    "\n",
    "    def render(self, screen):\n",
    "        pygame.draw.rect(screen, (0, 127, 0), pygame.Rect(self.x, self.y, self.w, self.h))\n",
    "\n",
    "    def __eq__(self, other):\n",
    "        if not isinstance(other, Paddle):\n",
    "            return False\n",
    "\n",
    "        return self.x == other.x and self.y == other.y and self.w == other.w and self.h == other.h\n",
    "\n",
    "    def __repr__(self):\n",
    "        return f\"Paddle(x={self.x}, y={self.y}, w={self.w}, h={self.h})\"\n",
    "\n",
    "```"
   ]
  },
  {
   "cell_type": "markdown",
   "id": "8d2aa080",
   "metadata": {},
   "source": [
    "Next create a file `ball.py` and move the `Ball` class into that file. Here is how `ball.py` should look like now:\n",
    "\n",
    "```python\n",
    "import pygame\n",
    "\n",
    "\n",
    "class Ball:\n",
    "    def __init__(self, x, y, dx, dy, r):\n",
    "        self.x = x\n",
    "        self.y = y\n",
    "        self.dx = dx\n",
    "        self.dy = dy\n",
    "        self.r = r\n",
    "\n",
    "    def move(self):\n",
    "        self.x += self.dx\n",
    "        self.y += self.dy\n",
    "\n",
    "    def render(self, screen):\n",
    "        pygame.draw.circle(screen, (0, 127, 0), (self.x, self.y), self.r)\n",
    "\n",
    "    def __eq__(self, other):\n",
    "        if not isinstance(other, Ball):\n",
    "            return False\n",
    "        return self.x == other.x and self.y == other.y and self.dx == other.dx and self.dy == other.dy and self.r == other.r\n",
    "\n",
    "    def __repr__(self):\n",
    "        return f\"Ball(x={self.x}, y={self.y}, dx={self.dx}, dy={self.dy}, r={self.r})\"\n",
    "\n",
    "```"
   ]
  },
  {
   "cell_type": "markdown",
   "id": "ba8ef008",
   "metadata": {},
   "source": [
    "We also move the `Game` into a file `game.py`:\n",
    "\n",
    "```python\n",
    "class Game:\n",
    "    def __init__(self, w, h, paddle, ball):\n",
    "        self.w = w\n",
    "        self.h = h\n",
    "        self.paddle = paddle\n",
    "        self.ball = ball\n",
    "\n",
    "    def update(self):\n",
    "        self.ball.move()\n",
    "\n",
    "    def render(self, screen):\n",
    "        screen.fill((255, 255, 255))\n",
    "        self.paddle.render(screen)\n",
    "        self.ball.render(screen)\n",
    "        pygame.display.flip()\n",
    "        \n",
    "    def __repr__(self):\n",
    "        return f\"Game(w={self.w}, h={self.h}, ball={self.ball}, paddle={self.paddle})\"\n",
    "```"
   ]
  },
  {
   "cell_type": "markdown",
   "id": "4d7755ce",
   "metadata": {},
   "source": [
    "Finally let's move the game loop to a file `breakout.py`:\n",
    "\n",
    "```python\n",
    "import pygame\n",
    "\n",
    "from ball import Ball\n",
    "from game import Game\n",
    "from paddle import Paddle\n",
    "\n",
    "w, h = 640, 480\n",
    "\n",
    "pygame.init()\n",
    "screen = pygame.display.set_mode((w, h))\n",
    "pygame.display.set_caption(\"Breakout\")\n",
    "\n",
    "clock = pygame.time.Clock()\n",
    "\n",
    "paddle = Paddle(x=280, y=460, w=80, h=20)\n",
    "ball = Ball(x=w // 2, y=h // 2, dx=-8, dy=8, r=10)\n",
    "game = Game(w, h, paddle, ball, 8, 6)\n",
    "\n",
    "active = True\n",
    "while active:\n",
    "    for event in pygame.event.get():\n",
    "        if event.type == pygame.QUIT:\n",
    "            active = False\n",
    "\n",
    "        if event.type == pygame.MOUSEMOTION:\n",
    "            paddle.move(event.pos)\n",
    "\n",
    "    clock.tick(30)\n",
    "\n",
    "    game.update()\n",
    "    game.render(screen)\n",
    "```"
   ]
  },
  {
   "cell_type": "markdown",
   "id": "aaf48ad2",
   "metadata": {},
   "source": [
    "## Collision Detection"
   ]
  },
  {
   "cell_type": "markdown",
   "id": "c40bcb32",
   "metadata": {},
   "source": [
    "Now that we have refactored our code, adding collisions with the paddle and the wall is pretty easy.\n",
    "\n",
    "Let's write a helper function that checks if a rectangle collides with a circle. We will keep it really simple and just check whether the center of the circle is inside the rectangle. Add that function to `game.py`:"
   ]
  },
  {
   "cell_type": "code",
   "execution_count": null,
   "id": "c88223ff",
   "metadata": {},
   "outputs": [],
   "source": [
    "def coords_in_rect(x, y, rect_x, rect_y, rect_w, rect_h):\n",
    "    return rect_x < x < rect_x + rect_w and rect_y < y < rect_y + rect_h"
   ]
  },
  {
   "cell_type": "markdown",
   "id": "4cd398e2",
   "metadata": {},
   "source": [
    "Now we update the `Game` class:\n",
    "\n",
    "```python\n",
    "class Game:\n",
    "    ...\n",
    "\n",
    "    def update(self):\n",
    "        self.ball.move()\n",
    "\n",
    "        # If the ball collides with the paddle, we reverse its direction\n",
    "        if coords_in_rect(self.ball.x, self.ball.y, self.paddle.x, self.paddle.y, self.paddle.w, self.paddle.h):\n",
    "            self.ball.dy *= -1\n",
    "```"
   ]
  },
  {
   "cell_type": "markdown",
   "id": "12698344",
   "metadata": {},
   "source": [
    "We can now hit the ball with the paddle, but the ball still disappears through the wall. We need to check for wall collisions as well:\n",
    "\n",
    "```python\n",
    "class Game:\n",
    "    ...\n",
    "\n",
    "    def update(self):\n",
    "        self.ball.move()\n",
    "\n",
    "        # If the ball collides with the paddle, we reverse its direction\n",
    "        if coords_in_rect(self.ball.x, self.ball.y, self.paddle.x, self.paddle.y, self.paddle.w, self.paddle.h):\n",
    "            self.ball.dy *= -1\n",
    "            \n",
    "        # Check for wall collisions\n",
    "        if self.ball.x - self.ball.r < 0 or self.ball.x + self.ball.r > self.w:\n",
    "            self.ball.dx *= -1\n",
    "\n",
    "        if self.ball.y - self.ball.r < 0 or self.ball.y + self.ball.r > self.h:\n",
    "            self.ball.dy *= -1\n",
    "```"
   ]
  },
  {
   "cell_type": "markdown",
   "id": "6d9aefae",
   "metadata": {},
   "source": [
    "## Adding the Bricks"
   ]
  },
  {
   "cell_type": "markdown",
   "id": "c875ad85",
   "metadata": {},
   "source": [
    "We now have a ball that bounces around and can be hit with a paddle. However, we are still missing the *actual game*, i.e. the possibility to hit some bricks with our ball.\n",
    "\n",
    "Let's create a file `brick.py` containing the `Brick` class:"
   ]
  },
  {
   "cell_type": "code",
   "execution_count": null,
   "id": "368fd9fa",
   "metadata": {},
   "outputs": [],
   "source": [
    "class Brick:\n",
    "    def __init__(self, x, y, w, h):\n",
    "        self.x = x\n",
    "        self.y = y\n",
    "        self.w = w\n",
    "        self.h = h\n",
    "\n",
    "    def render(self, screen):\n",
    "        pygame.draw.rect(screen, (0, 127, 0), pygame.Rect(self.x, self.y, self.w, self.h))\n",
    "        \n",
    "    def __eq__(self, other):\n",
    "        if not isinstance(other, Brick):\n",
    "            return False\n",
    "\n",
    "        return self.x == other.x and self.y == other.y and self.w == other.w and self.h == other.h\n",
    "    \n",
    "    def __repr__(self):\n",
    "        return f\"Brick(x={self.x}, y={self.y}, w={self.w}, h={self.h})\""
   ]
  },
  {
   "cell_type": "markdown",
   "id": "003311e5",
   "metadata": {},
   "source": [
    "We will also add some helper functions that create a list of bricks for our game in `brick.py`:"
   ]
  },
  {
   "cell_type": "code",
   "execution_count": null,
   "id": "8402c903",
   "metadata": {},
   "outputs": [],
   "source": [
    "def get_brick_w(w, n_bricks_x):\n",
    "    return 2 * w / (3 * n_bricks_x + 1)\n",
    "\n",
    "\n",
    "def get_brick_h(h, n_bricks_y):\n",
    "    return h / (3 * n_bricks_y + 1)\n",
    "\n",
    "\n",
    "def get_bricks(n_bricks_x, n_bricks_y, brick_w, brick_h):\n",
    "    bricks = []\n",
    "    for i in range(0, n_bricks_x):\n",
    "        for j in range(0, n_bricks_y):\n",
    "            brick = Brick(\n",
    "                x=i * brick_w + (i + 1) * brick_w / 2,\n",
    "                y=j * brick_h + (j + 1) * brick_h / 2,\n",
    "                w=brick_w,\n",
    "                h=brick_h,\n",
    "            )\n",
    "            bricks.append(brick)\n",
    "    return bricks\n"
   ]
  },
  {
   "cell_type": "markdown",
   "id": "b26d7918",
   "metadata": {},
   "source": [
    "Now we add the bricks to the `Game` class:\n",
    "\n",
    "```python\n",
    "...\n",
    "from brick import get_brick_w, get_brick_h, get_bricks\n",
    "...\n",
    "\n",
    "class Game:\n",
    "    def __init__(self, w, h, ball, paddle, n_bricks_x, n_bricks_y):\n",
    "        ...\n",
    "\n",
    "        self.n_bricks_x = n_bricks_x\n",
    "        self.n_bricks_y = n_bricks_y\n",
    "\n",
    "        brick_w = get_brick_w(w, n_bricks_x)\n",
    "        brick_h = get_brick_h(h, n_bricks_y)\n",
    "        self.bricks = get_bricks(n_bricks_x, n_bricks_y, brick_w, brick_h)\n",
    "```\n",
    "\n",
    "Don't forget to update the `game` object in `breakout.py`:\n",
    "\n",
    "```python\n",
    "game = Game(w, h, paddle, ball, 8, 6)\n",
    "```"
   ]
  },
  {
   "cell_type": "markdown",
   "id": "f7caac77",
   "metadata": {},
   "source": [
    "Rendering the bricks is pretty simple. We just iterate through all the bricks in the `render` method and render each brick:\n",
    "\n",
    "```python\n",
    "class Game:\n",
    "    ...\n",
    "    \n",
    "    def render(self, screen):\n",
    "        screen.fill((255, 255, 255))\n",
    "        self.paddle.render(screen)\n",
    "        self.ball.render(screen)\n",
    "        \n",
    "        # Render the bricks\n",
    "        for brick in self.bricks:\n",
    "            brick.render(screen)\n",
    "\n",
    "        pygame.display.flip()\n",
    "```"
   ]
  },
  {
   "cell_type": "markdown",
   "id": "26794050",
   "metadata": {},
   "source": [
    "We also destroy the bricks that are hit by the ball. If at least one brick is hit, we reverse the balls direction:\n",
    "\n",
    "```python\n",
    "class Game:\n",
    "    ...\n",
    "    \n",
    "    def update(self):\n",
    "        ...\n",
    "        \n",
    "        prev_len = len(self.bricks)\n",
    "        self.bricks = [brick for brick in self.bricks if not coords_in_rect(self.ball.x, self.ball.y, brick.x, brick.y, brick.w, brick.h)]\n",
    "        if len(self.bricks) < prev_len:\n",
    "            self.ball.dy *= -1\n",
    "```\n",
    "\n",
    "This looks pretty neat:\n",
    "\n",
    "![](images/final_result.png)"
   ]
  },
  {
   "cell_type": "markdown",
   "id": "ee9018ca",
   "metadata": {},
   "source": [
    "## Ending the Game"
   ]
  },
  {
   "cell_type": "markdown",
   "id": "7c7477ce",
   "metadata": {},
   "source": [
    "We are pretty much done, all that is left to do is end the game when the player wins or loses. To accomplish that we will maintain a *game state* which will be one of `\"ongoing\"`, `\"won\"` or `\"lost\"` and render different things depending on the game state.\n",
    "\n",
    "First, we update the `Game` class:\n",
    "\n",
    "```python\n",
    "class Game:\n",
    "    def __init__(self, w, h, paddle, ball, n_bricks_x, n_bricks_y):\n",
    "        ...\n",
    "\n",
    "        self.state = \"ongoing\"\n",
    "        self.font = pygame.font.SysFont(\"Arial\", 30)\n",
    "\n",
    "    def update(self):\n",
    "        ...\n",
    "\n",
    "        if self.ball.y + self.ball.r > self.h:\n",
    "            self.state = \"lost\"\n",
    "\n",
    "        ...\n",
    "\n",
    "        if len(self.bricks) == 0:\n",
    "            self.state = \"won\"\n",
    "\n",
    "```"
   ]
  },
  {
   "cell_type": "markdown",
   "id": "4e80e1d5",
   "metadata": {},
   "source": [
    "Next we update the `render` method of the `Game` class:\n",
    "\n",
    "```python\n",
    "class Game:\n",
    "    ...\n",
    "    \n",
    "    def render(self, screen):\n",
    "        if self.state == \"ongoing\":\n",
    "            screen.fill((255, 255, 255))\n",
    "            self.paddle.render(screen)\n",
    "            self.ball.render(screen)\n",
    "            for brick in self.bricks:\n",
    "                brick.render(screen)\n",
    "            pygame.display.flip()\n",
    "        else:\n",
    "            screen.fill((255, 255, 255))\n",
    "            surface = self.font.render(f\"You {self.state}\", False, (0, 127, 0))\n",
    "            text_rect = surface.get_rect(center=(self.w / 2, self.h / 2))\n",
    "            screen.blit(surface, text_rect)\n",
    "            pygame.display.flip()\n",
    "     \n",
    "    ...\n",
    "```"
   ]
  },
  {
   "cell_type": "markdown",
   "id": "c77550b1",
   "metadata": {},
   "source": [
    "Finally we need to call `pygame.font.init()` in `breakout.py`:\n",
    "\n",
    "```python\n",
    "pygame.init()\n",
    "pygame.font.init()\n",
    "screen = pygame.display.set_mode((w, h))\n",
    "```"
   ]
  },
  {
   "cell_type": "markdown",
   "id": "7a3d0af1",
   "metadata": {},
   "source": [
    "Now if we destroy all bricks we win the game:\n",
    "\n",
    "![](images/won.png)"
   ]
  },
  {
   "cell_type": "markdown",
   "id": "79b1dfc7",
   "metadata": {},
   "source": [
    "Similarly if the ball disappers throught the bottom of the screen we lose the game."
   ]
  },
  {
   "cell_type": "markdown",
   "id": "1a924af6",
   "metadata": {},
   "source": [
    "## Wrapping Up"
   ]
  },
  {
   "cell_type": "markdown",
   "id": "854f8a2f",
   "metadata": {},
   "source": [
    "Congratulations, you just completed your first game! From here, there are a number of things you can try by yourself:\n",
    "\n",
    "1. The paddle currently partially disappears, if we move the mouse too far left or too far right. This can be improved by checking whether there is a collision between the paddle and a wall.\n",
    "2. Try adding a score counter to the game.\n",
    "3. Improve the collision detection between the ball and the various game elements.\n",
    "4. Add a timer to the game, so that the player only has a limited amount of time to destroy all the bricks!\n",
    "5. Improve the user experience. The game looks quite flat and boring. This could be fixed by playing around with colors, shadows etc.\n",
    "6. Allow the player to restart the game by pressing a special key after he won or lost the game.\n",
    "\n",
    "And many more... The only limit is your imagination!"
   ]
  }
 ],
 "metadata": {
  "kernelspec": {
   "display_name": "Python 3 (ipykernel)",
   "language": "python",
   "name": "python3"
  },
  "language_info": {
   "codemirror_mode": {
    "name": "ipython",
    "version": 3
   },
   "file_extension": ".py",
   "mimetype": "text/x-python",
   "name": "python",
   "nbconvert_exporter": "python",
   "pygments_lexer": "ipython3",
   "version": "3.9.14"
  }
 },
 "nbformat": 4,
 "nbformat_minor": 5
}
