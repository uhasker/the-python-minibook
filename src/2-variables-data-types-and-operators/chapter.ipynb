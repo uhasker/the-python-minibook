{
 "cells": [
  {
   "cell_type": "markdown",
   "id": "9f1ec7fe",
   "metadata": {},
   "source": [
    "# Chapter 2. Variables, data types and operators"
   ]
  },
  {
   "cell_type": "markdown",
   "id": "41aa7a4d",
   "metadata": {},
   "source": [
    "## Variables"
   ]
  },
  {
   "cell_type": "markdown",
   "id": "083548de",
   "metadata": {},
   "source": [
    "Programming is all about *working with data*. Specifically, we need the ability to *store and access* data in the **memory** of our computer. Storing data sounds pretty simple - just write a value to some **memory cell** and be happy. But how do we access the value later?\n",
    "\n",
    "Let us say, that we are writing a computer game (as we will in the last chapter in this book). We will probably need to store positions and speeds of game objects. For example, we would like to store that the player has a speed of `5` units/second. But if we just write `5` to some memory cell, we will not know what it means later on. It could be the speed of the player, but it could also be the number of eliminated enemies.\n",
    "\n",
    "In order to be able to *access* our data, we need to store values together with a **symbolic name** that tells us what the value means. For example, we could store the value `5` with the symbolic name `player_speed`. Or we could store the value `5` with the symbolic name `enemies_destroyed`. The value is the same in both cases and yet it refers to two completely different things.\n",
    "\n",
    "Variables allow us to reflect that. Put simply, a **variable** is a *value paired with a symbolic name* that can be used to access that value.\n",
    "\n",
    "For example, we could store the value `42` somewhere in our memory and pair it with a symbolic name like `the_answer_to_everything`:\n",
    "\n",
    "![](./images/variable.png)\n",
    "\n",
    "Programmers say that the variable `the_answer_to_everything` *has the value* `42`. We are now able to access the value we just stored using the symbolic name `the_answer_to_everything`. \n",
    "\n",
    "Even if the value of a variable changes, its symbolic name stays the same. Let's say that the answer to everything becomes `43` instead of `42` and the variable `the_answer_to_everything` is updated to reflect that:\n",
    "\n",
    "![](./images/variable43.png)\n",
    "\n",
    "Now if we access the variable somewhere from our program, we automatically get the *new* value (which is `43`).\n",
    "\n",
    "Consider another example: We can store the position of a ball in the variable `ball_position` and the speed of the ball in a variable `ball_speed`. If we want to change the position of the ball, we simply update the value of `ball_position` depending on the value of `ball_speed`. Accessing `ball_position` will now yield the new value.\n",
    "\n",
    "The three important things we can do with variables are therefore:\n",
    "1. Create a variable with a symbolic name and an initial value (programmers just say \"*create a variable*\" for short)\n",
    "2. Change (update) the value of the variable using its symbolic name (programmers just say \"*change (update) a variable*\" for short)\n",
    "3. Read the value of the variable using its symbolic name (programmers just say \"*access a variable*\" for short)\n",
    "\n",
    "We *create a variable* in Python and using the **assignment operator** `=`:"
   ]
  },
  {
   "cell_type": "code",
   "execution_count": null,
   "id": "ba6a197e",
   "metadata": {},
   "outputs": [],
   "source": [
    "the_answer_to_everything = 42"
   ]
  },
  {
   "cell_type": "markdown",
   "id": "7c0c9d2a",
   "metadata": {},
   "source": [
    "This creates the variable `the_answer_to_everything` which has the value `42`.\n",
    "\n",
    "![](images/variable-declaration.png)\n",
    "\n",
    "To keep things short, instead of saying \"a variable with the symbolic name `foo`\" from now on we will just say \"the variable `foo`\".\n",
    "\n",
    "Do note that unlike in mathematics the statement `the_answer_to_everything = 42` doesn't mean that `my_variable` *should be equal* to `42`. Instead `=` tells the Python interpreter to create a variable with the *symbolic name* given on the *left side* of the assignment operator (`the_answer_to_everything` in this case) and the *value* given on the *right side* of the assignment operator (`42` in this case). The assignment operator `=` has nothing to do with the `=` operator that you know from mathematics.\n",
    "\n",
    "For example, a statement like `x + 2 = 4` which is totally sensible when doing math, has no meaning when writing code since `x + 2` is not a valid variable name. In fact this is what will happen if you try to write `x + 2 = 4`:"
   ]
  },
  {
   "cell_type": "code",
   "execution_count": null,
   "id": "c009c8e0",
   "metadata": {},
   "outputs": [],
   "source": [
    "x + 2 = 4"
   ]
  },
  {
   "cell_type": "markdown",
   "id": "5dfc92ce",
   "metadata": {},
   "source": [
    "A `SyntaxError` means that we gave the Python interpreter an expression it doesn't understand. In this case `x + 2` is not a valid symbolic name, so it makes no sense to use the assignment operator here.\n",
    "\n",
    "Remember how we printed `\"Hello World\"` using `print`? We can also use `print` to print a variable in a human-readable way:"
   ]
  },
  {
   "cell_type": "code",
   "execution_count": null,
   "id": "6e6bb9f3",
   "metadata": {},
   "outputs": [],
   "source": [
    "print(the_answer_to_everything)"
   ]
  },
  {
   "cell_type": "markdown",
   "id": "a6c81684",
   "metadata": {},
   "source": [
    "As you can see, `print` outputs the *value* of the variable (which is `42` in this case), not its symbolic name. This makes sense - when we read a variable, we care about its value.\n",
    "\n",
    "Alternatively, we can get the *unambiguous representation* of the variable in a REPL by just providing the variable name to the REPL. This is similar to how got the *unambiguous representation* of `\"Hello, World!\"` in the last chapter.\n",
    "\n",
    "Getting the *unambiguous representation* of a variable will get the *unambiguous representation* of its value. Since the representation of the value `42` is again `42`, this is what we get:"
   ]
  },
  {
   "cell_type": "code",
   "execution_count": null,
   "id": "26709e86",
   "metadata": {},
   "outputs": [],
   "source": [
    "the_answer_to_everything"
   ]
  },
  {
   "cell_type": "markdown",
   "id": "4d18c40a",
   "metadata": {},
   "source": [
    "Once a variable is declared, you can change it later using `=`:"
   ]
  },
  {
   "cell_type": "code",
   "execution_count": null,
   "id": "159a13e8",
   "metadata": {},
   "outputs": [],
   "source": [
    "the_answer_to_everything = 42  # declare the variable\n",
    "the_answer_to_everything = 43  # change the variable (i.e. update its value)"
   ]
  },
  {
   "cell_type": "markdown",
   "id": "1113e834",
   "metadata": {},
   "source": [
    "Now `the_answer_to_everything` has the value `43` instead of `42`. However the symbolic name didn't change, only the value of the variable did. This means that we can still access the value using `the_answer_to_everything`. It's just a different value now:"
   ]
  },
  {
   "cell_type": "code",
   "execution_count": null,
   "id": "ec62b176",
   "metadata": {},
   "outputs": [],
   "source": [
    "the_answer_to_everything"
   ]
  },
  {
   "cell_type": "markdown",
   "id": "57bf4faf",
   "metadata": {},
   "source": [
    "## Data types"
   ]
  },
  {
   "cell_type": "markdown",
   "id": "afed117d",
   "metadata": {},
   "source": [
    "The **data type** of a variable describes the possible values and allowed operations on a variable. For example, if a variable has the integer data type, its possible values are integers and you can perform operations like addition, subtraction, multiplication, division etc.\n",
    "\n",
    "Note that instead of saying that a variable has the type `thingy`, programmers often say that a variable *is a* `thingy`. For example, if a variable has the data type integer, programmers will say that the variable *is an* integer.\n",
    "\n",
    "Python has four built-in data types that are of particular importance to us right now - namely the **integer** data type (`int` for short), the **floating point** data type (`float` for short), the **boolean** data type (`bool` for short) and the **string** data type (`str` for short). Let's have a look at these data types one by one.\n",
    "\n",
    "> These four data types are absolutely crucial to understand and you will be using them practically every time you write any code at all."
   ]
  },
  {
   "cell_type": "markdown",
   "id": "b14c5751",
   "metadata": {},
   "source": [
    "### The integer data type"
   ]
  },
  {
   "cell_type": "markdown",
   "id": "f4b5aea7",
   "metadata": {},
   "source": [
    "Variables of the integer data type are capable of storing - well - integers (*we should probably give you a moment to recover from this shock*). Such variables are called *integers* for short.\n",
    "\n",
    "For example, the following variables all have the integer data type:"
   ]
  },
  {
   "cell_type": "code",
   "execution_count": null,
   "id": "56a5e359",
   "metadata": {},
   "outputs": [],
   "source": [
    "drinking_age = 18\n",
    "winter_temperature_celsius = -30\n",
    "game_score = 120"
   ]
  },
  {
   "cell_type": "markdown",
   "id": "7744d827",
   "metadata": {},
   "source": [
    "Let us verify that these variables all have the integer data type using `type` which shows the data type of a variable:"
   ]
  },
  {
   "cell_type": "code",
   "execution_count": null,
   "id": "ebea7a37",
   "metadata": {},
   "outputs": [],
   "source": [
    "type(drinking_age)"
   ]
  },
  {
   "cell_type": "code",
   "execution_count": null,
   "id": "98fa1ebe",
   "metadata": {},
   "outputs": [],
   "source": [
    "type(winter_temperature_celsius)"
   ]
  },
  {
   "cell_type": "code",
   "execution_count": null,
   "id": "b14976fe",
   "metadata": {},
   "outputs": [],
   "source": [
    "type(game_score)"
   ]
  },
  {
   "cell_type": "markdown",
   "id": "d7a46fd8",
   "metadata": {},
   "source": [
    "All three lines output `int` which means that the respective values are indeed integers."
   ]
  },
  {
   "cell_type": "markdown",
   "id": "90130325",
   "metadata": {},
   "source": [
    "### The floating point data type"
   ]
  },
  {
   "cell_type": "markdown",
   "id": "bea06ee2",
   "metadata": {},
   "source": [
    "Variables of the floating point data type are capable of storing - well - floating point numbers (this book is just *full of surprises*). These are numbers which have a decimal point. Such variables are called *floats* for short.\n",
    "\n",
    "We should note that floats and real numbers are *not* the same thing. Floats are only approximations of real numbers. The reason they are *only approximations* is not because of Python, but because of the limitations of something all programmers really hate - *reality*.\n",
    "\n",
    "After all, real numbers can have an arbitrary amount of digits after the decimal point - some real numbers even have an infinite amount of digits after the decimal point (like the number *pi*). But of course such numbers cannot be represented accurately by our hardware. After all, we do not have an infinite amount of memory space. In fact the amount of memory available to a single floating point number is usually *very finite*.\n",
    "\n",
    "Here is an example of a floating point variable:"
   ]
  },
  {
   "cell_type": "code",
   "execution_count": null,
   "id": "7426efaf",
   "metadata": {},
   "outputs": [],
   "source": [
    "fastest_sprint = 9.58"
   ]
  },
  {
   "cell_type": "markdown",
   "id": "fa74fbc9",
   "metadata": {},
   "source": [
    "We can again verify that `fastest_sprint` is a floating point variable using `type`:"
   ]
  },
  {
   "cell_type": "code",
   "execution_count": null,
   "id": "29bae5e4",
   "metadata": {},
   "outputs": [],
   "source": [
    "type(fastest_sprint)"
   ]
  },
  {
   "cell_type": "markdown",
   "id": "3e34f76b",
   "metadata": {},
   "source": [
    "The fact that floating point numbers are only approximations of real numbers has important consequences in the real world. For example, if we try to add `0.1` and `0.2` we get a surprising result:"
   ]
  },
  {
   "cell_type": "code",
   "execution_count": null,
   "id": "3201ea20",
   "metadata": {},
   "outputs": [],
   "source": [
    "0.1 + 0.2"
   ]
  },
  {
   "cell_type": "markdown",
   "id": "91dacdf6",
   "metadata": {},
   "source": [
    "We will not concern ourselves with the gritty details of floating point representation in this chapter. You can easily hold an entire university course on that (in fact some universities do).\n",
    "\n",
    "Just remember that working with floating point numbers can and *will* be inaccurate. This is also the reason why programmers strongly prefer representing values as integers and only fallback to floating point numbers if they have absolutely no other choice.\n",
    "\n",
    "For instance, if you need to store the amount of money in a bank account you should store it in cents (e.g. `15673` cents) instead of dollars (e.g. `156.73` dollars)."
   ]
  },
  {
   "cell_type": "markdown",
   "id": "ae75b75c",
   "metadata": {},
   "source": [
    "### The boolean data type"
   ]
  },
  {
   "cell_type": "markdown",
   "id": "8e1dd12f",
   "metadata": {},
   "source": [
    "Another important data type is the `bool` data type. A boolean variable can store the two values `True` and `False`:"
   ]
  },
  {
   "cell_type": "code",
   "execution_count": null,
   "id": "9b1cb500",
   "metadata": {},
   "outputs": [],
   "source": [
    "this_is_a_great_book = True\n",
    "german_weather_is_generally_sunny = False"
   ]
  },
  {
   "cell_type": "markdown",
   "id": "b71c4fb6",
   "metadata": {},
   "source": [
    "Boolean values are not particularly useful on their own. However they will become extremely important when we will need to do things depending on the outcome of certain logical operations.\n",
    "\n",
    "For example, we might want to determine whether a game object has been destroyed based on the outcome of a collision check. A boolean variable `collides` which is `True` if a collision happened and `False` otherwise certainly comes in handy in such a case."
   ]
  },
  {
   "cell_type": "markdown",
   "id": "d32ea00b",
   "metadata": {},
   "source": [
    "### The string data type"
   ]
  },
  {
   "cell_type": "markdown",
   "id": "503fa89c",
   "metadata": {},
   "source": [
    "The final data type we will look at in this chapter is the string data type. A **string** is just a *sequence of characters*. \n",
    "\n",
    "String literals go either between double quotes or between single quotes:"
   ]
  },
  {
   "cell_type": "code",
   "execution_count": null,
   "id": "dac373fa",
   "metadata": {},
   "outputs": [],
   "source": [
    "my_name = \"Max Mustermann\""
   ]
  },
  {
   "cell_type": "code",
   "execution_count": null,
   "id": "00782d27",
   "metadata": {},
   "outputs": [],
   "source": [
    "my_country = 'Germany'"
   ]
  },
  {
   "cell_type": "markdown",
   "id": "3d148244",
   "metadata": {},
   "source": [
    "Note that string variables are the first variables whose *unambiguous representation* look different than their value. If we print `my_name`, we get `Max Mustermann` without the quotes:"
   ]
  },
  {
   "cell_type": "code",
   "execution_count": null,
   "id": "62865075",
   "metadata": {},
   "outputs": [],
   "source": [
    "print(my_name)"
   ]
  },
  {
   "cell_type": "markdown",
   "id": "79157de2",
   "metadata": {},
   "source": [
    "However if we obtain the *unambgiuous representation* of the variable by typing the variable name in a REPL, we get `'Max Mustermann'` with the quotes:"
   ]
  },
  {
   "cell_type": "code",
   "execution_count": null,
   "id": "5f3344d7",
   "metadata": {},
   "outputs": [],
   "source": [
    "my_name"
   ]
  },
  {
   "cell_type": "markdown",
   "id": "25b4a17b",
   "metadata": {},
   "source": [
    "Note that we assigned the value `\"Max Mustermann\"` but the *unambgiuous representation* looks like `'Max Mustermann'`. These two literals represents *the exact same value*. The quotes aren't part of the actual string value, they only serve to indicate a string literal.\n",
    "\n",
    "There is no strong convention in Python regarding the use of single or double quotes. The general advice is to pick one and stick to that in your codebase. Within this particular book we will use double quotes.\n",
    "\n",
    "Something you should try from time to time is to see what happens if you make a specific mistake on purpose. That way when you see that same mistake later on in a more complicated codebase you will already know what to do. For example, what happens if we forget the quotes in a string?"
   ]
  },
  {
   "cell_type": "code",
   "execution_count": null,
   "id": "1078861d",
   "metadata": {},
   "outputs": [],
   "source": [
    "my_country = Germany"
   ]
  },
  {
   "cell_type": "markdown",
   "id": "9a9a756a",
   "metadata": {},
   "source": [
    "We get a `NameError: name 'Germany' is not defined`. This is because in this example the interpreter thinks that `Germany` is supposed to be the symbolic name of a variable (since the quotes are missing). As we did not declare a variable `Germany`, Python raises a `NameError` telling us that there is no variable with the name `Germany`.\n",
    "\n",
    "That is something very important to keep in mind - if you write a sequence of characters *without quotes*, the Python interpreter will think that the sequence of characters represents a variable name:"
   ]
  },
  {
   "cell_type": "code",
   "execution_count": null,
   "id": "957aa003",
   "metadata": {},
   "outputs": [],
   "source": [
    "the_answer_to_everything = 42\n",
    "\n",
    "# Python assumes that this sequence of characters\n",
    "# represents the variable the_answer_to_everything.\n",
    "# Accordingly the line below will output the value\n",
    "# of the variable which in this case is 42.\n",
    "# vvvvvvvvvvvvvvvvvvvvvvvvvvvvvvvvvvvvvvvvvvvvvvvv\n",
    "\n",
    "the_answer_to_everything"
   ]
  },
  {
   "cell_type": "markdown",
   "id": "ce6e4992",
   "metadata": {},
   "source": [
    "However if you write a sequence of characters *with quotes*, the Python interpreter will think that the sequence of characters represents a string value:"
   ]
  },
  {
   "cell_type": "code",
   "execution_count": null,
   "id": "f6d45ecb",
   "metadata": {},
   "outputs": [],
   "source": [
    "# Python assumes that this sequence of characters\n",
    "# represents the string with the value \n",
    "# \"the_answer_to_everything\".\n",
    "# Accordingly the line below will output the string\n",
    "# which in this case is \"the_answer_to_everything\".\n",
    "# vvvvvvvvvvvvvvvvvvvvvvvvvvvvvvvvvvvvvvvvvvvvvvvvv\n",
    "\"the_answer_to_everything\""
   ]
  },
  {
   "cell_type": "markdown",
   "id": "d2db3abd",
   "metadata": {},
   "source": [
    "Sometimes we need to include the values of variables in strings. You can do this using a so called **format string**. In order to construct a format string, we prefix the string with `f` and put the variables inside curly braces `{}`:"
   ]
  },
  {
   "cell_type": "code",
   "execution_count": null,
   "id": "10afc128",
   "metadata": {},
   "outputs": [],
   "source": [
    "the_answer_to_everything = 42\n",
    "quote = f\"The answer to the universe and everything is {the_answer_to_everything}\""
   ]
  },
  {
   "cell_type": "code",
   "execution_count": null,
   "id": "4b7f5fe7",
   "metadata": {},
   "outputs": [],
   "source": [
    "quote"
   ]
  },
  {
   "cell_type": "markdown",
   "id": "bcfd14bf",
   "metadata": {},
   "source": [
    "Don't forget the curly braces! Otherwise Python will think that `the_answer_to_everything` is just part of the string literal:"
   ]
  },
  {
   "cell_type": "code",
   "execution_count": null,
   "id": "54a0af42",
   "metadata": {},
   "outputs": [],
   "source": [
    "wrong_quote = f\"The answer to the universe and everything is the_answer_to_everything\""
   ]
  },
  {
   "cell_type": "code",
   "execution_count": null,
   "id": "03647f66",
   "metadata": {},
   "outputs": [],
   "source": [
    "wrong_quote"
   ]
  },
  {
   "cell_type": "markdown",
   "id": "72a855a9",
   "metadata": {},
   "source": [
    "We can use as many variables in a format string as we want to:"
   ]
  },
  {
   "cell_type": "code",
   "execution_count": null,
   "id": "ac66140c",
   "metadata": {},
   "outputs": [],
   "source": [
    "x = 2\n",
    "y = 2\n",
    "z = 4\n",
    "statement = f\"The value of {x} + {y} is {z}\""
   ]
  },
  {
   "cell_type": "code",
   "execution_count": null,
   "id": "98bc0561",
   "metadata": {},
   "outputs": [],
   "source": [
    "statement"
   ]
  },
  {
   "cell_type": "markdown",
   "id": "95bb7db2",
   "metadata": {},
   "source": [
    "## Operators"
   ]
  },
  {
   "cell_type": "markdown",
   "id": "42ab0435",
   "metadata": {},
   "source": [
    "### Equality operators"
   ]
  },
  {
   "cell_type": "markdown",
   "id": "a3f9d3ca",
   "metadata": {},
   "source": [
    "Every data type has associated **operators**. An operator takes one or more values and produces a result.\n",
    "\n",
    "Two important operators we can use with variables of essentially every data type are `==` (equals) and `!=` (not equals). Consider the following variables:"
   ]
  },
  {
   "cell_type": "code",
   "execution_count": null,
   "id": "77a0a2c4",
   "metadata": {},
   "outputs": [],
   "source": [
    "x = 2\n",
    "y = 4\n",
    "z = 2"
   ]
  },
  {
   "cell_type": "markdown",
   "id": "6173c6b0",
   "metadata": {},
   "source": [
    "The variables `x` and `z` have the same values, while the variables `x` and `y` have different values. Therefore the equality operator `==` produces the following results:"
   ]
  },
  {
   "cell_type": "code",
   "execution_count": null,
   "id": "93984975",
   "metadata": {},
   "outputs": [],
   "source": [
    "x == y"
   ]
  },
  {
   "cell_type": "code",
   "execution_count": null,
   "id": "0d630d86",
   "metadata": {},
   "outputs": [],
   "source": [
    "x == z"
   ]
  },
  {
   "cell_type": "code",
   "execution_count": null,
   "id": "222c507d",
   "metadata": {},
   "outputs": [],
   "source": [
    "y == z"
   ]
  },
  {
   "cell_type": "markdown",
   "id": "e4efd48e",
   "metadata": {},
   "source": [
    "The \"not equals\" operator `!=` unsurprisingly produces the opposite results:"
   ]
  },
  {
   "cell_type": "code",
   "execution_count": null,
   "id": "b1a0a48c",
   "metadata": {},
   "outputs": [],
   "source": [
    "x != y"
   ]
  },
  {
   "cell_type": "code",
   "execution_count": null,
   "id": "011515f1",
   "metadata": {},
   "outputs": [],
   "source": [
    "x != z"
   ]
  },
  {
   "cell_type": "code",
   "execution_count": null,
   "id": "0fa77f1e",
   "metadata": {},
   "outputs": [],
   "source": [
    "y != z"
   ]
  },
  {
   "cell_type": "markdown",
   "id": "40d2fe42",
   "metadata": {},
   "source": [
    "So far, so obvious. But what about this? "
   ]
  },
  {
   "cell_type": "code",
   "execution_count": null,
   "id": "fa0a8e75",
   "metadata": {},
   "outputs": [],
   "source": [
    "42 == \"42\""
   ]
  },
  {
   "cell_type": "markdown",
   "id": "89e479d8",
   "metadata": {},
   "source": [
    "The reason `==` outputs `False` here is because `42` is the integer `42`, while `\"42\"` is a string with the content `42`. These are two completely different things! In Python, a string will never be equal to an integer. *Generally speaking, if two values have a different data type, they will rarely be equal.*\n",
    "\n",
    "The most prominent exception to that rule is that floating point numbers are equal to integers if they have the same value:"
   ]
  },
  {
   "cell_type": "code",
   "execution_count": null,
   "id": "5dcc36a7",
   "metadata": {},
   "outputs": [],
   "source": [
    "42 == 42.0"
   ]
  },
  {
   "cell_type": "markdown",
   "id": "ec9f72f9",
   "metadata": {},
   "source": [
    "### Arithmetic operators"
   ]
  },
  {
   "cell_type": "markdown",
   "id": "c534845d",
   "metadata": {},
   "source": [
    "You can also use the usual **arithmetic operators** `+`, `-`, `*` and `/` on integers and floats. Unless you slept through school (in which case we sympathize), you probably already know what they do.\n",
    "\n",
    "For completeness sake, here are some examples:"
   ]
  },
  {
   "cell_type": "code",
   "execution_count": null,
   "id": "738ae6e8",
   "metadata": {},
   "outputs": [],
   "source": [
    "42 + 43"
   ]
  },
  {
   "cell_type": "code",
   "execution_count": null,
   "id": "472200b8",
   "metadata": {},
   "outputs": [],
   "source": [
    "42 - 43"
   ]
  },
  {
   "cell_type": "code",
   "execution_count": null,
   "id": "f2b16af8",
   "metadata": {},
   "outputs": [],
   "source": [
    "42 * 43"
   ]
  },
  {
   "cell_type": "code",
   "execution_count": null,
   "id": "9a02595e",
   "metadata": {},
   "outputs": [],
   "source": [
    "42 / 43"
   ]
  },
  {
   "cell_type": "markdown",
   "id": "94507bb0",
   "metadata": {},
   "source": [
    "Note that `+`, `-` and `*` will always return an integer, but `/` will always return a float (even if there would be no remainder)."
   ]
  },
  {
   "cell_type": "code",
   "execution_count": null,
   "id": "588890d5",
   "metadata": {},
   "outputs": [],
   "source": [
    "42 / 1"
   ]
  },
  {
   "cell_type": "code",
   "execution_count": null,
   "id": "b557c675",
   "metadata": {},
   "outputs": [],
   "source": [
    "type(42 / 1)"
   ]
  },
  {
   "cell_type": "markdown",
   "id": "3e973d9f",
   "metadata": {},
   "source": [
    "Do note that if we apply one of these operations on two floating point numbers, we get another floating point number. This holds true, even if the result could be represented as an integer:"
   ]
  },
  {
   "cell_type": "code",
   "execution_count": null,
   "id": "dd9f95c8",
   "metadata": {},
   "outputs": [],
   "source": [
    "type(42.0 + 43.0)"
   ]
  },
  {
   "cell_type": "markdown",
   "id": "32aaf66f",
   "metadata": {},
   "source": [
    "So far, so (relatively) obvious. But what happens if we try to add a `float` and an `int`? Python supports **mixed arithmetic**. If we perform an arithmetic operation with a `float` and an `int` the result will be a `float`:"
   ]
  },
  {
   "cell_type": "code",
   "execution_count": null,
   "id": "86669166",
   "metadata": {},
   "outputs": [],
   "source": [
    "x = 42\n",
    "y = 43.5"
   ]
  },
  {
   "cell_type": "code",
   "execution_count": null,
   "id": "d86f5fb7",
   "metadata": {},
   "outputs": [],
   "source": [
    "x"
   ]
  },
  {
   "cell_type": "code",
   "execution_count": null,
   "id": "dd7dbb77",
   "metadata": {},
   "outputs": [],
   "source": [
    "y"
   ]
  },
  {
   "cell_type": "code",
   "execution_count": null,
   "id": "0c883f73",
   "metadata": {},
   "outputs": [],
   "source": [
    "type(x)"
   ]
  },
  {
   "cell_type": "code",
   "execution_count": null,
   "id": "9b1aa5fb",
   "metadata": {},
   "outputs": [],
   "source": [
    "type(y)"
   ]
  },
  {
   "cell_type": "code",
   "execution_count": null,
   "id": "886c8669",
   "metadata": {},
   "outputs": [],
   "source": [
    "x + y"
   ]
  },
  {
   "cell_type": "code",
   "execution_count": null,
   "id": "c42504f3",
   "metadata": {},
   "outputs": [],
   "source": [
    "type(x + y)"
   ]
  },
  {
   "cell_type": "markdown",
   "id": "ae3bd1de",
   "metadata": {},
   "source": [
    "Finally we should mention that if you attempt to divide by `0`, Python will get *very mad* at you:"
   ]
  },
  {
   "cell_type": "code",
   "execution_count": null,
   "id": "e6ee4635",
   "metadata": {},
   "outputs": [],
   "source": [
    "42 / 0"
   ]
  },
  {
   "cell_type": "markdown",
   "id": "c6dd230d",
   "metadata": {},
   "source": [
    "We will later learn how we can handle errors like that. For now just don't divide by `0` (this is also generally good life advice).\n",
    "\n",
    "Two other important arithmetic operators are the **modulo** `%` and **integer division** `//` (also called floor division) operators. These return the integer quotient and remainder of a division respectively. For example, `63 / 42` is `1` with remainder `21`. Therefore:"
   ]
  },
  {
   "cell_type": "code",
   "execution_count": null,
   "id": "ef0998ad",
   "metadata": {},
   "outputs": [],
   "source": [
    "63 // 42"
   ]
  },
  {
   "cell_type": "code",
   "execution_count": null,
   "id": "d406da46",
   "metadata": {},
   "outputs": [],
   "source": [
    "63 % 42"
   ]
  },
  {
   "cell_type": "markdown",
   "id": "50b3cb73",
   "metadata": {},
   "source": [
    "> These operators also work with negative numbers, but they are rarely useful in that scenario, have unintuitive behaviour and should generally be avoided in that case.\n",
    "\n",
    "The `%` operator is very useful to check if a number is divisible by another number without a remainder. If `x % y` is `0`, then we know that `x` is divisible by `y` without a remainder.\n",
    "\n",
    "Finally, Python also has the **exponentiation** operator `**`:"
   ]
  },
  {
   "cell_type": "code",
   "execution_count": null,
   "id": "16b84d5c",
   "metadata": {},
   "outputs": [],
   "source": [
    "2 ** 3"
   ]
  },
  {
   "cell_type": "markdown",
   "id": "4b7fb5f2",
   "metadata": {},
   "source": [
    "All the operators we just introduced have so-called **in-place** equivalents which perform the respective operation and an assignment *at the same time*. For example, instead of writing `x = x + y` you can write `x += y`.\n",
    "\n",
    "Here are a few examples:"
   ]
  },
  {
   "cell_type": "code",
   "execution_count": null,
   "id": "cdde9e40",
   "metadata": {},
   "outputs": [],
   "source": [
    "x = 42\n",
    "y = 43\n",
    "\n",
    "# Add y to x and assign the resulting value to x.\n",
    "# This is equivalent to x = x + y.\n",
    "x += y"
   ]
  },
  {
   "cell_type": "code",
   "execution_count": null,
   "id": "864f21a9",
   "metadata": {},
   "outputs": [],
   "source": [
    "x"
   ]
  },
  {
   "cell_type": "code",
   "execution_count": null,
   "id": "7e276e88",
   "metadata": {},
   "outputs": [],
   "source": [
    "x = 42\n",
    "y = 43\n",
    "\n",
    "# Multiply y with x and assign the resulting value to x.\n",
    "# This is equivalent to x = x * y.\n",
    "x *= y"
   ]
  },
  {
   "cell_type": "code",
   "execution_count": null,
   "id": "fa4240fd",
   "metadata": {},
   "outputs": [],
   "source": [
    "x"
   ]
  },
  {
   "cell_type": "code",
   "execution_count": null,
   "id": "3b8bdcb1",
   "metadata": {},
   "outputs": [],
   "source": [
    "x = 2\n",
    "y = 3\n",
    "\n",
    "# Take the power of x with respect to y\n",
    "# and assign the resulting value to x.\n",
    "# This is equivalent to x = x ** y.\n",
    "x **= y"
   ]
  },
  {
   "cell_type": "code",
   "execution_count": null,
   "id": "cd10c0ab",
   "metadata": {},
   "outputs": [],
   "source": [
    "x"
   ]
  },
  {
   "cell_type": "markdown",
   "id": "2199a09b",
   "metadata": {},
   "source": [
    "### Comparison operators"
   ]
  },
  {
   "cell_type": "markdown",
   "id": "a5d64cf8",
   "metadata": {},
   "source": [
    "Python also has the **comparison operators** `<`, `<=`, `>`, `>=`, which work pretty much the way you would expect:"
   ]
  },
  {
   "cell_type": "code",
   "execution_count": null,
   "id": "20524eeb",
   "metadata": {},
   "outputs": [],
   "source": [
    "x = 42\n",
    "y = 43"
   ]
  },
  {
   "cell_type": "code",
   "execution_count": null,
   "id": "8a334912",
   "metadata": {},
   "outputs": [],
   "source": [
    "x < y"
   ]
  },
  {
   "cell_type": "code",
   "execution_count": null,
   "id": "0ff9b943",
   "metadata": {},
   "outputs": [],
   "source": [
    "x <= y"
   ]
  },
  {
   "cell_type": "code",
   "execution_count": null,
   "id": "47d85dbb",
   "metadata": {},
   "outputs": [],
   "source": [
    "x > y"
   ]
  },
  {
   "cell_type": "code",
   "execution_count": null,
   "id": "7c1dbbbc",
   "metadata": {},
   "outputs": [],
   "source": [
    "x >= y"
   ]
  },
  {
   "cell_type": "code",
   "execution_count": null,
   "id": "78ea544d",
   "metadata": {},
   "outputs": [],
   "source": [
    "x < x"
   ]
  },
  {
   "cell_type": "code",
   "execution_count": null,
   "id": "bd5a537c",
   "metadata": {},
   "outputs": [],
   "source": [
    "x <= x"
   ]
  },
  {
   "cell_type": "code",
   "execution_count": null,
   "id": "882aedb4",
   "metadata": {},
   "outputs": [],
   "source": [
    "x > x"
   ]
  },
  {
   "cell_type": "code",
   "execution_count": null,
   "id": "0cbf47cd",
   "metadata": {},
   "outputs": [],
   "source": [
    "x >= x"
   ]
  },
  {
   "cell_type": "markdown",
   "id": "85a532a0",
   "metadata": {},
   "source": [
    "Not much to say here - pretty straightforward stuff."
   ]
  },
  {
   "cell_type": "markdown",
   "id": "dc173055",
   "metadata": {},
   "source": [
    "### Using the operators on strings"
   ]
  },
  {
   "cell_type": "markdown",
   "id": "481dc300",
   "metadata": {},
   "source": [
    "Something that might be surprising to learn is that we can use all of these operators with strings. However in this context the operators take on different meanings. The `+` operator becomes **string concatenation**:"
   ]
  },
  {
   "cell_type": "code",
   "execution_count": null,
   "id": "b779fa16",
   "metadata": {},
   "outputs": [],
   "source": [
    "my_str = \"Hello, \"\n",
    "other_str = \" World!\""
   ]
  },
  {
   "cell_type": "code",
   "execution_count": null,
   "id": "1d2fe2c1",
   "metadata": {},
   "outputs": [],
   "source": [
    "my_str + other_str"
   ]
  },
  {
   "cell_type": "markdown",
   "id": "ee649cbc",
   "metadata": {},
   "source": [
    "The `*` operator becomes **string repetition**:"
   ]
  },
  {
   "cell_type": "code",
   "execution_count": null,
   "id": "ff5c42ef",
   "metadata": {},
   "outputs": [],
   "source": [
    "my_str = \"hello\"\n",
    "my_str * 3"
   ]
  },
  {
   "cell_type": "markdown",
   "id": "5856ba92",
   "metadata": {},
   "source": [
    "We can use the `==` and `!=` operators on strings as well:"
   ]
  },
  {
   "cell_type": "code",
   "execution_count": null,
   "id": "e4b8cd2a",
   "metadata": {},
   "outputs": [],
   "source": [
    "\"Hello\" == \"Hello\""
   ]
  },
  {
   "cell_type": "markdown",
   "id": "4544eff4",
   "metadata": {},
   "source": [
    "Two strings only compare equal, if *all* characters are equal (including whitespace characters). For example, the string `\"Hello\"` will *not be equal* to the string `\"Hello \"` (with a whitespace at the end)."
   ]
  },
  {
   "cell_type": "code",
   "execution_count": null,
   "id": "51fe8393",
   "metadata": {},
   "outputs": [],
   "source": [
    "\"Hello\" == \"Hello \""
   ]
  },
  {
   "cell_type": "markdown",
   "id": "42bbddfe",
   "metadata": {},
   "source": [
    "Interestingly enough we can even use the comparison operators, which compare the strings **lexicographically**. Every character of string is compared alphabetically until we find two characters that aren't equal:"
   ]
  },
  {
   "cell_type": "code",
   "execution_count": null,
   "id": "f4c52548",
   "metadata": {},
   "outputs": [],
   "source": [
    "\"a\" < \"b\""
   ]
  },
  {
   "cell_type": "code",
   "execution_count": null,
   "id": "a3e2914d",
   "metadata": {},
   "outputs": [],
   "source": [
    "\"aa\" < \"ab\""
   ]
  },
  {
   "cell_type": "markdown",
   "id": "78ff3fed",
   "metadata": {},
   "source": [
    "Don't spend too much time worrying about this - you will rarely use `<`, `<=`, `>` and `>=` to compare strings. We mostly mention this for the sake of completeness."
   ]
  },
  {
   "cell_type": "markdown",
   "id": "384dbfb0",
   "metadata": {},
   "source": [
    "### Logical operators"
   ]
  },
  {
   "cell_type": "markdown",
   "id": "c6a88103",
   "metadata": {},
   "source": [
    "Finally, we need to introduce the **logical operators** `and`, `or` and `not` which take boolean values and return another boolean value.\n",
    "\n",
    "The `and` operator takes two boolean values and returns `True` if and only if they are *both* `True`:"
   ]
  },
  {
   "cell_type": "code",
   "execution_count": null,
   "id": "c3a192a9",
   "metadata": {},
   "outputs": [],
   "source": [
    "False and False"
   ]
  },
  {
   "cell_type": "code",
   "execution_count": null,
   "id": "c216aaab",
   "metadata": {},
   "outputs": [],
   "source": [
    "False and True"
   ]
  },
  {
   "cell_type": "code",
   "execution_count": null,
   "id": "a30c8ec7",
   "metadata": {},
   "outputs": [],
   "source": [
    "True and False"
   ]
  },
  {
   "cell_type": "code",
   "execution_count": null,
   "id": "625d4aa8",
   "metadata": {},
   "outputs": [],
   "source": [
    "True and True"
   ]
  },
  {
   "cell_type": "markdown",
   "id": "e39bba36",
   "metadata": {},
   "source": [
    "The `or` operator takes two boolean values and returns `True` if *at least one* of the two values is `True`:"
   ]
  },
  {
   "cell_type": "code",
   "execution_count": null,
   "id": "6ab5fddc",
   "metadata": {},
   "outputs": [],
   "source": [
    "False or False"
   ]
  },
  {
   "cell_type": "code",
   "execution_count": null,
   "id": "d27fbcb4",
   "metadata": {},
   "outputs": [],
   "source": [
    "False or True"
   ]
  },
  {
   "cell_type": "code",
   "execution_count": null,
   "id": "11ac4481",
   "metadata": {},
   "outputs": [],
   "source": [
    "True or False"
   ]
  },
  {
   "cell_type": "code",
   "execution_count": null,
   "id": "29d65cb1",
   "metadata": {},
   "outputs": [],
   "source": [
    "True or True"
   ]
  },
  {
   "cell_type": "markdown",
   "id": "fcbddfa1",
   "metadata": {},
   "source": [
    "The `not` operator takes a single boolean value and returns the *negation* of that value:"
   ]
  },
  {
   "cell_type": "code",
   "execution_count": null,
   "id": "6e132aac",
   "metadata": {},
   "outputs": [],
   "source": [
    "not False"
   ]
  },
  {
   "cell_type": "code",
   "execution_count": null,
   "id": "288009f2",
   "metadata": {},
   "outputs": [],
   "source": [
    "not True"
   ]
  },
  {
   "cell_type": "markdown",
   "id": "a3ae53d8",
   "metadata": {},
   "source": [
    "For example, let's say we are writing a game and the variable `ran_out_of_time` determines whether the player ran out of time and `player_destroyed` determines whether the player was destroyed. Assume that the player wasn't destroyed, but ran out of time:"
   ]
  },
  {
   "cell_type": "code",
   "execution_count": null,
   "id": "8be59580",
   "metadata": {},
   "outputs": [],
   "source": [
    "player_destroyed = False\n",
    "ran_out_of_time = True"
   ]
  },
  {
   "cell_type": "markdown",
   "id": "9bf8d679",
   "metadata": {},
   "source": [
    "In thas case the variable `game_lost` that determines whether the player lost the game might look like this:"
   ]
  },
  {
   "cell_type": "code",
   "execution_count": null,
   "id": "fa790535",
   "metadata": {},
   "outputs": [],
   "source": [
    "game_lost = ran_out_of_time or player_destroyed"
   ]
  },
  {
   "cell_type": "code",
   "execution_count": null,
   "id": "98e6db26",
   "metadata": {},
   "outputs": [],
   "source": [
    "game_lost"
   ]
  },
  {
   "cell_type": "markdown",
   "id": "330819e3",
   "metadata": {},
   "source": [
    "### Grouping operators with parentheses"
   ]
  },
  {
   "cell_type": "markdown",
   "id": "63c2cc1e",
   "metadata": {},
   "source": [
    "Just like in mathematics, you can change the **precedence** of operators (i.e. which operator is evaluated first) using parentheses `()`. Consider this expression:"
   ]
  },
  {
   "cell_type": "code",
   "execution_count": null,
   "id": "eb7cbb46",
   "metadata": {},
   "outputs": [],
   "source": [
    "2 + 3 * 4"
   ]
  },
  {
   "cell_type": "markdown",
   "id": "2e7d6bde",
   "metadata": {},
   "source": [
    "Here `3 * 4` is evaluated first, since `*` has a higher precedence than `+`. However you can change that by wrapping `2 + 3` in parentheses:"
   ]
  },
  {
   "cell_type": "code",
   "execution_count": null,
   "id": "72a7d11e",
   "metadata": {},
   "outputs": [],
   "source": [
    "(2 + 3) * 4"
   ]
  }
 ],
 "metadata": {
  "kernelspec": {
   "display_name": "Python 3 (ipykernel)",
   "language": "python",
   "name": "python3"
  },
  "language_info": {
   "codemirror_mode": {
    "name": "ipython",
    "version": 3
   },
   "file_extension": ".py",
   "mimetype": "text/x-python",
   "name": "python",
   "nbconvert_exporter": "python",
   "pygments_lexer": "ipython3",
   "version": "3.10.6"
  }
 },
 "nbformat": 4,
 "nbformat_minor": 5
}
