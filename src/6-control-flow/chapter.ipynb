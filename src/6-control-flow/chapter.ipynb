{
 "cells": [
  {
   "cell_type": "markdown",
   "id": "e02ebcd1",
   "metadata": {},
   "source": [
    "# Chapter 6. Control flow"
   ]
  },
  {
   "cell_type": "markdown",
   "id": "5828b776",
   "metadata": {},
   "source": [
    "## Conditional statements"
   ]
  },
  {
   "cell_type": "markdown",
   "id": "10caf7ff",
   "metadata": {},
   "source": [
    "Very often, we want to execute some code depending on whether a **condition** is `True` or `False`. Let's say that we have a function `process_event` which takes a user event in a game and processes that event. Depending on the kind of the event we receive we would need to execute different code.\n",
    "\n",
    "This can be achieved by using the `if` statement. This allows us to specify various tests and execute code depending on whether those tests succeed or fail:"
   ]
  },
  {
   "cell_type": "code",
   "execution_count": 1,
   "id": "9c36ecef",
   "metadata": {},
   "outputs": [],
   "source": [
    "def process_event(event):\n",
    "    if event == \"mousemoved\":\n",
    "        print(\"User moved his mouse!\")\n",
    "    elif event == \"keypressed\":\n",
    "        print(\"User has pressed a key!\")\n",
    "    else:\n",
    "        print(\"User did something else!\")"
   ]
  },
  {
   "cell_type": "markdown",
   "id": "4bf5c0fa",
   "metadata": {},
   "source": [
    "First we check whether `event == \"mousemoved\"` is `True`. If it is we execute `print(\"User moved his mouse!\")` and skip the remaining tests.\n",
    "\n",
    "If it isn't we check whether `event == \"keypressed\"` is `True`. If it is we execute `print(\"User has pressed his key!\")`.\n",
    "\n",
    "Finally if none of the checks so far passed we move on to the body of the `else` statement and execute `print(\"User did something else!\")`."
   ]
  },
  {
   "cell_type": "code",
   "execution_count": 2,
   "id": "036f7f03",
   "metadata": {},
   "outputs": [
    {
     "name": "stdout",
     "output_type": "stream",
     "text": [
      "User moved his mouse!\n"
     ]
    }
   ],
   "source": [
    "process_event(\"mousemoved\")"
   ]
  },
  {
   "cell_type": "code",
   "execution_count": 3,
   "id": "f4e03100",
   "metadata": {},
   "outputs": [
    {
     "name": "stdout",
     "output_type": "stream",
     "text": [
      "User has pressed a key!\n"
     ]
    }
   ],
   "source": [
    "process_event(\"keypressed\")"
   ]
  },
  {
   "cell_type": "code",
   "execution_count": 4,
   "id": "c3d04950",
   "metadata": {},
   "outputs": [
    {
     "name": "stdout",
     "output_type": "stream",
     "text": [
      "User did something else!\n"
     ]
    }
   ],
   "source": [
    "process_event(\"touchpadpressed\")"
   ]
  },
  {
   "cell_type": "markdown",
   "id": "ba4427ef",
   "metadata": {},
   "source": [
    "We can have an arbitrary number of `elif` statements. For example this would work just fine:"
   ]
  },
  {
   "cell_type": "code",
   "execution_count": 6,
   "id": "a8c9a358",
   "metadata": {},
   "outputs": [],
   "source": [
    "def process_event(event):\n",
    "    if event == \"mousemoved\":\n",
    "        print(\"User moved his mouse!\")\n",
    "    elif event == \"keypressed\":\n",
    "        print(\"User has pressed a key!\")\n",
    "    elif event == \"keyreleased\":\n",
    "        print(\"User has released a key!\")\n",
    "    elif event == \"quit\":\n",
    "        print(\"User quit the game!\")\n",
    "    else:\n",
    "        print(\"User did something else!\")"
   ]
  },
  {
   "cell_type": "code",
   "execution_count": 7,
   "id": "cc1df866",
   "metadata": {},
   "outputs": [
    {
     "name": "stdout",
     "output_type": "stream",
     "text": [
      "User quit the game!\n"
     ]
    }
   ],
   "source": [
    "process_event(\"quit\")"
   ]
  },
  {
   "cell_type": "markdown",
   "id": "03129b8c",
   "metadata": {},
   "source": [
    "The `elif` and `else` statements are not needed. We can have an `if` statement without anything else:"
   ]
  },
  {
   "cell_type": "code",
   "execution_count": 8,
   "id": "665715d4",
   "metadata": {},
   "outputs": [],
   "source": [
    "def process_event(event):\n",
    "    if event == \"mousemoved\":\n",
    "        print(\"User moved his mouse!\") "
   ]
  },
  {
   "cell_type": "code",
   "execution_count": 9,
   "id": "d329051d",
   "metadata": {},
   "outputs": [
    {
     "name": "stdout",
     "output_type": "stream",
     "text": [
      "User moved his mouse!\n"
     ]
    }
   ],
   "source": [
    "process_event(\"mousemoved\")"
   ]
  },
  {
   "cell_type": "markdown",
   "id": "7ae908d0",
   "metadata": {},
   "source": [
    "If we pass an event not covered by the `if` then nothing will happen because no code will be executed on the `process_event` function:"
   ]
  },
  {
   "cell_type": "code",
   "execution_count": 10,
   "id": "17209a55",
   "metadata": {},
   "outputs": [],
   "source": [
    "process_event(\"somethingelse\")"
   ]
  },
  {
   "cell_type": "markdown",
   "id": "afec3617",
   "metadata": {},
   "source": [
    "Generally speaking, the tests can be any expression that evaluates to a boolean value. As long as the resulting value will be `True`, the statement(s) in the body will be executed: "
   ]
  },
  {
   "cell_type": "code",
   "execution_count": 12,
   "id": "b289212a",
   "metadata": {},
   "outputs": [
    {
     "name": "stdout",
     "output_type": "stream",
     "text": [
      "This will be printed\n"
     ]
    }
   ],
   "source": [
    "if True:\n",
    "    print(\"This will be printed\")"
   ]
  },
  {
   "cell_type": "code",
   "execution_count": 14,
   "id": "02ad7913",
   "metadata": {},
   "outputs": [
    {
     "name": "stdout",
     "output_type": "stream",
     "text": [
      "True or False evaluates to True\n",
      "Therefore the two lines will be printed\n"
     ]
    }
   ],
   "source": [
    "if True or False:\n",
    "    print(\"True or False evaluates to True\")\n",
    "    print(\"Therefore the two lines will be printed\")"
   ]
  },
  {
   "cell_type": "code",
   "execution_count": 15,
   "id": "4c438272",
   "metadata": {},
   "outputs": [],
   "source": [
    "if False:\n",
    "    print(\"This will not be printed\")"
   ]
  },
  {
   "cell_type": "markdown",
   "id": "0fb4e205",
   "metadata": {},
   "source": [
    "If statements can also be arbitrarily nested:"
   ]
  },
  {
   "cell_type": "code",
   "execution_count": 17,
   "id": "9fed6d1e",
   "metadata": {},
   "outputs": [],
   "source": [
    "def process_event(event):\n",
    "    if event[\"type\"] == \"keypressed\":\n",
    "        if event[\"key\"] == \"SPACE\":\n",
    "            print(\"User pressed space\")\n",
    "        elif event[\"key\"] == \"UP\":\n",
    "            print(\"User pressed up arrow\")\n",
    "        else:\n",
    "            print(\"User pressed something else\")\n",
    "    else:\n",
    "        print(\"User did something else\")"
   ]
  },
  {
   "cell_type": "code",
   "execution_count": 18,
   "id": "fbbb36e6",
   "metadata": {},
   "outputs": [
    {
     "name": "stdout",
     "output_type": "stream",
     "text": [
      "User pressed space\n"
     ]
    }
   ],
   "source": [
    "process_event({\"type\": \"keypressed\", \"key\": \"SPACE\"})"
   ]
  },
  {
   "cell_type": "markdown",
   "id": "f58c1dcb",
   "metadata": {},
   "source": [
    "Note that the nesting is defined by the indentation. If you write nested `if` statements, you should check whether your indentation is correct.\n",
    "\n",
    "Beware of `if` statements that are nested too deeply as such code will quickly become very hard to read and maintain."
   ]
  },
  {
   "cell_type": "markdown",
   "id": "320af82c",
   "metadata": {},
   "source": [
    "## For loops"
   ]
  },
  {
   "cell_type": "markdown",
   "id": "6608e80e",
   "metadata": {},
   "source": [
    "Another important control flow construct is the **for loop**. In Python, the for loop can be used to **iterate** over iterables and execute a block of code for each iteration.\n",
    "\n",
    "Here is how we could iterate over a list and print each element of that list:"
   ]
  },
  {
   "cell_type": "code",
   "execution_count": 20,
   "id": "66063a7f",
   "metadata": {},
   "outputs": [
    {
     "name": "stdout",
     "output_type": "stream",
     "text": [
      "0\n",
      "1\n",
      "4\n",
      "9\n",
      "16\n"
     ]
    }
   ],
   "source": [
    "values = [0, 1, 4, 9, 16]\n",
    "for square in values:\n",
    "    print(square)"
   ]
  },
  {
   "cell_type": "markdown",
   "id": "cb96c934",
   "metadata": {},
   "source": [
    "We can also iterate over ranges. This is commonly used if you need to iterate over a bunch of numbers and do something depending on the value of each number:"
   ]
  },
  {
   "cell_type": "code",
   "execution_count": 21,
   "id": "fca1e430",
   "metadata": {},
   "outputs": [
    {
     "name": "stdout",
     "output_type": "stream",
     "text": [
      "0\n",
      "1\n",
      "2\n",
      "3\n"
     ]
    }
   ],
   "source": [
    "for i in range(4):\n",
    "    print(i)"
   ]
  },
  {
   "cell_type": "markdown",
   "id": "705657eb",
   "metadata": {},
   "source": [
    "For example here is how we could create the `squares` list automatically:"
   ]
  },
  {
   "cell_type": "code",
   "execution_count": 22,
   "id": "3997faaf",
   "metadata": {},
   "outputs": [],
   "source": [
    "squares = []\n",
    "for i in range(5):\n",
    "    squares.append(i ** 2)"
   ]
  },
  {
   "cell_type": "code",
   "execution_count": 23,
   "id": "707a77cf",
   "metadata": {},
   "outputs": [
    {
     "data": {
      "text/plain": [
       "[0, 1, 4, 9, 16]"
      ]
     },
     "execution_count": 23,
     "metadata": {},
     "output_type": "execute_result"
    }
   ],
   "source": [
    "squares"
   ]
  },
  {
   "cell_type": "markdown",
   "id": "8b67843d",
   "metadata": {},
   "source": [
    "We can also iterate over dictionaries. By default, iterating over a dictionary will iterate over its keys:"
   ]
  },
  {
   "cell_type": "code",
   "execution_count": 25,
   "id": "fcd02328",
   "metadata": {},
   "outputs": [],
   "source": [
    "ratings = {\"Alex\": 1500, \"Michael\": 1400, \"John\": 1000, \"Max\": 1200}"
   ]
  },
  {
   "cell_type": "code",
   "execution_count": 27,
   "id": "4150e387",
   "metadata": {},
   "outputs": [
    {
     "name": "stdout",
     "output_type": "stream",
     "text": [
      "Alex\n",
      "Michael\n",
      "John\n",
      "Max\n"
     ]
    }
   ],
   "source": [
    "for name in ratings:\n",
    "    print(name)"
   ]
  },
  {
   "cell_type": "markdown",
   "id": "44ed2fd7",
   "metadata": {},
   "source": [
    "We can also iterate over the values or key-value pairs of a dictionary using the `values` and `items` methods respectively:"
   ]
  },
  {
   "cell_type": "code",
   "execution_count": 29,
   "id": "e86b6a24",
   "metadata": {},
   "outputs": [
    {
     "name": "stdout",
     "output_type": "stream",
     "text": [
      "1500\n",
      "1400\n",
      "1000\n",
      "1200\n"
     ]
    }
   ],
   "source": [
    "for rating in ratings.values():\n",
    "    print(rating)"
   ]
  },
  {
   "cell_type": "code",
   "execution_count": 30,
   "id": "67460489",
   "metadata": {},
   "outputs": [
    {
     "name": "stdout",
     "output_type": "stream",
     "text": [
      "name=Alex, rating=1500\n",
      "name=Michael, rating=1400\n",
      "name=John, rating=1000\n",
      "name=Max, rating=1200\n"
     ]
    }
   ],
   "source": [
    "for name, rating in ratings.items():\n",
    "    print(f\"name={name}, rating={rating}\")"
   ]
  },
  {
   "cell_type": "markdown",
   "id": "d515ed56",
   "metadata": {},
   "source": [
    "## Comprehensions"
   ]
  },
  {
   "cell_type": "markdown",
   "id": "2792bad5",
   "metadata": {},
   "source": [
    "Instead of populating a list using a for loop, we can write a **list comprehension**:"
   ]
  },
  {
   "cell_type": "code",
   "execution_count": null,
   "id": "9b80a96a",
   "metadata": {},
   "outputs": [],
   "source": [
    "squares = [i ** 2 for i in range(5)]"
   ]
  },
  {
   "cell_type": "code",
   "execution_count": null,
   "id": "ed8d3859",
   "metadata": {},
   "outputs": [],
   "source": [
    "squares"
   ]
  },
  {
   "cell_type": "markdown",
   "id": "92fd0e30",
   "metadata": {},
   "source": [
    "This is a feature that is pretty specific to Python and allows us to express complex control flow very concisely. Consider the difference between the following two constructs:"
   ]
  },
  {
   "cell_type": "code",
   "execution_count": null,
   "id": "fe093369",
   "metadata": {},
   "outputs": [],
   "source": [
    "# Regular for loop\n",
    "squares = []\n",
    "for i in range(5):\n",
    "    squares.append(i ** 2)"
   ]
  },
  {
   "cell_type": "code",
   "execution_count": null,
   "id": "69419c99",
   "metadata": {},
   "outputs": [],
   "source": [
    "# List comprehension\n",
    "squares = [i ** 2 for i in range(5)]"
   ]
  },
  {
   "cell_type": "markdown",
   "id": "2837726c",
   "metadata": {},
   "source": [
    "The second one is not only shorter, but also *more readable* because the intent of the code is clearer &ndash; we wish to create a new list. This is all the more powerful since list comprehensions can take conditions as well:"
   ]
  },
  {
   "cell_type": "code",
   "execution_count": null,
   "id": "b53ba5aa",
   "metadata": {},
   "outputs": [],
   "source": [
    "even_squares = [i ** 2 for i in range(5) if i % 2 == 0]"
   ]
  },
  {
   "cell_type": "code",
   "execution_count": null,
   "id": "6059d873",
   "metadata": {},
   "outputs": [],
   "source": [
    "even_squares"
   ]
  },
  {
   "cell_type": "markdown",
   "id": "8127f8f0",
   "metadata": {},
   "source": [
    "Constrast this with what we would need to do if we wanted to create this list inside a regular for loop:"
   ]
  },
  {
   "cell_type": "code",
   "execution_count": null,
   "id": "b27add93",
   "metadata": {},
   "outputs": [],
   "source": [
    "even_squares = []\n",
    "for i in range(5):\n",
    "    if i % 2 == 0:\n",
    "        even_squares.append(i ** 2)"
   ]
  },
  {
   "cell_type": "code",
   "execution_count": null,
   "id": "014dd582",
   "metadata": {},
   "outputs": [],
   "source": [
    "even_squares"
   ]
  },
  {
   "cell_type": "markdown",
   "id": "d07b0afc",
   "metadata": {},
   "source": [
    "Whenever we need to create a new list based on some values, we will utilize a list comprehension.\n",
    "\n",
    "**Dictionary comprehensions** allow us to write similar code for creating new dictionaries:"
   ]
  },
  {
   "cell_type": "code",
   "execution_count": 34,
   "id": "9e0be565",
   "metadata": {},
   "outputs": [],
   "source": [
    "squares_dict = {k:k ** 2 for k in range(5)}"
   ]
  },
  {
   "cell_type": "code",
   "execution_count": 35,
   "id": "4bd1dcaa",
   "metadata": {},
   "outputs": [
    {
     "data": {
      "text/plain": [
       "{0: 0, 1: 1, 2: 4, 3: 9, 4: 16}"
      ]
     },
     "execution_count": 35,
     "metadata": {},
     "output_type": "execute_result"
    }
   ],
   "source": [
    "squares_dict"
   ]
  },
  {
   "cell_type": "markdown",
   "id": "d4a841e1",
   "metadata": {},
   "source": [
    "## While loops"
   ]
  },
  {
   "cell_type": "markdown",
   "id": "65251c94",
   "metadata": {},
   "source": [
    "Finally, **while loops** allow us to execute a block of code as long as a condition is `True`.\n",
    "\n",
    "Let's say we have a list of items which have a certain weight and a knapsack with a limited maximum weight. We want to find out which items we can pack into the knapsack without exceeding that maximum weight. We would move over the list *while* the maximum weight is not exceeded and add the items:"
   ]
  },
  {
   "cell_type": "code",
   "execution_count": null,
   "id": "bae6aab7",
   "metadata": {},
   "outputs": [],
   "source": [
    "current_weight = 0\n",
    "maximum_weight = 100\n",
    "item_weights = [10, 20, 30, 20, 40, 20, 30]\n",
    "index = 0\n",
    "\n",
    "while current_weight < maximum_weight:\n",
    "    current_weight += item_weights[index]\n",
    "    index += 1"
   ]
  },
  {
   "cell_type": "code",
   "execution_count": null,
   "id": "bf42c66f",
   "metadata": {},
   "outputs": [],
   "source": [
    "current_weight"
   ]
  },
  {
   "cell_type": "code",
   "execution_count": null,
   "id": "fc20f169",
   "metadata": {},
   "outputs": [],
   "source": [
    "index"
   ]
  },
  {
   "cell_type": "code",
   "execution_count": null,
   "id": "62135bf0",
   "metadata": {},
   "outputs": [],
   "source": [
    "item_weights[:index]"
   ]
  },
  {
   "cell_type": "markdown",
   "id": "229b1e77",
   "metadata": {},
   "source": [
    "A common example of a while loop is the main loop of a game. Here we would have a **flag** that determines if the game is active or not. The body of the while loop then updates the game. If the player wins or loses the game, the flag is set to `False` and we will exit the while loop on the next iteration:\n",
    "\n",
    "```python\n",
    "active = True\n",
    "\n",
    "while active:\n",
    "    # update game, this sets active = False here\n",
    "    # (e.g. if player wins or loses the game)\n",
    "    \n",
    "    ...\n",
    "    \n",
    "    # rerender game\n",
    "```"
   ]
  },
  {
   "cell_type": "code",
   "execution_count": null,
   "id": "ab5872ef",
   "metadata": {},
   "outputs": [],
   "source": []
  }
 ],
 "metadata": {
  "kernelspec": {
   "display_name": "Python 3 (ipykernel)",
   "language": "python",
   "name": "python3"
  },
  "language_info": {
   "codemirror_mode": {
    "name": "ipython",
    "version": 3
   },
   "file_extension": ".py",
   "mimetype": "text/x-python",
   "name": "python",
   "nbconvert_exporter": "python",
   "pygments_lexer": "ipython3",
   "version": "3.10.6"
  }
 },
 "nbformat": 4,
 "nbformat_minor": 5
}
